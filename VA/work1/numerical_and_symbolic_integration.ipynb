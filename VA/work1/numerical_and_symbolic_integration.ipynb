{
 "cells": [
  {
   "cell_type": "markdown",
   "source": [
    "# Integral simbólica usando SymPy\r\n",
    "\r\n",
    "\r\n"
   ],
   "metadata": {}
  },
  {
   "cell_type": "code",
   "execution_count": 1,
   "source": [
    "import numpy as np\r\n",
    "import sympy as sy\r\n",
    "from sympy.utilities.lambdify import lambdify\r\n",
    "from scipy.integrate import quad\r\n",
    "from scipy.misc import derivative"
   ],
   "outputs": [],
   "metadata": {}
  },
  {
   "cell_type": "code",
   "execution_count": 31,
   "source": [
    "x = sy.Symbol('x')\r\n",
    "f = sy.exp(-x)*sy.sin(3.0*x)\r\n",
    "res_symbolic = sy.integrate(f)\r\n",
    "res = sy.integrate(f, (x, 0, 2*sy.pi))\r\n",
    "\r\n",
    "print(res.evalf())"
   ],
   "outputs": [
    {
     "output_type": "stream",
     "name": "stdout",
     "text": [
      "0.299439767180488\n"
     ]
    }
   ],
   "metadata": {}
  },
  {
   "cell_type": "code",
   "execution_count": 3,
   "source": [
    "f"
   ],
   "outputs": [
    {
     "output_type": "execute_result",
     "data": {
      "text/plain": [
       "exp(-x)*sin(3.0*x)"
      ],
      "text/latex": [
       "$\\displaystyle e^{- x} \\sin{\\left(3.0 x \\right)}$"
      ]
     },
     "metadata": {},
     "execution_count": 3
    }
   ],
   "metadata": {}
  },
  {
   "cell_type": "code",
   "execution_count": 4,
   "source": [
    "res_symbolic"
   ],
   "outputs": [
    {
     "output_type": "execute_result",
     "data": {
      "text/plain": [
       "-0.1*exp(-x)*sin(3.0*x) - 0.3*exp(-x)*cos(3.0*x)"
      ],
      "text/latex": [
       "$\\displaystyle - 0.1 e^{- x} \\sin{\\left(3.0 x \\right)} - 0.3 e^{- x} \\cos{\\left(3.0 x \\right)}$"
      ]
     },
     "metadata": {},
     "execution_count": 4
    }
   ],
   "metadata": {}
  },
  {
   "cell_type": "code",
   "execution_count": 32,
   "source": [
    "%timeit sy.integrate(f, (x, 0, 2*sy.pi))"
   ],
   "outputs": [
    {
     "output_type": "stream",
     "name": "stdout",
     "text": [
      "207 ms ± 9.18 ms per loop (mean ± std. dev. of 7 runs, 1 loop each)\n"
     ]
    }
   ],
   "metadata": {}
  },
  {
   "cell_type": "code",
   "execution_count": 33,
   "source": [
    "# Lambdfy integrals\r\n",
    "res_symbolic = sy.integrate(f)\r\n",
    "integ = lambda x0, x1: res_symbolic.evalf(subs={x: x1}) - res_symbolic.evalf(subs={x: x0})\r\n",
    "%timeit integ(0, 2*np.pi)"
   ],
   "outputs": [
    {
     "output_type": "stream",
     "name": "stdout",
     "text": [
      "1.53 ms ± 88.6 µs per loop (mean ± std. dev. of 7 runs, 1000 loops each)\n"
     ]
    }
   ],
   "metadata": {}
  },
  {
   "cell_type": "code",
   "execution_count": 6,
   "source": [
    "integ = lambda x0, x1: float(sy.integrate(f, (x, x0, x1)))\r\n",
    "%timeit integ(0, 2*np.pi)"
   ],
   "outputs": [
    {
     "output_type": "stream",
     "name": "stdout",
     "text": [
      "171 ms ± 12.6 ms per loop (mean ± std. dev. of 7 runs, 10 loops each)\n"
     ]
    }
   ],
   "metadata": {}
  },
  {
   "cell_type": "markdown",
   "source": [
    "## Multi-varible"
   ],
   "metadata": {}
  },
  {
   "cell_type": "code",
   "execution_count": 30,
   "source": [
    "x, y = sy.symbols('x, y')\r\n",
    "f = x**2\r\n",
    "h = y**2\r\n",
    "g = f + h\r\n",
    "g1 = g.subs(x,1)\r\n"
   ],
   "outputs": [
    {
     "output_type": "execute_result",
     "data": {
      "text/plain": [
       "5"
      ],
      "text/latex": [
       "$\\displaystyle 5$"
      ]
     },
     "metadata": {},
     "execution_count": 30
    }
   ],
   "metadata": {}
  },
  {
   "cell_type": "code",
   "execution_count": 25,
   "source": [
    "# Integrate g(x,y)*dx\r\n",
    "sy.integrate(g,x)"
   ],
   "outputs": [
    {
     "output_type": "execute_result",
     "data": {
      "text/plain": [
       "x**3/3 + x*y**2"
      ],
      "text/latex": [
       "$\\displaystyle \\frac{x^{3}}{3} + x y^{2}$"
      ]
     },
     "metadata": {},
     "execution_count": 25
    }
   ],
   "metadata": {}
  },
  {
   "cell_type": "code",
   "execution_count": 26,
   "source": [
    "# Integrate g(x,y)*dy\r\n",
    "sy.integrate(g,y)"
   ],
   "outputs": [
    {
     "output_type": "execute_result",
     "data": {
      "text/plain": [
       "x**2*y + y**3/3"
      ],
      "text/latex": [
       "$\\displaystyle x^{2} y + \\frac{y^{3}}{3}$"
      ]
     },
     "metadata": {},
     "execution_count": 26
    }
   ],
   "metadata": {}
  },
  {
   "cell_type": "code",
   "execution_count": 27,
   "source": [
    "# Double integral g(x,y)*dx*dy\r\n",
    "sy.integrate(sy.integrate(g,x),y)"
   ],
   "outputs": [
    {
     "output_type": "execute_result",
     "data": {
      "text/plain": [
       "x**3*y/3 + x*y**3/3"
      ],
      "text/latex": [
       "$\\displaystyle \\frac{x^{3} y}{3} + \\frac{x y^{3}}{3}$"
      ]
     },
     "metadata": {},
     "execution_count": 27
    }
   ],
   "metadata": {}
  },
  {
   "cell_type": "code",
   "execution_count": 11,
   "source": [
    "# Double integral g(x,y)*dx*dy, xfrom 0 to 1, y from zero to 1\r\n",
    "sy.integrate(sy.integrate(g,(x,0,1)),(y,0,1))"
   ],
   "outputs": [
    {
     "output_type": "execute_result",
     "data": {
      "text/plain": [
       "2/3"
      ],
      "text/latex": [
       "$\\displaystyle \\frac{2}{3}$"
      ]
     },
     "metadata": {},
     "execution_count": 11
    }
   ],
   "metadata": {}
  },
  {
   "cell_type": "code",
   "execution_count": 12,
   "source": [
    "# Evaluating the results\r\n",
    "sy.integrate(sy.integrate(g,(x,0,1)),(y,0,1)).evalf()"
   ],
   "outputs": [
    {
     "output_type": "execute_result",
     "data": {
      "text/plain": [
       "0.666666666666667"
      ],
      "text/latex": [
       "$\\displaystyle 0.666666666666667$"
      ]
     },
     "metadata": {},
     "execution_count": 12
    }
   ],
   "metadata": {}
  },
  {
   "cell_type": "code",
   "execution_count": 13,
   "source": [
    "# Show the symbolic\r\n",
    "sy.Integral(sy.Integral(g,(x,0,1)),(y,0,1))"
   ],
   "outputs": [
    {
     "output_type": "execute_result",
     "data": {
      "text/plain": [
       "Integral(x**2 + y**2, (x, 0, 1), (y, 0, 1))"
      ],
      "text/latex": [
       "$\\displaystyle \\int\\limits_{0}^{1}\\int\\limits_{0}^{1} \\left(x^{2} + y^{2}\\right)\\, dx\\, dy$"
      ]
     },
     "metadata": {},
     "execution_count": 13
    }
   ],
   "metadata": {}
  },
  {
   "cell_type": "markdown",
   "source": [
    "# Using Scipy to Numerical integrate defined functions"
   ],
   "metadata": {}
  },
  {
   "cell_type": "code",
   "execution_count": 14,
   "source": [
    "def f(x):\r\n",
    "    return np.exp(-x)*np.sin(3.0*x)\r\n",
    "\r\n",
    "i, err = quad(f, 0, 2*np.pi)\r\n",
    "print(i)"
   ],
   "outputs": [
    {
     "output_type": "stream",
     "name": "stdout",
     "text": [
      "0.29943976718048754\n"
     ]
    }
   ],
   "metadata": {}
  },
  {
   "cell_type": "code",
   "execution_count": 20,
   "source": [
    "%timeit i, err = quad(f, 0, 2*np.pi)"
   ],
   "outputs": [
    {
     "output_type": "stream",
     "name": "stdout",
     "text": [
      "9.72 µs ± 1.04 µs per loop (mean ± std. dev. of 7 runs, 100000 loops each)\n"
     ]
    }
   ],
   "metadata": {}
  },
  {
   "cell_type": "code",
   "execution_count": 37,
   "source": [
    "def foo(x, y):\r\n",
    "  return(x**2 + x*y**3)\r\n",
    "\r\n",
    "from scipy.misc import derivative\r\n",
    "derivative(foo, 1, dx = 1e-6, args = (2, ))"
   ],
   "outputs": [
    {
     "output_type": "execute_result",
     "data": {
      "text/plain": [
       "9.999999999621423"
      ]
     },
     "metadata": {},
     "execution_count": 37
    }
   ],
   "metadata": {}
  },
  {
   "cell_type": "markdown",
   "source": [
    "# Derivada simbólica"
   ],
   "metadata": {}
  },
  {
   "cell_type": "code",
   "execution_count": 15,
   "source": [
    "x = sy.Symbol('x')\r\n",
    "f = 3*x**2 + 1\r\n",
    "f"
   ],
   "outputs": [
    {
     "output_type": "execute_result",
     "data": {
      "text/plain": [
       "3*x**2 + 1"
      ],
      "text/latex": [
       "$\\displaystyle 3 x^{2} + 1$"
      ]
     },
     "metadata": {},
     "execution_count": 15
    }
   ],
   "metadata": {}
  },
  {
   "cell_type": "code",
   "execution_count": 16,
   "source": [
    "# Lambdfy derivatives\r\n",
    "ddx = lambdify(x, sy.diff(f, x)) # creates a function that you can call\r\n",
    "%timeit ddx(2)"
   ],
   "outputs": [
    {
     "output_type": "stream",
     "name": "stdout",
     "text": [
      "91.8 ns ± 10.2 ns per loop (mean ± std. dev. of 7 runs, 10000000 loops each)\n"
     ]
    }
   ],
   "metadata": {}
  },
  {
   "cell_type": "code",
   "execution_count": 17,
   "source": [
    "dx = sy.diff(f, x)\r\n",
    "ddx = lambda x0: dx.subs(x, x0)\r\n",
    "%timeit ddx(2)"
   ],
   "outputs": [
    {
     "output_type": "stream",
     "name": "stdout",
     "text": [
      "14.2 µs ± 345 ns per loop (mean ± std. dev. of 7 runs, 100000 loops each)\n"
     ]
    }
   ],
   "metadata": {}
  },
  {
   "cell_type": "code",
   "execution_count": 18,
   "source": [
    "# Derivada de segunda ordem\r\n",
    "sy.diff(f, (x, 2))"
   ],
   "outputs": [
    {
     "output_type": "execute_result",
     "data": {
      "text/plain": [
       "6"
      ],
      "text/latex": [
       "$\\displaystyle 6$"
      ]
     },
     "metadata": {},
     "execution_count": 18
    }
   ],
   "metadata": {}
  },
  {
   "cell_type": "markdown",
   "source": [
    "# Derivada numérica usando Scipy"
   ],
   "metadata": {}
  },
  {
   "cell_type": "code",
   "execution_count": 19,
   "source": [
    "def f(x):\r\n",
    "    return 3*x**2 + 1\r\n",
    "\r\n",
    "%timeit derivative(f, 2)"
   ],
   "outputs": [
    {
     "output_type": "stream",
     "name": "stdout",
     "text": [
      "13.3 µs ± 401 ns per loop (mean ± std. dev. of 7 runs, 100000 loops each)\n"
     ]
    }
   ],
   "metadata": {}
  }
 ],
 "metadata": {
  "kernelspec": {
   "name": "python3",
   "display_name": "Python 3.9.4 64-bit ('venv': venv)"
  },
  "language_info": {
   "codemirror_mode": {
    "name": "ipython",
    "version": 3
   },
   "file_extension": ".py",
   "mimetype": "text/x-python",
   "name": "python",
   "nbconvert_exporter": "python",
   "pygments_lexer": "ipython3",
   "version": "3.9.4"
  },
  "interpreter": {
   "hash": "377f039d88a0f9c5791e0cfb0b6c5d82d1ead839da8caf4c4bf722cac36c15ff"
  }
 },
 "nbformat": 4,
 "nbformat_minor": 5
}