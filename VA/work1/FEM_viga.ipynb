{
 "cells": [
  {
   "cell_type": "code",
   "execution_count": null,
   "source": [
    "import numpy as np\r\n",
    "import pandas as pd\r\n",
    "from scipy.linalg import eig\r\n",
    "import matplotlib.pyplot as plt\r\n",
    "pi = np.pi"
   ],
   "outputs": [],
   "metadata": {}
  },
  {
   "cell_type": "markdown",
   "source": [
    "# Propriedades da viga"
   ],
   "metadata": {}
  },
  {
   "cell_type": "code",
   "execution_count": null,
   "source": [
    "L = 0.5\r\n",
    "b = 0.02\r\n",
    "h = 0.005\r\n",
    "A = b*h\r\n",
    "I = b*h**3/12\r\n",
    "pho = 2700\r\n",
    "E = 7.1e10"
   ],
   "outputs": [],
   "metadata": {}
  },
  {
   "cell_type": "markdown",
   "source": [
    "# Análise"
   ],
   "metadata": {}
  },
  {
   "cell_type": "code",
   "execution_count": null,
   "source": [
    "n = np.array([4, 6, 100]) # Número de elementos da viga\r\n",
    "resultados = dict() # Dicionário para armazenar os resultados\r\n",
    "\r\n",
    "for N in n:    \r\n",
    "    # Montando as matrizes do elemento\r\n",
    "    a = L/2/N\r\n",
    "    Me = (pho*A*a/105)*np.array([[78, 22*a, 27, -13*a], [22*a, 8*a**2, 13*a, -6*a**2], [27, 13*a, 78, -22*a], [-13*a, -6*a**2, -22*a, 8*a**2]])\r\n",
    "    Ke = (E*I/(2*a**3))*np.array([[3, 3*a, -3, 3*a], [3*a, 4*a**2, -3*a, 2*a**2], [-3, -3*a, 3, -3*a], [3*a, 2*a**2, -3*a, 4*a**2]])\r\n",
    "    \r\n",
    "    # Montando as matrizes do sistema\r\n",
    "    Nn = N + 1\r\n",
    "    Ngl = Nn*2\r\n",
    "    M = np.zeros((Ngl,Ngl))\r\n",
    "    K = np.zeros((Ngl,Ngl))\r\n",
    "    for j in range(1,N+1):\r\n",
    "        Mee = np.zeros((Ngl,Ngl))\r\n",
    "        Mee[(2*j-2):(2*j+2),(2*j-2):(2*j+2)] = Me\r\n",
    "        M = M + Mee\r\n",
    "        Kee = np.zeros((Ngl,Ngl))\r\n",
    "        Kee[(2*j-2):(2*j+2),(2*j-2):(2*j+2)] = Ke\r\n",
    "        K = K + Kee\r\n",
    "\r\n",
    "    # Aplicando as condicoes de contorno geometricas\r\n",
    "    cc = [1, 2, Ngl-1] # Graus de Liberdade que devem ser restritos em ordem crescente.\r\n",
    "    for j in range(1,len(cc)+1):\r\n",
    "        M = np.delete(M, cc[j-1]-j, axis=1)\r\n",
    "        M = np.delete(M, cc[j-1]-j, axis=0)\r\n",
    "        K = np.delete(K, cc[j-1]-j, axis=1)\r\n",
    "        K = np.delete(K, cc[j-1]-j, axis=0)\r\n",
    "    \r\n",
    "    # Problema de autovalor generalizado. W é um vetor e A uma matrix com as colunas normalizadas\r\n",
    "    W, Vc = eig(K, M)\r\n",
    "\r\n",
    "    # Ordenando os autovalores e a matriz de autovetores\r\n",
    "    idx = W.argsort()\r\n",
    "    W = W[idx]\r\n",
    "    Vc = Vc[:,idx]\r\n",
    "\r\n",
    "    # Normalizando os autovetores pela matriz de massa, de forma que A'@M@A = I\r\n",
    "    m_r = np.diagonal(Vc.T @ M @ Vc)\r\n",
    "    m_r = np.reciprocal(np.sqrt(m_r))\r\n",
    "    for a in range(Vc.shape[1]):\r\n",
    "        Vc[:,a] *= m_r[a] # multiplica cada coluna pelo fator de escala\r\n",
    "    \r\n",
    "    resultados[N] = dict()\r\n",
    "    resultados[N]['fn'] = (W**0.5/(2*pi)).real\r\n",
    "    \r\n",
    "    ## Montando as formas modais\r\n",
    "    # Incluindo os GL das condicoes de contorno\r\n",
    "    for c in cc:\r\n",
    "        Vc = np.insert(Vc, c-1, 0, axis=0)\r\n",
    "\r\n",
    "    resultados[N] = dict()\r\n",
    "    resultados[N]['fn'] = (W**0.5/(2*pi)).real\r\n",
    "    resultados[N]['V'] = Vc[0::2, :] # Modos de deslocamento (Gl 1,3,5,...) https://stackoverflow.com/questions/509211/understanding-slice-notation\r\n",
    "    resultados[N]['theta'] = Vc[1::2, :] # Modos angulares (Gl 2,4,6,...)\r\n",
    "\r\n",
    "    # Faz as formas modais terem a mesma orientação\r\n",
    "    for j in range(1, W.size):\r\n",
    "        if np.sum(resultados[N]['V'][:,j-1]) >= 0:\r\n",
    "            pass\r\n",
    "        else:\r\n",
    "            resultados[N]['V'][:,j-1] *= -1\r\n"
   ],
   "outputs": [],
   "metadata": {}
  },
  {
   "cell_type": "markdown",
   "source": [
    "# Frequências Naturais"
   ],
   "metadata": {}
  },
  {
   "cell_type": "code",
   "execution_count": null,
   "source": [
    "pd.options.display.float_format = \"{:.2f}\".format\r\n",
    "pd.DataFrame(data=[resultados[n_b]['fn'] for n_b in n], index=[f\"n={i}\" for i in n], columns=[f\"f_{j}\" for j in range(1, len(resultados[n.max()]['fn'])+1)])"
   ],
   "outputs": [],
   "metadata": {}
  },
  {
   "cell_type": "markdown",
   "source": [
    "## Comparação das frequências naturais"
   ],
   "metadata": {}
  },
  {
   "cell_type": "code",
   "execution_count": null,
   "source": [
    "fn_N=np.zeros((4, len(n)))\r\n",
    "for j in range(0,4): # numero de modos\r\n",
    "    for k in range(len(n)): # Número de simulações\r\n",
    "        fn_N[j, k] = resultados[n[k]]['fn'][j]\r\n",
    "        \r\n",
    "for j in range(fn_N[:,0].size):\r\n",
    "    plt.plot(n, fn_N[j,:], marker='o')\r\n",
    "\r\n",
    "plt.xlabel('Numero de funções base')\r\n",
    "plt.ylabel('Freq. natural (Hz)')\r\n",
    "plt.legend(['Modo 1', 'Modo 2','Modo 3', 'Modo 4'], loc='upper left', bbox_to_anchor=(1, 0.9))\r\n",
    "plt.show()"
   ],
   "outputs": [],
   "metadata": {}
  },
  {
   "cell_type": "markdown",
   "source": [
    "## Comparação das formas modais"
   ],
   "metadata": {}
  },
  {
   "cell_type": "code",
   "execution_count": null,
   "source": [
    "fig, axs = plt.subplots(2,2)\r\n",
    "\r\n",
    "for n_b in n:\r\n",
    "    x = np.linspace(0, L, len(resultados[n_b]['V'][:,0]))\r\n",
    "\r\n",
    "    axs[0,0].set_title('Primeiro modo')\r\n",
    "    axs[0,0].plot(x, resultados[n_b]['V'][:,0], label=f\"{n_b} elementos\")\r\n",
    "    axs[0,0].set_xlabel('x [m]')\r\n",
    "    axs[0,0].set_ylabel('Forma modal')\r\n",
    "    \r\n",
    "    axs[0,1].set_title('Segundo modo')\r\n",
    "    axs[0,1].plot(x, resultados[n_b]['V'][:,1])\r\n",
    "    axs[0,1].set_xlabel('x [m]')\r\n",
    "    axs[0,1].set_ylabel('Forma modal')\r\n",
    "\r\n",
    "    axs[1,0].set_title('Terceiro modo')\r\n",
    "    axs[1,0].plot(x, resultados[n_b]['V'][:,2])\r\n",
    "    axs[1,0].set_xlabel('x [m]')\r\n",
    "    axs[1,0].set_ylabel('Forma modal')\r\n",
    "\r\n",
    "    axs[1,1].set_title('Quarto modo modo')\r\n",
    "    axs[1,1].plot(x, resultados[n_b]['V'][:,3])\r\n",
    "    axs[1,1].set_xlabel('x [m]')\r\n",
    "    axs[1,1].set_ylabel('Forma modal')\r\n",
    "\r\n",
    "\r\n",
    "fig.legend(loc='upper left', bbox_to_anchor=(1, 0.9))\r\n",
    "fig.tight_layout()\r\n",
    "plt.show()"
   ],
   "outputs": [],
   "metadata": {}
  }
 ],
 "metadata": {
  "orig_nbformat": 4,
  "language_info": {
   "name": "python",
   "version": "3.9.4",
   "mimetype": "text/x-python",
   "codemirror_mode": {
    "name": "ipython",
    "version": 3
   },
   "pygments_lexer": "ipython3",
   "nbconvert_exporter": "python",
   "file_extension": ".py"
  },
  "kernelspec": {
   "name": "python3",
   "display_name": "Python 3.9.4 64-bit ('venv': venv)"
  },
  "interpreter": {
   "hash": "377f039d88a0f9c5791e0cfb0b6c5d82d1ead839da8caf4c4bf722cac36c15ff"
  }
 },
 "nbformat": 4,
 "nbformat_minor": 2
}