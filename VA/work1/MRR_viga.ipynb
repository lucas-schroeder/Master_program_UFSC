{
 "cells": [
  {
   "cell_type": "code",
   "execution_count": null,
   "source": [
    "import numpy as np\r\n",
    "from scipy.linalg import eig\r\n",
    "import matplotlib.pyplot as plt"
   ],
   "outputs": [],
   "metadata": {}
  },
  {
   "cell_type": "markdown",
   "source": [
    "# Propriedades da viga"
   ],
   "metadata": {}
  },
  {
   "cell_type": "code",
   "execution_count": null,
   "source": [
    "L=0.5\r\n",
    "b=0.02\r\n",
    "h=0.005\r\n",
    "Ar=b*h\r\n",
    "I=b*h**3/12\r\n",
    "pho=2700\r\n",
    "E=7.1e10"
   ],
   "outputs": [],
   "metadata": {}
  },
  {
   "cell_type": "markdown",
   "source": [
    "# Análise"
   ],
   "metadata": {}
  },
  {
   "cell_type": "code",
   "execution_count": null,
   "source": [
    "n=[4, 6, 10] # Numero de funcoes base em cada solucao\r\n",
    "# Obs: Um numero de funcoes base maior que 10 apresenta problemas, o que\r\n",
    "# pode ser devido a ma qualidade das funcoes base (elas passam a ter pouca\r\n",
    "# diferenca entre elas para valores de i grandes).\r\n",
    "\r\n",
    "resultados = dict()\r\n",
    "x = np.linspace(0, L, int(L/0.01 + 1)) # Pontos onde a resposta sera calculada\r\n",
    "for N in n:\r\n",
    "    M = np.zeros((N,N))\r\n",
    "    K = np.zeros((N,N))\r\n",
    "\r\n",
    "    for j in range(1, N+1):\r\n",
    "        for k in range(1, N+1):\r\n",
    "            # As constantes abaixo sao a norma das funcoes e sao usadas\r\n",
    "            # para normatizar as funcoes (o que nem sempre eh necessario).\r\n",
    "            C1 = L**(j+5/2)*(1/(2*j+3)-2/(2*j+4)+1/(2*j+5))**0.5\r\n",
    "            C2 = L**(k+5/2)*(1/(2*k+3)-2/(2*k+4)+1/(2*k+5))**0.5\r\n",
    "            # C1 = 1\r\n",
    "            # C2 = 1\r\n",
    "            # Matriz de massa e rigidez\r\n",
    "            M[j-1,k-1] = pho*Ar*(L**(j+k+5)/(j+k+3)-2*L**(j+k+5)/(j+k+4)+L**(j+k+5)/(j+k+5))/(C1*C2)\r\n",
    "\r\n",
    "            K[j-1,k-1] = E*I*(j*k*(j+1)*(k+1)*L**(j+k+1)/(j+k-1)-k*(j+2)*(j+1)*(k+1)*L**(j+k+1)/(j+k)-j*(j+1)*(k+2)*(k+1)*L**(j+k+1)/(j+k)+(j+2)*(j+1)*(k+2)*(k+1)*L**(j+k+1)/(j+k+1))/(C1*C2)\r\n",
    "\r\n",
    "    # Problema de autovalor generalizado. W é um vetor e A uma matrix com as colunas normalizadas\r\n",
    "    W, A = eig(K, M)\r\n",
    "\r\n",
    "    # Ordenando os autovalores e a matriz de autovetores\r\n",
    "    idx = W.argsort()\r\n",
    "    W = W[idx]\r\n",
    "    A = A[:,idx]\r\n",
    "\r\n",
    "    # Normalizando os autovetores pela matriz de massa, de forma que A'@M@A = I (@ = matrix multiplication)\r\n",
    "    m_r = np.diagonal(A.T @ M @ A)\r\n",
    "    m_r = np.reciprocal(np.sqrt(m_r))\r\n",
    "    for a in range(A.shape[1]):\r\n",
    "        A[:,a] *= m_r[a] # multiplica cada coluna pelo fator de escala\r\n",
    "\r\n",
    "    # Calculando as funções base nos pontos x\r\n",
    "    d = np.zeros((N, x.size))\r\n",
    "    for j in range(1, N+1):\r\n",
    "        C1 = L**(j+5/2)*(1/(2*j+3)-2/(2*j+4)+1/(2*j+5))**0.5\r\n",
    "        d[j-1,:] = x**(j+1)*(L-x)/C1\r\n",
    "    \r\n",
    "    # Faz as formas modais terem a mesma orientação, analisando o sinal da covariância\r\n",
    "    phi = d[:N, :].T @ A\r\n",
    "    try:\r\n",
    "        for k in range(N): # k-ésimo modo\r\n",
    "            cov = np.cov(resultados[n[0]]['V'][:,k], phi[:,k])[0][1]\r\n",
    "            cov = cov/np.abs(cov) # -1 ou 1\r\n",
    "            phi[:,k] *= cov\r\n",
    "    except:\r\n",
    "        pass\r\n",
    "    \r\n",
    "    # armazenando os resultados em um dicionário\r\n",
    "    resultados[N] = dict()\r\n",
    "    resultados[N]['V'] = phi\r\n",
    "    resultados[N]['fn'] = np.real(W**0.5/(2*np.pi))\r\n",
    "    resultados[N]['d'] = d"
   ],
   "outputs": [],
   "metadata": {}
  },
  {
   "cell_type": "markdown",
   "source": [
    "## Funcoes base utilizadas na análise"
   ],
   "metadata": {}
  },
  {
   "cell_type": "code",
   "execution_count": null,
   "source": [
    "n_b = n[2]\r\n",
    "for i in range(n_b):\r\n",
    "    plt.plot(x, resultados[n_b]['d'][i], label=f'$d_{i}(x)$')\r\n",
    "\r\n",
    "plt.title('Funções base')\r\n",
    "plt.xlabel('Posição x [m]')\r\n",
    "plt.ylabel('Amplitude')\r\n",
    "plt.legend()\r\n",
    "plt.show()"
   ],
   "outputs": [],
   "metadata": {}
  },
  {
   "cell_type": "markdown",
   "source": [
    "## Comparação das frequências naturais"
   ],
   "metadata": {}
  },
  {
   "cell_type": "code",
   "execution_count": null,
   "source": [
    "fn_N=np.zeros((4, len(n)))\r\n",
    "for j in range(0,3):\r\n",
    "    for k in range(len(n)):\r\n",
    "        fn_N[j, k] = resultados[n[k]]['fn'][j]\r\n",
    "        \r\n",
    "for k in range(fn_N[1,:].size):\r\n",
    "    plt.plot(n, fn_N[k,:], marker='o')\r\n",
    "plt.xlabel('Numero de funções base')\r\n",
    "plt.ylabel('Freq. natural (Hz)')\r\n",
    "plt.legend(['Modo 1', 'Modo 2','Modo 3'])\r\n",
    "plt.show()"
   ],
   "outputs": [],
   "metadata": {}
  },
  {
   "cell_type": "markdown",
   "source": [
    "## Comparação das formas modais"
   ],
   "metadata": {}
  },
  {
   "cell_type": "code",
   "execution_count": null,
   "source": [
    "fig, axs = plt.subplots(2,2)\r\n",
    "\r\n",
    "for n_b in n:\r\n",
    "    axs[0,0].set_title('Primeiro modo')\r\n",
    "    axs[0,0].plot(x, resultados[n_b]['V'][:,0], label=f\"{n_b} funções\")\r\n",
    "    axs[0,0].set_xlabel('x [m]')\r\n",
    "    axs[0,0].set_ylabel('Forma modal')\r\n",
    "    \r\n",
    "    axs[0,1].set_title('Segundo modo')\r\n",
    "    axs[0,1].plot(x, resultados[n_b]['V'][:,1])\r\n",
    "    axs[0,1].set_xlabel('x [m]')\r\n",
    "    axs[0,1].set_ylabel('Forma modal')\r\n",
    "\r\n",
    "    axs[1,0].set_title('Terceiro modo')\r\n",
    "    axs[1,0].plot(x, resultados[n_b]['V'][:,2])\r\n",
    "    axs[1,0].set_xlabel('x [m]')\r\n",
    "    axs[1,0].set_ylabel('Forma modal')\r\n",
    "\r\n",
    "    axs[1,1].set_title('Quarto modo modo')\r\n",
    "    axs[1,1].plot(x, resultados[n_b]['V'][:,3])\r\n",
    "    axs[1,1].set_xlabel('x [m]')\r\n",
    "    axs[1,1].set_ylabel('Forma modal')\r\n",
    "\r\n",
    "\r\n",
    "fig.legend(loc='upper left', bbox_to_anchor=(1, 0.9))\r\n",
    "fig.tight_layout()\r\n",
    "plt.show()"
   ],
   "outputs": [],
   "metadata": {}
  }
 ],
 "metadata": {
  "interpreter": {
   "hash": "377f039d88a0f9c5791e0cfb0b6c5d82d1ead839da8caf4c4bf722cac36c15ff"
  },
  "kernelspec": {
   "name": "python3",
   "display_name": "Python 3.9.4 64-bit ('venv': venv)"
  },
  "language_info": {
   "codemirror_mode": {
    "name": "ipython",
    "version": 3
   },
   "file_extension": ".py",
   "mimetype": "text/x-python",
   "name": "python",
   "nbconvert_exporter": "python",
   "pygments_lexer": "ipython3",
   "version": "3.9.4"
  }
 },
 "nbformat": 4,
 "nbformat_minor": 4
}