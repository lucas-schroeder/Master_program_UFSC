{
 "cells": [
  {
   "cell_type": "code",
   "execution_count": 1,
   "source": [
    "import numpy as np\r\n",
    "import pandas as pd\r\n",
    "from scipy.linalg import eig\r\n",
    "import matplotlib.pyplot as plt\r\n",
    "\r\n",
    "pi = np.pi"
   ],
   "outputs": [],
   "metadata": {}
  },
  {
   "cell_type": "code",
   "execution_count": 87,
   "source": [
    "h = 1.7e-3 # thickness [m]\r\n",
    "H = 200e-3\r\n",
    "L = 400e-3\r\n",
    "Iz = (h**3)/12\r\n",
    "l_c = 40e-3\r\n",
    "d_x = 60e-3\r\n",
    "d_y = 40e-3\r\n",
    "E=3.5e10\r\n",
    "nu=0.3\r\n",
    "rho=2400\r\n",
    "\r\n",
    "def m_e(a, b):\r\n",
    "    m11 =  np.array([[3454,\t    922*b,\t    -922*a,\t    1226,\t398*b,\t    548*a       ],\r\n",
    "                    [922*b,\t    320*b**2,\t-252*a*b,\t398*b,\t160*b**2,\t168*a*b     ],\r\n",
    "                    [-922*a,    -252*a*b,\t320*a**2,\t-548*a,\t-168*a*b,\t-240*a**2   ],\r\n",
    "                    [1226,\t    398*b,\t    -548*a,\t    3454,\t922*b,\t    922*a       ],\r\n",
    "                    [398*b,\t    160*b**2,\t-168*a*b,\t922*b,\t320*b**2,\t252*a*b     ],\r\n",
    "                    [548*a,\t    168*a*b,\t-240*a**2,\t922*a,\t252*a*b,\t320*a**2    ]])\r\n",
    "\r\n",
    "    m21 =  np.array([[394,\t    323*b,\t    -232*a,\t    1226,\t548*b,\t    398*a       ],\r\n",
    "                    [-232*b,\t-120*b**2,\t112*a*b,\t-548*b,\t-240*b**2,\t-168*a*b    ],\r\n",
    "                    [232*a,\t    112*a*b,\t-120*a**2,\t398*a,\t168*a*b,\t160*a**2    ],\r\n",
    "                    [1226,\t    548*b,\t    -398*a,\t    394,\t232*b,\t    232*a       ],\r\n",
    "                    [-548*b,\t-240*b**2,\t168*a*b,\t-232*b,\t-120*b**2,\t-112*a*b    ],\r\n",
    "                    [-398*a,\t-168*a*b,\t160*a**2,\t-232*a,\t-112*a*b,\t-120*a**2   ]])\r\n",
    "    \r\n",
    "    m22 =   np.array([[3454,\t-922*b,\t    922*a,\t    1226,\t-398*b,\t    -548*a      ],\r\n",
    "                    [-922*b,\t320*b**2,\t-252*a*b,\t-398*b,\t160*b**2,\t168*a*b     ],\r\n",
    "                    [922*a,\t    -252*a*b,\t320*a**2,\t548*a,\t-168*a*b,\t-240*a**2   ],\r\n",
    "                    [1226,\t    -398*b,\t    548*a,\t    3454,\t-922*b,\t    -922*a      ],\r\n",
    "                    [-398*b,\t160*b**2,\t-168*a*b,\t-922*b,\t320*b**2,\t252*a*b     ],\r\n",
    "                    [-548*a,\t168*a*b,\t-240*a**2,\t-922*a,\t252*a*b,\t320*a**2    ]])\r\n",
    "\r\n",
    "    m = np.concatenate((np.concatenate((m11, m21.T), axis=1),  np.concatenate((m21, m22), axis=1)), axis=0)\r\n",
    "\r\n",
    "    return (rho*h*a*b/6300)*m\r\n",
    "\r\n",
    "def k_e(a,b):\r\n",
    "    alp=a/b\r\n",
    "    bet=b/a\r\n",
    "    I1 = np.eye(3)\r\n",
    "    I1[0,0]=-1\r\n",
    "    I2 = np.eye(3)\r\n",
    "    I2[1,1]=-1\r\n",
    "    I3 = np.eye(3)\r\n",
    "    I3[2,2]=-1\r\n",
    "\r\n",
    "    k11 = np.array([[4*(bet**2+alp**2)+0.4*(7-2*nu),\t    2*(2*alp**2+0.2*(1+4*nu))*b,\t    2*(-2*bet**2-0.2*(1-4*nu))*a    ],\r\n",
    "                    [2*(2*alp**2+0.2*(1+4*nu))*b,\t        4*(4/3*alp**2+4/15*(1-nu))*b**2,\t-4*nu*a*b                       ],\r\n",
    "                     [2*(-2*bet**2-0.2*(1-4*nu))*a,\t        -4*nu*a*b,                      \t4*(4/3*bet**2+1/15*(1-nu))*a**2]])\r\n",
    "\r\n",
    "    k21 = np.array([[-(2*(2*bet**2-alp**2)+0.4*(7-2*nu)),\t2*(alp**2-0.2*(1+4*nu))*b,\t        2*(2*bet**2+0.2*(1-4*nu))*a     ],\r\n",
    "                    [2*(alp**2-0.2*(1+4*nu))*b,\t            4*(2/3*alp**2-4/15*(1-nu))*b**2,    0                               ],\r\n",
    "                    [-2*(2*bet**2+0.2*(1-nu))*a,\t        0,                          \t    4*(4/3*bet**2-1/15*(1-nu))*a**2]])\r\n",
    "\r\n",
    "    k31 = np.array([[-(2*(bet**2+alp**2)-0.4*(7-2*nu)),\t    2*(-2*alp**2-0.2*(1-nu))*b,\t        2*(-bet**2+0.2*(1+4*nu))*a      ],\r\n",
    "                    [2*(alp**2-0.2*(1-nu))*b,\t            4*(2/3*alp**2-1/15*(1-nu))*b**2,\t0                               ],\r\n",
    "                    [2*(-bet**2+0.2*(1-nu))*a,\t            0,\t                                4*(2/3*bet**2-4/15*(1-nu))*a**2]])\r\n",
    "\r\n",
    "    k41 = np.array([[2*(bet**2-2*alp**2)-0.4*(7-2*nu),\t    2*(-2*alp**2-0.2*(1-nu))*b,\t        2*(-bet**2+0.2*(1+4*nu))*a      ],\r\n",
    "                    [2*(2*alp**2+0.2*(1-nu))*b,\t            4*(2/3*alp**2-1/15*(1-nu))*b**2,\t0                               ],\r\n",
    "                    [2*(-bet**2+0.2*(1+4*nu))*a,\t        0,\t                                4*(2/3*bet**2-4/15*(1-nu))*a**2]])\r\n",
    "\r\n",
    "    k22 = I3.T @ k11 @ I3\r\n",
    "    k32 = I3.T @ k41 @ I3\r\n",
    "    k42 = I3.T @ k31 @ I3\r\n",
    "    \r\n",
    "    k33 = I1.T @ k11 @ I1\r\n",
    "    k43 = I1.T @ k21 @ I1\r\n",
    "\r\n",
    "    k44 = I2.T @ k11 @ I2\r\n",
    "\r\n",
    "    aux1 = np.concatenate((k11, k21, k31, k41), axis=1)\r\n",
    "    aux2 = np.concatenate((k21, k22, k32, k42), axis=1)\r\n",
    "    aux3 = np.concatenate((k31, k32, k33, k43), axis=1)\r\n",
    "    aux4 = np.concatenate((k41, k42, k43, k44), axis=1)\r\n",
    "    k = np.concatenate((aux1, aux2, aux3, aux4), axis=0)\r\n",
    "\r\n",
    "    \r\n",
    "    return E*h**3/(48*(1-nu**2)*a*b)*k\r\n",
    "\r\n"
   ],
   "outputs": [],
   "metadata": {}
  },
  {
   "cell_type": "code",
   "execution_count": 90,
   "source": [
    "%timeit M = m_e(0.005, 0.005)"
   ],
   "outputs": [
    {
     "output_type": "stream",
     "name": "stdout",
     "text": [
      "43.6 µs ± 2.95 µs per loop (mean ± std. dev. of 7 runs, 10000 loops each)\n"
     ]
    }
   ],
   "metadata": {}
  },
  {
   "cell_type": "code",
   "execution_count": 91,
   "source": [
    "%timeit K = k_e(0.005, 0.005)"
   ],
   "outputs": [
    {
     "output_type": "stream",
     "name": "stdout",
     "text": [
      "73.7 µs ± 1.08 µs per loop (mean ± std. dev. of 7 runs, 10000 loops each)\n"
     ]
    }
   ],
   "metadata": {}
  }
 ],
 "metadata": {
  "orig_nbformat": 4,
  "language_info": {
   "name": "python",
   "version": "3.9.4",
   "mimetype": "text/x-python",
   "codemirror_mode": {
    "name": "ipython",
    "version": 3
   },
   "pygments_lexer": "ipython3",
   "nbconvert_exporter": "python",
   "file_extension": ".py"
  },
  "kernelspec": {
   "name": "python3",
   "display_name": "Python 3.9.4 64-bit ('venv': venv)"
  },
  "interpreter": {
   "hash": "02527d8ca5c65af2ede56b2d82ee91e660e182a92b14a4e2ad38e2cd32139a84"
  }
 },
 "nbformat": 4,
 "nbformat_minor": 2
}