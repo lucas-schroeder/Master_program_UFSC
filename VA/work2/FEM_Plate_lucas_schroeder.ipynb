{
 "cells": [
  {
   "cell_type": "markdown",
   "source": [
    "# 2D FEM with ACM element\r\n",
    "\r\n",
    "![image](\\img\\door_drawing2.png)"
   ],
   "metadata": {}
  },
  {
   "cell_type": "code",
   "execution_count": 1,
   "source": [
    "import numpy as np\r\n",
    "import pandas as pd\r\n",
    "import scipy as sp\r\n",
    "from scipy.linalg import eig\r\n",
    "from scipy.sparse.linalg import eigsh\r\n",
    "from scipy.sparse.linalg import eigs\r\n",
    "import matplotlib.pyplot as plt\r\n",
    "from mpl_toolkits import mplot3d\r\n",
    "import plotly.graph_objects as go\r\n",
    "from matplotlib import cm\r\n",
    "from datetime import datetime\r\n",
    "\r\n",
    "pi = np.pi"
   ],
   "outputs": [],
   "metadata": {}
  },
  {
   "cell_type": "code",
   "execution_count": 2,
   "source": [
    "h = 1.6e-3 # thickness [m]\r\n",
    "H = 500e-3 # door height [m]\r\n",
    "L = 200e-3 # door length [m]\r\n",
    "Iz = (h**3)/12 # corss section moment of inertia per length [m**3]\r\n",
    "E = 186e9 # modulus of elasticity [Pa]\r\n",
    "nu = 0.3 # poison coef\r\n",
    "rho = 7870 # steel density [kg/m**3]\r\n",
    "\r\n",
    "def m_e(dx, dy):\r\n",
    "    a=dx/2\r\n",
    "    b=dy/2\r\n",
    "    m11 =  np.array([[3454,\t    922*b,\t    -922*a,\t    1226,\t398*b,\t    548*a       ],\r\n",
    "                    [922*b,\t    320*b**2,\t-252*a*b,\t398*b,\t160*b**2,\t168*a*b     ],\r\n",
    "                    [-922*a,    -252*a*b,\t320*a**2,\t-548*a,\t-168*a*b,\t-240*a**2   ],\r\n",
    "                    [1226,\t    398*b,\t    -548*a,\t    3454,\t922*b,\t    922*a       ],\r\n",
    "                    [398*b,\t    160*b**2,\t-168*a*b,\t922*b,\t320*b**2,\t252*a*b     ],\r\n",
    "                    [548*a,\t    168*a*b,\t-240*a**2,\t922*a,\t252*a*b,\t320*a**2    ]])\r\n",
    "\r\n",
    "    m21 =  np.array([[394,\t    323*b,\t    -232*a,\t    1226,\t548*b,\t    398*a       ],\r\n",
    "                    [-232*b,\t-120*b**2,\t112*a*b,\t-548*b,\t-240*b**2,\t-168*a*b    ],\r\n",
    "                    [232*a,\t    112*a*b,\t-120*a**2,\t398*a,\t168*a*b,\t160*a**2    ],\r\n",
    "                    [1226,\t    548*b,\t    -398*a,\t    394,\t232*b,\t    232*a       ],\r\n",
    "                    [-548*b,\t-240*b**2,\t168*a*b,\t-232*b,\t-120*b**2,\t-112*a*b    ],\r\n",
    "                    [-398*a,\t-168*a*b,\t160*a**2,\t-232*a,\t-112*a*b,\t-120*a**2   ]])\r\n",
    "    \r\n",
    "    m22 =   np.array([[3454,\t-922*b,\t    922*a,\t    1226,\t-398*b,\t    -548*a      ],\r\n",
    "                    [-922*b,\t320*b**2,\t-252*a*b,\t-398*b,\t160*b**2,\t168*a*b     ],\r\n",
    "                    [922*a,\t    -252*a*b,\t320*a**2,\t548*a,\t-168*a*b,\t-240*a**2   ],\r\n",
    "                    [1226,\t    -398*b,\t    548*a,\t    3454,\t-922*b,\t    -922*a      ],\r\n",
    "                    [-398*b,\t160*b**2,\t-168*a*b,\t-922*b,\t320*b**2,\t252*a*b     ],\r\n",
    "                    [-548*a,\t168*a*b,\t-240*a**2,\t-922*a,\t252*a*b,\t320*a**2    ]])\r\n",
    "\r\n",
    "    m = np.concatenate((np.concatenate((m11, m21.T), axis=1),  np.concatenate((m21, m22), axis=1)), axis=0)\r\n",
    "\r\n",
    "    return (rho*h*a*b/6300)*m\r\n",
    "\r\n",
    "def k_e(dx, dy):\r\n",
    "    a=dx/2\r\n",
    "    b=dy/2\r\n",
    "    alp=a/b\r\n",
    "    bet=b/a\r\n",
    "    I1 = np.eye(3)\r\n",
    "    I1[0,0]=-1\r\n",
    "    I2 = np.eye(3)\r\n",
    "    I2[1,1]=-1\r\n",
    "    I3 = np.eye(3)\r\n",
    "    I3[2,2]=-1\r\n",
    "\r\n",
    "    k11 = np.array([[4*(bet**2+alp**2)+0.4*(7-2*nu),\t    2*(2*alp**2+0.2*(1+4*nu))*b,\t    2*(-2*bet**2-0.2*(1+4*nu))*a    ],\r\n",
    "                    [2*(2*alp**2+0.2*(1+4*nu))*b,\t        4*(4/3*alp**2+4/15*(1-nu))*b**2,\t-4*nu*a*b                       ],\r\n",
    "                    [2*(-2*bet**2-0.2*(1+4*nu))*a,\t        -4*nu*a*b,                      \t4*(4/3*bet**2+4/15*(1-nu))*a**2]])\r\n",
    "\r\n",
    "    k21 = np.array([[-(2*(2*bet**2-alp**2)+0.4*(7-2*nu)),\t2*(alp**2-0.2*(1+4*nu))*b,\t        2*(2*bet**2+0.2*(1-nu))*a     ],\r\n",
    "                    [2*(alp**2-0.2*(1+4*nu))*b,\t            4*(2/3*alp**2-4/15*(1-nu))*b**2,    0                               ],\r\n",
    "                    [-2*(2*bet**2+0.2*(1-nu))*a,\t        0,                          \t    4*(2/3*bet**2-1/15*(1-nu))*a**2]])\r\n",
    "\r\n",
    "    k31 = np.array([[-(2*(bet**2+alp**2)-0.4*(7-2*nu)),\t    2*(-alp**2+0.2*(1-nu))*b,\t        2*(bet**2-0.2*(1-nu))*a      ],\r\n",
    "                    [2*(alp**2-0.2*(1-nu))*b,\t            4*(1/3*alp**2+1/15*(1-nu))*b**2,\t0                               ],\r\n",
    "                    [2*(-bet**2+0.2*(1-nu))*a,\t            0,\t                                4*(1/3*bet**2+1/15*(1-nu))*a**2]])\r\n",
    "\r\n",
    "    k41 = np.array([[2*(bet**2-2*alp**2)-0.4*(7-2*nu),\t    2*(-2*alp**2-0.2*(1-nu))*b,\t        2*(-bet**2+0.2*(1+4*nu))*a      ],\r\n",
    "                    [2*(2*alp**2+0.2*(1-nu))*b,\t            4*(2/3*alp**2-1/15*(1-nu))*b**2,\t0                               ],\r\n",
    "                    [2*(-bet**2+0.2*(1+4*nu))*a,\t        0,\t                                4*(2/3*bet**2-4/15*(1-nu))*a**2]])\r\n",
    "\r\n",
    "    k22 = I3.T @ k11 @ I3\r\n",
    "    k32 = I3.T @ k41 @ I3\r\n",
    "    k42 = I3.T @ k31 @ I3\r\n",
    "    \r\n",
    "    k33 = I1.T @ k11 @ I1\r\n",
    "    k43 = I1.T @ k21 @ I1\r\n",
    "\r\n",
    "    k44 = I2.T @ k11 @ I2\r\n",
    "\r\n",
    "    aux1 = np.concatenate((k11, k21.T, k31.T, k41.T), axis=1)\r\n",
    "    aux2 = np.concatenate((k21, k22, k32.T, k42.T), axis=1)\r\n",
    "    aux3 = np.concatenate((k31, k32, k33, k43.T), axis=1)\r\n",
    "    aux4 = np.concatenate((k41, k42, k43, k44), axis=1)\r\n",
    "    k = np.concatenate((aux1, aux2, aux3, aux4), axis=0)\r\n",
    "\r\n",
    "    \r\n",
    "    return E*h**3/(48*(1-nu**2)*a*b)*k"
   ],
   "outputs": [],
   "metadata": {}
  },
  {
   "cell_type": "markdown",
   "source": [
    "# Mesh Definition"
   ],
   "metadata": {}
  },
  {
   "cell_type": "code",
   "execution_count": 3,
   "source": [
    "# Node coordinates\r\n",
    "# 2D rectangular plate, square ACM elements\r\n",
    "eSize = 0.01 # meters\r\n",
    "nElementX = int(L/eSize)\r\n",
    "nElementY = int(H/eSize)\r\n",
    "nElements = nElementX * nElementY\r\n",
    "dx = L / nElementX\r\n",
    "dy = H / nElementY\r\n",
    "nNodesX = nElementX + 1\r\n",
    "nNodesY = nElementY + 1\r\n",
    "nNodes = nNodesX * nNodesY\r\n",
    "ndof = nNodes*3\r\n",
    "\r\n",
    "# Degrees of Freedom\r\n",
    "# Define the number of each DoF for each node\r\n",
    "node_dof = np.arange(1, 3*nNodes+1).reshape((nNodes, 3))\r\n",
    "node_dof = pd.DataFrame(columns=[\"w\", \"thetaX\", \"thetaY\"], index=np.arange(1, nNodes+1), data=node_dof, dtype=int)\r\n",
    "node_dof.index.rename(\"Node\", inplace=True)\r\n",
    "node_dof.rename_axis(\"DoF\", axis=\"columns\", inplace=True)\r\n",
    "\r\n",
    "# Nodes coordinates\r\n",
    "node_coor = np.zeros((nNodes, 2))\r\n",
    "for n in range(1, nNodes+1):\r\n",
    "    q, r = divmod(n-1, nNodesX) # quotient and remainder\r\n",
    "    node_coor[n-1, 0] = r*dx\r\n",
    "    node_coor[n-1, 1] = q*dy\r\n",
    "\r\n",
    "node_coor = pd.DataFrame(columns=[\"x\", \"y\"], index=np.arange(1, nNodes+1), data=node_coor)\r\n",
    "node_coor.index.rename(\"Node\", inplace=True)\r\n",
    "node_coor.rename_axis(\"Coordinate\", axis=\"columns\", inplace=True)\r\n",
    "\r\n",
    "# Conectivity matrix\r\n",
    "# Relates local nodes of elements to dofobal nodes\r\n",
    "element_con = np.zeros((nElements, 4))\r\n",
    "for n in range(1, nElements+1):\r\n",
    "    q, r = divmod(n, nElementX) # quotient and remainder\r\n",
    "    if r == 0:\r\n",
    "        q = q-1\r\n",
    "        r = nElementX\r\n",
    "    a = q*nNodesX + r\r\n",
    "    element_con[n-1, 0] = a\r\n",
    "    element_con[n-1, 1] = a + 1\r\n",
    "    element_con[n-1, 2] = a + nNodesX + 1\r\n",
    "    element_con[n-1, 3] = a + nNodesX\r\n",
    "\r\n",
    "element_con = pd.DataFrame(columns=[\"1\", \"2\", \"3\", \"4\"], index=np.arange(1, nElements+1), data=element_con, dtype=int)\r\n",
    "element_con.index.rename(\"Element\", inplace=True)\r\n",
    "element_con.rename_axis(\"Local Node\", axis=\"columns\", inplace=True)\r\n",
    "\r\n",
    "# Index table\r\n",
    "# Relates the dofobal DoF associated with each element\r\n",
    "index_table = np.zeros((nElements, 12))\r\n",
    "for n in range(1, nElements+1):\r\n",
    "    index_table[n-1, 0] = node_dof[\"w\"][element_con[\"1\"][n]] # w, local node 1\r\n",
    "    index_table[n-1, 1] = node_dof[\"thetaX\"][element_con[\"1\"][n]] # thetaX, local node 1\r\n",
    "    index_table[n-1, 2] = node_dof[\"thetaY\"][element_con[\"1\"][n]] # thetaY, locasl node 1\r\n",
    "\r\n",
    "    index_table[n-1, 3] = node_dof[\"w\"][element_con[\"2\"][n]] # w, local node 2\r\n",
    "    index_table[n-1, 4] = node_dof[\"thetaX\"][element_con[\"2\"][n]] # thetaX, local node 2\r\n",
    "    index_table[n-1, 5] = node_dof[\"thetaY\"][element_con[\"2\"][n]] # thetaY, locasl node 2\r\n",
    "\r\n",
    "    index_table[n-1, 6] = node_dof[\"w\"][element_con[\"3\"][n]] # w, local node 3\r\n",
    "    index_table[n-1, 7] = node_dof[\"thetaX\"][element_con[\"3\"][n]] # thetaX, local node 3\r\n",
    "    index_table[n-1, 8] = node_dof[\"thetaY\"][element_con[\"3\"][n]] # thetaY, locasl node 3\r\n",
    "\r\n",
    "    index_table[n-1, 9] = node_dof[\"w\"][element_con[\"4\"][n]] # w, local node 4\r\n",
    "    index_table[n-1, 10] = node_dof[\"thetaX\"][element_con[\"4\"][n]] # thetaX, local node 4\r\n",
    "    index_table[n-1, 11] = node_dof[\"thetaY\"][element_con[\"4\"][n]] # thetaY, locasl node 4\r\n",
    "\r\n",
    "col = pd.MultiIndex.from_arrays([[\"Local Node 1\"]*3+ [\"Local Node 2\"]*3+ [\"Local Node 3\"]*3+ [\"Local Node 4\"]*3,\r\n",
    "                                [\"w\", \"thetaX\", \"thetaY\"]*4])\r\n",
    "index_table = pd.DataFrame(columns=col, index=np.arange(1, nElements+1), data=index_table, dtype=int)\r\n",
    "index_table.index.rename(\"Element\", inplace=True)"
   ],
   "outputs": [],
   "metadata": {}
  },
  {
   "cell_type": "code",
   "execution_count": 4,
   "source": [
    "node_dof.head()"
   ],
   "outputs": [
    {
     "output_type": "execute_result",
     "data": {
      "text/plain": [
       "DoF    w  thetaX  thetaY\n",
       "Node                    \n",
       "1      1       2       3\n",
       "2      4       5       6\n",
       "3      7       8       9\n",
       "4     10      11      12\n",
       "5     13      14      15"
      ],
      "text/html": [
       "<div>\n",
       "<style scoped>\n",
       "    .dataframe tbody tr th:only-of-type {\n",
       "        vertical-align: middle;\n",
       "    }\n",
       "\n",
       "    .dataframe tbody tr th {\n",
       "        vertical-align: top;\n",
       "    }\n",
       "\n",
       "    .dataframe thead th {\n",
       "        text-align: right;\n",
       "    }\n",
       "</style>\n",
       "<table border=\"1\" class=\"dataframe\">\n",
       "  <thead>\n",
       "    <tr style=\"text-align: right;\">\n",
       "      <th>DoF</th>\n",
       "      <th>w</th>\n",
       "      <th>thetaX</th>\n",
       "      <th>thetaY</th>\n",
       "    </tr>\n",
       "    <tr>\n",
       "      <th>Node</th>\n",
       "      <th></th>\n",
       "      <th></th>\n",
       "      <th></th>\n",
       "    </tr>\n",
       "  </thead>\n",
       "  <tbody>\n",
       "    <tr>\n",
       "      <th>1</th>\n",
       "      <td>1</td>\n",
       "      <td>2</td>\n",
       "      <td>3</td>\n",
       "    </tr>\n",
       "    <tr>\n",
       "      <th>2</th>\n",
       "      <td>4</td>\n",
       "      <td>5</td>\n",
       "      <td>6</td>\n",
       "    </tr>\n",
       "    <tr>\n",
       "      <th>3</th>\n",
       "      <td>7</td>\n",
       "      <td>8</td>\n",
       "      <td>9</td>\n",
       "    </tr>\n",
       "    <tr>\n",
       "      <th>4</th>\n",
       "      <td>10</td>\n",
       "      <td>11</td>\n",
       "      <td>12</td>\n",
       "    </tr>\n",
       "    <tr>\n",
       "      <th>5</th>\n",
       "      <td>13</td>\n",
       "      <td>14</td>\n",
       "      <td>15</td>\n",
       "    </tr>\n",
       "  </tbody>\n",
       "</table>\n",
       "</div>"
      ]
     },
     "metadata": {},
     "execution_count": 4
    }
   ],
   "metadata": {}
  },
  {
   "cell_type": "code",
   "execution_count": 5,
   "source": [
    "element_con.head()"
   ],
   "outputs": [
    {
     "output_type": "execute_result",
     "data": {
      "text/plain": [
       "Local Node  1  2   3   4\n",
       "Element                 \n",
       "1           1  2  23  22\n",
       "2           2  3  24  23\n",
       "3           3  4  25  24\n",
       "4           4  5  26  25\n",
       "5           5  6  27  26"
      ],
      "text/html": [
       "<div>\n",
       "<style scoped>\n",
       "    .dataframe tbody tr th:only-of-type {\n",
       "        vertical-align: middle;\n",
       "    }\n",
       "\n",
       "    .dataframe tbody tr th {\n",
       "        vertical-align: top;\n",
       "    }\n",
       "\n",
       "    .dataframe thead th {\n",
       "        text-align: right;\n",
       "    }\n",
       "</style>\n",
       "<table border=\"1\" class=\"dataframe\">\n",
       "  <thead>\n",
       "    <tr style=\"text-align: right;\">\n",
       "      <th>Local Node</th>\n",
       "      <th>1</th>\n",
       "      <th>2</th>\n",
       "      <th>3</th>\n",
       "      <th>4</th>\n",
       "    </tr>\n",
       "    <tr>\n",
       "      <th>Element</th>\n",
       "      <th></th>\n",
       "      <th></th>\n",
       "      <th></th>\n",
       "      <th></th>\n",
       "    </tr>\n",
       "  </thead>\n",
       "  <tbody>\n",
       "    <tr>\n",
       "      <th>1</th>\n",
       "      <td>1</td>\n",
       "      <td>2</td>\n",
       "      <td>23</td>\n",
       "      <td>22</td>\n",
       "    </tr>\n",
       "    <tr>\n",
       "      <th>2</th>\n",
       "      <td>2</td>\n",
       "      <td>3</td>\n",
       "      <td>24</td>\n",
       "      <td>23</td>\n",
       "    </tr>\n",
       "    <tr>\n",
       "      <th>3</th>\n",
       "      <td>3</td>\n",
       "      <td>4</td>\n",
       "      <td>25</td>\n",
       "      <td>24</td>\n",
       "    </tr>\n",
       "    <tr>\n",
       "      <th>4</th>\n",
       "      <td>4</td>\n",
       "      <td>5</td>\n",
       "      <td>26</td>\n",
       "      <td>25</td>\n",
       "    </tr>\n",
       "    <tr>\n",
       "      <th>5</th>\n",
       "      <td>5</td>\n",
       "      <td>6</td>\n",
       "      <td>27</td>\n",
       "      <td>26</td>\n",
       "    </tr>\n",
       "  </tbody>\n",
       "</table>\n",
       "</div>"
      ]
     },
     "metadata": {},
     "execution_count": 5
    }
   ],
   "metadata": {}
  },
  {
   "cell_type": "code",
   "execution_count": 6,
   "source": [
    "index_table.head()"
   ],
   "outputs": [
    {
     "output_type": "execute_result",
     "data": {
      "text/plain": [
       "        Local Node 1               Local Node 2               Local Node 3  \\\n",
       "                   w thetaX thetaY            w thetaX thetaY            w   \n",
       "Element                                                                      \n",
       "1                  1      2      3            4      5      6           67   \n",
       "2                  4      5      6            7      8      9           70   \n",
       "3                  7      8      9           10     11     12           73   \n",
       "4                 10     11     12           13     14     15           76   \n",
       "5                 13     14     15           16     17     18           79   \n",
       "\n",
       "                      Local Node 4                \n",
       "        thetaX thetaY            w thetaX thetaY  \n",
       "Element                                           \n",
       "1           68     69           64     65     66  \n",
       "2           71     72           67     68     69  \n",
       "3           74     75           70     71     72  \n",
       "4           77     78           73     74     75  \n",
       "5           80     81           76     77     78  "
      ],
      "text/html": [
       "<div>\n",
       "<style scoped>\n",
       "    .dataframe tbody tr th:only-of-type {\n",
       "        vertical-align: middle;\n",
       "    }\n",
       "\n",
       "    .dataframe tbody tr th {\n",
       "        vertical-align: top;\n",
       "    }\n",
       "\n",
       "    .dataframe thead tr th {\n",
       "        text-align: left;\n",
       "    }\n",
       "\n",
       "    .dataframe thead tr:last-of-type th {\n",
       "        text-align: right;\n",
       "    }\n",
       "</style>\n",
       "<table border=\"1\" class=\"dataframe\">\n",
       "  <thead>\n",
       "    <tr>\n",
       "      <th></th>\n",
       "      <th colspan=\"3\" halign=\"left\">Local Node 1</th>\n",
       "      <th colspan=\"3\" halign=\"left\">Local Node 2</th>\n",
       "      <th colspan=\"3\" halign=\"left\">Local Node 3</th>\n",
       "      <th colspan=\"3\" halign=\"left\">Local Node 4</th>\n",
       "    </tr>\n",
       "    <tr>\n",
       "      <th></th>\n",
       "      <th>w</th>\n",
       "      <th>thetaX</th>\n",
       "      <th>thetaY</th>\n",
       "      <th>w</th>\n",
       "      <th>thetaX</th>\n",
       "      <th>thetaY</th>\n",
       "      <th>w</th>\n",
       "      <th>thetaX</th>\n",
       "      <th>thetaY</th>\n",
       "      <th>w</th>\n",
       "      <th>thetaX</th>\n",
       "      <th>thetaY</th>\n",
       "    </tr>\n",
       "    <tr>\n",
       "      <th>Element</th>\n",
       "      <th></th>\n",
       "      <th></th>\n",
       "      <th></th>\n",
       "      <th></th>\n",
       "      <th></th>\n",
       "      <th></th>\n",
       "      <th></th>\n",
       "      <th></th>\n",
       "      <th></th>\n",
       "      <th></th>\n",
       "      <th></th>\n",
       "      <th></th>\n",
       "    </tr>\n",
       "  </thead>\n",
       "  <tbody>\n",
       "    <tr>\n",
       "      <th>1</th>\n",
       "      <td>1</td>\n",
       "      <td>2</td>\n",
       "      <td>3</td>\n",
       "      <td>4</td>\n",
       "      <td>5</td>\n",
       "      <td>6</td>\n",
       "      <td>67</td>\n",
       "      <td>68</td>\n",
       "      <td>69</td>\n",
       "      <td>64</td>\n",
       "      <td>65</td>\n",
       "      <td>66</td>\n",
       "    </tr>\n",
       "    <tr>\n",
       "      <th>2</th>\n",
       "      <td>4</td>\n",
       "      <td>5</td>\n",
       "      <td>6</td>\n",
       "      <td>7</td>\n",
       "      <td>8</td>\n",
       "      <td>9</td>\n",
       "      <td>70</td>\n",
       "      <td>71</td>\n",
       "      <td>72</td>\n",
       "      <td>67</td>\n",
       "      <td>68</td>\n",
       "      <td>69</td>\n",
       "    </tr>\n",
       "    <tr>\n",
       "      <th>3</th>\n",
       "      <td>7</td>\n",
       "      <td>8</td>\n",
       "      <td>9</td>\n",
       "      <td>10</td>\n",
       "      <td>11</td>\n",
       "      <td>12</td>\n",
       "      <td>73</td>\n",
       "      <td>74</td>\n",
       "      <td>75</td>\n",
       "      <td>70</td>\n",
       "      <td>71</td>\n",
       "      <td>72</td>\n",
       "    </tr>\n",
       "    <tr>\n",
       "      <th>4</th>\n",
       "      <td>10</td>\n",
       "      <td>11</td>\n",
       "      <td>12</td>\n",
       "      <td>13</td>\n",
       "      <td>14</td>\n",
       "      <td>15</td>\n",
       "      <td>76</td>\n",
       "      <td>77</td>\n",
       "      <td>78</td>\n",
       "      <td>73</td>\n",
       "      <td>74</td>\n",
       "      <td>75</td>\n",
       "    </tr>\n",
       "    <tr>\n",
       "      <th>5</th>\n",
       "      <td>13</td>\n",
       "      <td>14</td>\n",
       "      <td>15</td>\n",
       "      <td>16</td>\n",
       "      <td>17</td>\n",
       "      <td>18</td>\n",
       "      <td>79</td>\n",
       "      <td>80</td>\n",
       "      <td>81</td>\n",
       "      <td>76</td>\n",
       "      <td>77</td>\n",
       "      <td>78</td>\n",
       "    </tr>\n",
       "  </tbody>\n",
       "</table>\n",
       "</div>"
      ]
     },
     "metadata": {},
     "execution_count": 6
    }
   ],
   "metadata": {}
  },
  {
   "cell_type": "markdown",
   "source": [
    "# Assembly of [K] and [M]"
   ],
   "metadata": {}
  },
  {
   "cell_type": "code",
   "execution_count": 7,
   "source": [
    "start_assy = datetime.now()\r\n",
    "K = np.zeros((ndof,ndof))\r\n",
    "M = np.zeros((ndof,ndof))\r\n",
    "\r\n",
    "Ke = k_e(dx, dy)\r\n",
    "Me = m_e(dx, dy)\r\n",
    "for n in range(1, nElements+1):\r\n",
    "    idx = index_table.loc[n].to_list()\r\n",
    "    for i, p in enumerate(idx):\r\n",
    "        for j, q in enumerate(idx):\r\n",
    "            M[p-1,q-1] += Me[i, j]\r\n",
    "            K[p-1,q-1] += Ke[i, j]\r\n",
    "            \r\n",
    "finish_assy = datetime.now()\r\n",
    "print(\"Elapsed time: \", finish_assy-start_assy)"
   ],
   "outputs": [
    {
     "output_type": "stream",
     "name": "stdout",
     "text": [
      "Elapsed time:  0:00:00.251327\n"
     ]
    }
   ],
   "metadata": {}
  },
  {
   "cell_type": "markdown",
   "source": [
    "# Find nodes inside BC regions and remove fixed DoF from [K] and [M]"
   ],
   "metadata": {}
  },
  {
   "cell_type": "code",
   "execution_count": 8,
   "source": [
    "# Fixed boundary conditions: Two points rectangle\r\n",
    "region1 = np.array([[0.000, 0.100], [0.010, 0.120]])\r\n",
    "region2 = np.array([[0.000, 0.380], [0.010, 0.400]])\r\n",
    "region3 = np.array([[0.180, 0.240], [0.200, 0.280]])\r\n",
    "regions = {1: region1, 2: region2, 3: region3}\r\n",
    "\r\n",
    "fixed_dof = list()\r\n",
    "fixed_nodes = list()\r\n",
    "for r in regions.values():\r\n",
    "    fixed_nodes += node_coor[(node_coor['x'].between(r[0][0], r[1][0])) & (node_coor['y'].between(r[0][1], r[1][1]))].index.tolist()\r\n",
    "\r\n",
    "for node in fixed_nodes: \r\n",
    "    fixed_dof += node_dof.loc[node].tolist()\r\n",
    "\r\n",
    "# Ordering the fixed degrees of fredom to removem from [K] and [M]\r\n",
    "idx = np.array(fixed_dof).argsort()\r\n",
    "fixed_dof = np.array(fixed_dof)[idx].tolist()\r\n",
    "\r\n",
    "M_backup = M.copy()\r\n",
    "K_backup = K.copy()\r\n",
    "\r\n",
    "M = np.delete(M, np.asarray(fixed_dof)-1, axis=1)\r\n",
    "M = np.delete(M, np.asarray(fixed_dof)-1, axis=0)\r\n",
    "K = np.delete(K, np.asarray(fixed_dof)-1, axis=1)\r\n",
    "K = np.delete(K, np.asarray(fixed_dof)-1, axis=0)"
   ],
   "outputs": [],
   "metadata": {}
  },
  {
   "cell_type": "code",
   "execution_count": 9,
   "source": [
    "plt.figure(figsize=(30/5,50/5))\r\n",
    "plt.scatter(x=node_coor['x'], y=node_coor['y'], label=\"Free node\")\r\n",
    "plt.scatter(x=node_coor['x'][fixed_nodes], y=node_coor['y'][fixed_nodes], marker='x', label='Fixed node')\r\n",
    "plt.title(\"Nodes\")\r\n",
    "plt.legend(loc='upper center', bbox_to_anchor=(1.2, 1))\r\n",
    "plt.xlabel(\"X location [m]\")\r\n",
    "plt.ylabel(\"Y location [m]\")\r\n",
    "plt.tight_layout()"
   ],
   "outputs": [
    {
     "output_type": "display_data",
     "data": {
      "text/plain": [
       "<Figure size 432x720 with 1 Axes>"
      ],
      "image/svg+xml": "<?xml version=\"1.0\" encoding=\"utf-8\" standalone=\"no\"?>\r\n<!DOCTYPE svg PUBLIC \"-//W3C//DTD SVG 1.1//EN\"\r\n  \"http://www.w3.org/Graphics/SVG/1.1/DTD/svg11.dtd\">\r\n<svg height=\"711.274375pt\" version=\"1.1\" viewBox=\"0 0 409.883469 711.274375\" width=\"409.883469pt\" xmlns=\"http://www.w3.org/2000/svg\" xmlns:xlink=\"http://www.w3.org/1999/xlink\">\r\n <metadata>\r\n  <rdf:RDF xmlns:cc=\"http://creativecommons.org/ns#\" xmlns:dc=\"http://purl.org/dc/elements/1.1/\" xmlns:rdf=\"http://www.w3.org/1999/02/22-rdf-syntax-ns#\">\r\n   <cc:Work>\r\n    <dc:type rdf:resource=\"http://purl.org/dc/dcmitype/StillImage\"/>\r\n    <dc:date>2021-08-10T23:31:19.294904</dc:date>\r\n    <dc:format>image/svg+xml</dc:format>\r\n    <dc:creator>\r\n     <cc:Agent>\r\n      <dc:title>Matplotlib v3.4.2, https://matplotlib.org/</dc:title>\r\n     </cc:Agent>\r\n    </dc:creator>\r\n   </cc:Work>\r\n  </rdf:RDF>\r\n </metadata>\r\n <defs>\r\n  <style type=\"text/css\">*{stroke-linecap:butt;stroke-linejoin:round;}</style>\r\n </defs>\r\n <g id=\"figure_1\">\r\n  <g id=\"patch_1\">\r\n   <path d=\"M 0 711.274375 \r\nL 409.883469 711.274375 \r\nL 409.883469 0 \r\nL 0 0 \r\nz\r\n\" style=\"fill:none;\"/>\r\n  </g>\r\n  <g id=\"axes_1\">\r\n   <g id=\"patch_2\">\r\n    <path d=\"M 43.78125 673.718125 \r\nL 305.34625 673.718125 \r\nL 305.34625 22.318125 \r\nL 43.78125 22.318125 \r\nz\r\n\" style=\"fill:#ffffff;\"/>\r\n   </g>\r\n   <g id=\"PathCollection_1\">\r\n    <defs>\r\n     <path d=\"M 0 3 \r\nC 0.795609 3 1.55874 2.683901 2.12132 2.12132 \r\nC 2.683901 1.55874 3 0.795609 3 0 \r\nC 3 -0.795609 2.683901 -1.55874 2.12132 -2.12132 \r\nC 1.55874 -2.683901 0.795609 -3 0 -3 \r\nC -0.795609 -3 -1.55874 -2.683901 -2.12132 -2.12132 \r\nC -2.683901 -1.55874 -3 -0.795609 -3 0 \r\nC -3 0.795609 -2.683901 1.55874 -2.12132 2.12132 \r\nC -1.55874 2.683901 -0.795609 3 0 3 \r\nz\r\n\" id=\"md897673cfc\" style=\"stroke:#1f77b4;\"/>\r\n    </defs>\r\n    <g clip-path=\"url(#p49fbe6b77d)\">\r\n     <use style=\"fill:#1f77b4;stroke:#1f77b4;\" x=\"55.670568\" xlink:href=\"#md897673cfc\" y=\"644.109034\"/>\r\n     <use style=\"fill:#1f77b4;stroke:#1f77b4;\" x=\"67.559886\" xlink:href=\"#md897673cfc\" y=\"644.109034\"/>\r\n     <use style=\"fill:#1f77b4;stroke:#1f77b4;\" x=\"79.449205\" xlink:href=\"#md897673cfc\" y=\"644.109034\"/>\r\n     <use style=\"fill:#1f77b4;stroke:#1f77b4;\" x=\"91.338523\" xlink:href=\"#md897673cfc\" y=\"644.109034\"/>\r\n     <use style=\"fill:#1f77b4;stroke:#1f77b4;\" x=\"103.227841\" xlink:href=\"#md897673cfc\" y=\"644.109034\"/>\r\n     <use style=\"fill:#1f77b4;stroke:#1f77b4;\" x=\"115.117159\" xlink:href=\"#md897673cfc\" y=\"644.109034\"/>\r\n     <use style=\"fill:#1f77b4;stroke:#1f77b4;\" x=\"127.006477\" xlink:href=\"#md897673cfc\" y=\"644.109034\"/>\r\n     <use style=\"fill:#1f77b4;stroke:#1f77b4;\" x=\"138.895795\" xlink:href=\"#md897673cfc\" y=\"644.109034\"/>\r\n     <use style=\"fill:#1f77b4;stroke:#1f77b4;\" x=\"150.785114\" xlink:href=\"#md897673cfc\" y=\"644.109034\"/>\r\n     <use style=\"fill:#1f77b4;stroke:#1f77b4;\" x=\"162.674432\" xlink:href=\"#md897673cfc\" y=\"644.109034\"/>\r\n     <use style=\"fill:#1f77b4;stroke:#1f77b4;\" x=\"174.56375\" xlink:href=\"#md897673cfc\" y=\"644.109034\"/>\r\n     <use style=\"fill:#1f77b4;stroke:#1f77b4;\" x=\"186.453068\" xlink:href=\"#md897673cfc\" y=\"644.109034\"/>\r\n     <use style=\"fill:#1f77b4;stroke:#1f77b4;\" x=\"198.342386\" xlink:href=\"#md897673cfc\" y=\"644.109034\"/>\r\n     <use style=\"fill:#1f77b4;stroke:#1f77b4;\" x=\"210.231705\" xlink:href=\"#md897673cfc\" y=\"644.109034\"/>\r\n     <use style=\"fill:#1f77b4;stroke:#1f77b4;\" x=\"222.121023\" xlink:href=\"#md897673cfc\" y=\"644.109034\"/>\r\n     <use style=\"fill:#1f77b4;stroke:#1f77b4;\" x=\"234.010341\" xlink:href=\"#md897673cfc\" y=\"644.109034\"/>\r\n     <use style=\"fill:#1f77b4;stroke:#1f77b4;\" x=\"245.899659\" xlink:href=\"#md897673cfc\" y=\"644.109034\"/>\r\n     <use style=\"fill:#1f77b4;stroke:#1f77b4;\" x=\"257.788977\" xlink:href=\"#md897673cfc\" y=\"644.109034\"/>\r\n     <use style=\"fill:#1f77b4;stroke:#1f77b4;\" x=\"269.678295\" xlink:href=\"#md897673cfc\" y=\"644.109034\"/>\r\n     <use style=\"fill:#1f77b4;stroke:#1f77b4;\" x=\"281.567614\" xlink:href=\"#md897673cfc\" y=\"644.109034\"/>\r\n     <use style=\"fill:#1f77b4;stroke:#1f77b4;\" x=\"293.456932\" xlink:href=\"#md897673cfc\" y=\"644.109034\"/>\r\n     <use style=\"fill:#1f77b4;stroke:#1f77b4;\" x=\"55.670568\" xlink:href=\"#md897673cfc\" y=\"632.265398\"/>\r\n     <use style=\"fill:#1f77b4;stroke:#1f77b4;\" x=\"67.559886\" xlink:href=\"#md897673cfc\" y=\"632.265398\"/>\r\n     <use style=\"fill:#1f77b4;stroke:#1f77b4;\" x=\"79.449205\" xlink:href=\"#md897673cfc\" y=\"632.265398\"/>\r\n     <use style=\"fill:#1f77b4;stroke:#1f77b4;\" x=\"91.338523\" xlink:href=\"#md897673cfc\" y=\"632.265398\"/>\r\n     <use style=\"fill:#1f77b4;stroke:#1f77b4;\" x=\"103.227841\" xlink:href=\"#md897673cfc\" y=\"632.265398\"/>\r\n     <use style=\"fill:#1f77b4;stroke:#1f77b4;\" x=\"115.117159\" xlink:href=\"#md897673cfc\" y=\"632.265398\"/>\r\n     <use style=\"fill:#1f77b4;stroke:#1f77b4;\" x=\"127.006477\" xlink:href=\"#md897673cfc\" y=\"632.265398\"/>\r\n     <use style=\"fill:#1f77b4;stroke:#1f77b4;\" x=\"138.895795\" xlink:href=\"#md897673cfc\" y=\"632.265398\"/>\r\n     <use style=\"fill:#1f77b4;stroke:#1f77b4;\" x=\"150.785114\" xlink:href=\"#md897673cfc\" y=\"632.265398\"/>\r\n     <use style=\"fill:#1f77b4;stroke:#1f77b4;\" x=\"162.674432\" xlink:href=\"#md897673cfc\" y=\"632.265398\"/>\r\n     <use style=\"fill:#1f77b4;stroke:#1f77b4;\" x=\"174.56375\" xlink:href=\"#md897673cfc\" y=\"632.265398\"/>\r\n     <use style=\"fill:#1f77b4;stroke:#1f77b4;\" x=\"186.453068\" xlink:href=\"#md897673cfc\" y=\"632.265398\"/>\r\n     <use style=\"fill:#1f77b4;stroke:#1f77b4;\" x=\"198.342386\" xlink:href=\"#md897673cfc\" y=\"632.265398\"/>\r\n     <use style=\"fill:#1f77b4;stroke:#1f77b4;\" x=\"210.231705\" xlink:href=\"#md897673cfc\" y=\"632.265398\"/>\r\n     <use style=\"fill:#1f77b4;stroke:#1f77b4;\" x=\"222.121023\" xlink:href=\"#md897673cfc\" y=\"632.265398\"/>\r\n     <use style=\"fill:#1f77b4;stroke:#1f77b4;\" x=\"234.010341\" xlink:href=\"#md897673cfc\" y=\"632.265398\"/>\r\n     <use style=\"fill:#1f77b4;stroke:#1f77b4;\" x=\"245.899659\" xlink:href=\"#md897673cfc\" y=\"632.265398\"/>\r\n     <use style=\"fill:#1f77b4;stroke:#1f77b4;\" x=\"257.788977\" xlink:href=\"#md897673cfc\" y=\"632.265398\"/>\r\n     <use style=\"fill:#1f77b4;stroke:#1f77b4;\" x=\"269.678295\" xlink:href=\"#md897673cfc\" y=\"632.265398\"/>\r\n     <use style=\"fill:#1f77b4;stroke:#1f77b4;\" x=\"281.567614\" xlink:href=\"#md897673cfc\" y=\"632.265398\"/>\r\n     <use style=\"fill:#1f77b4;stroke:#1f77b4;\" x=\"293.456932\" xlink:href=\"#md897673cfc\" y=\"632.265398\"/>\r\n     <use style=\"fill:#1f77b4;stroke:#1f77b4;\" x=\"55.670568\" xlink:href=\"#md897673cfc\" y=\"620.421761\"/>\r\n     <use style=\"fill:#1f77b4;stroke:#1f77b4;\" x=\"67.559886\" xlink:href=\"#md897673cfc\" y=\"620.421761\"/>\r\n     <use style=\"fill:#1f77b4;stroke:#1f77b4;\" x=\"79.449205\" xlink:href=\"#md897673cfc\" y=\"620.421761\"/>\r\n     <use style=\"fill:#1f77b4;stroke:#1f77b4;\" x=\"91.338523\" xlink:href=\"#md897673cfc\" y=\"620.421761\"/>\r\n     <use style=\"fill:#1f77b4;stroke:#1f77b4;\" x=\"103.227841\" xlink:href=\"#md897673cfc\" y=\"620.421761\"/>\r\n     <use style=\"fill:#1f77b4;stroke:#1f77b4;\" x=\"115.117159\" xlink:href=\"#md897673cfc\" y=\"620.421761\"/>\r\n     <use style=\"fill:#1f77b4;stroke:#1f77b4;\" x=\"127.006477\" xlink:href=\"#md897673cfc\" y=\"620.421761\"/>\r\n     <use style=\"fill:#1f77b4;stroke:#1f77b4;\" x=\"138.895795\" xlink:href=\"#md897673cfc\" y=\"620.421761\"/>\r\n     <use style=\"fill:#1f77b4;stroke:#1f77b4;\" x=\"150.785114\" xlink:href=\"#md897673cfc\" y=\"620.421761\"/>\r\n     <use style=\"fill:#1f77b4;stroke:#1f77b4;\" x=\"162.674432\" xlink:href=\"#md897673cfc\" y=\"620.421761\"/>\r\n     <use style=\"fill:#1f77b4;stroke:#1f77b4;\" x=\"174.56375\" xlink:href=\"#md897673cfc\" y=\"620.421761\"/>\r\n     <use style=\"fill:#1f77b4;stroke:#1f77b4;\" x=\"186.453068\" xlink:href=\"#md897673cfc\" y=\"620.421761\"/>\r\n     <use style=\"fill:#1f77b4;stroke:#1f77b4;\" x=\"198.342386\" xlink:href=\"#md897673cfc\" y=\"620.421761\"/>\r\n     <use style=\"fill:#1f77b4;stroke:#1f77b4;\" x=\"210.231705\" xlink:href=\"#md897673cfc\" y=\"620.421761\"/>\r\n     <use style=\"fill:#1f77b4;stroke:#1f77b4;\" x=\"222.121023\" xlink:href=\"#md897673cfc\" y=\"620.421761\"/>\r\n     <use style=\"fill:#1f77b4;stroke:#1f77b4;\" x=\"234.010341\" xlink:href=\"#md897673cfc\" y=\"620.421761\"/>\r\n     <use style=\"fill:#1f77b4;stroke:#1f77b4;\" x=\"245.899659\" xlink:href=\"#md897673cfc\" y=\"620.421761\"/>\r\n     <use style=\"fill:#1f77b4;stroke:#1f77b4;\" x=\"257.788977\" xlink:href=\"#md897673cfc\" y=\"620.421761\"/>\r\n     <use style=\"fill:#1f77b4;stroke:#1f77b4;\" x=\"269.678295\" xlink:href=\"#md897673cfc\" y=\"620.421761\"/>\r\n     <use style=\"fill:#1f77b4;stroke:#1f77b4;\" x=\"281.567614\" xlink:href=\"#md897673cfc\" y=\"620.421761\"/>\r\n     <use style=\"fill:#1f77b4;stroke:#1f77b4;\" x=\"293.456932\" xlink:href=\"#md897673cfc\" y=\"620.421761\"/>\r\n     <use style=\"fill:#1f77b4;stroke:#1f77b4;\" x=\"55.670568\" xlink:href=\"#md897673cfc\" y=\"608.578125\"/>\r\n     <use style=\"fill:#1f77b4;stroke:#1f77b4;\" x=\"67.559886\" xlink:href=\"#md897673cfc\" y=\"608.578125\"/>\r\n     <use style=\"fill:#1f77b4;stroke:#1f77b4;\" x=\"79.449205\" xlink:href=\"#md897673cfc\" y=\"608.578125\"/>\r\n     <use style=\"fill:#1f77b4;stroke:#1f77b4;\" x=\"91.338523\" xlink:href=\"#md897673cfc\" y=\"608.578125\"/>\r\n     <use style=\"fill:#1f77b4;stroke:#1f77b4;\" x=\"103.227841\" xlink:href=\"#md897673cfc\" y=\"608.578125\"/>\r\n     <use style=\"fill:#1f77b4;stroke:#1f77b4;\" x=\"115.117159\" xlink:href=\"#md897673cfc\" y=\"608.578125\"/>\r\n     <use style=\"fill:#1f77b4;stroke:#1f77b4;\" x=\"127.006477\" xlink:href=\"#md897673cfc\" y=\"608.578125\"/>\r\n     <use style=\"fill:#1f77b4;stroke:#1f77b4;\" x=\"138.895795\" xlink:href=\"#md897673cfc\" y=\"608.578125\"/>\r\n     <use style=\"fill:#1f77b4;stroke:#1f77b4;\" x=\"150.785114\" xlink:href=\"#md897673cfc\" y=\"608.578125\"/>\r\n     <use style=\"fill:#1f77b4;stroke:#1f77b4;\" x=\"162.674432\" xlink:href=\"#md897673cfc\" y=\"608.578125\"/>\r\n     <use style=\"fill:#1f77b4;stroke:#1f77b4;\" x=\"174.56375\" xlink:href=\"#md897673cfc\" y=\"608.578125\"/>\r\n     <use style=\"fill:#1f77b4;stroke:#1f77b4;\" x=\"186.453068\" xlink:href=\"#md897673cfc\" y=\"608.578125\"/>\r\n     <use style=\"fill:#1f77b4;stroke:#1f77b4;\" x=\"198.342386\" xlink:href=\"#md897673cfc\" y=\"608.578125\"/>\r\n     <use style=\"fill:#1f77b4;stroke:#1f77b4;\" x=\"210.231705\" xlink:href=\"#md897673cfc\" y=\"608.578125\"/>\r\n     <use style=\"fill:#1f77b4;stroke:#1f77b4;\" x=\"222.121023\" xlink:href=\"#md897673cfc\" y=\"608.578125\"/>\r\n     <use style=\"fill:#1f77b4;stroke:#1f77b4;\" x=\"234.010341\" xlink:href=\"#md897673cfc\" y=\"608.578125\"/>\r\n     <use style=\"fill:#1f77b4;stroke:#1f77b4;\" x=\"245.899659\" xlink:href=\"#md897673cfc\" y=\"608.578125\"/>\r\n     <use style=\"fill:#1f77b4;stroke:#1f77b4;\" x=\"257.788977\" xlink:href=\"#md897673cfc\" y=\"608.578125\"/>\r\n     <use style=\"fill:#1f77b4;stroke:#1f77b4;\" x=\"269.678295\" xlink:href=\"#md897673cfc\" y=\"608.578125\"/>\r\n     <use style=\"fill:#1f77b4;stroke:#1f77b4;\" x=\"281.567614\" xlink:href=\"#md897673cfc\" y=\"608.578125\"/>\r\n     <use style=\"fill:#1f77b4;stroke:#1f77b4;\" x=\"293.456932\" xlink:href=\"#md897673cfc\" y=\"608.578125\"/>\r\n     <use style=\"fill:#1f77b4;stroke:#1f77b4;\" x=\"55.670568\" xlink:href=\"#md897673cfc\" y=\"596.734489\"/>\r\n     <use style=\"fill:#1f77b4;stroke:#1f77b4;\" x=\"67.559886\" xlink:href=\"#md897673cfc\" y=\"596.734489\"/>\r\n     <use style=\"fill:#1f77b4;stroke:#1f77b4;\" x=\"79.449205\" xlink:href=\"#md897673cfc\" y=\"596.734489\"/>\r\n     <use style=\"fill:#1f77b4;stroke:#1f77b4;\" x=\"91.338523\" xlink:href=\"#md897673cfc\" y=\"596.734489\"/>\r\n     <use style=\"fill:#1f77b4;stroke:#1f77b4;\" x=\"103.227841\" xlink:href=\"#md897673cfc\" y=\"596.734489\"/>\r\n     <use style=\"fill:#1f77b4;stroke:#1f77b4;\" x=\"115.117159\" xlink:href=\"#md897673cfc\" y=\"596.734489\"/>\r\n     <use style=\"fill:#1f77b4;stroke:#1f77b4;\" x=\"127.006477\" xlink:href=\"#md897673cfc\" y=\"596.734489\"/>\r\n     <use style=\"fill:#1f77b4;stroke:#1f77b4;\" x=\"138.895795\" xlink:href=\"#md897673cfc\" y=\"596.734489\"/>\r\n     <use style=\"fill:#1f77b4;stroke:#1f77b4;\" x=\"150.785114\" xlink:href=\"#md897673cfc\" y=\"596.734489\"/>\r\n     <use style=\"fill:#1f77b4;stroke:#1f77b4;\" x=\"162.674432\" xlink:href=\"#md897673cfc\" y=\"596.734489\"/>\r\n     <use style=\"fill:#1f77b4;stroke:#1f77b4;\" x=\"174.56375\" xlink:href=\"#md897673cfc\" y=\"596.734489\"/>\r\n     <use style=\"fill:#1f77b4;stroke:#1f77b4;\" x=\"186.453068\" xlink:href=\"#md897673cfc\" y=\"596.734489\"/>\r\n     <use style=\"fill:#1f77b4;stroke:#1f77b4;\" x=\"198.342386\" xlink:href=\"#md897673cfc\" y=\"596.734489\"/>\r\n     <use style=\"fill:#1f77b4;stroke:#1f77b4;\" x=\"210.231705\" xlink:href=\"#md897673cfc\" y=\"596.734489\"/>\r\n     <use style=\"fill:#1f77b4;stroke:#1f77b4;\" x=\"222.121023\" xlink:href=\"#md897673cfc\" y=\"596.734489\"/>\r\n     <use style=\"fill:#1f77b4;stroke:#1f77b4;\" x=\"234.010341\" xlink:href=\"#md897673cfc\" y=\"596.734489\"/>\r\n     <use style=\"fill:#1f77b4;stroke:#1f77b4;\" x=\"245.899659\" xlink:href=\"#md897673cfc\" y=\"596.734489\"/>\r\n     <use style=\"fill:#1f77b4;stroke:#1f77b4;\" x=\"257.788977\" xlink:href=\"#md897673cfc\" y=\"596.734489\"/>\r\n     <use style=\"fill:#1f77b4;stroke:#1f77b4;\" x=\"269.678295\" xlink:href=\"#md897673cfc\" y=\"596.734489\"/>\r\n     <use style=\"fill:#1f77b4;stroke:#1f77b4;\" x=\"281.567614\" xlink:href=\"#md897673cfc\" y=\"596.734489\"/>\r\n     <use style=\"fill:#1f77b4;stroke:#1f77b4;\" x=\"293.456932\" xlink:href=\"#md897673cfc\" y=\"596.734489\"/>\r\n     <use style=\"fill:#1f77b4;stroke:#1f77b4;\" x=\"55.670568\" xlink:href=\"#md897673cfc\" y=\"584.890852\"/>\r\n     <use style=\"fill:#1f77b4;stroke:#1f77b4;\" x=\"67.559886\" xlink:href=\"#md897673cfc\" y=\"584.890852\"/>\r\n     <use style=\"fill:#1f77b4;stroke:#1f77b4;\" x=\"79.449205\" xlink:href=\"#md897673cfc\" y=\"584.890852\"/>\r\n     <use style=\"fill:#1f77b4;stroke:#1f77b4;\" x=\"91.338523\" xlink:href=\"#md897673cfc\" y=\"584.890852\"/>\r\n     <use style=\"fill:#1f77b4;stroke:#1f77b4;\" x=\"103.227841\" xlink:href=\"#md897673cfc\" y=\"584.890852\"/>\r\n     <use style=\"fill:#1f77b4;stroke:#1f77b4;\" x=\"115.117159\" xlink:href=\"#md897673cfc\" y=\"584.890852\"/>\r\n     <use style=\"fill:#1f77b4;stroke:#1f77b4;\" x=\"127.006477\" xlink:href=\"#md897673cfc\" y=\"584.890852\"/>\r\n     <use style=\"fill:#1f77b4;stroke:#1f77b4;\" x=\"138.895795\" xlink:href=\"#md897673cfc\" y=\"584.890852\"/>\r\n     <use style=\"fill:#1f77b4;stroke:#1f77b4;\" x=\"150.785114\" xlink:href=\"#md897673cfc\" y=\"584.890852\"/>\r\n     <use style=\"fill:#1f77b4;stroke:#1f77b4;\" x=\"162.674432\" xlink:href=\"#md897673cfc\" y=\"584.890852\"/>\r\n     <use style=\"fill:#1f77b4;stroke:#1f77b4;\" x=\"174.56375\" xlink:href=\"#md897673cfc\" y=\"584.890852\"/>\r\n     <use style=\"fill:#1f77b4;stroke:#1f77b4;\" x=\"186.453068\" xlink:href=\"#md897673cfc\" y=\"584.890852\"/>\r\n     <use style=\"fill:#1f77b4;stroke:#1f77b4;\" x=\"198.342386\" xlink:href=\"#md897673cfc\" y=\"584.890852\"/>\r\n     <use style=\"fill:#1f77b4;stroke:#1f77b4;\" x=\"210.231705\" xlink:href=\"#md897673cfc\" y=\"584.890852\"/>\r\n     <use style=\"fill:#1f77b4;stroke:#1f77b4;\" x=\"222.121023\" xlink:href=\"#md897673cfc\" y=\"584.890852\"/>\r\n     <use style=\"fill:#1f77b4;stroke:#1f77b4;\" x=\"234.010341\" xlink:href=\"#md897673cfc\" y=\"584.890852\"/>\r\n     <use style=\"fill:#1f77b4;stroke:#1f77b4;\" x=\"245.899659\" xlink:href=\"#md897673cfc\" y=\"584.890852\"/>\r\n     <use style=\"fill:#1f77b4;stroke:#1f77b4;\" x=\"257.788977\" xlink:href=\"#md897673cfc\" y=\"584.890852\"/>\r\n     <use style=\"fill:#1f77b4;stroke:#1f77b4;\" x=\"269.678295\" xlink:href=\"#md897673cfc\" y=\"584.890852\"/>\r\n     <use style=\"fill:#1f77b4;stroke:#1f77b4;\" x=\"281.567614\" xlink:href=\"#md897673cfc\" y=\"584.890852\"/>\r\n     <use style=\"fill:#1f77b4;stroke:#1f77b4;\" x=\"293.456932\" xlink:href=\"#md897673cfc\" y=\"584.890852\"/>\r\n     <use style=\"fill:#1f77b4;stroke:#1f77b4;\" x=\"55.670568\" xlink:href=\"#md897673cfc\" y=\"573.047216\"/>\r\n     <use style=\"fill:#1f77b4;stroke:#1f77b4;\" x=\"67.559886\" xlink:href=\"#md897673cfc\" y=\"573.047216\"/>\r\n     <use style=\"fill:#1f77b4;stroke:#1f77b4;\" x=\"79.449205\" xlink:href=\"#md897673cfc\" y=\"573.047216\"/>\r\n     <use style=\"fill:#1f77b4;stroke:#1f77b4;\" x=\"91.338523\" xlink:href=\"#md897673cfc\" y=\"573.047216\"/>\r\n     <use style=\"fill:#1f77b4;stroke:#1f77b4;\" x=\"103.227841\" xlink:href=\"#md897673cfc\" y=\"573.047216\"/>\r\n     <use style=\"fill:#1f77b4;stroke:#1f77b4;\" x=\"115.117159\" xlink:href=\"#md897673cfc\" y=\"573.047216\"/>\r\n     <use style=\"fill:#1f77b4;stroke:#1f77b4;\" x=\"127.006477\" xlink:href=\"#md897673cfc\" y=\"573.047216\"/>\r\n     <use style=\"fill:#1f77b4;stroke:#1f77b4;\" x=\"138.895795\" xlink:href=\"#md897673cfc\" y=\"573.047216\"/>\r\n     <use style=\"fill:#1f77b4;stroke:#1f77b4;\" x=\"150.785114\" xlink:href=\"#md897673cfc\" y=\"573.047216\"/>\r\n     <use style=\"fill:#1f77b4;stroke:#1f77b4;\" x=\"162.674432\" xlink:href=\"#md897673cfc\" y=\"573.047216\"/>\r\n     <use style=\"fill:#1f77b4;stroke:#1f77b4;\" x=\"174.56375\" xlink:href=\"#md897673cfc\" y=\"573.047216\"/>\r\n     <use style=\"fill:#1f77b4;stroke:#1f77b4;\" x=\"186.453068\" xlink:href=\"#md897673cfc\" y=\"573.047216\"/>\r\n     <use style=\"fill:#1f77b4;stroke:#1f77b4;\" x=\"198.342386\" xlink:href=\"#md897673cfc\" y=\"573.047216\"/>\r\n     <use style=\"fill:#1f77b4;stroke:#1f77b4;\" x=\"210.231705\" xlink:href=\"#md897673cfc\" y=\"573.047216\"/>\r\n     <use style=\"fill:#1f77b4;stroke:#1f77b4;\" x=\"222.121023\" xlink:href=\"#md897673cfc\" y=\"573.047216\"/>\r\n     <use style=\"fill:#1f77b4;stroke:#1f77b4;\" x=\"234.010341\" xlink:href=\"#md897673cfc\" y=\"573.047216\"/>\r\n     <use style=\"fill:#1f77b4;stroke:#1f77b4;\" x=\"245.899659\" xlink:href=\"#md897673cfc\" y=\"573.047216\"/>\r\n     <use style=\"fill:#1f77b4;stroke:#1f77b4;\" x=\"257.788977\" xlink:href=\"#md897673cfc\" y=\"573.047216\"/>\r\n     <use style=\"fill:#1f77b4;stroke:#1f77b4;\" x=\"269.678295\" xlink:href=\"#md897673cfc\" y=\"573.047216\"/>\r\n     <use style=\"fill:#1f77b4;stroke:#1f77b4;\" x=\"281.567614\" xlink:href=\"#md897673cfc\" y=\"573.047216\"/>\r\n     <use style=\"fill:#1f77b4;stroke:#1f77b4;\" x=\"293.456932\" xlink:href=\"#md897673cfc\" y=\"573.047216\"/>\r\n     <use style=\"fill:#1f77b4;stroke:#1f77b4;\" x=\"55.670568\" xlink:href=\"#md897673cfc\" y=\"561.20358\"/>\r\n     <use style=\"fill:#1f77b4;stroke:#1f77b4;\" x=\"67.559886\" xlink:href=\"#md897673cfc\" y=\"561.20358\"/>\r\n     <use style=\"fill:#1f77b4;stroke:#1f77b4;\" x=\"79.449205\" xlink:href=\"#md897673cfc\" y=\"561.20358\"/>\r\n     <use style=\"fill:#1f77b4;stroke:#1f77b4;\" x=\"91.338523\" xlink:href=\"#md897673cfc\" y=\"561.20358\"/>\r\n     <use style=\"fill:#1f77b4;stroke:#1f77b4;\" x=\"103.227841\" xlink:href=\"#md897673cfc\" y=\"561.20358\"/>\r\n     <use style=\"fill:#1f77b4;stroke:#1f77b4;\" x=\"115.117159\" xlink:href=\"#md897673cfc\" y=\"561.20358\"/>\r\n     <use style=\"fill:#1f77b4;stroke:#1f77b4;\" x=\"127.006477\" xlink:href=\"#md897673cfc\" y=\"561.20358\"/>\r\n     <use style=\"fill:#1f77b4;stroke:#1f77b4;\" x=\"138.895795\" xlink:href=\"#md897673cfc\" y=\"561.20358\"/>\r\n     <use style=\"fill:#1f77b4;stroke:#1f77b4;\" x=\"150.785114\" xlink:href=\"#md897673cfc\" y=\"561.20358\"/>\r\n     <use style=\"fill:#1f77b4;stroke:#1f77b4;\" x=\"162.674432\" xlink:href=\"#md897673cfc\" y=\"561.20358\"/>\r\n     <use style=\"fill:#1f77b4;stroke:#1f77b4;\" x=\"174.56375\" xlink:href=\"#md897673cfc\" y=\"561.20358\"/>\r\n     <use style=\"fill:#1f77b4;stroke:#1f77b4;\" x=\"186.453068\" xlink:href=\"#md897673cfc\" y=\"561.20358\"/>\r\n     <use style=\"fill:#1f77b4;stroke:#1f77b4;\" x=\"198.342386\" xlink:href=\"#md897673cfc\" y=\"561.20358\"/>\r\n     <use style=\"fill:#1f77b4;stroke:#1f77b4;\" x=\"210.231705\" xlink:href=\"#md897673cfc\" y=\"561.20358\"/>\r\n     <use style=\"fill:#1f77b4;stroke:#1f77b4;\" x=\"222.121023\" xlink:href=\"#md897673cfc\" y=\"561.20358\"/>\r\n     <use style=\"fill:#1f77b4;stroke:#1f77b4;\" x=\"234.010341\" xlink:href=\"#md897673cfc\" y=\"561.20358\"/>\r\n     <use style=\"fill:#1f77b4;stroke:#1f77b4;\" x=\"245.899659\" xlink:href=\"#md897673cfc\" y=\"561.20358\"/>\r\n     <use style=\"fill:#1f77b4;stroke:#1f77b4;\" x=\"257.788977\" xlink:href=\"#md897673cfc\" y=\"561.20358\"/>\r\n     <use style=\"fill:#1f77b4;stroke:#1f77b4;\" x=\"269.678295\" xlink:href=\"#md897673cfc\" y=\"561.20358\"/>\r\n     <use style=\"fill:#1f77b4;stroke:#1f77b4;\" x=\"281.567614\" xlink:href=\"#md897673cfc\" y=\"561.20358\"/>\r\n     <use style=\"fill:#1f77b4;stroke:#1f77b4;\" x=\"293.456932\" xlink:href=\"#md897673cfc\" y=\"561.20358\"/>\r\n     <use style=\"fill:#1f77b4;stroke:#1f77b4;\" x=\"55.670568\" xlink:href=\"#md897673cfc\" y=\"549.359943\"/>\r\n     <use style=\"fill:#1f77b4;stroke:#1f77b4;\" x=\"67.559886\" xlink:href=\"#md897673cfc\" y=\"549.359943\"/>\r\n     <use style=\"fill:#1f77b4;stroke:#1f77b4;\" x=\"79.449205\" xlink:href=\"#md897673cfc\" y=\"549.359943\"/>\r\n     <use style=\"fill:#1f77b4;stroke:#1f77b4;\" x=\"91.338523\" xlink:href=\"#md897673cfc\" y=\"549.359943\"/>\r\n     <use style=\"fill:#1f77b4;stroke:#1f77b4;\" x=\"103.227841\" xlink:href=\"#md897673cfc\" y=\"549.359943\"/>\r\n     <use style=\"fill:#1f77b4;stroke:#1f77b4;\" x=\"115.117159\" xlink:href=\"#md897673cfc\" y=\"549.359943\"/>\r\n     <use style=\"fill:#1f77b4;stroke:#1f77b4;\" x=\"127.006477\" xlink:href=\"#md897673cfc\" y=\"549.359943\"/>\r\n     <use style=\"fill:#1f77b4;stroke:#1f77b4;\" x=\"138.895795\" xlink:href=\"#md897673cfc\" y=\"549.359943\"/>\r\n     <use style=\"fill:#1f77b4;stroke:#1f77b4;\" x=\"150.785114\" xlink:href=\"#md897673cfc\" y=\"549.359943\"/>\r\n     <use style=\"fill:#1f77b4;stroke:#1f77b4;\" x=\"162.674432\" xlink:href=\"#md897673cfc\" y=\"549.359943\"/>\r\n     <use style=\"fill:#1f77b4;stroke:#1f77b4;\" x=\"174.56375\" xlink:href=\"#md897673cfc\" y=\"549.359943\"/>\r\n     <use style=\"fill:#1f77b4;stroke:#1f77b4;\" x=\"186.453068\" xlink:href=\"#md897673cfc\" y=\"549.359943\"/>\r\n     <use style=\"fill:#1f77b4;stroke:#1f77b4;\" x=\"198.342386\" xlink:href=\"#md897673cfc\" y=\"549.359943\"/>\r\n     <use style=\"fill:#1f77b4;stroke:#1f77b4;\" x=\"210.231705\" xlink:href=\"#md897673cfc\" y=\"549.359943\"/>\r\n     <use style=\"fill:#1f77b4;stroke:#1f77b4;\" x=\"222.121023\" xlink:href=\"#md897673cfc\" y=\"549.359943\"/>\r\n     <use style=\"fill:#1f77b4;stroke:#1f77b4;\" x=\"234.010341\" xlink:href=\"#md897673cfc\" y=\"549.359943\"/>\r\n     <use style=\"fill:#1f77b4;stroke:#1f77b4;\" x=\"245.899659\" xlink:href=\"#md897673cfc\" y=\"549.359943\"/>\r\n     <use style=\"fill:#1f77b4;stroke:#1f77b4;\" x=\"257.788977\" xlink:href=\"#md897673cfc\" y=\"549.359943\"/>\r\n     <use style=\"fill:#1f77b4;stroke:#1f77b4;\" x=\"269.678295\" xlink:href=\"#md897673cfc\" y=\"549.359943\"/>\r\n     <use style=\"fill:#1f77b4;stroke:#1f77b4;\" x=\"281.567614\" xlink:href=\"#md897673cfc\" y=\"549.359943\"/>\r\n     <use style=\"fill:#1f77b4;stroke:#1f77b4;\" x=\"293.456932\" xlink:href=\"#md897673cfc\" y=\"549.359943\"/>\r\n     <use style=\"fill:#1f77b4;stroke:#1f77b4;\" x=\"55.670568\" xlink:href=\"#md897673cfc\" y=\"537.516307\"/>\r\n     <use style=\"fill:#1f77b4;stroke:#1f77b4;\" x=\"67.559886\" xlink:href=\"#md897673cfc\" y=\"537.516307\"/>\r\n     <use style=\"fill:#1f77b4;stroke:#1f77b4;\" x=\"79.449205\" xlink:href=\"#md897673cfc\" y=\"537.516307\"/>\r\n     <use style=\"fill:#1f77b4;stroke:#1f77b4;\" x=\"91.338523\" xlink:href=\"#md897673cfc\" y=\"537.516307\"/>\r\n     <use style=\"fill:#1f77b4;stroke:#1f77b4;\" x=\"103.227841\" xlink:href=\"#md897673cfc\" y=\"537.516307\"/>\r\n     <use style=\"fill:#1f77b4;stroke:#1f77b4;\" x=\"115.117159\" xlink:href=\"#md897673cfc\" y=\"537.516307\"/>\r\n     <use style=\"fill:#1f77b4;stroke:#1f77b4;\" x=\"127.006477\" xlink:href=\"#md897673cfc\" y=\"537.516307\"/>\r\n     <use style=\"fill:#1f77b4;stroke:#1f77b4;\" x=\"138.895795\" xlink:href=\"#md897673cfc\" y=\"537.516307\"/>\r\n     <use style=\"fill:#1f77b4;stroke:#1f77b4;\" x=\"150.785114\" xlink:href=\"#md897673cfc\" y=\"537.516307\"/>\r\n     <use style=\"fill:#1f77b4;stroke:#1f77b4;\" x=\"162.674432\" xlink:href=\"#md897673cfc\" y=\"537.516307\"/>\r\n     <use style=\"fill:#1f77b4;stroke:#1f77b4;\" x=\"174.56375\" xlink:href=\"#md897673cfc\" y=\"537.516307\"/>\r\n     <use style=\"fill:#1f77b4;stroke:#1f77b4;\" x=\"186.453068\" xlink:href=\"#md897673cfc\" y=\"537.516307\"/>\r\n     <use style=\"fill:#1f77b4;stroke:#1f77b4;\" x=\"198.342386\" xlink:href=\"#md897673cfc\" y=\"537.516307\"/>\r\n     <use style=\"fill:#1f77b4;stroke:#1f77b4;\" x=\"210.231705\" xlink:href=\"#md897673cfc\" y=\"537.516307\"/>\r\n     <use style=\"fill:#1f77b4;stroke:#1f77b4;\" x=\"222.121023\" xlink:href=\"#md897673cfc\" y=\"537.516307\"/>\r\n     <use style=\"fill:#1f77b4;stroke:#1f77b4;\" x=\"234.010341\" xlink:href=\"#md897673cfc\" y=\"537.516307\"/>\r\n     <use style=\"fill:#1f77b4;stroke:#1f77b4;\" x=\"245.899659\" xlink:href=\"#md897673cfc\" y=\"537.516307\"/>\r\n     <use style=\"fill:#1f77b4;stroke:#1f77b4;\" x=\"257.788977\" xlink:href=\"#md897673cfc\" y=\"537.516307\"/>\r\n     <use style=\"fill:#1f77b4;stroke:#1f77b4;\" x=\"269.678295\" xlink:href=\"#md897673cfc\" y=\"537.516307\"/>\r\n     <use style=\"fill:#1f77b4;stroke:#1f77b4;\" x=\"281.567614\" xlink:href=\"#md897673cfc\" y=\"537.516307\"/>\r\n     <use style=\"fill:#1f77b4;stroke:#1f77b4;\" x=\"293.456932\" xlink:href=\"#md897673cfc\" y=\"537.516307\"/>\r\n     <use style=\"fill:#1f77b4;stroke:#1f77b4;\" x=\"55.670568\" xlink:href=\"#md897673cfc\" y=\"525.67267\"/>\r\n     <use style=\"fill:#1f77b4;stroke:#1f77b4;\" x=\"67.559886\" xlink:href=\"#md897673cfc\" y=\"525.67267\"/>\r\n     <use style=\"fill:#1f77b4;stroke:#1f77b4;\" x=\"79.449205\" xlink:href=\"#md897673cfc\" y=\"525.67267\"/>\r\n     <use style=\"fill:#1f77b4;stroke:#1f77b4;\" x=\"91.338523\" xlink:href=\"#md897673cfc\" y=\"525.67267\"/>\r\n     <use style=\"fill:#1f77b4;stroke:#1f77b4;\" x=\"103.227841\" xlink:href=\"#md897673cfc\" y=\"525.67267\"/>\r\n     <use style=\"fill:#1f77b4;stroke:#1f77b4;\" x=\"115.117159\" xlink:href=\"#md897673cfc\" y=\"525.67267\"/>\r\n     <use style=\"fill:#1f77b4;stroke:#1f77b4;\" x=\"127.006477\" xlink:href=\"#md897673cfc\" y=\"525.67267\"/>\r\n     <use style=\"fill:#1f77b4;stroke:#1f77b4;\" x=\"138.895795\" xlink:href=\"#md897673cfc\" y=\"525.67267\"/>\r\n     <use style=\"fill:#1f77b4;stroke:#1f77b4;\" x=\"150.785114\" xlink:href=\"#md897673cfc\" y=\"525.67267\"/>\r\n     <use style=\"fill:#1f77b4;stroke:#1f77b4;\" x=\"162.674432\" xlink:href=\"#md897673cfc\" y=\"525.67267\"/>\r\n     <use style=\"fill:#1f77b4;stroke:#1f77b4;\" x=\"174.56375\" xlink:href=\"#md897673cfc\" y=\"525.67267\"/>\r\n     <use style=\"fill:#1f77b4;stroke:#1f77b4;\" x=\"186.453068\" xlink:href=\"#md897673cfc\" y=\"525.67267\"/>\r\n     <use style=\"fill:#1f77b4;stroke:#1f77b4;\" x=\"198.342386\" xlink:href=\"#md897673cfc\" y=\"525.67267\"/>\r\n     <use style=\"fill:#1f77b4;stroke:#1f77b4;\" x=\"210.231705\" xlink:href=\"#md897673cfc\" y=\"525.67267\"/>\r\n     <use style=\"fill:#1f77b4;stroke:#1f77b4;\" x=\"222.121023\" xlink:href=\"#md897673cfc\" y=\"525.67267\"/>\r\n     <use style=\"fill:#1f77b4;stroke:#1f77b4;\" x=\"234.010341\" xlink:href=\"#md897673cfc\" y=\"525.67267\"/>\r\n     <use style=\"fill:#1f77b4;stroke:#1f77b4;\" x=\"245.899659\" xlink:href=\"#md897673cfc\" y=\"525.67267\"/>\r\n     <use style=\"fill:#1f77b4;stroke:#1f77b4;\" x=\"257.788977\" xlink:href=\"#md897673cfc\" y=\"525.67267\"/>\r\n     <use style=\"fill:#1f77b4;stroke:#1f77b4;\" x=\"269.678295\" xlink:href=\"#md897673cfc\" y=\"525.67267\"/>\r\n     <use style=\"fill:#1f77b4;stroke:#1f77b4;\" x=\"281.567614\" xlink:href=\"#md897673cfc\" y=\"525.67267\"/>\r\n     <use style=\"fill:#1f77b4;stroke:#1f77b4;\" x=\"293.456932\" xlink:href=\"#md897673cfc\" y=\"525.67267\"/>\r\n     <use style=\"fill:#1f77b4;stroke:#1f77b4;\" x=\"55.670568\" xlink:href=\"#md897673cfc\" y=\"513.829034\"/>\r\n     <use style=\"fill:#1f77b4;stroke:#1f77b4;\" x=\"67.559886\" xlink:href=\"#md897673cfc\" y=\"513.829034\"/>\r\n     <use style=\"fill:#1f77b4;stroke:#1f77b4;\" x=\"79.449205\" xlink:href=\"#md897673cfc\" y=\"513.829034\"/>\r\n     <use style=\"fill:#1f77b4;stroke:#1f77b4;\" x=\"91.338523\" xlink:href=\"#md897673cfc\" y=\"513.829034\"/>\r\n     <use style=\"fill:#1f77b4;stroke:#1f77b4;\" x=\"103.227841\" xlink:href=\"#md897673cfc\" y=\"513.829034\"/>\r\n     <use style=\"fill:#1f77b4;stroke:#1f77b4;\" x=\"115.117159\" xlink:href=\"#md897673cfc\" y=\"513.829034\"/>\r\n     <use style=\"fill:#1f77b4;stroke:#1f77b4;\" x=\"127.006477\" xlink:href=\"#md897673cfc\" y=\"513.829034\"/>\r\n     <use style=\"fill:#1f77b4;stroke:#1f77b4;\" x=\"138.895795\" xlink:href=\"#md897673cfc\" y=\"513.829034\"/>\r\n     <use style=\"fill:#1f77b4;stroke:#1f77b4;\" x=\"150.785114\" xlink:href=\"#md897673cfc\" y=\"513.829034\"/>\r\n     <use style=\"fill:#1f77b4;stroke:#1f77b4;\" x=\"162.674432\" xlink:href=\"#md897673cfc\" y=\"513.829034\"/>\r\n     <use style=\"fill:#1f77b4;stroke:#1f77b4;\" x=\"174.56375\" xlink:href=\"#md897673cfc\" y=\"513.829034\"/>\r\n     <use style=\"fill:#1f77b4;stroke:#1f77b4;\" x=\"186.453068\" xlink:href=\"#md897673cfc\" y=\"513.829034\"/>\r\n     <use style=\"fill:#1f77b4;stroke:#1f77b4;\" x=\"198.342386\" xlink:href=\"#md897673cfc\" y=\"513.829034\"/>\r\n     <use style=\"fill:#1f77b4;stroke:#1f77b4;\" x=\"210.231705\" xlink:href=\"#md897673cfc\" y=\"513.829034\"/>\r\n     <use style=\"fill:#1f77b4;stroke:#1f77b4;\" x=\"222.121023\" xlink:href=\"#md897673cfc\" y=\"513.829034\"/>\r\n     <use style=\"fill:#1f77b4;stroke:#1f77b4;\" x=\"234.010341\" xlink:href=\"#md897673cfc\" y=\"513.829034\"/>\r\n     <use style=\"fill:#1f77b4;stroke:#1f77b4;\" x=\"245.899659\" xlink:href=\"#md897673cfc\" y=\"513.829034\"/>\r\n     <use style=\"fill:#1f77b4;stroke:#1f77b4;\" x=\"257.788977\" xlink:href=\"#md897673cfc\" y=\"513.829034\"/>\r\n     <use style=\"fill:#1f77b4;stroke:#1f77b4;\" x=\"269.678295\" xlink:href=\"#md897673cfc\" y=\"513.829034\"/>\r\n     <use style=\"fill:#1f77b4;stroke:#1f77b4;\" x=\"281.567614\" xlink:href=\"#md897673cfc\" y=\"513.829034\"/>\r\n     <use style=\"fill:#1f77b4;stroke:#1f77b4;\" x=\"293.456932\" xlink:href=\"#md897673cfc\" y=\"513.829034\"/>\r\n     <use style=\"fill:#1f77b4;stroke:#1f77b4;\" x=\"55.670568\" xlink:href=\"#md897673cfc\" y=\"501.985398\"/>\r\n     <use style=\"fill:#1f77b4;stroke:#1f77b4;\" x=\"67.559886\" xlink:href=\"#md897673cfc\" y=\"501.985398\"/>\r\n     <use style=\"fill:#1f77b4;stroke:#1f77b4;\" x=\"79.449205\" xlink:href=\"#md897673cfc\" y=\"501.985398\"/>\r\n     <use style=\"fill:#1f77b4;stroke:#1f77b4;\" x=\"91.338523\" xlink:href=\"#md897673cfc\" y=\"501.985398\"/>\r\n     <use style=\"fill:#1f77b4;stroke:#1f77b4;\" x=\"103.227841\" xlink:href=\"#md897673cfc\" y=\"501.985398\"/>\r\n     <use style=\"fill:#1f77b4;stroke:#1f77b4;\" x=\"115.117159\" xlink:href=\"#md897673cfc\" y=\"501.985398\"/>\r\n     <use style=\"fill:#1f77b4;stroke:#1f77b4;\" x=\"127.006477\" xlink:href=\"#md897673cfc\" y=\"501.985398\"/>\r\n     <use style=\"fill:#1f77b4;stroke:#1f77b4;\" x=\"138.895795\" xlink:href=\"#md897673cfc\" y=\"501.985398\"/>\r\n     <use style=\"fill:#1f77b4;stroke:#1f77b4;\" x=\"150.785114\" xlink:href=\"#md897673cfc\" y=\"501.985398\"/>\r\n     <use style=\"fill:#1f77b4;stroke:#1f77b4;\" x=\"162.674432\" xlink:href=\"#md897673cfc\" y=\"501.985398\"/>\r\n     <use style=\"fill:#1f77b4;stroke:#1f77b4;\" x=\"174.56375\" xlink:href=\"#md897673cfc\" y=\"501.985398\"/>\r\n     <use style=\"fill:#1f77b4;stroke:#1f77b4;\" x=\"186.453068\" xlink:href=\"#md897673cfc\" y=\"501.985398\"/>\r\n     <use style=\"fill:#1f77b4;stroke:#1f77b4;\" x=\"198.342386\" xlink:href=\"#md897673cfc\" y=\"501.985398\"/>\r\n     <use style=\"fill:#1f77b4;stroke:#1f77b4;\" x=\"210.231705\" xlink:href=\"#md897673cfc\" y=\"501.985398\"/>\r\n     <use style=\"fill:#1f77b4;stroke:#1f77b4;\" x=\"222.121023\" xlink:href=\"#md897673cfc\" y=\"501.985398\"/>\r\n     <use style=\"fill:#1f77b4;stroke:#1f77b4;\" x=\"234.010341\" xlink:href=\"#md897673cfc\" y=\"501.985398\"/>\r\n     <use style=\"fill:#1f77b4;stroke:#1f77b4;\" x=\"245.899659\" xlink:href=\"#md897673cfc\" y=\"501.985398\"/>\r\n     <use style=\"fill:#1f77b4;stroke:#1f77b4;\" x=\"257.788977\" xlink:href=\"#md897673cfc\" y=\"501.985398\"/>\r\n     <use style=\"fill:#1f77b4;stroke:#1f77b4;\" x=\"269.678295\" xlink:href=\"#md897673cfc\" y=\"501.985398\"/>\r\n     <use style=\"fill:#1f77b4;stroke:#1f77b4;\" x=\"281.567614\" xlink:href=\"#md897673cfc\" y=\"501.985398\"/>\r\n     <use style=\"fill:#1f77b4;stroke:#1f77b4;\" x=\"293.456932\" xlink:href=\"#md897673cfc\" y=\"501.985398\"/>\r\n     <use style=\"fill:#1f77b4;stroke:#1f77b4;\" x=\"55.670568\" xlink:href=\"#md897673cfc\" y=\"490.141761\"/>\r\n     <use style=\"fill:#1f77b4;stroke:#1f77b4;\" x=\"67.559886\" xlink:href=\"#md897673cfc\" y=\"490.141761\"/>\r\n     <use style=\"fill:#1f77b4;stroke:#1f77b4;\" x=\"79.449205\" xlink:href=\"#md897673cfc\" y=\"490.141761\"/>\r\n     <use style=\"fill:#1f77b4;stroke:#1f77b4;\" x=\"91.338523\" xlink:href=\"#md897673cfc\" y=\"490.141761\"/>\r\n     <use style=\"fill:#1f77b4;stroke:#1f77b4;\" x=\"103.227841\" xlink:href=\"#md897673cfc\" y=\"490.141761\"/>\r\n     <use style=\"fill:#1f77b4;stroke:#1f77b4;\" x=\"115.117159\" xlink:href=\"#md897673cfc\" y=\"490.141761\"/>\r\n     <use style=\"fill:#1f77b4;stroke:#1f77b4;\" x=\"127.006477\" xlink:href=\"#md897673cfc\" y=\"490.141761\"/>\r\n     <use style=\"fill:#1f77b4;stroke:#1f77b4;\" x=\"138.895795\" xlink:href=\"#md897673cfc\" y=\"490.141761\"/>\r\n     <use style=\"fill:#1f77b4;stroke:#1f77b4;\" x=\"150.785114\" xlink:href=\"#md897673cfc\" y=\"490.141761\"/>\r\n     <use style=\"fill:#1f77b4;stroke:#1f77b4;\" x=\"162.674432\" xlink:href=\"#md897673cfc\" y=\"490.141761\"/>\r\n     <use style=\"fill:#1f77b4;stroke:#1f77b4;\" x=\"174.56375\" xlink:href=\"#md897673cfc\" y=\"490.141761\"/>\r\n     <use style=\"fill:#1f77b4;stroke:#1f77b4;\" x=\"186.453068\" xlink:href=\"#md897673cfc\" y=\"490.141761\"/>\r\n     <use style=\"fill:#1f77b4;stroke:#1f77b4;\" x=\"198.342386\" xlink:href=\"#md897673cfc\" y=\"490.141761\"/>\r\n     <use style=\"fill:#1f77b4;stroke:#1f77b4;\" x=\"210.231705\" xlink:href=\"#md897673cfc\" y=\"490.141761\"/>\r\n     <use style=\"fill:#1f77b4;stroke:#1f77b4;\" x=\"222.121023\" xlink:href=\"#md897673cfc\" y=\"490.141761\"/>\r\n     <use style=\"fill:#1f77b4;stroke:#1f77b4;\" x=\"234.010341\" xlink:href=\"#md897673cfc\" y=\"490.141761\"/>\r\n     <use style=\"fill:#1f77b4;stroke:#1f77b4;\" x=\"245.899659\" xlink:href=\"#md897673cfc\" y=\"490.141761\"/>\r\n     <use style=\"fill:#1f77b4;stroke:#1f77b4;\" x=\"257.788977\" xlink:href=\"#md897673cfc\" y=\"490.141761\"/>\r\n     <use style=\"fill:#1f77b4;stroke:#1f77b4;\" x=\"269.678295\" xlink:href=\"#md897673cfc\" y=\"490.141761\"/>\r\n     <use style=\"fill:#1f77b4;stroke:#1f77b4;\" x=\"281.567614\" xlink:href=\"#md897673cfc\" y=\"490.141761\"/>\r\n     <use style=\"fill:#1f77b4;stroke:#1f77b4;\" x=\"293.456932\" xlink:href=\"#md897673cfc\" y=\"490.141761\"/>\r\n     <use style=\"fill:#1f77b4;stroke:#1f77b4;\" x=\"55.670568\" xlink:href=\"#md897673cfc\" y=\"478.298125\"/>\r\n     <use style=\"fill:#1f77b4;stroke:#1f77b4;\" x=\"67.559886\" xlink:href=\"#md897673cfc\" y=\"478.298125\"/>\r\n     <use style=\"fill:#1f77b4;stroke:#1f77b4;\" x=\"79.449205\" xlink:href=\"#md897673cfc\" y=\"478.298125\"/>\r\n     <use style=\"fill:#1f77b4;stroke:#1f77b4;\" x=\"91.338523\" xlink:href=\"#md897673cfc\" y=\"478.298125\"/>\r\n     <use style=\"fill:#1f77b4;stroke:#1f77b4;\" x=\"103.227841\" xlink:href=\"#md897673cfc\" y=\"478.298125\"/>\r\n     <use style=\"fill:#1f77b4;stroke:#1f77b4;\" x=\"115.117159\" xlink:href=\"#md897673cfc\" y=\"478.298125\"/>\r\n     <use style=\"fill:#1f77b4;stroke:#1f77b4;\" x=\"127.006477\" xlink:href=\"#md897673cfc\" y=\"478.298125\"/>\r\n     <use style=\"fill:#1f77b4;stroke:#1f77b4;\" x=\"138.895795\" xlink:href=\"#md897673cfc\" y=\"478.298125\"/>\r\n     <use style=\"fill:#1f77b4;stroke:#1f77b4;\" x=\"150.785114\" xlink:href=\"#md897673cfc\" y=\"478.298125\"/>\r\n     <use style=\"fill:#1f77b4;stroke:#1f77b4;\" x=\"162.674432\" xlink:href=\"#md897673cfc\" y=\"478.298125\"/>\r\n     <use style=\"fill:#1f77b4;stroke:#1f77b4;\" x=\"174.56375\" xlink:href=\"#md897673cfc\" y=\"478.298125\"/>\r\n     <use style=\"fill:#1f77b4;stroke:#1f77b4;\" x=\"186.453068\" xlink:href=\"#md897673cfc\" y=\"478.298125\"/>\r\n     <use style=\"fill:#1f77b4;stroke:#1f77b4;\" x=\"198.342386\" xlink:href=\"#md897673cfc\" y=\"478.298125\"/>\r\n     <use style=\"fill:#1f77b4;stroke:#1f77b4;\" x=\"210.231705\" xlink:href=\"#md897673cfc\" y=\"478.298125\"/>\r\n     <use style=\"fill:#1f77b4;stroke:#1f77b4;\" x=\"222.121023\" xlink:href=\"#md897673cfc\" y=\"478.298125\"/>\r\n     <use style=\"fill:#1f77b4;stroke:#1f77b4;\" x=\"234.010341\" xlink:href=\"#md897673cfc\" y=\"478.298125\"/>\r\n     <use style=\"fill:#1f77b4;stroke:#1f77b4;\" x=\"245.899659\" xlink:href=\"#md897673cfc\" y=\"478.298125\"/>\r\n     <use style=\"fill:#1f77b4;stroke:#1f77b4;\" x=\"257.788977\" xlink:href=\"#md897673cfc\" y=\"478.298125\"/>\r\n     <use style=\"fill:#1f77b4;stroke:#1f77b4;\" x=\"269.678295\" xlink:href=\"#md897673cfc\" y=\"478.298125\"/>\r\n     <use style=\"fill:#1f77b4;stroke:#1f77b4;\" x=\"281.567614\" xlink:href=\"#md897673cfc\" y=\"478.298125\"/>\r\n     <use style=\"fill:#1f77b4;stroke:#1f77b4;\" x=\"293.456932\" xlink:href=\"#md897673cfc\" y=\"478.298125\"/>\r\n     <use style=\"fill:#1f77b4;stroke:#1f77b4;\" x=\"55.670568\" xlink:href=\"#md897673cfc\" y=\"466.454489\"/>\r\n     <use style=\"fill:#1f77b4;stroke:#1f77b4;\" x=\"67.559886\" xlink:href=\"#md897673cfc\" y=\"466.454489\"/>\r\n     <use style=\"fill:#1f77b4;stroke:#1f77b4;\" x=\"79.449205\" xlink:href=\"#md897673cfc\" y=\"466.454489\"/>\r\n     <use style=\"fill:#1f77b4;stroke:#1f77b4;\" x=\"91.338523\" xlink:href=\"#md897673cfc\" y=\"466.454489\"/>\r\n     <use style=\"fill:#1f77b4;stroke:#1f77b4;\" x=\"103.227841\" xlink:href=\"#md897673cfc\" y=\"466.454489\"/>\r\n     <use style=\"fill:#1f77b4;stroke:#1f77b4;\" x=\"115.117159\" xlink:href=\"#md897673cfc\" y=\"466.454489\"/>\r\n     <use style=\"fill:#1f77b4;stroke:#1f77b4;\" x=\"127.006477\" xlink:href=\"#md897673cfc\" y=\"466.454489\"/>\r\n     <use style=\"fill:#1f77b4;stroke:#1f77b4;\" x=\"138.895795\" xlink:href=\"#md897673cfc\" y=\"466.454489\"/>\r\n     <use style=\"fill:#1f77b4;stroke:#1f77b4;\" x=\"150.785114\" xlink:href=\"#md897673cfc\" y=\"466.454489\"/>\r\n     <use style=\"fill:#1f77b4;stroke:#1f77b4;\" x=\"162.674432\" xlink:href=\"#md897673cfc\" y=\"466.454489\"/>\r\n     <use style=\"fill:#1f77b4;stroke:#1f77b4;\" x=\"174.56375\" xlink:href=\"#md897673cfc\" y=\"466.454489\"/>\r\n     <use style=\"fill:#1f77b4;stroke:#1f77b4;\" x=\"186.453068\" xlink:href=\"#md897673cfc\" y=\"466.454489\"/>\r\n     <use style=\"fill:#1f77b4;stroke:#1f77b4;\" x=\"198.342386\" xlink:href=\"#md897673cfc\" y=\"466.454489\"/>\r\n     <use style=\"fill:#1f77b4;stroke:#1f77b4;\" x=\"210.231705\" xlink:href=\"#md897673cfc\" y=\"466.454489\"/>\r\n     <use style=\"fill:#1f77b4;stroke:#1f77b4;\" x=\"222.121023\" xlink:href=\"#md897673cfc\" y=\"466.454489\"/>\r\n     <use style=\"fill:#1f77b4;stroke:#1f77b4;\" x=\"234.010341\" xlink:href=\"#md897673cfc\" y=\"466.454489\"/>\r\n     <use style=\"fill:#1f77b4;stroke:#1f77b4;\" x=\"245.899659\" xlink:href=\"#md897673cfc\" y=\"466.454489\"/>\r\n     <use style=\"fill:#1f77b4;stroke:#1f77b4;\" x=\"257.788977\" xlink:href=\"#md897673cfc\" y=\"466.454489\"/>\r\n     <use style=\"fill:#1f77b4;stroke:#1f77b4;\" x=\"269.678295\" xlink:href=\"#md897673cfc\" y=\"466.454489\"/>\r\n     <use style=\"fill:#1f77b4;stroke:#1f77b4;\" x=\"281.567614\" xlink:href=\"#md897673cfc\" y=\"466.454489\"/>\r\n     <use style=\"fill:#1f77b4;stroke:#1f77b4;\" x=\"293.456932\" xlink:href=\"#md897673cfc\" y=\"466.454489\"/>\r\n     <use style=\"fill:#1f77b4;stroke:#1f77b4;\" x=\"55.670568\" xlink:href=\"#md897673cfc\" y=\"454.610852\"/>\r\n     <use style=\"fill:#1f77b4;stroke:#1f77b4;\" x=\"67.559886\" xlink:href=\"#md897673cfc\" y=\"454.610852\"/>\r\n     <use style=\"fill:#1f77b4;stroke:#1f77b4;\" x=\"79.449205\" xlink:href=\"#md897673cfc\" y=\"454.610852\"/>\r\n     <use style=\"fill:#1f77b4;stroke:#1f77b4;\" x=\"91.338523\" xlink:href=\"#md897673cfc\" y=\"454.610852\"/>\r\n     <use style=\"fill:#1f77b4;stroke:#1f77b4;\" x=\"103.227841\" xlink:href=\"#md897673cfc\" y=\"454.610852\"/>\r\n     <use style=\"fill:#1f77b4;stroke:#1f77b4;\" x=\"115.117159\" xlink:href=\"#md897673cfc\" y=\"454.610852\"/>\r\n     <use style=\"fill:#1f77b4;stroke:#1f77b4;\" x=\"127.006477\" xlink:href=\"#md897673cfc\" y=\"454.610852\"/>\r\n     <use style=\"fill:#1f77b4;stroke:#1f77b4;\" x=\"138.895795\" xlink:href=\"#md897673cfc\" y=\"454.610852\"/>\r\n     <use style=\"fill:#1f77b4;stroke:#1f77b4;\" x=\"150.785114\" xlink:href=\"#md897673cfc\" y=\"454.610852\"/>\r\n     <use style=\"fill:#1f77b4;stroke:#1f77b4;\" x=\"162.674432\" xlink:href=\"#md897673cfc\" y=\"454.610852\"/>\r\n     <use style=\"fill:#1f77b4;stroke:#1f77b4;\" x=\"174.56375\" xlink:href=\"#md897673cfc\" y=\"454.610852\"/>\r\n     <use style=\"fill:#1f77b4;stroke:#1f77b4;\" x=\"186.453068\" xlink:href=\"#md897673cfc\" y=\"454.610852\"/>\r\n     <use style=\"fill:#1f77b4;stroke:#1f77b4;\" x=\"198.342386\" xlink:href=\"#md897673cfc\" y=\"454.610852\"/>\r\n     <use style=\"fill:#1f77b4;stroke:#1f77b4;\" x=\"210.231705\" xlink:href=\"#md897673cfc\" y=\"454.610852\"/>\r\n     <use style=\"fill:#1f77b4;stroke:#1f77b4;\" x=\"222.121023\" xlink:href=\"#md897673cfc\" y=\"454.610852\"/>\r\n     <use style=\"fill:#1f77b4;stroke:#1f77b4;\" x=\"234.010341\" xlink:href=\"#md897673cfc\" y=\"454.610852\"/>\r\n     <use style=\"fill:#1f77b4;stroke:#1f77b4;\" x=\"245.899659\" xlink:href=\"#md897673cfc\" y=\"454.610852\"/>\r\n     <use style=\"fill:#1f77b4;stroke:#1f77b4;\" x=\"257.788977\" xlink:href=\"#md897673cfc\" y=\"454.610852\"/>\r\n     <use style=\"fill:#1f77b4;stroke:#1f77b4;\" x=\"269.678295\" xlink:href=\"#md897673cfc\" y=\"454.610852\"/>\r\n     <use style=\"fill:#1f77b4;stroke:#1f77b4;\" x=\"281.567614\" xlink:href=\"#md897673cfc\" y=\"454.610852\"/>\r\n     <use style=\"fill:#1f77b4;stroke:#1f77b4;\" x=\"293.456932\" xlink:href=\"#md897673cfc\" y=\"454.610852\"/>\r\n     <use style=\"fill:#1f77b4;stroke:#1f77b4;\" x=\"55.670568\" xlink:href=\"#md897673cfc\" y=\"442.767216\"/>\r\n     <use style=\"fill:#1f77b4;stroke:#1f77b4;\" x=\"67.559886\" xlink:href=\"#md897673cfc\" y=\"442.767216\"/>\r\n     <use style=\"fill:#1f77b4;stroke:#1f77b4;\" x=\"79.449205\" xlink:href=\"#md897673cfc\" y=\"442.767216\"/>\r\n     <use style=\"fill:#1f77b4;stroke:#1f77b4;\" x=\"91.338523\" xlink:href=\"#md897673cfc\" y=\"442.767216\"/>\r\n     <use style=\"fill:#1f77b4;stroke:#1f77b4;\" x=\"103.227841\" xlink:href=\"#md897673cfc\" y=\"442.767216\"/>\r\n     <use style=\"fill:#1f77b4;stroke:#1f77b4;\" x=\"115.117159\" xlink:href=\"#md897673cfc\" y=\"442.767216\"/>\r\n     <use style=\"fill:#1f77b4;stroke:#1f77b4;\" x=\"127.006477\" xlink:href=\"#md897673cfc\" y=\"442.767216\"/>\r\n     <use style=\"fill:#1f77b4;stroke:#1f77b4;\" x=\"138.895795\" xlink:href=\"#md897673cfc\" y=\"442.767216\"/>\r\n     <use style=\"fill:#1f77b4;stroke:#1f77b4;\" x=\"150.785114\" xlink:href=\"#md897673cfc\" y=\"442.767216\"/>\r\n     <use style=\"fill:#1f77b4;stroke:#1f77b4;\" x=\"162.674432\" xlink:href=\"#md897673cfc\" y=\"442.767216\"/>\r\n     <use style=\"fill:#1f77b4;stroke:#1f77b4;\" x=\"174.56375\" xlink:href=\"#md897673cfc\" y=\"442.767216\"/>\r\n     <use style=\"fill:#1f77b4;stroke:#1f77b4;\" x=\"186.453068\" xlink:href=\"#md897673cfc\" y=\"442.767216\"/>\r\n     <use style=\"fill:#1f77b4;stroke:#1f77b4;\" x=\"198.342386\" xlink:href=\"#md897673cfc\" y=\"442.767216\"/>\r\n     <use style=\"fill:#1f77b4;stroke:#1f77b4;\" x=\"210.231705\" xlink:href=\"#md897673cfc\" y=\"442.767216\"/>\r\n     <use style=\"fill:#1f77b4;stroke:#1f77b4;\" x=\"222.121023\" xlink:href=\"#md897673cfc\" y=\"442.767216\"/>\r\n     <use style=\"fill:#1f77b4;stroke:#1f77b4;\" x=\"234.010341\" xlink:href=\"#md897673cfc\" y=\"442.767216\"/>\r\n     <use style=\"fill:#1f77b4;stroke:#1f77b4;\" x=\"245.899659\" xlink:href=\"#md897673cfc\" y=\"442.767216\"/>\r\n     <use style=\"fill:#1f77b4;stroke:#1f77b4;\" x=\"257.788977\" xlink:href=\"#md897673cfc\" y=\"442.767216\"/>\r\n     <use style=\"fill:#1f77b4;stroke:#1f77b4;\" x=\"269.678295\" xlink:href=\"#md897673cfc\" y=\"442.767216\"/>\r\n     <use style=\"fill:#1f77b4;stroke:#1f77b4;\" x=\"281.567614\" xlink:href=\"#md897673cfc\" y=\"442.767216\"/>\r\n     <use style=\"fill:#1f77b4;stroke:#1f77b4;\" x=\"293.456932\" xlink:href=\"#md897673cfc\" y=\"442.767216\"/>\r\n     <use style=\"fill:#1f77b4;stroke:#1f77b4;\" x=\"55.670568\" xlink:href=\"#md897673cfc\" y=\"430.92358\"/>\r\n     <use style=\"fill:#1f77b4;stroke:#1f77b4;\" x=\"67.559886\" xlink:href=\"#md897673cfc\" y=\"430.92358\"/>\r\n     <use style=\"fill:#1f77b4;stroke:#1f77b4;\" x=\"79.449205\" xlink:href=\"#md897673cfc\" y=\"430.92358\"/>\r\n     <use style=\"fill:#1f77b4;stroke:#1f77b4;\" x=\"91.338523\" xlink:href=\"#md897673cfc\" y=\"430.92358\"/>\r\n     <use style=\"fill:#1f77b4;stroke:#1f77b4;\" x=\"103.227841\" xlink:href=\"#md897673cfc\" y=\"430.92358\"/>\r\n     <use style=\"fill:#1f77b4;stroke:#1f77b4;\" x=\"115.117159\" xlink:href=\"#md897673cfc\" y=\"430.92358\"/>\r\n     <use style=\"fill:#1f77b4;stroke:#1f77b4;\" x=\"127.006477\" xlink:href=\"#md897673cfc\" y=\"430.92358\"/>\r\n     <use style=\"fill:#1f77b4;stroke:#1f77b4;\" x=\"138.895795\" xlink:href=\"#md897673cfc\" y=\"430.92358\"/>\r\n     <use style=\"fill:#1f77b4;stroke:#1f77b4;\" x=\"150.785114\" xlink:href=\"#md897673cfc\" y=\"430.92358\"/>\r\n     <use style=\"fill:#1f77b4;stroke:#1f77b4;\" x=\"162.674432\" xlink:href=\"#md897673cfc\" y=\"430.92358\"/>\r\n     <use style=\"fill:#1f77b4;stroke:#1f77b4;\" x=\"174.56375\" xlink:href=\"#md897673cfc\" y=\"430.92358\"/>\r\n     <use style=\"fill:#1f77b4;stroke:#1f77b4;\" x=\"186.453068\" xlink:href=\"#md897673cfc\" y=\"430.92358\"/>\r\n     <use style=\"fill:#1f77b4;stroke:#1f77b4;\" x=\"198.342386\" xlink:href=\"#md897673cfc\" y=\"430.92358\"/>\r\n     <use style=\"fill:#1f77b4;stroke:#1f77b4;\" x=\"210.231705\" xlink:href=\"#md897673cfc\" y=\"430.92358\"/>\r\n     <use style=\"fill:#1f77b4;stroke:#1f77b4;\" x=\"222.121023\" xlink:href=\"#md897673cfc\" y=\"430.92358\"/>\r\n     <use style=\"fill:#1f77b4;stroke:#1f77b4;\" x=\"234.010341\" xlink:href=\"#md897673cfc\" y=\"430.92358\"/>\r\n     <use style=\"fill:#1f77b4;stroke:#1f77b4;\" x=\"245.899659\" xlink:href=\"#md897673cfc\" y=\"430.92358\"/>\r\n     <use style=\"fill:#1f77b4;stroke:#1f77b4;\" x=\"257.788977\" xlink:href=\"#md897673cfc\" y=\"430.92358\"/>\r\n     <use style=\"fill:#1f77b4;stroke:#1f77b4;\" x=\"269.678295\" xlink:href=\"#md897673cfc\" y=\"430.92358\"/>\r\n     <use style=\"fill:#1f77b4;stroke:#1f77b4;\" x=\"281.567614\" xlink:href=\"#md897673cfc\" y=\"430.92358\"/>\r\n     <use style=\"fill:#1f77b4;stroke:#1f77b4;\" x=\"293.456932\" xlink:href=\"#md897673cfc\" y=\"430.92358\"/>\r\n     <use style=\"fill:#1f77b4;stroke:#1f77b4;\" x=\"55.670568\" xlink:href=\"#md897673cfc\" y=\"419.079943\"/>\r\n     <use style=\"fill:#1f77b4;stroke:#1f77b4;\" x=\"67.559886\" xlink:href=\"#md897673cfc\" y=\"419.079943\"/>\r\n     <use style=\"fill:#1f77b4;stroke:#1f77b4;\" x=\"79.449205\" xlink:href=\"#md897673cfc\" y=\"419.079943\"/>\r\n     <use style=\"fill:#1f77b4;stroke:#1f77b4;\" x=\"91.338523\" xlink:href=\"#md897673cfc\" y=\"419.079943\"/>\r\n     <use style=\"fill:#1f77b4;stroke:#1f77b4;\" x=\"103.227841\" xlink:href=\"#md897673cfc\" y=\"419.079943\"/>\r\n     <use style=\"fill:#1f77b4;stroke:#1f77b4;\" x=\"115.117159\" xlink:href=\"#md897673cfc\" y=\"419.079943\"/>\r\n     <use style=\"fill:#1f77b4;stroke:#1f77b4;\" x=\"127.006477\" xlink:href=\"#md897673cfc\" y=\"419.079943\"/>\r\n     <use style=\"fill:#1f77b4;stroke:#1f77b4;\" x=\"138.895795\" xlink:href=\"#md897673cfc\" y=\"419.079943\"/>\r\n     <use style=\"fill:#1f77b4;stroke:#1f77b4;\" x=\"150.785114\" xlink:href=\"#md897673cfc\" y=\"419.079943\"/>\r\n     <use style=\"fill:#1f77b4;stroke:#1f77b4;\" x=\"162.674432\" xlink:href=\"#md897673cfc\" y=\"419.079943\"/>\r\n     <use style=\"fill:#1f77b4;stroke:#1f77b4;\" x=\"174.56375\" xlink:href=\"#md897673cfc\" y=\"419.079943\"/>\r\n     <use style=\"fill:#1f77b4;stroke:#1f77b4;\" x=\"186.453068\" xlink:href=\"#md897673cfc\" y=\"419.079943\"/>\r\n     <use style=\"fill:#1f77b4;stroke:#1f77b4;\" x=\"198.342386\" xlink:href=\"#md897673cfc\" y=\"419.079943\"/>\r\n     <use style=\"fill:#1f77b4;stroke:#1f77b4;\" x=\"210.231705\" xlink:href=\"#md897673cfc\" y=\"419.079943\"/>\r\n     <use style=\"fill:#1f77b4;stroke:#1f77b4;\" x=\"222.121023\" xlink:href=\"#md897673cfc\" y=\"419.079943\"/>\r\n     <use style=\"fill:#1f77b4;stroke:#1f77b4;\" x=\"234.010341\" xlink:href=\"#md897673cfc\" y=\"419.079943\"/>\r\n     <use style=\"fill:#1f77b4;stroke:#1f77b4;\" x=\"245.899659\" xlink:href=\"#md897673cfc\" y=\"419.079943\"/>\r\n     <use style=\"fill:#1f77b4;stroke:#1f77b4;\" x=\"257.788977\" xlink:href=\"#md897673cfc\" y=\"419.079943\"/>\r\n     <use style=\"fill:#1f77b4;stroke:#1f77b4;\" x=\"269.678295\" xlink:href=\"#md897673cfc\" y=\"419.079943\"/>\r\n     <use style=\"fill:#1f77b4;stroke:#1f77b4;\" x=\"281.567614\" xlink:href=\"#md897673cfc\" y=\"419.079943\"/>\r\n     <use style=\"fill:#1f77b4;stroke:#1f77b4;\" x=\"293.456932\" xlink:href=\"#md897673cfc\" y=\"419.079943\"/>\r\n     <use style=\"fill:#1f77b4;stroke:#1f77b4;\" x=\"55.670568\" xlink:href=\"#md897673cfc\" y=\"407.236307\"/>\r\n     <use style=\"fill:#1f77b4;stroke:#1f77b4;\" x=\"67.559886\" xlink:href=\"#md897673cfc\" y=\"407.236307\"/>\r\n     <use style=\"fill:#1f77b4;stroke:#1f77b4;\" x=\"79.449205\" xlink:href=\"#md897673cfc\" y=\"407.236307\"/>\r\n     <use style=\"fill:#1f77b4;stroke:#1f77b4;\" x=\"91.338523\" xlink:href=\"#md897673cfc\" y=\"407.236307\"/>\r\n     <use style=\"fill:#1f77b4;stroke:#1f77b4;\" x=\"103.227841\" xlink:href=\"#md897673cfc\" y=\"407.236307\"/>\r\n     <use style=\"fill:#1f77b4;stroke:#1f77b4;\" x=\"115.117159\" xlink:href=\"#md897673cfc\" y=\"407.236307\"/>\r\n     <use style=\"fill:#1f77b4;stroke:#1f77b4;\" x=\"127.006477\" xlink:href=\"#md897673cfc\" y=\"407.236307\"/>\r\n     <use style=\"fill:#1f77b4;stroke:#1f77b4;\" x=\"138.895795\" xlink:href=\"#md897673cfc\" y=\"407.236307\"/>\r\n     <use style=\"fill:#1f77b4;stroke:#1f77b4;\" x=\"150.785114\" xlink:href=\"#md897673cfc\" y=\"407.236307\"/>\r\n     <use style=\"fill:#1f77b4;stroke:#1f77b4;\" x=\"162.674432\" xlink:href=\"#md897673cfc\" y=\"407.236307\"/>\r\n     <use style=\"fill:#1f77b4;stroke:#1f77b4;\" x=\"174.56375\" xlink:href=\"#md897673cfc\" y=\"407.236307\"/>\r\n     <use style=\"fill:#1f77b4;stroke:#1f77b4;\" x=\"186.453068\" xlink:href=\"#md897673cfc\" y=\"407.236307\"/>\r\n     <use style=\"fill:#1f77b4;stroke:#1f77b4;\" x=\"198.342386\" xlink:href=\"#md897673cfc\" y=\"407.236307\"/>\r\n     <use style=\"fill:#1f77b4;stroke:#1f77b4;\" x=\"210.231705\" xlink:href=\"#md897673cfc\" y=\"407.236307\"/>\r\n     <use style=\"fill:#1f77b4;stroke:#1f77b4;\" x=\"222.121023\" xlink:href=\"#md897673cfc\" y=\"407.236307\"/>\r\n     <use style=\"fill:#1f77b4;stroke:#1f77b4;\" x=\"234.010341\" xlink:href=\"#md897673cfc\" y=\"407.236307\"/>\r\n     <use style=\"fill:#1f77b4;stroke:#1f77b4;\" x=\"245.899659\" xlink:href=\"#md897673cfc\" y=\"407.236307\"/>\r\n     <use style=\"fill:#1f77b4;stroke:#1f77b4;\" x=\"257.788977\" xlink:href=\"#md897673cfc\" y=\"407.236307\"/>\r\n     <use style=\"fill:#1f77b4;stroke:#1f77b4;\" x=\"269.678295\" xlink:href=\"#md897673cfc\" y=\"407.236307\"/>\r\n     <use style=\"fill:#1f77b4;stroke:#1f77b4;\" x=\"281.567614\" xlink:href=\"#md897673cfc\" y=\"407.236307\"/>\r\n     <use style=\"fill:#1f77b4;stroke:#1f77b4;\" x=\"293.456932\" xlink:href=\"#md897673cfc\" y=\"407.236307\"/>\r\n     <use style=\"fill:#1f77b4;stroke:#1f77b4;\" x=\"55.670568\" xlink:href=\"#md897673cfc\" y=\"395.39267\"/>\r\n     <use style=\"fill:#1f77b4;stroke:#1f77b4;\" x=\"67.559886\" xlink:href=\"#md897673cfc\" y=\"395.39267\"/>\r\n     <use style=\"fill:#1f77b4;stroke:#1f77b4;\" x=\"79.449205\" xlink:href=\"#md897673cfc\" y=\"395.39267\"/>\r\n     <use style=\"fill:#1f77b4;stroke:#1f77b4;\" x=\"91.338523\" xlink:href=\"#md897673cfc\" y=\"395.39267\"/>\r\n     <use style=\"fill:#1f77b4;stroke:#1f77b4;\" x=\"103.227841\" xlink:href=\"#md897673cfc\" y=\"395.39267\"/>\r\n     <use style=\"fill:#1f77b4;stroke:#1f77b4;\" x=\"115.117159\" xlink:href=\"#md897673cfc\" y=\"395.39267\"/>\r\n     <use style=\"fill:#1f77b4;stroke:#1f77b4;\" x=\"127.006477\" xlink:href=\"#md897673cfc\" y=\"395.39267\"/>\r\n     <use style=\"fill:#1f77b4;stroke:#1f77b4;\" x=\"138.895795\" xlink:href=\"#md897673cfc\" y=\"395.39267\"/>\r\n     <use style=\"fill:#1f77b4;stroke:#1f77b4;\" x=\"150.785114\" xlink:href=\"#md897673cfc\" y=\"395.39267\"/>\r\n     <use style=\"fill:#1f77b4;stroke:#1f77b4;\" x=\"162.674432\" xlink:href=\"#md897673cfc\" y=\"395.39267\"/>\r\n     <use style=\"fill:#1f77b4;stroke:#1f77b4;\" x=\"174.56375\" xlink:href=\"#md897673cfc\" y=\"395.39267\"/>\r\n     <use style=\"fill:#1f77b4;stroke:#1f77b4;\" x=\"186.453068\" xlink:href=\"#md897673cfc\" y=\"395.39267\"/>\r\n     <use style=\"fill:#1f77b4;stroke:#1f77b4;\" x=\"198.342386\" xlink:href=\"#md897673cfc\" y=\"395.39267\"/>\r\n     <use style=\"fill:#1f77b4;stroke:#1f77b4;\" x=\"210.231705\" xlink:href=\"#md897673cfc\" y=\"395.39267\"/>\r\n     <use style=\"fill:#1f77b4;stroke:#1f77b4;\" x=\"222.121023\" xlink:href=\"#md897673cfc\" y=\"395.39267\"/>\r\n     <use style=\"fill:#1f77b4;stroke:#1f77b4;\" x=\"234.010341\" xlink:href=\"#md897673cfc\" y=\"395.39267\"/>\r\n     <use style=\"fill:#1f77b4;stroke:#1f77b4;\" x=\"245.899659\" xlink:href=\"#md897673cfc\" y=\"395.39267\"/>\r\n     <use style=\"fill:#1f77b4;stroke:#1f77b4;\" x=\"257.788977\" xlink:href=\"#md897673cfc\" y=\"395.39267\"/>\r\n     <use style=\"fill:#1f77b4;stroke:#1f77b4;\" x=\"269.678295\" xlink:href=\"#md897673cfc\" y=\"395.39267\"/>\r\n     <use style=\"fill:#1f77b4;stroke:#1f77b4;\" x=\"281.567614\" xlink:href=\"#md897673cfc\" y=\"395.39267\"/>\r\n     <use style=\"fill:#1f77b4;stroke:#1f77b4;\" x=\"293.456932\" xlink:href=\"#md897673cfc\" y=\"395.39267\"/>\r\n     <use style=\"fill:#1f77b4;stroke:#1f77b4;\" x=\"55.670568\" xlink:href=\"#md897673cfc\" y=\"383.549034\"/>\r\n     <use style=\"fill:#1f77b4;stroke:#1f77b4;\" x=\"67.559886\" xlink:href=\"#md897673cfc\" y=\"383.549034\"/>\r\n     <use style=\"fill:#1f77b4;stroke:#1f77b4;\" x=\"79.449205\" xlink:href=\"#md897673cfc\" y=\"383.549034\"/>\r\n     <use style=\"fill:#1f77b4;stroke:#1f77b4;\" x=\"91.338523\" xlink:href=\"#md897673cfc\" y=\"383.549034\"/>\r\n     <use style=\"fill:#1f77b4;stroke:#1f77b4;\" x=\"103.227841\" xlink:href=\"#md897673cfc\" y=\"383.549034\"/>\r\n     <use style=\"fill:#1f77b4;stroke:#1f77b4;\" x=\"115.117159\" xlink:href=\"#md897673cfc\" y=\"383.549034\"/>\r\n     <use style=\"fill:#1f77b4;stroke:#1f77b4;\" x=\"127.006477\" xlink:href=\"#md897673cfc\" y=\"383.549034\"/>\r\n     <use style=\"fill:#1f77b4;stroke:#1f77b4;\" x=\"138.895795\" xlink:href=\"#md897673cfc\" y=\"383.549034\"/>\r\n     <use style=\"fill:#1f77b4;stroke:#1f77b4;\" x=\"150.785114\" xlink:href=\"#md897673cfc\" y=\"383.549034\"/>\r\n     <use style=\"fill:#1f77b4;stroke:#1f77b4;\" x=\"162.674432\" xlink:href=\"#md897673cfc\" y=\"383.549034\"/>\r\n     <use style=\"fill:#1f77b4;stroke:#1f77b4;\" x=\"174.56375\" xlink:href=\"#md897673cfc\" y=\"383.549034\"/>\r\n     <use style=\"fill:#1f77b4;stroke:#1f77b4;\" x=\"186.453068\" xlink:href=\"#md897673cfc\" y=\"383.549034\"/>\r\n     <use style=\"fill:#1f77b4;stroke:#1f77b4;\" x=\"198.342386\" xlink:href=\"#md897673cfc\" y=\"383.549034\"/>\r\n     <use style=\"fill:#1f77b4;stroke:#1f77b4;\" x=\"210.231705\" xlink:href=\"#md897673cfc\" y=\"383.549034\"/>\r\n     <use style=\"fill:#1f77b4;stroke:#1f77b4;\" x=\"222.121023\" xlink:href=\"#md897673cfc\" y=\"383.549034\"/>\r\n     <use style=\"fill:#1f77b4;stroke:#1f77b4;\" x=\"234.010341\" xlink:href=\"#md897673cfc\" y=\"383.549034\"/>\r\n     <use style=\"fill:#1f77b4;stroke:#1f77b4;\" x=\"245.899659\" xlink:href=\"#md897673cfc\" y=\"383.549034\"/>\r\n     <use style=\"fill:#1f77b4;stroke:#1f77b4;\" x=\"257.788977\" xlink:href=\"#md897673cfc\" y=\"383.549034\"/>\r\n     <use style=\"fill:#1f77b4;stroke:#1f77b4;\" x=\"269.678295\" xlink:href=\"#md897673cfc\" y=\"383.549034\"/>\r\n     <use style=\"fill:#1f77b4;stroke:#1f77b4;\" x=\"281.567614\" xlink:href=\"#md897673cfc\" y=\"383.549034\"/>\r\n     <use style=\"fill:#1f77b4;stroke:#1f77b4;\" x=\"293.456932\" xlink:href=\"#md897673cfc\" y=\"383.549034\"/>\r\n     <use style=\"fill:#1f77b4;stroke:#1f77b4;\" x=\"55.670568\" xlink:href=\"#md897673cfc\" y=\"371.705398\"/>\r\n     <use style=\"fill:#1f77b4;stroke:#1f77b4;\" x=\"67.559886\" xlink:href=\"#md897673cfc\" y=\"371.705398\"/>\r\n     <use style=\"fill:#1f77b4;stroke:#1f77b4;\" x=\"79.449205\" xlink:href=\"#md897673cfc\" y=\"371.705398\"/>\r\n     <use style=\"fill:#1f77b4;stroke:#1f77b4;\" x=\"91.338523\" xlink:href=\"#md897673cfc\" y=\"371.705398\"/>\r\n     <use style=\"fill:#1f77b4;stroke:#1f77b4;\" x=\"103.227841\" xlink:href=\"#md897673cfc\" y=\"371.705398\"/>\r\n     <use style=\"fill:#1f77b4;stroke:#1f77b4;\" x=\"115.117159\" xlink:href=\"#md897673cfc\" y=\"371.705398\"/>\r\n     <use style=\"fill:#1f77b4;stroke:#1f77b4;\" x=\"127.006477\" xlink:href=\"#md897673cfc\" y=\"371.705398\"/>\r\n     <use style=\"fill:#1f77b4;stroke:#1f77b4;\" x=\"138.895795\" xlink:href=\"#md897673cfc\" y=\"371.705398\"/>\r\n     <use style=\"fill:#1f77b4;stroke:#1f77b4;\" x=\"150.785114\" xlink:href=\"#md897673cfc\" y=\"371.705398\"/>\r\n     <use style=\"fill:#1f77b4;stroke:#1f77b4;\" x=\"162.674432\" xlink:href=\"#md897673cfc\" y=\"371.705398\"/>\r\n     <use style=\"fill:#1f77b4;stroke:#1f77b4;\" x=\"174.56375\" xlink:href=\"#md897673cfc\" y=\"371.705398\"/>\r\n     <use style=\"fill:#1f77b4;stroke:#1f77b4;\" x=\"186.453068\" xlink:href=\"#md897673cfc\" y=\"371.705398\"/>\r\n     <use style=\"fill:#1f77b4;stroke:#1f77b4;\" x=\"198.342386\" xlink:href=\"#md897673cfc\" y=\"371.705398\"/>\r\n     <use style=\"fill:#1f77b4;stroke:#1f77b4;\" x=\"210.231705\" xlink:href=\"#md897673cfc\" y=\"371.705398\"/>\r\n     <use style=\"fill:#1f77b4;stroke:#1f77b4;\" x=\"222.121023\" xlink:href=\"#md897673cfc\" y=\"371.705398\"/>\r\n     <use style=\"fill:#1f77b4;stroke:#1f77b4;\" x=\"234.010341\" xlink:href=\"#md897673cfc\" y=\"371.705398\"/>\r\n     <use style=\"fill:#1f77b4;stroke:#1f77b4;\" x=\"245.899659\" xlink:href=\"#md897673cfc\" y=\"371.705398\"/>\r\n     <use style=\"fill:#1f77b4;stroke:#1f77b4;\" x=\"257.788977\" xlink:href=\"#md897673cfc\" y=\"371.705398\"/>\r\n     <use style=\"fill:#1f77b4;stroke:#1f77b4;\" x=\"269.678295\" xlink:href=\"#md897673cfc\" y=\"371.705398\"/>\r\n     <use style=\"fill:#1f77b4;stroke:#1f77b4;\" x=\"281.567614\" xlink:href=\"#md897673cfc\" y=\"371.705398\"/>\r\n     <use style=\"fill:#1f77b4;stroke:#1f77b4;\" x=\"293.456932\" xlink:href=\"#md897673cfc\" y=\"371.705398\"/>\r\n     <use style=\"fill:#1f77b4;stroke:#1f77b4;\" x=\"55.670568\" xlink:href=\"#md897673cfc\" y=\"359.861761\"/>\r\n     <use style=\"fill:#1f77b4;stroke:#1f77b4;\" x=\"67.559886\" xlink:href=\"#md897673cfc\" y=\"359.861761\"/>\r\n     <use style=\"fill:#1f77b4;stroke:#1f77b4;\" x=\"79.449205\" xlink:href=\"#md897673cfc\" y=\"359.861761\"/>\r\n     <use style=\"fill:#1f77b4;stroke:#1f77b4;\" x=\"91.338523\" xlink:href=\"#md897673cfc\" y=\"359.861761\"/>\r\n     <use style=\"fill:#1f77b4;stroke:#1f77b4;\" x=\"103.227841\" xlink:href=\"#md897673cfc\" y=\"359.861761\"/>\r\n     <use style=\"fill:#1f77b4;stroke:#1f77b4;\" x=\"115.117159\" xlink:href=\"#md897673cfc\" y=\"359.861761\"/>\r\n     <use style=\"fill:#1f77b4;stroke:#1f77b4;\" x=\"127.006477\" xlink:href=\"#md897673cfc\" y=\"359.861761\"/>\r\n     <use style=\"fill:#1f77b4;stroke:#1f77b4;\" x=\"138.895795\" xlink:href=\"#md897673cfc\" y=\"359.861761\"/>\r\n     <use style=\"fill:#1f77b4;stroke:#1f77b4;\" x=\"150.785114\" xlink:href=\"#md897673cfc\" y=\"359.861761\"/>\r\n     <use style=\"fill:#1f77b4;stroke:#1f77b4;\" x=\"162.674432\" xlink:href=\"#md897673cfc\" y=\"359.861761\"/>\r\n     <use style=\"fill:#1f77b4;stroke:#1f77b4;\" x=\"174.56375\" xlink:href=\"#md897673cfc\" y=\"359.861761\"/>\r\n     <use style=\"fill:#1f77b4;stroke:#1f77b4;\" x=\"186.453068\" xlink:href=\"#md897673cfc\" y=\"359.861761\"/>\r\n     <use style=\"fill:#1f77b4;stroke:#1f77b4;\" x=\"198.342386\" xlink:href=\"#md897673cfc\" y=\"359.861761\"/>\r\n     <use style=\"fill:#1f77b4;stroke:#1f77b4;\" x=\"210.231705\" xlink:href=\"#md897673cfc\" y=\"359.861761\"/>\r\n     <use style=\"fill:#1f77b4;stroke:#1f77b4;\" x=\"222.121023\" xlink:href=\"#md897673cfc\" y=\"359.861761\"/>\r\n     <use style=\"fill:#1f77b4;stroke:#1f77b4;\" x=\"234.010341\" xlink:href=\"#md897673cfc\" y=\"359.861761\"/>\r\n     <use style=\"fill:#1f77b4;stroke:#1f77b4;\" x=\"245.899659\" xlink:href=\"#md897673cfc\" y=\"359.861761\"/>\r\n     <use style=\"fill:#1f77b4;stroke:#1f77b4;\" x=\"257.788977\" xlink:href=\"#md897673cfc\" y=\"359.861761\"/>\r\n     <use style=\"fill:#1f77b4;stroke:#1f77b4;\" x=\"269.678295\" xlink:href=\"#md897673cfc\" y=\"359.861761\"/>\r\n     <use style=\"fill:#1f77b4;stroke:#1f77b4;\" x=\"281.567614\" xlink:href=\"#md897673cfc\" y=\"359.861761\"/>\r\n     <use style=\"fill:#1f77b4;stroke:#1f77b4;\" x=\"293.456932\" xlink:href=\"#md897673cfc\" y=\"359.861761\"/>\r\n     <use style=\"fill:#1f77b4;stroke:#1f77b4;\" x=\"55.670568\" xlink:href=\"#md897673cfc\" y=\"348.018125\"/>\r\n     <use style=\"fill:#1f77b4;stroke:#1f77b4;\" x=\"67.559886\" xlink:href=\"#md897673cfc\" y=\"348.018125\"/>\r\n     <use style=\"fill:#1f77b4;stroke:#1f77b4;\" x=\"79.449205\" xlink:href=\"#md897673cfc\" y=\"348.018125\"/>\r\n     <use style=\"fill:#1f77b4;stroke:#1f77b4;\" x=\"91.338523\" xlink:href=\"#md897673cfc\" y=\"348.018125\"/>\r\n     <use style=\"fill:#1f77b4;stroke:#1f77b4;\" x=\"103.227841\" xlink:href=\"#md897673cfc\" y=\"348.018125\"/>\r\n     <use style=\"fill:#1f77b4;stroke:#1f77b4;\" x=\"115.117159\" xlink:href=\"#md897673cfc\" y=\"348.018125\"/>\r\n     <use style=\"fill:#1f77b4;stroke:#1f77b4;\" x=\"127.006477\" xlink:href=\"#md897673cfc\" y=\"348.018125\"/>\r\n     <use style=\"fill:#1f77b4;stroke:#1f77b4;\" x=\"138.895795\" xlink:href=\"#md897673cfc\" y=\"348.018125\"/>\r\n     <use style=\"fill:#1f77b4;stroke:#1f77b4;\" x=\"150.785114\" xlink:href=\"#md897673cfc\" y=\"348.018125\"/>\r\n     <use style=\"fill:#1f77b4;stroke:#1f77b4;\" x=\"162.674432\" xlink:href=\"#md897673cfc\" y=\"348.018125\"/>\r\n     <use style=\"fill:#1f77b4;stroke:#1f77b4;\" x=\"174.56375\" xlink:href=\"#md897673cfc\" y=\"348.018125\"/>\r\n     <use style=\"fill:#1f77b4;stroke:#1f77b4;\" x=\"186.453068\" xlink:href=\"#md897673cfc\" y=\"348.018125\"/>\r\n     <use style=\"fill:#1f77b4;stroke:#1f77b4;\" x=\"198.342386\" xlink:href=\"#md897673cfc\" y=\"348.018125\"/>\r\n     <use style=\"fill:#1f77b4;stroke:#1f77b4;\" x=\"210.231705\" xlink:href=\"#md897673cfc\" y=\"348.018125\"/>\r\n     <use style=\"fill:#1f77b4;stroke:#1f77b4;\" x=\"222.121023\" xlink:href=\"#md897673cfc\" y=\"348.018125\"/>\r\n     <use style=\"fill:#1f77b4;stroke:#1f77b4;\" x=\"234.010341\" xlink:href=\"#md897673cfc\" y=\"348.018125\"/>\r\n     <use style=\"fill:#1f77b4;stroke:#1f77b4;\" x=\"245.899659\" xlink:href=\"#md897673cfc\" y=\"348.018125\"/>\r\n     <use style=\"fill:#1f77b4;stroke:#1f77b4;\" x=\"257.788977\" xlink:href=\"#md897673cfc\" y=\"348.018125\"/>\r\n     <use style=\"fill:#1f77b4;stroke:#1f77b4;\" x=\"269.678295\" xlink:href=\"#md897673cfc\" y=\"348.018125\"/>\r\n     <use style=\"fill:#1f77b4;stroke:#1f77b4;\" x=\"281.567614\" xlink:href=\"#md897673cfc\" y=\"348.018125\"/>\r\n     <use style=\"fill:#1f77b4;stroke:#1f77b4;\" x=\"293.456932\" xlink:href=\"#md897673cfc\" y=\"348.018125\"/>\r\n     <use style=\"fill:#1f77b4;stroke:#1f77b4;\" x=\"55.670568\" xlink:href=\"#md897673cfc\" y=\"336.174489\"/>\r\n     <use style=\"fill:#1f77b4;stroke:#1f77b4;\" x=\"67.559886\" xlink:href=\"#md897673cfc\" y=\"336.174489\"/>\r\n     <use style=\"fill:#1f77b4;stroke:#1f77b4;\" x=\"79.449205\" xlink:href=\"#md897673cfc\" y=\"336.174489\"/>\r\n     <use style=\"fill:#1f77b4;stroke:#1f77b4;\" x=\"91.338523\" xlink:href=\"#md897673cfc\" y=\"336.174489\"/>\r\n     <use style=\"fill:#1f77b4;stroke:#1f77b4;\" x=\"103.227841\" xlink:href=\"#md897673cfc\" y=\"336.174489\"/>\r\n     <use style=\"fill:#1f77b4;stroke:#1f77b4;\" x=\"115.117159\" xlink:href=\"#md897673cfc\" y=\"336.174489\"/>\r\n     <use style=\"fill:#1f77b4;stroke:#1f77b4;\" x=\"127.006477\" xlink:href=\"#md897673cfc\" y=\"336.174489\"/>\r\n     <use style=\"fill:#1f77b4;stroke:#1f77b4;\" x=\"138.895795\" xlink:href=\"#md897673cfc\" y=\"336.174489\"/>\r\n     <use style=\"fill:#1f77b4;stroke:#1f77b4;\" x=\"150.785114\" xlink:href=\"#md897673cfc\" y=\"336.174489\"/>\r\n     <use style=\"fill:#1f77b4;stroke:#1f77b4;\" x=\"162.674432\" xlink:href=\"#md897673cfc\" y=\"336.174489\"/>\r\n     <use style=\"fill:#1f77b4;stroke:#1f77b4;\" x=\"174.56375\" xlink:href=\"#md897673cfc\" y=\"336.174489\"/>\r\n     <use style=\"fill:#1f77b4;stroke:#1f77b4;\" x=\"186.453068\" xlink:href=\"#md897673cfc\" y=\"336.174489\"/>\r\n     <use style=\"fill:#1f77b4;stroke:#1f77b4;\" x=\"198.342386\" xlink:href=\"#md897673cfc\" y=\"336.174489\"/>\r\n     <use style=\"fill:#1f77b4;stroke:#1f77b4;\" x=\"210.231705\" xlink:href=\"#md897673cfc\" y=\"336.174489\"/>\r\n     <use style=\"fill:#1f77b4;stroke:#1f77b4;\" x=\"222.121023\" xlink:href=\"#md897673cfc\" y=\"336.174489\"/>\r\n     <use style=\"fill:#1f77b4;stroke:#1f77b4;\" x=\"234.010341\" xlink:href=\"#md897673cfc\" y=\"336.174489\"/>\r\n     <use style=\"fill:#1f77b4;stroke:#1f77b4;\" x=\"245.899659\" xlink:href=\"#md897673cfc\" y=\"336.174489\"/>\r\n     <use style=\"fill:#1f77b4;stroke:#1f77b4;\" x=\"257.788977\" xlink:href=\"#md897673cfc\" y=\"336.174489\"/>\r\n     <use style=\"fill:#1f77b4;stroke:#1f77b4;\" x=\"269.678295\" xlink:href=\"#md897673cfc\" y=\"336.174489\"/>\r\n     <use style=\"fill:#1f77b4;stroke:#1f77b4;\" x=\"281.567614\" xlink:href=\"#md897673cfc\" y=\"336.174489\"/>\r\n     <use style=\"fill:#1f77b4;stroke:#1f77b4;\" x=\"293.456932\" xlink:href=\"#md897673cfc\" y=\"336.174489\"/>\r\n     <use style=\"fill:#1f77b4;stroke:#1f77b4;\" x=\"55.670568\" xlink:href=\"#md897673cfc\" y=\"324.330852\"/>\r\n     <use style=\"fill:#1f77b4;stroke:#1f77b4;\" x=\"67.559886\" xlink:href=\"#md897673cfc\" y=\"324.330852\"/>\r\n     <use style=\"fill:#1f77b4;stroke:#1f77b4;\" x=\"79.449205\" xlink:href=\"#md897673cfc\" y=\"324.330852\"/>\r\n     <use style=\"fill:#1f77b4;stroke:#1f77b4;\" x=\"91.338523\" xlink:href=\"#md897673cfc\" y=\"324.330852\"/>\r\n     <use style=\"fill:#1f77b4;stroke:#1f77b4;\" x=\"103.227841\" xlink:href=\"#md897673cfc\" y=\"324.330852\"/>\r\n     <use style=\"fill:#1f77b4;stroke:#1f77b4;\" x=\"115.117159\" xlink:href=\"#md897673cfc\" y=\"324.330852\"/>\r\n     <use style=\"fill:#1f77b4;stroke:#1f77b4;\" x=\"127.006477\" xlink:href=\"#md897673cfc\" y=\"324.330852\"/>\r\n     <use style=\"fill:#1f77b4;stroke:#1f77b4;\" x=\"138.895795\" xlink:href=\"#md897673cfc\" y=\"324.330852\"/>\r\n     <use style=\"fill:#1f77b4;stroke:#1f77b4;\" x=\"150.785114\" xlink:href=\"#md897673cfc\" y=\"324.330852\"/>\r\n     <use style=\"fill:#1f77b4;stroke:#1f77b4;\" x=\"162.674432\" xlink:href=\"#md897673cfc\" y=\"324.330852\"/>\r\n     <use style=\"fill:#1f77b4;stroke:#1f77b4;\" x=\"174.56375\" xlink:href=\"#md897673cfc\" y=\"324.330852\"/>\r\n     <use style=\"fill:#1f77b4;stroke:#1f77b4;\" x=\"186.453068\" xlink:href=\"#md897673cfc\" y=\"324.330852\"/>\r\n     <use style=\"fill:#1f77b4;stroke:#1f77b4;\" x=\"198.342386\" xlink:href=\"#md897673cfc\" y=\"324.330852\"/>\r\n     <use style=\"fill:#1f77b4;stroke:#1f77b4;\" x=\"210.231705\" xlink:href=\"#md897673cfc\" y=\"324.330852\"/>\r\n     <use style=\"fill:#1f77b4;stroke:#1f77b4;\" x=\"222.121023\" xlink:href=\"#md897673cfc\" y=\"324.330852\"/>\r\n     <use style=\"fill:#1f77b4;stroke:#1f77b4;\" x=\"234.010341\" xlink:href=\"#md897673cfc\" y=\"324.330852\"/>\r\n     <use style=\"fill:#1f77b4;stroke:#1f77b4;\" x=\"245.899659\" xlink:href=\"#md897673cfc\" y=\"324.330852\"/>\r\n     <use style=\"fill:#1f77b4;stroke:#1f77b4;\" x=\"257.788977\" xlink:href=\"#md897673cfc\" y=\"324.330852\"/>\r\n     <use style=\"fill:#1f77b4;stroke:#1f77b4;\" x=\"269.678295\" xlink:href=\"#md897673cfc\" y=\"324.330852\"/>\r\n     <use style=\"fill:#1f77b4;stroke:#1f77b4;\" x=\"281.567614\" xlink:href=\"#md897673cfc\" y=\"324.330852\"/>\r\n     <use style=\"fill:#1f77b4;stroke:#1f77b4;\" x=\"293.456932\" xlink:href=\"#md897673cfc\" y=\"324.330852\"/>\r\n     <use style=\"fill:#1f77b4;stroke:#1f77b4;\" x=\"55.670568\" xlink:href=\"#md897673cfc\" y=\"312.487216\"/>\r\n     <use style=\"fill:#1f77b4;stroke:#1f77b4;\" x=\"67.559886\" xlink:href=\"#md897673cfc\" y=\"312.487216\"/>\r\n     <use style=\"fill:#1f77b4;stroke:#1f77b4;\" x=\"79.449205\" xlink:href=\"#md897673cfc\" y=\"312.487216\"/>\r\n     <use style=\"fill:#1f77b4;stroke:#1f77b4;\" x=\"91.338523\" xlink:href=\"#md897673cfc\" y=\"312.487216\"/>\r\n     <use style=\"fill:#1f77b4;stroke:#1f77b4;\" x=\"103.227841\" xlink:href=\"#md897673cfc\" y=\"312.487216\"/>\r\n     <use style=\"fill:#1f77b4;stroke:#1f77b4;\" x=\"115.117159\" xlink:href=\"#md897673cfc\" y=\"312.487216\"/>\r\n     <use style=\"fill:#1f77b4;stroke:#1f77b4;\" x=\"127.006477\" xlink:href=\"#md897673cfc\" y=\"312.487216\"/>\r\n     <use style=\"fill:#1f77b4;stroke:#1f77b4;\" x=\"138.895795\" xlink:href=\"#md897673cfc\" y=\"312.487216\"/>\r\n     <use style=\"fill:#1f77b4;stroke:#1f77b4;\" x=\"150.785114\" xlink:href=\"#md897673cfc\" y=\"312.487216\"/>\r\n     <use style=\"fill:#1f77b4;stroke:#1f77b4;\" x=\"162.674432\" xlink:href=\"#md897673cfc\" y=\"312.487216\"/>\r\n     <use style=\"fill:#1f77b4;stroke:#1f77b4;\" x=\"174.56375\" xlink:href=\"#md897673cfc\" y=\"312.487216\"/>\r\n     <use style=\"fill:#1f77b4;stroke:#1f77b4;\" x=\"186.453068\" xlink:href=\"#md897673cfc\" y=\"312.487216\"/>\r\n     <use style=\"fill:#1f77b4;stroke:#1f77b4;\" x=\"198.342386\" xlink:href=\"#md897673cfc\" y=\"312.487216\"/>\r\n     <use style=\"fill:#1f77b4;stroke:#1f77b4;\" x=\"210.231705\" xlink:href=\"#md897673cfc\" y=\"312.487216\"/>\r\n     <use style=\"fill:#1f77b4;stroke:#1f77b4;\" x=\"222.121023\" xlink:href=\"#md897673cfc\" y=\"312.487216\"/>\r\n     <use style=\"fill:#1f77b4;stroke:#1f77b4;\" x=\"234.010341\" xlink:href=\"#md897673cfc\" y=\"312.487216\"/>\r\n     <use style=\"fill:#1f77b4;stroke:#1f77b4;\" x=\"245.899659\" xlink:href=\"#md897673cfc\" y=\"312.487216\"/>\r\n     <use style=\"fill:#1f77b4;stroke:#1f77b4;\" x=\"257.788977\" xlink:href=\"#md897673cfc\" y=\"312.487216\"/>\r\n     <use style=\"fill:#1f77b4;stroke:#1f77b4;\" x=\"269.678295\" xlink:href=\"#md897673cfc\" y=\"312.487216\"/>\r\n     <use style=\"fill:#1f77b4;stroke:#1f77b4;\" x=\"281.567614\" xlink:href=\"#md897673cfc\" y=\"312.487216\"/>\r\n     <use style=\"fill:#1f77b4;stroke:#1f77b4;\" x=\"293.456932\" xlink:href=\"#md897673cfc\" y=\"312.487216\"/>\r\n     <use style=\"fill:#1f77b4;stroke:#1f77b4;\" x=\"55.670568\" xlink:href=\"#md897673cfc\" y=\"300.64358\"/>\r\n     <use style=\"fill:#1f77b4;stroke:#1f77b4;\" x=\"67.559886\" xlink:href=\"#md897673cfc\" y=\"300.64358\"/>\r\n     <use style=\"fill:#1f77b4;stroke:#1f77b4;\" x=\"79.449205\" xlink:href=\"#md897673cfc\" y=\"300.64358\"/>\r\n     <use style=\"fill:#1f77b4;stroke:#1f77b4;\" x=\"91.338523\" xlink:href=\"#md897673cfc\" y=\"300.64358\"/>\r\n     <use style=\"fill:#1f77b4;stroke:#1f77b4;\" x=\"103.227841\" xlink:href=\"#md897673cfc\" y=\"300.64358\"/>\r\n     <use style=\"fill:#1f77b4;stroke:#1f77b4;\" x=\"115.117159\" xlink:href=\"#md897673cfc\" y=\"300.64358\"/>\r\n     <use style=\"fill:#1f77b4;stroke:#1f77b4;\" x=\"127.006477\" xlink:href=\"#md897673cfc\" y=\"300.64358\"/>\r\n     <use style=\"fill:#1f77b4;stroke:#1f77b4;\" x=\"138.895795\" xlink:href=\"#md897673cfc\" y=\"300.64358\"/>\r\n     <use style=\"fill:#1f77b4;stroke:#1f77b4;\" x=\"150.785114\" xlink:href=\"#md897673cfc\" y=\"300.64358\"/>\r\n     <use style=\"fill:#1f77b4;stroke:#1f77b4;\" x=\"162.674432\" xlink:href=\"#md897673cfc\" y=\"300.64358\"/>\r\n     <use style=\"fill:#1f77b4;stroke:#1f77b4;\" x=\"174.56375\" xlink:href=\"#md897673cfc\" y=\"300.64358\"/>\r\n     <use style=\"fill:#1f77b4;stroke:#1f77b4;\" x=\"186.453068\" xlink:href=\"#md897673cfc\" y=\"300.64358\"/>\r\n     <use style=\"fill:#1f77b4;stroke:#1f77b4;\" x=\"198.342386\" xlink:href=\"#md897673cfc\" y=\"300.64358\"/>\r\n     <use style=\"fill:#1f77b4;stroke:#1f77b4;\" x=\"210.231705\" xlink:href=\"#md897673cfc\" y=\"300.64358\"/>\r\n     <use style=\"fill:#1f77b4;stroke:#1f77b4;\" x=\"222.121023\" xlink:href=\"#md897673cfc\" y=\"300.64358\"/>\r\n     <use style=\"fill:#1f77b4;stroke:#1f77b4;\" x=\"234.010341\" xlink:href=\"#md897673cfc\" y=\"300.64358\"/>\r\n     <use style=\"fill:#1f77b4;stroke:#1f77b4;\" x=\"245.899659\" xlink:href=\"#md897673cfc\" y=\"300.64358\"/>\r\n     <use style=\"fill:#1f77b4;stroke:#1f77b4;\" x=\"257.788977\" xlink:href=\"#md897673cfc\" y=\"300.64358\"/>\r\n     <use style=\"fill:#1f77b4;stroke:#1f77b4;\" x=\"269.678295\" xlink:href=\"#md897673cfc\" y=\"300.64358\"/>\r\n     <use style=\"fill:#1f77b4;stroke:#1f77b4;\" x=\"281.567614\" xlink:href=\"#md897673cfc\" y=\"300.64358\"/>\r\n     <use style=\"fill:#1f77b4;stroke:#1f77b4;\" x=\"293.456932\" xlink:href=\"#md897673cfc\" y=\"300.64358\"/>\r\n     <use style=\"fill:#1f77b4;stroke:#1f77b4;\" x=\"55.670568\" xlink:href=\"#md897673cfc\" y=\"288.799943\"/>\r\n     <use style=\"fill:#1f77b4;stroke:#1f77b4;\" x=\"67.559886\" xlink:href=\"#md897673cfc\" y=\"288.799943\"/>\r\n     <use style=\"fill:#1f77b4;stroke:#1f77b4;\" x=\"79.449205\" xlink:href=\"#md897673cfc\" y=\"288.799943\"/>\r\n     <use style=\"fill:#1f77b4;stroke:#1f77b4;\" x=\"91.338523\" xlink:href=\"#md897673cfc\" y=\"288.799943\"/>\r\n     <use style=\"fill:#1f77b4;stroke:#1f77b4;\" x=\"103.227841\" xlink:href=\"#md897673cfc\" y=\"288.799943\"/>\r\n     <use style=\"fill:#1f77b4;stroke:#1f77b4;\" x=\"115.117159\" xlink:href=\"#md897673cfc\" y=\"288.799943\"/>\r\n     <use style=\"fill:#1f77b4;stroke:#1f77b4;\" x=\"127.006477\" xlink:href=\"#md897673cfc\" y=\"288.799943\"/>\r\n     <use style=\"fill:#1f77b4;stroke:#1f77b4;\" x=\"138.895795\" xlink:href=\"#md897673cfc\" y=\"288.799943\"/>\r\n     <use style=\"fill:#1f77b4;stroke:#1f77b4;\" x=\"150.785114\" xlink:href=\"#md897673cfc\" y=\"288.799943\"/>\r\n     <use style=\"fill:#1f77b4;stroke:#1f77b4;\" x=\"162.674432\" xlink:href=\"#md897673cfc\" y=\"288.799943\"/>\r\n     <use style=\"fill:#1f77b4;stroke:#1f77b4;\" x=\"174.56375\" xlink:href=\"#md897673cfc\" y=\"288.799943\"/>\r\n     <use style=\"fill:#1f77b4;stroke:#1f77b4;\" x=\"186.453068\" xlink:href=\"#md897673cfc\" y=\"288.799943\"/>\r\n     <use style=\"fill:#1f77b4;stroke:#1f77b4;\" x=\"198.342386\" xlink:href=\"#md897673cfc\" y=\"288.799943\"/>\r\n     <use style=\"fill:#1f77b4;stroke:#1f77b4;\" x=\"210.231705\" xlink:href=\"#md897673cfc\" y=\"288.799943\"/>\r\n     <use style=\"fill:#1f77b4;stroke:#1f77b4;\" x=\"222.121023\" xlink:href=\"#md897673cfc\" y=\"288.799943\"/>\r\n     <use style=\"fill:#1f77b4;stroke:#1f77b4;\" x=\"234.010341\" xlink:href=\"#md897673cfc\" y=\"288.799943\"/>\r\n     <use style=\"fill:#1f77b4;stroke:#1f77b4;\" x=\"245.899659\" xlink:href=\"#md897673cfc\" y=\"288.799943\"/>\r\n     <use style=\"fill:#1f77b4;stroke:#1f77b4;\" x=\"257.788977\" xlink:href=\"#md897673cfc\" y=\"288.799943\"/>\r\n     <use style=\"fill:#1f77b4;stroke:#1f77b4;\" x=\"269.678295\" xlink:href=\"#md897673cfc\" y=\"288.799943\"/>\r\n     <use style=\"fill:#1f77b4;stroke:#1f77b4;\" x=\"281.567614\" xlink:href=\"#md897673cfc\" y=\"288.799943\"/>\r\n     <use style=\"fill:#1f77b4;stroke:#1f77b4;\" x=\"293.456932\" xlink:href=\"#md897673cfc\" y=\"288.799943\"/>\r\n     <use style=\"fill:#1f77b4;stroke:#1f77b4;\" x=\"55.670568\" xlink:href=\"#md897673cfc\" y=\"276.956307\"/>\r\n     <use style=\"fill:#1f77b4;stroke:#1f77b4;\" x=\"67.559886\" xlink:href=\"#md897673cfc\" y=\"276.956307\"/>\r\n     <use style=\"fill:#1f77b4;stroke:#1f77b4;\" x=\"79.449205\" xlink:href=\"#md897673cfc\" y=\"276.956307\"/>\r\n     <use style=\"fill:#1f77b4;stroke:#1f77b4;\" x=\"91.338523\" xlink:href=\"#md897673cfc\" y=\"276.956307\"/>\r\n     <use style=\"fill:#1f77b4;stroke:#1f77b4;\" x=\"103.227841\" xlink:href=\"#md897673cfc\" y=\"276.956307\"/>\r\n     <use style=\"fill:#1f77b4;stroke:#1f77b4;\" x=\"115.117159\" xlink:href=\"#md897673cfc\" y=\"276.956307\"/>\r\n     <use style=\"fill:#1f77b4;stroke:#1f77b4;\" x=\"127.006477\" xlink:href=\"#md897673cfc\" y=\"276.956307\"/>\r\n     <use style=\"fill:#1f77b4;stroke:#1f77b4;\" x=\"138.895795\" xlink:href=\"#md897673cfc\" y=\"276.956307\"/>\r\n     <use style=\"fill:#1f77b4;stroke:#1f77b4;\" x=\"150.785114\" xlink:href=\"#md897673cfc\" y=\"276.956307\"/>\r\n     <use style=\"fill:#1f77b4;stroke:#1f77b4;\" x=\"162.674432\" xlink:href=\"#md897673cfc\" y=\"276.956307\"/>\r\n     <use style=\"fill:#1f77b4;stroke:#1f77b4;\" x=\"174.56375\" xlink:href=\"#md897673cfc\" y=\"276.956307\"/>\r\n     <use style=\"fill:#1f77b4;stroke:#1f77b4;\" x=\"186.453068\" xlink:href=\"#md897673cfc\" y=\"276.956307\"/>\r\n     <use style=\"fill:#1f77b4;stroke:#1f77b4;\" x=\"198.342386\" xlink:href=\"#md897673cfc\" y=\"276.956307\"/>\r\n     <use style=\"fill:#1f77b4;stroke:#1f77b4;\" x=\"210.231705\" xlink:href=\"#md897673cfc\" y=\"276.956307\"/>\r\n     <use style=\"fill:#1f77b4;stroke:#1f77b4;\" x=\"222.121023\" xlink:href=\"#md897673cfc\" y=\"276.956307\"/>\r\n     <use style=\"fill:#1f77b4;stroke:#1f77b4;\" x=\"234.010341\" xlink:href=\"#md897673cfc\" y=\"276.956307\"/>\r\n     <use style=\"fill:#1f77b4;stroke:#1f77b4;\" x=\"245.899659\" xlink:href=\"#md897673cfc\" y=\"276.956307\"/>\r\n     <use style=\"fill:#1f77b4;stroke:#1f77b4;\" x=\"257.788977\" xlink:href=\"#md897673cfc\" y=\"276.956307\"/>\r\n     <use style=\"fill:#1f77b4;stroke:#1f77b4;\" x=\"269.678295\" xlink:href=\"#md897673cfc\" y=\"276.956307\"/>\r\n     <use style=\"fill:#1f77b4;stroke:#1f77b4;\" x=\"281.567614\" xlink:href=\"#md897673cfc\" y=\"276.956307\"/>\r\n     <use style=\"fill:#1f77b4;stroke:#1f77b4;\" x=\"293.456932\" xlink:href=\"#md897673cfc\" y=\"276.956307\"/>\r\n     <use style=\"fill:#1f77b4;stroke:#1f77b4;\" x=\"55.670568\" xlink:href=\"#md897673cfc\" y=\"265.11267\"/>\r\n     <use style=\"fill:#1f77b4;stroke:#1f77b4;\" x=\"67.559886\" xlink:href=\"#md897673cfc\" y=\"265.11267\"/>\r\n     <use style=\"fill:#1f77b4;stroke:#1f77b4;\" x=\"79.449205\" xlink:href=\"#md897673cfc\" y=\"265.11267\"/>\r\n     <use style=\"fill:#1f77b4;stroke:#1f77b4;\" x=\"91.338523\" xlink:href=\"#md897673cfc\" y=\"265.11267\"/>\r\n     <use style=\"fill:#1f77b4;stroke:#1f77b4;\" x=\"103.227841\" xlink:href=\"#md897673cfc\" y=\"265.11267\"/>\r\n     <use style=\"fill:#1f77b4;stroke:#1f77b4;\" x=\"115.117159\" xlink:href=\"#md897673cfc\" y=\"265.11267\"/>\r\n     <use style=\"fill:#1f77b4;stroke:#1f77b4;\" x=\"127.006477\" xlink:href=\"#md897673cfc\" y=\"265.11267\"/>\r\n     <use style=\"fill:#1f77b4;stroke:#1f77b4;\" x=\"138.895795\" xlink:href=\"#md897673cfc\" y=\"265.11267\"/>\r\n     <use style=\"fill:#1f77b4;stroke:#1f77b4;\" x=\"150.785114\" xlink:href=\"#md897673cfc\" y=\"265.11267\"/>\r\n     <use style=\"fill:#1f77b4;stroke:#1f77b4;\" x=\"162.674432\" xlink:href=\"#md897673cfc\" y=\"265.11267\"/>\r\n     <use style=\"fill:#1f77b4;stroke:#1f77b4;\" x=\"174.56375\" xlink:href=\"#md897673cfc\" y=\"265.11267\"/>\r\n     <use style=\"fill:#1f77b4;stroke:#1f77b4;\" x=\"186.453068\" xlink:href=\"#md897673cfc\" y=\"265.11267\"/>\r\n     <use style=\"fill:#1f77b4;stroke:#1f77b4;\" x=\"198.342386\" xlink:href=\"#md897673cfc\" y=\"265.11267\"/>\r\n     <use style=\"fill:#1f77b4;stroke:#1f77b4;\" x=\"210.231705\" xlink:href=\"#md897673cfc\" y=\"265.11267\"/>\r\n     <use style=\"fill:#1f77b4;stroke:#1f77b4;\" x=\"222.121023\" xlink:href=\"#md897673cfc\" y=\"265.11267\"/>\r\n     <use style=\"fill:#1f77b4;stroke:#1f77b4;\" x=\"234.010341\" xlink:href=\"#md897673cfc\" y=\"265.11267\"/>\r\n     <use style=\"fill:#1f77b4;stroke:#1f77b4;\" x=\"245.899659\" xlink:href=\"#md897673cfc\" y=\"265.11267\"/>\r\n     <use style=\"fill:#1f77b4;stroke:#1f77b4;\" x=\"257.788977\" xlink:href=\"#md897673cfc\" y=\"265.11267\"/>\r\n     <use style=\"fill:#1f77b4;stroke:#1f77b4;\" x=\"269.678295\" xlink:href=\"#md897673cfc\" y=\"265.11267\"/>\r\n     <use style=\"fill:#1f77b4;stroke:#1f77b4;\" x=\"281.567614\" xlink:href=\"#md897673cfc\" y=\"265.11267\"/>\r\n     <use style=\"fill:#1f77b4;stroke:#1f77b4;\" x=\"293.456932\" xlink:href=\"#md897673cfc\" y=\"265.11267\"/>\r\n     <use style=\"fill:#1f77b4;stroke:#1f77b4;\" x=\"55.670568\" xlink:href=\"#md897673cfc\" y=\"253.269034\"/>\r\n     <use style=\"fill:#1f77b4;stroke:#1f77b4;\" x=\"67.559886\" xlink:href=\"#md897673cfc\" y=\"253.269034\"/>\r\n     <use style=\"fill:#1f77b4;stroke:#1f77b4;\" x=\"79.449205\" xlink:href=\"#md897673cfc\" y=\"253.269034\"/>\r\n     <use style=\"fill:#1f77b4;stroke:#1f77b4;\" x=\"91.338523\" xlink:href=\"#md897673cfc\" y=\"253.269034\"/>\r\n     <use style=\"fill:#1f77b4;stroke:#1f77b4;\" x=\"103.227841\" xlink:href=\"#md897673cfc\" y=\"253.269034\"/>\r\n     <use style=\"fill:#1f77b4;stroke:#1f77b4;\" x=\"115.117159\" xlink:href=\"#md897673cfc\" y=\"253.269034\"/>\r\n     <use style=\"fill:#1f77b4;stroke:#1f77b4;\" x=\"127.006477\" xlink:href=\"#md897673cfc\" y=\"253.269034\"/>\r\n     <use style=\"fill:#1f77b4;stroke:#1f77b4;\" x=\"138.895795\" xlink:href=\"#md897673cfc\" y=\"253.269034\"/>\r\n     <use style=\"fill:#1f77b4;stroke:#1f77b4;\" x=\"150.785114\" xlink:href=\"#md897673cfc\" y=\"253.269034\"/>\r\n     <use style=\"fill:#1f77b4;stroke:#1f77b4;\" x=\"162.674432\" xlink:href=\"#md897673cfc\" y=\"253.269034\"/>\r\n     <use style=\"fill:#1f77b4;stroke:#1f77b4;\" x=\"174.56375\" xlink:href=\"#md897673cfc\" y=\"253.269034\"/>\r\n     <use style=\"fill:#1f77b4;stroke:#1f77b4;\" x=\"186.453068\" xlink:href=\"#md897673cfc\" y=\"253.269034\"/>\r\n     <use style=\"fill:#1f77b4;stroke:#1f77b4;\" x=\"198.342386\" xlink:href=\"#md897673cfc\" y=\"253.269034\"/>\r\n     <use style=\"fill:#1f77b4;stroke:#1f77b4;\" x=\"210.231705\" xlink:href=\"#md897673cfc\" y=\"253.269034\"/>\r\n     <use style=\"fill:#1f77b4;stroke:#1f77b4;\" x=\"222.121023\" xlink:href=\"#md897673cfc\" y=\"253.269034\"/>\r\n     <use style=\"fill:#1f77b4;stroke:#1f77b4;\" x=\"234.010341\" xlink:href=\"#md897673cfc\" y=\"253.269034\"/>\r\n     <use style=\"fill:#1f77b4;stroke:#1f77b4;\" x=\"245.899659\" xlink:href=\"#md897673cfc\" y=\"253.269034\"/>\r\n     <use style=\"fill:#1f77b4;stroke:#1f77b4;\" x=\"257.788977\" xlink:href=\"#md897673cfc\" y=\"253.269034\"/>\r\n     <use style=\"fill:#1f77b4;stroke:#1f77b4;\" x=\"269.678295\" xlink:href=\"#md897673cfc\" y=\"253.269034\"/>\r\n     <use style=\"fill:#1f77b4;stroke:#1f77b4;\" x=\"281.567614\" xlink:href=\"#md897673cfc\" y=\"253.269034\"/>\r\n     <use style=\"fill:#1f77b4;stroke:#1f77b4;\" x=\"293.456932\" xlink:href=\"#md897673cfc\" y=\"253.269034\"/>\r\n     <use style=\"fill:#1f77b4;stroke:#1f77b4;\" x=\"55.670568\" xlink:href=\"#md897673cfc\" y=\"241.425398\"/>\r\n     <use style=\"fill:#1f77b4;stroke:#1f77b4;\" x=\"67.559886\" xlink:href=\"#md897673cfc\" y=\"241.425398\"/>\r\n     <use style=\"fill:#1f77b4;stroke:#1f77b4;\" x=\"79.449205\" xlink:href=\"#md897673cfc\" y=\"241.425398\"/>\r\n     <use style=\"fill:#1f77b4;stroke:#1f77b4;\" x=\"91.338523\" xlink:href=\"#md897673cfc\" y=\"241.425398\"/>\r\n     <use style=\"fill:#1f77b4;stroke:#1f77b4;\" x=\"103.227841\" xlink:href=\"#md897673cfc\" y=\"241.425398\"/>\r\n     <use style=\"fill:#1f77b4;stroke:#1f77b4;\" x=\"115.117159\" xlink:href=\"#md897673cfc\" y=\"241.425398\"/>\r\n     <use style=\"fill:#1f77b4;stroke:#1f77b4;\" x=\"127.006477\" xlink:href=\"#md897673cfc\" y=\"241.425398\"/>\r\n     <use style=\"fill:#1f77b4;stroke:#1f77b4;\" x=\"138.895795\" xlink:href=\"#md897673cfc\" y=\"241.425398\"/>\r\n     <use style=\"fill:#1f77b4;stroke:#1f77b4;\" x=\"150.785114\" xlink:href=\"#md897673cfc\" y=\"241.425398\"/>\r\n     <use style=\"fill:#1f77b4;stroke:#1f77b4;\" x=\"162.674432\" xlink:href=\"#md897673cfc\" y=\"241.425398\"/>\r\n     <use style=\"fill:#1f77b4;stroke:#1f77b4;\" x=\"174.56375\" xlink:href=\"#md897673cfc\" y=\"241.425398\"/>\r\n     <use style=\"fill:#1f77b4;stroke:#1f77b4;\" x=\"186.453068\" xlink:href=\"#md897673cfc\" y=\"241.425398\"/>\r\n     <use style=\"fill:#1f77b4;stroke:#1f77b4;\" x=\"198.342386\" xlink:href=\"#md897673cfc\" y=\"241.425398\"/>\r\n     <use style=\"fill:#1f77b4;stroke:#1f77b4;\" x=\"210.231705\" xlink:href=\"#md897673cfc\" y=\"241.425398\"/>\r\n     <use style=\"fill:#1f77b4;stroke:#1f77b4;\" x=\"222.121023\" xlink:href=\"#md897673cfc\" y=\"241.425398\"/>\r\n     <use style=\"fill:#1f77b4;stroke:#1f77b4;\" x=\"234.010341\" xlink:href=\"#md897673cfc\" y=\"241.425398\"/>\r\n     <use style=\"fill:#1f77b4;stroke:#1f77b4;\" x=\"245.899659\" xlink:href=\"#md897673cfc\" y=\"241.425398\"/>\r\n     <use style=\"fill:#1f77b4;stroke:#1f77b4;\" x=\"257.788977\" xlink:href=\"#md897673cfc\" y=\"241.425398\"/>\r\n     <use style=\"fill:#1f77b4;stroke:#1f77b4;\" x=\"269.678295\" xlink:href=\"#md897673cfc\" y=\"241.425398\"/>\r\n     <use style=\"fill:#1f77b4;stroke:#1f77b4;\" x=\"281.567614\" xlink:href=\"#md897673cfc\" y=\"241.425398\"/>\r\n     <use style=\"fill:#1f77b4;stroke:#1f77b4;\" x=\"293.456932\" xlink:href=\"#md897673cfc\" y=\"241.425398\"/>\r\n     <use style=\"fill:#1f77b4;stroke:#1f77b4;\" x=\"55.670568\" xlink:href=\"#md897673cfc\" y=\"229.581761\"/>\r\n     <use style=\"fill:#1f77b4;stroke:#1f77b4;\" x=\"67.559886\" xlink:href=\"#md897673cfc\" y=\"229.581761\"/>\r\n     <use style=\"fill:#1f77b4;stroke:#1f77b4;\" x=\"79.449205\" xlink:href=\"#md897673cfc\" y=\"229.581761\"/>\r\n     <use style=\"fill:#1f77b4;stroke:#1f77b4;\" x=\"91.338523\" xlink:href=\"#md897673cfc\" y=\"229.581761\"/>\r\n     <use style=\"fill:#1f77b4;stroke:#1f77b4;\" x=\"103.227841\" xlink:href=\"#md897673cfc\" y=\"229.581761\"/>\r\n     <use style=\"fill:#1f77b4;stroke:#1f77b4;\" x=\"115.117159\" xlink:href=\"#md897673cfc\" y=\"229.581761\"/>\r\n     <use style=\"fill:#1f77b4;stroke:#1f77b4;\" x=\"127.006477\" xlink:href=\"#md897673cfc\" y=\"229.581761\"/>\r\n     <use style=\"fill:#1f77b4;stroke:#1f77b4;\" x=\"138.895795\" xlink:href=\"#md897673cfc\" y=\"229.581761\"/>\r\n     <use style=\"fill:#1f77b4;stroke:#1f77b4;\" x=\"150.785114\" xlink:href=\"#md897673cfc\" y=\"229.581761\"/>\r\n     <use style=\"fill:#1f77b4;stroke:#1f77b4;\" x=\"162.674432\" xlink:href=\"#md897673cfc\" y=\"229.581761\"/>\r\n     <use style=\"fill:#1f77b4;stroke:#1f77b4;\" x=\"174.56375\" xlink:href=\"#md897673cfc\" y=\"229.581761\"/>\r\n     <use style=\"fill:#1f77b4;stroke:#1f77b4;\" x=\"186.453068\" xlink:href=\"#md897673cfc\" y=\"229.581761\"/>\r\n     <use style=\"fill:#1f77b4;stroke:#1f77b4;\" x=\"198.342386\" xlink:href=\"#md897673cfc\" y=\"229.581761\"/>\r\n     <use style=\"fill:#1f77b4;stroke:#1f77b4;\" x=\"210.231705\" xlink:href=\"#md897673cfc\" y=\"229.581761\"/>\r\n     <use style=\"fill:#1f77b4;stroke:#1f77b4;\" x=\"222.121023\" xlink:href=\"#md897673cfc\" y=\"229.581761\"/>\r\n     <use style=\"fill:#1f77b4;stroke:#1f77b4;\" x=\"234.010341\" xlink:href=\"#md897673cfc\" y=\"229.581761\"/>\r\n     <use style=\"fill:#1f77b4;stroke:#1f77b4;\" x=\"245.899659\" xlink:href=\"#md897673cfc\" y=\"229.581761\"/>\r\n     <use style=\"fill:#1f77b4;stroke:#1f77b4;\" x=\"257.788977\" xlink:href=\"#md897673cfc\" y=\"229.581761\"/>\r\n     <use style=\"fill:#1f77b4;stroke:#1f77b4;\" x=\"269.678295\" xlink:href=\"#md897673cfc\" y=\"229.581761\"/>\r\n     <use style=\"fill:#1f77b4;stroke:#1f77b4;\" x=\"281.567614\" xlink:href=\"#md897673cfc\" y=\"229.581761\"/>\r\n     <use style=\"fill:#1f77b4;stroke:#1f77b4;\" x=\"293.456932\" xlink:href=\"#md897673cfc\" y=\"229.581761\"/>\r\n     <use style=\"fill:#1f77b4;stroke:#1f77b4;\" x=\"55.670568\" xlink:href=\"#md897673cfc\" y=\"217.738125\"/>\r\n     <use style=\"fill:#1f77b4;stroke:#1f77b4;\" x=\"67.559886\" xlink:href=\"#md897673cfc\" y=\"217.738125\"/>\r\n     <use style=\"fill:#1f77b4;stroke:#1f77b4;\" x=\"79.449205\" xlink:href=\"#md897673cfc\" y=\"217.738125\"/>\r\n     <use style=\"fill:#1f77b4;stroke:#1f77b4;\" x=\"91.338523\" xlink:href=\"#md897673cfc\" y=\"217.738125\"/>\r\n     <use style=\"fill:#1f77b4;stroke:#1f77b4;\" x=\"103.227841\" xlink:href=\"#md897673cfc\" y=\"217.738125\"/>\r\n     <use style=\"fill:#1f77b4;stroke:#1f77b4;\" x=\"115.117159\" xlink:href=\"#md897673cfc\" y=\"217.738125\"/>\r\n     <use style=\"fill:#1f77b4;stroke:#1f77b4;\" x=\"127.006477\" xlink:href=\"#md897673cfc\" y=\"217.738125\"/>\r\n     <use style=\"fill:#1f77b4;stroke:#1f77b4;\" x=\"138.895795\" xlink:href=\"#md897673cfc\" y=\"217.738125\"/>\r\n     <use style=\"fill:#1f77b4;stroke:#1f77b4;\" x=\"150.785114\" xlink:href=\"#md897673cfc\" y=\"217.738125\"/>\r\n     <use style=\"fill:#1f77b4;stroke:#1f77b4;\" x=\"162.674432\" xlink:href=\"#md897673cfc\" y=\"217.738125\"/>\r\n     <use style=\"fill:#1f77b4;stroke:#1f77b4;\" x=\"174.56375\" xlink:href=\"#md897673cfc\" y=\"217.738125\"/>\r\n     <use style=\"fill:#1f77b4;stroke:#1f77b4;\" x=\"186.453068\" xlink:href=\"#md897673cfc\" y=\"217.738125\"/>\r\n     <use style=\"fill:#1f77b4;stroke:#1f77b4;\" x=\"198.342386\" xlink:href=\"#md897673cfc\" y=\"217.738125\"/>\r\n     <use style=\"fill:#1f77b4;stroke:#1f77b4;\" x=\"210.231705\" xlink:href=\"#md897673cfc\" y=\"217.738125\"/>\r\n     <use style=\"fill:#1f77b4;stroke:#1f77b4;\" x=\"222.121023\" xlink:href=\"#md897673cfc\" y=\"217.738125\"/>\r\n     <use style=\"fill:#1f77b4;stroke:#1f77b4;\" x=\"234.010341\" xlink:href=\"#md897673cfc\" y=\"217.738125\"/>\r\n     <use style=\"fill:#1f77b4;stroke:#1f77b4;\" x=\"245.899659\" xlink:href=\"#md897673cfc\" y=\"217.738125\"/>\r\n     <use style=\"fill:#1f77b4;stroke:#1f77b4;\" x=\"257.788977\" xlink:href=\"#md897673cfc\" y=\"217.738125\"/>\r\n     <use style=\"fill:#1f77b4;stroke:#1f77b4;\" x=\"269.678295\" xlink:href=\"#md897673cfc\" y=\"217.738125\"/>\r\n     <use style=\"fill:#1f77b4;stroke:#1f77b4;\" x=\"281.567614\" xlink:href=\"#md897673cfc\" y=\"217.738125\"/>\r\n     <use style=\"fill:#1f77b4;stroke:#1f77b4;\" x=\"293.456932\" xlink:href=\"#md897673cfc\" y=\"217.738125\"/>\r\n     <use style=\"fill:#1f77b4;stroke:#1f77b4;\" x=\"55.670568\" xlink:href=\"#md897673cfc\" y=\"205.894489\"/>\r\n     <use style=\"fill:#1f77b4;stroke:#1f77b4;\" x=\"67.559886\" xlink:href=\"#md897673cfc\" y=\"205.894489\"/>\r\n     <use style=\"fill:#1f77b4;stroke:#1f77b4;\" x=\"79.449205\" xlink:href=\"#md897673cfc\" y=\"205.894489\"/>\r\n     <use style=\"fill:#1f77b4;stroke:#1f77b4;\" x=\"91.338523\" xlink:href=\"#md897673cfc\" y=\"205.894489\"/>\r\n     <use style=\"fill:#1f77b4;stroke:#1f77b4;\" x=\"103.227841\" xlink:href=\"#md897673cfc\" y=\"205.894489\"/>\r\n     <use style=\"fill:#1f77b4;stroke:#1f77b4;\" x=\"115.117159\" xlink:href=\"#md897673cfc\" y=\"205.894489\"/>\r\n     <use style=\"fill:#1f77b4;stroke:#1f77b4;\" x=\"127.006477\" xlink:href=\"#md897673cfc\" y=\"205.894489\"/>\r\n     <use style=\"fill:#1f77b4;stroke:#1f77b4;\" x=\"138.895795\" xlink:href=\"#md897673cfc\" y=\"205.894489\"/>\r\n     <use style=\"fill:#1f77b4;stroke:#1f77b4;\" x=\"150.785114\" xlink:href=\"#md897673cfc\" y=\"205.894489\"/>\r\n     <use style=\"fill:#1f77b4;stroke:#1f77b4;\" x=\"162.674432\" xlink:href=\"#md897673cfc\" y=\"205.894489\"/>\r\n     <use style=\"fill:#1f77b4;stroke:#1f77b4;\" x=\"174.56375\" xlink:href=\"#md897673cfc\" y=\"205.894489\"/>\r\n     <use style=\"fill:#1f77b4;stroke:#1f77b4;\" x=\"186.453068\" xlink:href=\"#md897673cfc\" y=\"205.894489\"/>\r\n     <use style=\"fill:#1f77b4;stroke:#1f77b4;\" x=\"198.342386\" xlink:href=\"#md897673cfc\" y=\"205.894489\"/>\r\n     <use style=\"fill:#1f77b4;stroke:#1f77b4;\" x=\"210.231705\" xlink:href=\"#md897673cfc\" y=\"205.894489\"/>\r\n     <use style=\"fill:#1f77b4;stroke:#1f77b4;\" x=\"222.121023\" xlink:href=\"#md897673cfc\" y=\"205.894489\"/>\r\n     <use style=\"fill:#1f77b4;stroke:#1f77b4;\" x=\"234.010341\" xlink:href=\"#md897673cfc\" y=\"205.894489\"/>\r\n     <use style=\"fill:#1f77b4;stroke:#1f77b4;\" x=\"245.899659\" xlink:href=\"#md897673cfc\" y=\"205.894489\"/>\r\n     <use style=\"fill:#1f77b4;stroke:#1f77b4;\" x=\"257.788977\" xlink:href=\"#md897673cfc\" y=\"205.894489\"/>\r\n     <use style=\"fill:#1f77b4;stroke:#1f77b4;\" x=\"269.678295\" xlink:href=\"#md897673cfc\" y=\"205.894489\"/>\r\n     <use style=\"fill:#1f77b4;stroke:#1f77b4;\" x=\"281.567614\" xlink:href=\"#md897673cfc\" y=\"205.894489\"/>\r\n     <use style=\"fill:#1f77b4;stroke:#1f77b4;\" x=\"293.456932\" xlink:href=\"#md897673cfc\" y=\"205.894489\"/>\r\n     <use style=\"fill:#1f77b4;stroke:#1f77b4;\" x=\"55.670568\" xlink:href=\"#md897673cfc\" y=\"194.050852\"/>\r\n     <use style=\"fill:#1f77b4;stroke:#1f77b4;\" x=\"67.559886\" xlink:href=\"#md897673cfc\" y=\"194.050852\"/>\r\n     <use style=\"fill:#1f77b4;stroke:#1f77b4;\" x=\"79.449205\" xlink:href=\"#md897673cfc\" y=\"194.050852\"/>\r\n     <use style=\"fill:#1f77b4;stroke:#1f77b4;\" x=\"91.338523\" xlink:href=\"#md897673cfc\" y=\"194.050852\"/>\r\n     <use style=\"fill:#1f77b4;stroke:#1f77b4;\" x=\"103.227841\" xlink:href=\"#md897673cfc\" y=\"194.050852\"/>\r\n     <use style=\"fill:#1f77b4;stroke:#1f77b4;\" x=\"115.117159\" xlink:href=\"#md897673cfc\" y=\"194.050852\"/>\r\n     <use style=\"fill:#1f77b4;stroke:#1f77b4;\" x=\"127.006477\" xlink:href=\"#md897673cfc\" y=\"194.050852\"/>\r\n     <use style=\"fill:#1f77b4;stroke:#1f77b4;\" x=\"138.895795\" xlink:href=\"#md897673cfc\" y=\"194.050852\"/>\r\n     <use style=\"fill:#1f77b4;stroke:#1f77b4;\" x=\"150.785114\" xlink:href=\"#md897673cfc\" y=\"194.050852\"/>\r\n     <use style=\"fill:#1f77b4;stroke:#1f77b4;\" x=\"162.674432\" xlink:href=\"#md897673cfc\" y=\"194.050852\"/>\r\n     <use style=\"fill:#1f77b4;stroke:#1f77b4;\" x=\"174.56375\" xlink:href=\"#md897673cfc\" y=\"194.050852\"/>\r\n     <use style=\"fill:#1f77b4;stroke:#1f77b4;\" x=\"186.453068\" xlink:href=\"#md897673cfc\" y=\"194.050852\"/>\r\n     <use style=\"fill:#1f77b4;stroke:#1f77b4;\" x=\"198.342386\" xlink:href=\"#md897673cfc\" y=\"194.050852\"/>\r\n     <use style=\"fill:#1f77b4;stroke:#1f77b4;\" x=\"210.231705\" xlink:href=\"#md897673cfc\" y=\"194.050852\"/>\r\n     <use style=\"fill:#1f77b4;stroke:#1f77b4;\" x=\"222.121023\" xlink:href=\"#md897673cfc\" y=\"194.050852\"/>\r\n     <use style=\"fill:#1f77b4;stroke:#1f77b4;\" x=\"234.010341\" xlink:href=\"#md897673cfc\" y=\"194.050852\"/>\r\n     <use style=\"fill:#1f77b4;stroke:#1f77b4;\" x=\"245.899659\" xlink:href=\"#md897673cfc\" y=\"194.050852\"/>\r\n     <use style=\"fill:#1f77b4;stroke:#1f77b4;\" x=\"257.788977\" xlink:href=\"#md897673cfc\" y=\"194.050852\"/>\r\n     <use style=\"fill:#1f77b4;stroke:#1f77b4;\" x=\"269.678295\" xlink:href=\"#md897673cfc\" y=\"194.050852\"/>\r\n     <use style=\"fill:#1f77b4;stroke:#1f77b4;\" x=\"281.567614\" xlink:href=\"#md897673cfc\" y=\"194.050852\"/>\r\n     <use style=\"fill:#1f77b4;stroke:#1f77b4;\" x=\"293.456932\" xlink:href=\"#md897673cfc\" y=\"194.050852\"/>\r\n     <use style=\"fill:#1f77b4;stroke:#1f77b4;\" x=\"55.670568\" xlink:href=\"#md897673cfc\" y=\"182.207216\"/>\r\n     <use style=\"fill:#1f77b4;stroke:#1f77b4;\" x=\"67.559886\" xlink:href=\"#md897673cfc\" y=\"182.207216\"/>\r\n     <use style=\"fill:#1f77b4;stroke:#1f77b4;\" x=\"79.449205\" xlink:href=\"#md897673cfc\" y=\"182.207216\"/>\r\n     <use style=\"fill:#1f77b4;stroke:#1f77b4;\" x=\"91.338523\" xlink:href=\"#md897673cfc\" y=\"182.207216\"/>\r\n     <use style=\"fill:#1f77b4;stroke:#1f77b4;\" x=\"103.227841\" xlink:href=\"#md897673cfc\" y=\"182.207216\"/>\r\n     <use style=\"fill:#1f77b4;stroke:#1f77b4;\" x=\"115.117159\" xlink:href=\"#md897673cfc\" y=\"182.207216\"/>\r\n     <use style=\"fill:#1f77b4;stroke:#1f77b4;\" x=\"127.006477\" xlink:href=\"#md897673cfc\" y=\"182.207216\"/>\r\n     <use style=\"fill:#1f77b4;stroke:#1f77b4;\" x=\"138.895795\" xlink:href=\"#md897673cfc\" y=\"182.207216\"/>\r\n     <use style=\"fill:#1f77b4;stroke:#1f77b4;\" x=\"150.785114\" xlink:href=\"#md897673cfc\" y=\"182.207216\"/>\r\n     <use style=\"fill:#1f77b4;stroke:#1f77b4;\" x=\"162.674432\" xlink:href=\"#md897673cfc\" y=\"182.207216\"/>\r\n     <use style=\"fill:#1f77b4;stroke:#1f77b4;\" x=\"174.56375\" xlink:href=\"#md897673cfc\" y=\"182.207216\"/>\r\n     <use style=\"fill:#1f77b4;stroke:#1f77b4;\" x=\"186.453068\" xlink:href=\"#md897673cfc\" y=\"182.207216\"/>\r\n     <use style=\"fill:#1f77b4;stroke:#1f77b4;\" x=\"198.342386\" xlink:href=\"#md897673cfc\" y=\"182.207216\"/>\r\n     <use style=\"fill:#1f77b4;stroke:#1f77b4;\" x=\"210.231705\" xlink:href=\"#md897673cfc\" y=\"182.207216\"/>\r\n     <use style=\"fill:#1f77b4;stroke:#1f77b4;\" x=\"222.121023\" xlink:href=\"#md897673cfc\" y=\"182.207216\"/>\r\n     <use style=\"fill:#1f77b4;stroke:#1f77b4;\" x=\"234.010341\" xlink:href=\"#md897673cfc\" y=\"182.207216\"/>\r\n     <use style=\"fill:#1f77b4;stroke:#1f77b4;\" x=\"245.899659\" xlink:href=\"#md897673cfc\" y=\"182.207216\"/>\r\n     <use style=\"fill:#1f77b4;stroke:#1f77b4;\" x=\"257.788977\" xlink:href=\"#md897673cfc\" y=\"182.207216\"/>\r\n     <use style=\"fill:#1f77b4;stroke:#1f77b4;\" x=\"269.678295\" xlink:href=\"#md897673cfc\" y=\"182.207216\"/>\r\n     <use style=\"fill:#1f77b4;stroke:#1f77b4;\" x=\"281.567614\" xlink:href=\"#md897673cfc\" y=\"182.207216\"/>\r\n     <use style=\"fill:#1f77b4;stroke:#1f77b4;\" x=\"293.456932\" xlink:href=\"#md897673cfc\" y=\"182.207216\"/>\r\n     <use style=\"fill:#1f77b4;stroke:#1f77b4;\" x=\"55.670568\" xlink:href=\"#md897673cfc\" y=\"170.36358\"/>\r\n     <use style=\"fill:#1f77b4;stroke:#1f77b4;\" x=\"67.559886\" xlink:href=\"#md897673cfc\" y=\"170.36358\"/>\r\n     <use style=\"fill:#1f77b4;stroke:#1f77b4;\" x=\"79.449205\" xlink:href=\"#md897673cfc\" y=\"170.36358\"/>\r\n     <use style=\"fill:#1f77b4;stroke:#1f77b4;\" x=\"91.338523\" xlink:href=\"#md897673cfc\" y=\"170.36358\"/>\r\n     <use style=\"fill:#1f77b4;stroke:#1f77b4;\" x=\"103.227841\" xlink:href=\"#md897673cfc\" y=\"170.36358\"/>\r\n     <use style=\"fill:#1f77b4;stroke:#1f77b4;\" x=\"115.117159\" xlink:href=\"#md897673cfc\" y=\"170.36358\"/>\r\n     <use style=\"fill:#1f77b4;stroke:#1f77b4;\" x=\"127.006477\" xlink:href=\"#md897673cfc\" y=\"170.36358\"/>\r\n     <use style=\"fill:#1f77b4;stroke:#1f77b4;\" x=\"138.895795\" xlink:href=\"#md897673cfc\" y=\"170.36358\"/>\r\n     <use style=\"fill:#1f77b4;stroke:#1f77b4;\" x=\"150.785114\" xlink:href=\"#md897673cfc\" y=\"170.36358\"/>\r\n     <use style=\"fill:#1f77b4;stroke:#1f77b4;\" x=\"162.674432\" xlink:href=\"#md897673cfc\" y=\"170.36358\"/>\r\n     <use style=\"fill:#1f77b4;stroke:#1f77b4;\" x=\"174.56375\" xlink:href=\"#md897673cfc\" y=\"170.36358\"/>\r\n     <use style=\"fill:#1f77b4;stroke:#1f77b4;\" x=\"186.453068\" xlink:href=\"#md897673cfc\" y=\"170.36358\"/>\r\n     <use style=\"fill:#1f77b4;stroke:#1f77b4;\" x=\"198.342386\" xlink:href=\"#md897673cfc\" y=\"170.36358\"/>\r\n     <use style=\"fill:#1f77b4;stroke:#1f77b4;\" x=\"210.231705\" xlink:href=\"#md897673cfc\" y=\"170.36358\"/>\r\n     <use style=\"fill:#1f77b4;stroke:#1f77b4;\" x=\"222.121023\" xlink:href=\"#md897673cfc\" y=\"170.36358\"/>\r\n     <use style=\"fill:#1f77b4;stroke:#1f77b4;\" x=\"234.010341\" xlink:href=\"#md897673cfc\" y=\"170.36358\"/>\r\n     <use style=\"fill:#1f77b4;stroke:#1f77b4;\" x=\"245.899659\" xlink:href=\"#md897673cfc\" y=\"170.36358\"/>\r\n     <use style=\"fill:#1f77b4;stroke:#1f77b4;\" x=\"257.788977\" xlink:href=\"#md897673cfc\" y=\"170.36358\"/>\r\n     <use style=\"fill:#1f77b4;stroke:#1f77b4;\" x=\"269.678295\" xlink:href=\"#md897673cfc\" y=\"170.36358\"/>\r\n     <use style=\"fill:#1f77b4;stroke:#1f77b4;\" x=\"281.567614\" xlink:href=\"#md897673cfc\" y=\"170.36358\"/>\r\n     <use style=\"fill:#1f77b4;stroke:#1f77b4;\" x=\"293.456932\" xlink:href=\"#md897673cfc\" y=\"170.36358\"/>\r\n     <use style=\"fill:#1f77b4;stroke:#1f77b4;\" x=\"55.670568\" xlink:href=\"#md897673cfc\" y=\"158.519943\"/>\r\n     <use style=\"fill:#1f77b4;stroke:#1f77b4;\" x=\"67.559886\" xlink:href=\"#md897673cfc\" y=\"158.519943\"/>\r\n     <use style=\"fill:#1f77b4;stroke:#1f77b4;\" x=\"79.449205\" xlink:href=\"#md897673cfc\" y=\"158.519943\"/>\r\n     <use style=\"fill:#1f77b4;stroke:#1f77b4;\" x=\"91.338523\" xlink:href=\"#md897673cfc\" y=\"158.519943\"/>\r\n     <use style=\"fill:#1f77b4;stroke:#1f77b4;\" x=\"103.227841\" xlink:href=\"#md897673cfc\" y=\"158.519943\"/>\r\n     <use style=\"fill:#1f77b4;stroke:#1f77b4;\" x=\"115.117159\" xlink:href=\"#md897673cfc\" y=\"158.519943\"/>\r\n     <use style=\"fill:#1f77b4;stroke:#1f77b4;\" x=\"127.006477\" xlink:href=\"#md897673cfc\" y=\"158.519943\"/>\r\n     <use style=\"fill:#1f77b4;stroke:#1f77b4;\" x=\"138.895795\" xlink:href=\"#md897673cfc\" y=\"158.519943\"/>\r\n     <use style=\"fill:#1f77b4;stroke:#1f77b4;\" x=\"150.785114\" xlink:href=\"#md897673cfc\" y=\"158.519943\"/>\r\n     <use style=\"fill:#1f77b4;stroke:#1f77b4;\" x=\"162.674432\" xlink:href=\"#md897673cfc\" y=\"158.519943\"/>\r\n     <use style=\"fill:#1f77b4;stroke:#1f77b4;\" x=\"174.56375\" xlink:href=\"#md897673cfc\" y=\"158.519943\"/>\r\n     <use style=\"fill:#1f77b4;stroke:#1f77b4;\" x=\"186.453068\" xlink:href=\"#md897673cfc\" y=\"158.519943\"/>\r\n     <use style=\"fill:#1f77b4;stroke:#1f77b4;\" x=\"198.342386\" xlink:href=\"#md897673cfc\" y=\"158.519943\"/>\r\n     <use style=\"fill:#1f77b4;stroke:#1f77b4;\" x=\"210.231705\" xlink:href=\"#md897673cfc\" y=\"158.519943\"/>\r\n     <use style=\"fill:#1f77b4;stroke:#1f77b4;\" x=\"222.121023\" xlink:href=\"#md897673cfc\" y=\"158.519943\"/>\r\n     <use style=\"fill:#1f77b4;stroke:#1f77b4;\" x=\"234.010341\" xlink:href=\"#md897673cfc\" y=\"158.519943\"/>\r\n     <use style=\"fill:#1f77b4;stroke:#1f77b4;\" x=\"245.899659\" xlink:href=\"#md897673cfc\" y=\"158.519943\"/>\r\n     <use style=\"fill:#1f77b4;stroke:#1f77b4;\" x=\"257.788977\" xlink:href=\"#md897673cfc\" y=\"158.519943\"/>\r\n     <use style=\"fill:#1f77b4;stroke:#1f77b4;\" x=\"269.678295\" xlink:href=\"#md897673cfc\" y=\"158.519943\"/>\r\n     <use style=\"fill:#1f77b4;stroke:#1f77b4;\" x=\"281.567614\" xlink:href=\"#md897673cfc\" y=\"158.519943\"/>\r\n     <use style=\"fill:#1f77b4;stroke:#1f77b4;\" x=\"293.456932\" xlink:href=\"#md897673cfc\" y=\"158.519943\"/>\r\n     <use style=\"fill:#1f77b4;stroke:#1f77b4;\" x=\"55.670568\" xlink:href=\"#md897673cfc\" y=\"146.676307\"/>\r\n     <use style=\"fill:#1f77b4;stroke:#1f77b4;\" x=\"67.559886\" xlink:href=\"#md897673cfc\" y=\"146.676307\"/>\r\n     <use style=\"fill:#1f77b4;stroke:#1f77b4;\" x=\"79.449205\" xlink:href=\"#md897673cfc\" y=\"146.676307\"/>\r\n     <use style=\"fill:#1f77b4;stroke:#1f77b4;\" x=\"91.338523\" xlink:href=\"#md897673cfc\" y=\"146.676307\"/>\r\n     <use style=\"fill:#1f77b4;stroke:#1f77b4;\" x=\"103.227841\" xlink:href=\"#md897673cfc\" y=\"146.676307\"/>\r\n     <use style=\"fill:#1f77b4;stroke:#1f77b4;\" x=\"115.117159\" xlink:href=\"#md897673cfc\" y=\"146.676307\"/>\r\n     <use style=\"fill:#1f77b4;stroke:#1f77b4;\" x=\"127.006477\" xlink:href=\"#md897673cfc\" y=\"146.676307\"/>\r\n     <use style=\"fill:#1f77b4;stroke:#1f77b4;\" x=\"138.895795\" xlink:href=\"#md897673cfc\" y=\"146.676307\"/>\r\n     <use style=\"fill:#1f77b4;stroke:#1f77b4;\" x=\"150.785114\" xlink:href=\"#md897673cfc\" y=\"146.676307\"/>\r\n     <use style=\"fill:#1f77b4;stroke:#1f77b4;\" x=\"162.674432\" xlink:href=\"#md897673cfc\" y=\"146.676307\"/>\r\n     <use style=\"fill:#1f77b4;stroke:#1f77b4;\" x=\"174.56375\" xlink:href=\"#md897673cfc\" y=\"146.676307\"/>\r\n     <use style=\"fill:#1f77b4;stroke:#1f77b4;\" x=\"186.453068\" xlink:href=\"#md897673cfc\" y=\"146.676307\"/>\r\n     <use style=\"fill:#1f77b4;stroke:#1f77b4;\" x=\"198.342386\" xlink:href=\"#md897673cfc\" y=\"146.676307\"/>\r\n     <use style=\"fill:#1f77b4;stroke:#1f77b4;\" x=\"210.231705\" xlink:href=\"#md897673cfc\" y=\"146.676307\"/>\r\n     <use style=\"fill:#1f77b4;stroke:#1f77b4;\" x=\"222.121023\" xlink:href=\"#md897673cfc\" y=\"146.676307\"/>\r\n     <use style=\"fill:#1f77b4;stroke:#1f77b4;\" x=\"234.010341\" xlink:href=\"#md897673cfc\" y=\"146.676307\"/>\r\n     <use style=\"fill:#1f77b4;stroke:#1f77b4;\" x=\"245.899659\" xlink:href=\"#md897673cfc\" y=\"146.676307\"/>\r\n     <use style=\"fill:#1f77b4;stroke:#1f77b4;\" x=\"257.788977\" xlink:href=\"#md897673cfc\" y=\"146.676307\"/>\r\n     <use style=\"fill:#1f77b4;stroke:#1f77b4;\" x=\"269.678295\" xlink:href=\"#md897673cfc\" y=\"146.676307\"/>\r\n     <use style=\"fill:#1f77b4;stroke:#1f77b4;\" x=\"281.567614\" xlink:href=\"#md897673cfc\" y=\"146.676307\"/>\r\n     <use style=\"fill:#1f77b4;stroke:#1f77b4;\" x=\"293.456932\" xlink:href=\"#md897673cfc\" y=\"146.676307\"/>\r\n     <use style=\"fill:#1f77b4;stroke:#1f77b4;\" x=\"55.670568\" xlink:href=\"#md897673cfc\" y=\"134.83267\"/>\r\n     <use style=\"fill:#1f77b4;stroke:#1f77b4;\" x=\"67.559886\" xlink:href=\"#md897673cfc\" y=\"134.83267\"/>\r\n     <use style=\"fill:#1f77b4;stroke:#1f77b4;\" x=\"79.449205\" xlink:href=\"#md897673cfc\" y=\"134.83267\"/>\r\n     <use style=\"fill:#1f77b4;stroke:#1f77b4;\" x=\"91.338523\" xlink:href=\"#md897673cfc\" y=\"134.83267\"/>\r\n     <use style=\"fill:#1f77b4;stroke:#1f77b4;\" x=\"103.227841\" xlink:href=\"#md897673cfc\" y=\"134.83267\"/>\r\n     <use style=\"fill:#1f77b4;stroke:#1f77b4;\" x=\"115.117159\" xlink:href=\"#md897673cfc\" y=\"134.83267\"/>\r\n     <use style=\"fill:#1f77b4;stroke:#1f77b4;\" x=\"127.006477\" xlink:href=\"#md897673cfc\" y=\"134.83267\"/>\r\n     <use style=\"fill:#1f77b4;stroke:#1f77b4;\" x=\"138.895795\" xlink:href=\"#md897673cfc\" y=\"134.83267\"/>\r\n     <use style=\"fill:#1f77b4;stroke:#1f77b4;\" x=\"150.785114\" xlink:href=\"#md897673cfc\" y=\"134.83267\"/>\r\n     <use style=\"fill:#1f77b4;stroke:#1f77b4;\" x=\"162.674432\" xlink:href=\"#md897673cfc\" y=\"134.83267\"/>\r\n     <use style=\"fill:#1f77b4;stroke:#1f77b4;\" x=\"174.56375\" xlink:href=\"#md897673cfc\" y=\"134.83267\"/>\r\n     <use style=\"fill:#1f77b4;stroke:#1f77b4;\" x=\"186.453068\" xlink:href=\"#md897673cfc\" y=\"134.83267\"/>\r\n     <use style=\"fill:#1f77b4;stroke:#1f77b4;\" x=\"198.342386\" xlink:href=\"#md897673cfc\" y=\"134.83267\"/>\r\n     <use style=\"fill:#1f77b4;stroke:#1f77b4;\" x=\"210.231705\" xlink:href=\"#md897673cfc\" y=\"134.83267\"/>\r\n     <use style=\"fill:#1f77b4;stroke:#1f77b4;\" x=\"222.121023\" xlink:href=\"#md897673cfc\" y=\"134.83267\"/>\r\n     <use style=\"fill:#1f77b4;stroke:#1f77b4;\" x=\"234.010341\" xlink:href=\"#md897673cfc\" y=\"134.83267\"/>\r\n     <use style=\"fill:#1f77b4;stroke:#1f77b4;\" x=\"245.899659\" xlink:href=\"#md897673cfc\" y=\"134.83267\"/>\r\n     <use style=\"fill:#1f77b4;stroke:#1f77b4;\" x=\"257.788977\" xlink:href=\"#md897673cfc\" y=\"134.83267\"/>\r\n     <use style=\"fill:#1f77b4;stroke:#1f77b4;\" x=\"269.678295\" xlink:href=\"#md897673cfc\" y=\"134.83267\"/>\r\n     <use style=\"fill:#1f77b4;stroke:#1f77b4;\" x=\"281.567614\" xlink:href=\"#md897673cfc\" y=\"134.83267\"/>\r\n     <use style=\"fill:#1f77b4;stroke:#1f77b4;\" x=\"293.456932\" xlink:href=\"#md897673cfc\" y=\"134.83267\"/>\r\n     <use style=\"fill:#1f77b4;stroke:#1f77b4;\" x=\"55.670568\" xlink:href=\"#md897673cfc\" y=\"122.989034\"/>\r\n     <use style=\"fill:#1f77b4;stroke:#1f77b4;\" x=\"67.559886\" xlink:href=\"#md897673cfc\" y=\"122.989034\"/>\r\n     <use style=\"fill:#1f77b4;stroke:#1f77b4;\" x=\"79.449205\" xlink:href=\"#md897673cfc\" y=\"122.989034\"/>\r\n     <use style=\"fill:#1f77b4;stroke:#1f77b4;\" x=\"91.338523\" xlink:href=\"#md897673cfc\" y=\"122.989034\"/>\r\n     <use style=\"fill:#1f77b4;stroke:#1f77b4;\" x=\"103.227841\" xlink:href=\"#md897673cfc\" y=\"122.989034\"/>\r\n     <use style=\"fill:#1f77b4;stroke:#1f77b4;\" x=\"115.117159\" xlink:href=\"#md897673cfc\" y=\"122.989034\"/>\r\n     <use style=\"fill:#1f77b4;stroke:#1f77b4;\" x=\"127.006477\" xlink:href=\"#md897673cfc\" y=\"122.989034\"/>\r\n     <use style=\"fill:#1f77b4;stroke:#1f77b4;\" x=\"138.895795\" xlink:href=\"#md897673cfc\" y=\"122.989034\"/>\r\n     <use style=\"fill:#1f77b4;stroke:#1f77b4;\" x=\"150.785114\" xlink:href=\"#md897673cfc\" y=\"122.989034\"/>\r\n     <use style=\"fill:#1f77b4;stroke:#1f77b4;\" x=\"162.674432\" xlink:href=\"#md897673cfc\" y=\"122.989034\"/>\r\n     <use style=\"fill:#1f77b4;stroke:#1f77b4;\" x=\"174.56375\" xlink:href=\"#md897673cfc\" y=\"122.989034\"/>\r\n     <use style=\"fill:#1f77b4;stroke:#1f77b4;\" x=\"186.453068\" xlink:href=\"#md897673cfc\" y=\"122.989034\"/>\r\n     <use style=\"fill:#1f77b4;stroke:#1f77b4;\" x=\"198.342386\" xlink:href=\"#md897673cfc\" y=\"122.989034\"/>\r\n     <use style=\"fill:#1f77b4;stroke:#1f77b4;\" x=\"210.231705\" xlink:href=\"#md897673cfc\" y=\"122.989034\"/>\r\n     <use style=\"fill:#1f77b4;stroke:#1f77b4;\" x=\"222.121023\" xlink:href=\"#md897673cfc\" y=\"122.989034\"/>\r\n     <use style=\"fill:#1f77b4;stroke:#1f77b4;\" x=\"234.010341\" xlink:href=\"#md897673cfc\" y=\"122.989034\"/>\r\n     <use style=\"fill:#1f77b4;stroke:#1f77b4;\" x=\"245.899659\" xlink:href=\"#md897673cfc\" y=\"122.989034\"/>\r\n     <use style=\"fill:#1f77b4;stroke:#1f77b4;\" x=\"257.788977\" xlink:href=\"#md897673cfc\" y=\"122.989034\"/>\r\n     <use style=\"fill:#1f77b4;stroke:#1f77b4;\" x=\"269.678295\" xlink:href=\"#md897673cfc\" y=\"122.989034\"/>\r\n     <use style=\"fill:#1f77b4;stroke:#1f77b4;\" x=\"281.567614\" xlink:href=\"#md897673cfc\" y=\"122.989034\"/>\r\n     <use style=\"fill:#1f77b4;stroke:#1f77b4;\" x=\"293.456932\" xlink:href=\"#md897673cfc\" y=\"122.989034\"/>\r\n     <use style=\"fill:#1f77b4;stroke:#1f77b4;\" x=\"55.670568\" xlink:href=\"#md897673cfc\" y=\"111.145398\"/>\r\n     <use style=\"fill:#1f77b4;stroke:#1f77b4;\" x=\"67.559886\" xlink:href=\"#md897673cfc\" y=\"111.145398\"/>\r\n     <use style=\"fill:#1f77b4;stroke:#1f77b4;\" x=\"79.449205\" xlink:href=\"#md897673cfc\" y=\"111.145398\"/>\r\n     <use style=\"fill:#1f77b4;stroke:#1f77b4;\" x=\"91.338523\" xlink:href=\"#md897673cfc\" y=\"111.145398\"/>\r\n     <use style=\"fill:#1f77b4;stroke:#1f77b4;\" x=\"103.227841\" xlink:href=\"#md897673cfc\" y=\"111.145398\"/>\r\n     <use style=\"fill:#1f77b4;stroke:#1f77b4;\" x=\"115.117159\" xlink:href=\"#md897673cfc\" y=\"111.145398\"/>\r\n     <use style=\"fill:#1f77b4;stroke:#1f77b4;\" x=\"127.006477\" xlink:href=\"#md897673cfc\" y=\"111.145398\"/>\r\n     <use style=\"fill:#1f77b4;stroke:#1f77b4;\" x=\"138.895795\" xlink:href=\"#md897673cfc\" y=\"111.145398\"/>\r\n     <use style=\"fill:#1f77b4;stroke:#1f77b4;\" x=\"150.785114\" xlink:href=\"#md897673cfc\" y=\"111.145398\"/>\r\n     <use style=\"fill:#1f77b4;stroke:#1f77b4;\" x=\"162.674432\" xlink:href=\"#md897673cfc\" y=\"111.145398\"/>\r\n     <use style=\"fill:#1f77b4;stroke:#1f77b4;\" x=\"174.56375\" xlink:href=\"#md897673cfc\" y=\"111.145398\"/>\r\n     <use style=\"fill:#1f77b4;stroke:#1f77b4;\" x=\"186.453068\" xlink:href=\"#md897673cfc\" y=\"111.145398\"/>\r\n     <use style=\"fill:#1f77b4;stroke:#1f77b4;\" x=\"198.342386\" xlink:href=\"#md897673cfc\" y=\"111.145398\"/>\r\n     <use style=\"fill:#1f77b4;stroke:#1f77b4;\" x=\"210.231705\" xlink:href=\"#md897673cfc\" y=\"111.145398\"/>\r\n     <use style=\"fill:#1f77b4;stroke:#1f77b4;\" x=\"222.121023\" xlink:href=\"#md897673cfc\" y=\"111.145398\"/>\r\n     <use style=\"fill:#1f77b4;stroke:#1f77b4;\" x=\"234.010341\" xlink:href=\"#md897673cfc\" y=\"111.145398\"/>\r\n     <use style=\"fill:#1f77b4;stroke:#1f77b4;\" x=\"245.899659\" xlink:href=\"#md897673cfc\" y=\"111.145398\"/>\r\n     <use style=\"fill:#1f77b4;stroke:#1f77b4;\" x=\"257.788977\" xlink:href=\"#md897673cfc\" y=\"111.145398\"/>\r\n     <use style=\"fill:#1f77b4;stroke:#1f77b4;\" x=\"269.678295\" xlink:href=\"#md897673cfc\" y=\"111.145398\"/>\r\n     <use style=\"fill:#1f77b4;stroke:#1f77b4;\" x=\"281.567614\" xlink:href=\"#md897673cfc\" y=\"111.145398\"/>\r\n     <use style=\"fill:#1f77b4;stroke:#1f77b4;\" x=\"293.456932\" xlink:href=\"#md897673cfc\" y=\"111.145398\"/>\r\n     <use style=\"fill:#1f77b4;stroke:#1f77b4;\" x=\"55.670568\" xlink:href=\"#md897673cfc\" y=\"99.301761\"/>\r\n     <use style=\"fill:#1f77b4;stroke:#1f77b4;\" x=\"67.559886\" xlink:href=\"#md897673cfc\" y=\"99.301761\"/>\r\n     <use style=\"fill:#1f77b4;stroke:#1f77b4;\" x=\"79.449205\" xlink:href=\"#md897673cfc\" y=\"99.301761\"/>\r\n     <use style=\"fill:#1f77b4;stroke:#1f77b4;\" x=\"91.338523\" xlink:href=\"#md897673cfc\" y=\"99.301761\"/>\r\n     <use style=\"fill:#1f77b4;stroke:#1f77b4;\" x=\"103.227841\" xlink:href=\"#md897673cfc\" y=\"99.301761\"/>\r\n     <use style=\"fill:#1f77b4;stroke:#1f77b4;\" x=\"115.117159\" xlink:href=\"#md897673cfc\" y=\"99.301761\"/>\r\n     <use style=\"fill:#1f77b4;stroke:#1f77b4;\" x=\"127.006477\" xlink:href=\"#md897673cfc\" y=\"99.301761\"/>\r\n     <use style=\"fill:#1f77b4;stroke:#1f77b4;\" x=\"138.895795\" xlink:href=\"#md897673cfc\" y=\"99.301761\"/>\r\n     <use style=\"fill:#1f77b4;stroke:#1f77b4;\" x=\"150.785114\" xlink:href=\"#md897673cfc\" y=\"99.301761\"/>\r\n     <use style=\"fill:#1f77b4;stroke:#1f77b4;\" x=\"162.674432\" xlink:href=\"#md897673cfc\" y=\"99.301761\"/>\r\n     <use style=\"fill:#1f77b4;stroke:#1f77b4;\" x=\"174.56375\" xlink:href=\"#md897673cfc\" y=\"99.301761\"/>\r\n     <use style=\"fill:#1f77b4;stroke:#1f77b4;\" x=\"186.453068\" xlink:href=\"#md897673cfc\" y=\"99.301761\"/>\r\n     <use style=\"fill:#1f77b4;stroke:#1f77b4;\" x=\"198.342386\" xlink:href=\"#md897673cfc\" y=\"99.301761\"/>\r\n     <use style=\"fill:#1f77b4;stroke:#1f77b4;\" x=\"210.231705\" xlink:href=\"#md897673cfc\" y=\"99.301761\"/>\r\n     <use style=\"fill:#1f77b4;stroke:#1f77b4;\" x=\"222.121023\" xlink:href=\"#md897673cfc\" y=\"99.301761\"/>\r\n     <use style=\"fill:#1f77b4;stroke:#1f77b4;\" x=\"234.010341\" xlink:href=\"#md897673cfc\" y=\"99.301761\"/>\r\n     <use style=\"fill:#1f77b4;stroke:#1f77b4;\" x=\"245.899659\" xlink:href=\"#md897673cfc\" y=\"99.301761\"/>\r\n     <use style=\"fill:#1f77b4;stroke:#1f77b4;\" x=\"257.788977\" xlink:href=\"#md897673cfc\" y=\"99.301761\"/>\r\n     <use style=\"fill:#1f77b4;stroke:#1f77b4;\" x=\"269.678295\" xlink:href=\"#md897673cfc\" y=\"99.301761\"/>\r\n     <use style=\"fill:#1f77b4;stroke:#1f77b4;\" x=\"281.567614\" xlink:href=\"#md897673cfc\" y=\"99.301761\"/>\r\n     <use style=\"fill:#1f77b4;stroke:#1f77b4;\" x=\"293.456932\" xlink:href=\"#md897673cfc\" y=\"99.301761\"/>\r\n     <use style=\"fill:#1f77b4;stroke:#1f77b4;\" x=\"55.670568\" xlink:href=\"#md897673cfc\" y=\"87.458125\"/>\r\n     <use style=\"fill:#1f77b4;stroke:#1f77b4;\" x=\"67.559886\" xlink:href=\"#md897673cfc\" y=\"87.458125\"/>\r\n     <use style=\"fill:#1f77b4;stroke:#1f77b4;\" x=\"79.449205\" xlink:href=\"#md897673cfc\" y=\"87.458125\"/>\r\n     <use style=\"fill:#1f77b4;stroke:#1f77b4;\" x=\"91.338523\" xlink:href=\"#md897673cfc\" y=\"87.458125\"/>\r\n     <use style=\"fill:#1f77b4;stroke:#1f77b4;\" x=\"103.227841\" xlink:href=\"#md897673cfc\" y=\"87.458125\"/>\r\n     <use style=\"fill:#1f77b4;stroke:#1f77b4;\" x=\"115.117159\" xlink:href=\"#md897673cfc\" y=\"87.458125\"/>\r\n     <use style=\"fill:#1f77b4;stroke:#1f77b4;\" x=\"127.006477\" xlink:href=\"#md897673cfc\" y=\"87.458125\"/>\r\n     <use style=\"fill:#1f77b4;stroke:#1f77b4;\" x=\"138.895795\" xlink:href=\"#md897673cfc\" y=\"87.458125\"/>\r\n     <use style=\"fill:#1f77b4;stroke:#1f77b4;\" x=\"150.785114\" xlink:href=\"#md897673cfc\" y=\"87.458125\"/>\r\n     <use style=\"fill:#1f77b4;stroke:#1f77b4;\" x=\"162.674432\" xlink:href=\"#md897673cfc\" y=\"87.458125\"/>\r\n     <use style=\"fill:#1f77b4;stroke:#1f77b4;\" x=\"174.56375\" xlink:href=\"#md897673cfc\" y=\"87.458125\"/>\r\n     <use style=\"fill:#1f77b4;stroke:#1f77b4;\" x=\"186.453068\" xlink:href=\"#md897673cfc\" y=\"87.458125\"/>\r\n     <use style=\"fill:#1f77b4;stroke:#1f77b4;\" x=\"198.342386\" xlink:href=\"#md897673cfc\" y=\"87.458125\"/>\r\n     <use style=\"fill:#1f77b4;stroke:#1f77b4;\" x=\"210.231705\" xlink:href=\"#md897673cfc\" y=\"87.458125\"/>\r\n     <use style=\"fill:#1f77b4;stroke:#1f77b4;\" x=\"222.121023\" xlink:href=\"#md897673cfc\" y=\"87.458125\"/>\r\n     <use style=\"fill:#1f77b4;stroke:#1f77b4;\" x=\"234.010341\" xlink:href=\"#md897673cfc\" y=\"87.458125\"/>\r\n     <use style=\"fill:#1f77b4;stroke:#1f77b4;\" x=\"245.899659\" xlink:href=\"#md897673cfc\" y=\"87.458125\"/>\r\n     <use style=\"fill:#1f77b4;stroke:#1f77b4;\" x=\"257.788977\" xlink:href=\"#md897673cfc\" y=\"87.458125\"/>\r\n     <use style=\"fill:#1f77b4;stroke:#1f77b4;\" x=\"269.678295\" xlink:href=\"#md897673cfc\" y=\"87.458125\"/>\r\n     <use style=\"fill:#1f77b4;stroke:#1f77b4;\" x=\"281.567614\" xlink:href=\"#md897673cfc\" y=\"87.458125\"/>\r\n     <use style=\"fill:#1f77b4;stroke:#1f77b4;\" x=\"293.456932\" xlink:href=\"#md897673cfc\" y=\"87.458125\"/>\r\n     <use style=\"fill:#1f77b4;stroke:#1f77b4;\" x=\"55.670568\" xlink:href=\"#md897673cfc\" y=\"75.614489\"/>\r\n     <use style=\"fill:#1f77b4;stroke:#1f77b4;\" x=\"67.559886\" xlink:href=\"#md897673cfc\" y=\"75.614489\"/>\r\n     <use style=\"fill:#1f77b4;stroke:#1f77b4;\" x=\"79.449205\" xlink:href=\"#md897673cfc\" y=\"75.614489\"/>\r\n     <use style=\"fill:#1f77b4;stroke:#1f77b4;\" x=\"91.338523\" xlink:href=\"#md897673cfc\" y=\"75.614489\"/>\r\n     <use style=\"fill:#1f77b4;stroke:#1f77b4;\" x=\"103.227841\" xlink:href=\"#md897673cfc\" y=\"75.614489\"/>\r\n     <use style=\"fill:#1f77b4;stroke:#1f77b4;\" x=\"115.117159\" xlink:href=\"#md897673cfc\" y=\"75.614489\"/>\r\n     <use style=\"fill:#1f77b4;stroke:#1f77b4;\" x=\"127.006477\" xlink:href=\"#md897673cfc\" y=\"75.614489\"/>\r\n     <use style=\"fill:#1f77b4;stroke:#1f77b4;\" x=\"138.895795\" xlink:href=\"#md897673cfc\" y=\"75.614489\"/>\r\n     <use style=\"fill:#1f77b4;stroke:#1f77b4;\" x=\"150.785114\" xlink:href=\"#md897673cfc\" y=\"75.614489\"/>\r\n     <use style=\"fill:#1f77b4;stroke:#1f77b4;\" x=\"162.674432\" xlink:href=\"#md897673cfc\" y=\"75.614489\"/>\r\n     <use style=\"fill:#1f77b4;stroke:#1f77b4;\" x=\"174.56375\" xlink:href=\"#md897673cfc\" y=\"75.614489\"/>\r\n     <use style=\"fill:#1f77b4;stroke:#1f77b4;\" x=\"186.453068\" xlink:href=\"#md897673cfc\" y=\"75.614489\"/>\r\n     <use style=\"fill:#1f77b4;stroke:#1f77b4;\" x=\"198.342386\" xlink:href=\"#md897673cfc\" y=\"75.614489\"/>\r\n     <use style=\"fill:#1f77b4;stroke:#1f77b4;\" x=\"210.231705\" xlink:href=\"#md897673cfc\" y=\"75.614489\"/>\r\n     <use style=\"fill:#1f77b4;stroke:#1f77b4;\" x=\"222.121023\" xlink:href=\"#md897673cfc\" y=\"75.614489\"/>\r\n     <use style=\"fill:#1f77b4;stroke:#1f77b4;\" x=\"234.010341\" xlink:href=\"#md897673cfc\" y=\"75.614489\"/>\r\n     <use style=\"fill:#1f77b4;stroke:#1f77b4;\" x=\"245.899659\" xlink:href=\"#md897673cfc\" y=\"75.614489\"/>\r\n     <use style=\"fill:#1f77b4;stroke:#1f77b4;\" x=\"257.788977\" xlink:href=\"#md897673cfc\" y=\"75.614489\"/>\r\n     <use style=\"fill:#1f77b4;stroke:#1f77b4;\" x=\"269.678295\" xlink:href=\"#md897673cfc\" y=\"75.614489\"/>\r\n     <use style=\"fill:#1f77b4;stroke:#1f77b4;\" x=\"281.567614\" xlink:href=\"#md897673cfc\" y=\"75.614489\"/>\r\n     <use style=\"fill:#1f77b4;stroke:#1f77b4;\" x=\"293.456932\" xlink:href=\"#md897673cfc\" y=\"75.614489\"/>\r\n     <use style=\"fill:#1f77b4;stroke:#1f77b4;\" x=\"55.670568\" xlink:href=\"#md897673cfc\" y=\"63.770852\"/>\r\n     <use style=\"fill:#1f77b4;stroke:#1f77b4;\" x=\"67.559886\" xlink:href=\"#md897673cfc\" y=\"63.770852\"/>\r\n     <use style=\"fill:#1f77b4;stroke:#1f77b4;\" x=\"79.449205\" xlink:href=\"#md897673cfc\" y=\"63.770852\"/>\r\n     <use style=\"fill:#1f77b4;stroke:#1f77b4;\" x=\"91.338523\" xlink:href=\"#md897673cfc\" y=\"63.770852\"/>\r\n     <use style=\"fill:#1f77b4;stroke:#1f77b4;\" x=\"103.227841\" xlink:href=\"#md897673cfc\" y=\"63.770852\"/>\r\n     <use style=\"fill:#1f77b4;stroke:#1f77b4;\" x=\"115.117159\" xlink:href=\"#md897673cfc\" y=\"63.770852\"/>\r\n     <use style=\"fill:#1f77b4;stroke:#1f77b4;\" x=\"127.006477\" xlink:href=\"#md897673cfc\" y=\"63.770852\"/>\r\n     <use style=\"fill:#1f77b4;stroke:#1f77b4;\" x=\"138.895795\" xlink:href=\"#md897673cfc\" y=\"63.770852\"/>\r\n     <use style=\"fill:#1f77b4;stroke:#1f77b4;\" x=\"150.785114\" xlink:href=\"#md897673cfc\" y=\"63.770852\"/>\r\n     <use style=\"fill:#1f77b4;stroke:#1f77b4;\" x=\"162.674432\" xlink:href=\"#md897673cfc\" y=\"63.770852\"/>\r\n     <use style=\"fill:#1f77b4;stroke:#1f77b4;\" x=\"174.56375\" xlink:href=\"#md897673cfc\" y=\"63.770852\"/>\r\n     <use style=\"fill:#1f77b4;stroke:#1f77b4;\" x=\"186.453068\" xlink:href=\"#md897673cfc\" y=\"63.770852\"/>\r\n     <use style=\"fill:#1f77b4;stroke:#1f77b4;\" x=\"198.342386\" xlink:href=\"#md897673cfc\" y=\"63.770852\"/>\r\n     <use style=\"fill:#1f77b4;stroke:#1f77b4;\" x=\"210.231705\" xlink:href=\"#md897673cfc\" y=\"63.770852\"/>\r\n     <use style=\"fill:#1f77b4;stroke:#1f77b4;\" x=\"222.121023\" xlink:href=\"#md897673cfc\" y=\"63.770852\"/>\r\n     <use style=\"fill:#1f77b4;stroke:#1f77b4;\" x=\"234.010341\" xlink:href=\"#md897673cfc\" y=\"63.770852\"/>\r\n     <use style=\"fill:#1f77b4;stroke:#1f77b4;\" x=\"245.899659\" xlink:href=\"#md897673cfc\" y=\"63.770852\"/>\r\n     <use style=\"fill:#1f77b4;stroke:#1f77b4;\" x=\"257.788977\" xlink:href=\"#md897673cfc\" y=\"63.770852\"/>\r\n     <use style=\"fill:#1f77b4;stroke:#1f77b4;\" x=\"269.678295\" xlink:href=\"#md897673cfc\" y=\"63.770852\"/>\r\n     <use style=\"fill:#1f77b4;stroke:#1f77b4;\" x=\"281.567614\" xlink:href=\"#md897673cfc\" y=\"63.770852\"/>\r\n     <use style=\"fill:#1f77b4;stroke:#1f77b4;\" x=\"293.456932\" xlink:href=\"#md897673cfc\" y=\"63.770852\"/>\r\n     <use style=\"fill:#1f77b4;stroke:#1f77b4;\" x=\"55.670568\" xlink:href=\"#md897673cfc\" y=\"51.927216\"/>\r\n     <use style=\"fill:#1f77b4;stroke:#1f77b4;\" x=\"67.559886\" xlink:href=\"#md897673cfc\" y=\"51.927216\"/>\r\n     <use style=\"fill:#1f77b4;stroke:#1f77b4;\" x=\"79.449205\" xlink:href=\"#md897673cfc\" y=\"51.927216\"/>\r\n     <use style=\"fill:#1f77b4;stroke:#1f77b4;\" x=\"91.338523\" xlink:href=\"#md897673cfc\" y=\"51.927216\"/>\r\n     <use style=\"fill:#1f77b4;stroke:#1f77b4;\" x=\"103.227841\" xlink:href=\"#md897673cfc\" y=\"51.927216\"/>\r\n     <use style=\"fill:#1f77b4;stroke:#1f77b4;\" x=\"115.117159\" xlink:href=\"#md897673cfc\" y=\"51.927216\"/>\r\n     <use style=\"fill:#1f77b4;stroke:#1f77b4;\" x=\"127.006477\" xlink:href=\"#md897673cfc\" y=\"51.927216\"/>\r\n     <use style=\"fill:#1f77b4;stroke:#1f77b4;\" x=\"138.895795\" xlink:href=\"#md897673cfc\" y=\"51.927216\"/>\r\n     <use style=\"fill:#1f77b4;stroke:#1f77b4;\" x=\"150.785114\" xlink:href=\"#md897673cfc\" y=\"51.927216\"/>\r\n     <use style=\"fill:#1f77b4;stroke:#1f77b4;\" x=\"162.674432\" xlink:href=\"#md897673cfc\" y=\"51.927216\"/>\r\n     <use style=\"fill:#1f77b4;stroke:#1f77b4;\" x=\"174.56375\" xlink:href=\"#md897673cfc\" y=\"51.927216\"/>\r\n     <use style=\"fill:#1f77b4;stroke:#1f77b4;\" x=\"186.453068\" xlink:href=\"#md897673cfc\" y=\"51.927216\"/>\r\n     <use style=\"fill:#1f77b4;stroke:#1f77b4;\" x=\"198.342386\" xlink:href=\"#md897673cfc\" y=\"51.927216\"/>\r\n     <use style=\"fill:#1f77b4;stroke:#1f77b4;\" x=\"210.231705\" xlink:href=\"#md897673cfc\" y=\"51.927216\"/>\r\n     <use style=\"fill:#1f77b4;stroke:#1f77b4;\" x=\"222.121023\" xlink:href=\"#md897673cfc\" y=\"51.927216\"/>\r\n     <use style=\"fill:#1f77b4;stroke:#1f77b4;\" x=\"234.010341\" xlink:href=\"#md897673cfc\" y=\"51.927216\"/>\r\n     <use style=\"fill:#1f77b4;stroke:#1f77b4;\" x=\"245.899659\" xlink:href=\"#md897673cfc\" y=\"51.927216\"/>\r\n     <use style=\"fill:#1f77b4;stroke:#1f77b4;\" x=\"257.788977\" xlink:href=\"#md897673cfc\" y=\"51.927216\"/>\r\n     <use style=\"fill:#1f77b4;stroke:#1f77b4;\" x=\"269.678295\" xlink:href=\"#md897673cfc\" y=\"51.927216\"/>\r\n     <use style=\"fill:#1f77b4;stroke:#1f77b4;\" x=\"281.567614\" xlink:href=\"#md897673cfc\" y=\"51.927216\"/>\r\n     <use style=\"fill:#1f77b4;stroke:#1f77b4;\" x=\"293.456932\" xlink:href=\"#md897673cfc\" y=\"51.927216\"/>\r\n    </g>\r\n   </g>\r\n   <g id=\"PathCollection_2\">\r\n    <defs>\r\n     <path d=\"M -3 3 \r\nL 3 -3 \r\nM -3 -3 \r\nL 3 3 \r\n\" id=\"m16c3e5a747\" style=\"stroke:#ff7f0e;stroke-width:1.5;\"/>\r\n    </defs>\r\n    <g clip-path=\"url(#p49fbe6b77d)\">\r\n     <use style=\"fill:#ff7f0e;stroke:#ff7f0e;stroke-width:1.5;\" x=\"55.670568\" xlink:href=\"#m16c3e5a747\" y=\"525.67267\"/>\r\n     <use style=\"fill:#ff7f0e;stroke:#ff7f0e;stroke-width:1.5;\" x=\"67.559886\" xlink:href=\"#m16c3e5a747\" y=\"525.67267\"/>\r\n     <use style=\"fill:#ff7f0e;stroke:#ff7f0e;stroke-width:1.5;\" x=\"55.670568\" xlink:href=\"#m16c3e5a747\" y=\"513.829034\"/>\r\n     <use style=\"fill:#ff7f0e;stroke:#ff7f0e;stroke-width:1.5;\" x=\"67.559886\" xlink:href=\"#m16c3e5a747\" y=\"513.829034\"/>\r\n     <use style=\"fill:#ff7f0e;stroke:#ff7f0e;stroke-width:1.5;\" x=\"55.670568\" xlink:href=\"#m16c3e5a747\" y=\"501.985398\"/>\r\n     <use style=\"fill:#ff7f0e;stroke:#ff7f0e;stroke-width:1.5;\" x=\"67.559886\" xlink:href=\"#m16c3e5a747\" y=\"501.985398\"/>\r\n     <use style=\"fill:#ff7f0e;stroke:#ff7f0e;stroke-width:1.5;\" x=\"55.670568\" xlink:href=\"#m16c3e5a747\" y=\"194.050852\"/>\r\n     <use style=\"fill:#ff7f0e;stroke:#ff7f0e;stroke-width:1.5;\" x=\"67.559886\" xlink:href=\"#m16c3e5a747\" y=\"194.050852\"/>\r\n     <use style=\"fill:#ff7f0e;stroke:#ff7f0e;stroke-width:1.5;\" x=\"55.670568\" xlink:href=\"#m16c3e5a747\" y=\"182.207216\"/>\r\n     <use style=\"fill:#ff7f0e;stroke:#ff7f0e;stroke-width:1.5;\" x=\"67.559886\" xlink:href=\"#m16c3e5a747\" y=\"182.207216\"/>\r\n     <use style=\"fill:#ff7f0e;stroke:#ff7f0e;stroke-width:1.5;\" x=\"55.670568\" xlink:href=\"#m16c3e5a747\" y=\"170.36358\"/>\r\n     <use style=\"fill:#ff7f0e;stroke:#ff7f0e;stroke-width:1.5;\" x=\"67.559886\" xlink:href=\"#m16c3e5a747\" y=\"170.36358\"/>\r\n     <use style=\"fill:#ff7f0e;stroke:#ff7f0e;stroke-width:1.5;\" x=\"269.678295\" xlink:href=\"#m16c3e5a747\" y=\"359.861761\"/>\r\n     <use style=\"fill:#ff7f0e;stroke:#ff7f0e;stroke-width:1.5;\" x=\"281.567614\" xlink:href=\"#m16c3e5a747\" y=\"359.861761\"/>\r\n     <use style=\"fill:#ff7f0e;stroke:#ff7f0e;stroke-width:1.5;\" x=\"293.456932\" xlink:href=\"#m16c3e5a747\" y=\"359.861761\"/>\r\n     <use style=\"fill:#ff7f0e;stroke:#ff7f0e;stroke-width:1.5;\" x=\"269.678295\" xlink:href=\"#m16c3e5a747\" y=\"348.018125\"/>\r\n     <use style=\"fill:#ff7f0e;stroke:#ff7f0e;stroke-width:1.5;\" x=\"281.567614\" xlink:href=\"#m16c3e5a747\" y=\"348.018125\"/>\r\n     <use style=\"fill:#ff7f0e;stroke:#ff7f0e;stroke-width:1.5;\" x=\"293.456932\" xlink:href=\"#m16c3e5a747\" y=\"348.018125\"/>\r\n     <use style=\"fill:#ff7f0e;stroke:#ff7f0e;stroke-width:1.5;\" x=\"269.678295\" xlink:href=\"#m16c3e5a747\" y=\"336.174489\"/>\r\n     <use style=\"fill:#ff7f0e;stroke:#ff7f0e;stroke-width:1.5;\" x=\"281.567614\" xlink:href=\"#m16c3e5a747\" y=\"336.174489\"/>\r\n     <use style=\"fill:#ff7f0e;stroke:#ff7f0e;stroke-width:1.5;\" x=\"293.456932\" xlink:href=\"#m16c3e5a747\" y=\"336.174489\"/>\r\n     <use style=\"fill:#ff7f0e;stroke:#ff7f0e;stroke-width:1.5;\" x=\"269.678295\" xlink:href=\"#m16c3e5a747\" y=\"324.330852\"/>\r\n     <use style=\"fill:#ff7f0e;stroke:#ff7f0e;stroke-width:1.5;\" x=\"281.567614\" xlink:href=\"#m16c3e5a747\" y=\"324.330852\"/>\r\n     <use style=\"fill:#ff7f0e;stroke:#ff7f0e;stroke-width:1.5;\" x=\"293.456932\" xlink:href=\"#m16c3e5a747\" y=\"324.330852\"/>\r\n     <use style=\"fill:#ff7f0e;stroke:#ff7f0e;stroke-width:1.5;\" x=\"269.678295\" xlink:href=\"#m16c3e5a747\" y=\"312.487216\"/>\r\n     <use style=\"fill:#ff7f0e;stroke:#ff7f0e;stroke-width:1.5;\" x=\"281.567614\" xlink:href=\"#m16c3e5a747\" y=\"312.487216\"/>\r\n     <use style=\"fill:#ff7f0e;stroke:#ff7f0e;stroke-width:1.5;\" x=\"293.456932\" xlink:href=\"#m16c3e5a747\" y=\"312.487216\"/>\r\n    </g>\r\n   </g>\r\n   <g id=\"matplotlib.axis_1\">\r\n    <g id=\"xtick_1\">\r\n     <g id=\"line2d_1\">\r\n      <defs>\r\n       <path d=\"M 0 0 \r\nL 0 3.5 \r\n\" id=\"m4d33867e16\" style=\"stroke:#000000;stroke-width:0.8;\"/>\r\n      </defs>\r\n      <g>\r\n       <use style=\"stroke:#000000;stroke-width:0.8;\" x=\"55.670568\" xlink:href=\"#m4d33867e16\" y=\"673.718125\"/>\r\n      </g>\r\n     </g>\r\n     <g id=\"text_1\">\r\n      <!-- 0.00 -->\r\n      <g transform=\"translate(44.537756 688.316562)scale(0.1 -0.1)\">\r\n       <defs>\r\n        <path d=\"M 2034 4250 \r\nQ 1547 4250 1301 3770 \r\nQ 1056 3291 1056 2328 \r\nQ 1056 1369 1301 889 \r\nQ 1547 409 2034 409 \r\nQ 2525 409 2770 889 \r\nQ 3016 1369 3016 2328 \r\nQ 3016 3291 2770 3770 \r\nQ 2525 4250 2034 4250 \r\nz\r\nM 2034 4750 \r\nQ 2819 4750 3233 4129 \r\nQ 3647 3509 3647 2328 \r\nQ 3647 1150 3233 529 \r\nQ 2819 -91 2034 -91 \r\nQ 1250 -91 836 529 \r\nQ 422 1150 422 2328 \r\nQ 422 3509 836 4129 \r\nQ 1250 4750 2034 4750 \r\nz\r\n\" id=\"DejaVuSans-30\" transform=\"scale(0.015625)\"/>\r\n        <path d=\"M 684 794 \r\nL 1344 794 \r\nL 1344 0 \r\nL 684 0 \r\nL 684 794 \r\nz\r\n\" id=\"DejaVuSans-2e\" transform=\"scale(0.015625)\"/>\r\n       </defs>\r\n       <use xlink:href=\"#DejaVuSans-30\"/>\r\n       <use x=\"63.623047\" xlink:href=\"#DejaVuSans-2e\"/>\r\n       <use x=\"95.410156\" xlink:href=\"#DejaVuSans-30\"/>\r\n       <use x=\"159.033203\" xlink:href=\"#DejaVuSans-30\"/>\r\n      </g>\r\n     </g>\r\n    </g>\r\n    <g id=\"xtick_2\">\r\n     <g id=\"line2d_2\">\r\n      <g>\r\n       <use style=\"stroke:#000000;stroke-width:0.8;\" x=\"115.117159\" xlink:href=\"#m4d33867e16\" y=\"673.718125\"/>\r\n      </g>\r\n     </g>\r\n     <g id=\"text_2\">\r\n      <!-- 0.05 -->\r\n      <g transform=\"translate(103.984347 688.316562)scale(0.1 -0.1)\">\r\n       <defs>\r\n        <path d=\"M 691 4666 \r\nL 3169 4666 \r\nL 3169 4134 \r\nL 1269 4134 \r\nL 1269 2991 \r\nQ 1406 3038 1543 3061 \r\nQ 1681 3084 1819 3084 \r\nQ 2600 3084 3056 2656 \r\nQ 3513 2228 3513 1497 \r\nQ 3513 744 3044 326 \r\nQ 2575 -91 1722 -91 \r\nQ 1428 -91 1123 -41 \r\nQ 819 9 494 109 \r\nL 494 744 \r\nQ 775 591 1075 516 \r\nQ 1375 441 1709 441 \r\nQ 2250 441 2565 725 \r\nQ 2881 1009 2881 1497 \r\nQ 2881 1984 2565 2268 \r\nQ 2250 2553 1709 2553 \r\nQ 1456 2553 1204 2497 \r\nQ 953 2441 691 2322 \r\nL 691 4666 \r\nz\r\n\" id=\"DejaVuSans-35\" transform=\"scale(0.015625)\"/>\r\n       </defs>\r\n       <use xlink:href=\"#DejaVuSans-30\"/>\r\n       <use x=\"63.623047\" xlink:href=\"#DejaVuSans-2e\"/>\r\n       <use x=\"95.410156\" xlink:href=\"#DejaVuSans-30\"/>\r\n       <use x=\"159.033203\" xlink:href=\"#DejaVuSans-35\"/>\r\n      </g>\r\n     </g>\r\n    </g>\r\n    <g id=\"xtick_3\">\r\n     <g id=\"line2d_3\">\r\n      <g>\r\n       <use style=\"stroke:#000000;stroke-width:0.8;\" x=\"174.56375\" xlink:href=\"#m4d33867e16\" y=\"673.718125\"/>\r\n      </g>\r\n     </g>\r\n     <g id=\"text_3\">\r\n      <!-- 0.10 -->\r\n      <g transform=\"translate(163.430938 688.316562)scale(0.1 -0.1)\">\r\n       <defs>\r\n        <path d=\"M 794 531 \r\nL 1825 531 \r\nL 1825 4091 \r\nL 703 3866 \r\nL 703 4441 \r\nL 1819 4666 \r\nL 2450 4666 \r\nL 2450 531 \r\nL 3481 531 \r\nL 3481 0 \r\nL 794 0 \r\nL 794 531 \r\nz\r\n\" id=\"DejaVuSans-31\" transform=\"scale(0.015625)\"/>\r\n       </defs>\r\n       <use xlink:href=\"#DejaVuSans-30\"/>\r\n       <use x=\"63.623047\" xlink:href=\"#DejaVuSans-2e\"/>\r\n       <use x=\"95.410156\" xlink:href=\"#DejaVuSans-31\"/>\r\n       <use x=\"159.033203\" xlink:href=\"#DejaVuSans-30\"/>\r\n      </g>\r\n     </g>\r\n    </g>\r\n    <g id=\"xtick_4\">\r\n     <g id=\"line2d_4\">\r\n      <g>\r\n       <use style=\"stroke:#000000;stroke-width:0.8;\" x=\"234.010341\" xlink:href=\"#m4d33867e16\" y=\"673.718125\"/>\r\n      </g>\r\n     </g>\r\n     <g id=\"text_4\">\r\n      <!-- 0.15 -->\r\n      <g transform=\"translate(222.877528 688.316562)scale(0.1 -0.1)\">\r\n       <use xlink:href=\"#DejaVuSans-30\"/>\r\n       <use x=\"63.623047\" xlink:href=\"#DejaVuSans-2e\"/>\r\n       <use x=\"95.410156\" xlink:href=\"#DejaVuSans-31\"/>\r\n       <use x=\"159.033203\" xlink:href=\"#DejaVuSans-35\"/>\r\n      </g>\r\n     </g>\r\n    </g>\r\n    <g id=\"xtick_5\">\r\n     <g id=\"line2d_5\">\r\n      <g>\r\n       <use style=\"stroke:#000000;stroke-width:0.8;\" x=\"293.456932\" xlink:href=\"#m4d33867e16\" y=\"673.718125\"/>\r\n      </g>\r\n     </g>\r\n     <g id=\"text_5\">\r\n      <!-- 0.20 -->\r\n      <g transform=\"translate(282.324119 688.316562)scale(0.1 -0.1)\">\r\n       <defs>\r\n        <path d=\"M 1228 531 \r\nL 3431 531 \r\nL 3431 0 \r\nL 469 0 \r\nL 469 531 \r\nQ 828 903 1448 1529 \r\nQ 2069 2156 2228 2338 \r\nQ 2531 2678 2651 2914 \r\nQ 2772 3150 2772 3378 \r\nQ 2772 3750 2511 3984 \r\nQ 2250 4219 1831 4219 \r\nQ 1534 4219 1204 4116 \r\nQ 875 4013 500 3803 \r\nL 500 4441 \r\nQ 881 4594 1212 4672 \r\nQ 1544 4750 1819 4750 \r\nQ 2544 4750 2975 4387 \r\nQ 3406 4025 3406 3419 \r\nQ 3406 3131 3298 2873 \r\nQ 3191 2616 2906 2266 \r\nQ 2828 2175 2409 1742 \r\nQ 1991 1309 1228 531 \r\nz\r\n\" id=\"DejaVuSans-32\" transform=\"scale(0.015625)\"/>\r\n       </defs>\r\n       <use xlink:href=\"#DejaVuSans-30\"/>\r\n       <use x=\"63.623047\" xlink:href=\"#DejaVuSans-2e\"/>\r\n       <use x=\"95.410156\" xlink:href=\"#DejaVuSans-32\"/>\r\n       <use x=\"159.033203\" xlink:href=\"#DejaVuSans-30\"/>\r\n      </g>\r\n     </g>\r\n    </g>\r\n    <g id=\"text_6\">\r\n     <!-- X location [m] -->\r\n     <g transform=\"translate(139.349687 701.994687)scale(0.1 -0.1)\">\r\n      <defs>\r\n       <path d=\"M 403 4666 \r\nL 1081 4666 \r\nL 2241 2931 \r\nL 3406 4666 \r\nL 4084 4666 \r\nL 2584 2425 \r\nL 4184 0 \r\nL 3506 0 \r\nL 2194 1984 \r\nL 872 0 \r\nL 191 0 \r\nL 1856 2491 \r\nL 403 4666 \r\nz\r\n\" id=\"DejaVuSans-58\" transform=\"scale(0.015625)\"/>\r\n       <path id=\"DejaVuSans-20\" transform=\"scale(0.015625)\"/>\r\n       <path d=\"M 603 4863 \r\nL 1178 4863 \r\nL 1178 0 \r\nL 603 0 \r\nL 603 4863 \r\nz\r\n\" id=\"DejaVuSans-6c\" transform=\"scale(0.015625)\"/>\r\n       <path d=\"M 1959 3097 \r\nQ 1497 3097 1228 2736 \r\nQ 959 2375 959 1747 \r\nQ 959 1119 1226 758 \r\nQ 1494 397 1959 397 \r\nQ 2419 397 2687 759 \r\nQ 2956 1122 2956 1747 \r\nQ 2956 2369 2687 2733 \r\nQ 2419 3097 1959 3097 \r\nz\r\nM 1959 3584 \r\nQ 2709 3584 3137 3096 \r\nQ 3566 2609 3566 1747 \r\nQ 3566 888 3137 398 \r\nQ 2709 -91 1959 -91 \r\nQ 1206 -91 779 398 \r\nQ 353 888 353 1747 \r\nQ 353 2609 779 3096 \r\nQ 1206 3584 1959 3584 \r\nz\r\n\" id=\"DejaVuSans-6f\" transform=\"scale(0.015625)\"/>\r\n       <path d=\"M 3122 3366 \r\nL 3122 2828 \r\nQ 2878 2963 2633 3030 \r\nQ 2388 3097 2138 3097 \r\nQ 1578 3097 1268 2742 \r\nQ 959 2388 959 1747 \r\nQ 959 1106 1268 751 \r\nQ 1578 397 2138 397 \r\nQ 2388 397 2633 464 \r\nQ 2878 531 3122 666 \r\nL 3122 134 \r\nQ 2881 22 2623 -34 \r\nQ 2366 -91 2075 -91 \r\nQ 1284 -91 818 406 \r\nQ 353 903 353 1747 \r\nQ 353 2603 823 3093 \r\nQ 1294 3584 2113 3584 \r\nQ 2378 3584 2631 3529 \r\nQ 2884 3475 3122 3366 \r\nz\r\n\" id=\"DejaVuSans-63\" transform=\"scale(0.015625)\"/>\r\n       <path d=\"M 2194 1759 \r\nQ 1497 1759 1228 1600 \r\nQ 959 1441 959 1056 \r\nQ 959 750 1161 570 \r\nQ 1363 391 1709 391 \r\nQ 2188 391 2477 730 \r\nQ 2766 1069 2766 1631 \r\nL 2766 1759 \r\nL 2194 1759 \r\nz\r\nM 3341 1997 \r\nL 3341 0 \r\nL 2766 0 \r\nL 2766 531 \r\nQ 2569 213 2275 61 \r\nQ 1981 -91 1556 -91 \r\nQ 1019 -91 701 211 \r\nQ 384 513 384 1019 \r\nQ 384 1609 779 1909 \r\nQ 1175 2209 1959 2209 \r\nL 2766 2209 \r\nL 2766 2266 \r\nQ 2766 2663 2505 2880 \r\nQ 2244 3097 1772 3097 \r\nQ 1472 3097 1187 3025 \r\nQ 903 2953 641 2809 \r\nL 641 3341 \r\nQ 956 3463 1253 3523 \r\nQ 1550 3584 1831 3584 \r\nQ 2591 3584 2966 3190 \r\nQ 3341 2797 3341 1997 \r\nz\r\n\" id=\"DejaVuSans-61\" transform=\"scale(0.015625)\"/>\r\n       <path d=\"M 1172 4494 \r\nL 1172 3500 \r\nL 2356 3500 \r\nL 2356 3053 \r\nL 1172 3053 \r\nL 1172 1153 \r\nQ 1172 725 1289 603 \r\nQ 1406 481 1766 481 \r\nL 2356 481 \r\nL 2356 0 \r\nL 1766 0 \r\nQ 1100 0 847 248 \r\nQ 594 497 594 1153 \r\nL 594 3053 \r\nL 172 3053 \r\nL 172 3500 \r\nL 594 3500 \r\nL 594 4494 \r\nL 1172 4494 \r\nz\r\n\" id=\"DejaVuSans-74\" transform=\"scale(0.015625)\"/>\r\n       <path d=\"M 603 3500 \r\nL 1178 3500 \r\nL 1178 0 \r\nL 603 0 \r\nL 603 3500 \r\nz\r\nM 603 4863 \r\nL 1178 4863 \r\nL 1178 4134 \r\nL 603 4134 \r\nL 603 4863 \r\nz\r\n\" id=\"DejaVuSans-69\" transform=\"scale(0.015625)\"/>\r\n       <path d=\"M 3513 2113 \r\nL 3513 0 \r\nL 2938 0 \r\nL 2938 2094 \r\nQ 2938 2591 2744 2837 \r\nQ 2550 3084 2163 3084 \r\nQ 1697 3084 1428 2787 \r\nQ 1159 2491 1159 1978 \r\nL 1159 0 \r\nL 581 0 \r\nL 581 3500 \r\nL 1159 3500 \r\nL 1159 2956 \r\nQ 1366 3272 1645 3428 \r\nQ 1925 3584 2291 3584 \r\nQ 2894 3584 3203 3211 \r\nQ 3513 2838 3513 2113 \r\nz\r\n\" id=\"DejaVuSans-6e\" transform=\"scale(0.015625)\"/>\r\n       <path d=\"M 550 4863 \r\nL 1875 4863 \r\nL 1875 4416 \r\nL 1125 4416 \r\nL 1125 -397 \r\nL 1875 -397 \r\nL 1875 -844 \r\nL 550 -844 \r\nL 550 4863 \r\nz\r\n\" id=\"DejaVuSans-5b\" transform=\"scale(0.015625)\"/>\r\n       <path d=\"M 3328 2828 \r\nQ 3544 3216 3844 3400 \r\nQ 4144 3584 4550 3584 \r\nQ 5097 3584 5394 3201 \r\nQ 5691 2819 5691 2113 \r\nL 5691 0 \r\nL 5113 0 \r\nL 5113 2094 \r\nQ 5113 2597 4934 2840 \r\nQ 4756 3084 4391 3084 \r\nQ 3944 3084 3684 2787 \r\nQ 3425 2491 3425 1978 \r\nL 3425 0 \r\nL 2847 0 \r\nL 2847 2094 \r\nQ 2847 2600 2669 2842 \r\nQ 2491 3084 2119 3084 \r\nQ 1678 3084 1418 2786 \r\nQ 1159 2488 1159 1978 \r\nL 1159 0 \r\nL 581 0 \r\nL 581 3500 \r\nL 1159 3500 \r\nL 1159 2956 \r\nQ 1356 3278 1631 3431 \r\nQ 1906 3584 2284 3584 \r\nQ 2666 3584 2933 3390 \r\nQ 3200 3197 3328 2828 \r\nz\r\n\" id=\"DejaVuSans-6d\" transform=\"scale(0.015625)\"/>\r\n       <path d=\"M 1947 4863 \r\nL 1947 -844 \r\nL 622 -844 \r\nL 622 -397 \r\nL 1369 -397 \r\nL 1369 4416 \r\nL 622 4416 \r\nL 622 4863 \r\nL 1947 4863 \r\nz\r\n\" id=\"DejaVuSans-5d\" transform=\"scale(0.015625)\"/>\r\n      </defs>\r\n      <use xlink:href=\"#DejaVuSans-58\"/>\r\n      <use x=\"68.505859\" xlink:href=\"#DejaVuSans-20\"/>\r\n      <use x=\"100.292969\" xlink:href=\"#DejaVuSans-6c\"/>\r\n      <use x=\"128.076172\" xlink:href=\"#DejaVuSans-6f\"/>\r\n      <use x=\"189.257812\" xlink:href=\"#DejaVuSans-63\"/>\r\n      <use x=\"244.238281\" xlink:href=\"#DejaVuSans-61\"/>\r\n      <use x=\"305.517578\" xlink:href=\"#DejaVuSans-74\"/>\r\n      <use x=\"344.726562\" xlink:href=\"#DejaVuSans-69\"/>\r\n      <use x=\"372.509766\" xlink:href=\"#DejaVuSans-6f\"/>\r\n      <use x=\"433.691406\" xlink:href=\"#DejaVuSans-6e\"/>\r\n      <use x=\"497.070312\" xlink:href=\"#DejaVuSans-20\"/>\r\n      <use x=\"528.857422\" xlink:href=\"#DejaVuSans-5b\"/>\r\n      <use x=\"567.871094\" xlink:href=\"#DejaVuSans-6d\"/>\r\n      <use x=\"665.283203\" xlink:href=\"#DejaVuSans-5d\"/>\r\n     </g>\r\n    </g>\r\n   </g>\r\n   <g id=\"matplotlib.axis_2\">\r\n    <g id=\"ytick_1\">\r\n     <g id=\"line2d_6\">\r\n      <defs>\r\n       <path d=\"M 0 0 \r\nL -3.5 0 \r\n\" id=\"m9a62ba9844\" style=\"stroke:#000000;stroke-width:0.8;\"/>\r\n      </defs>\r\n      <g>\r\n       <use style=\"stroke:#000000;stroke-width:0.8;\" x=\"43.78125\" xlink:href=\"#m9a62ba9844\" y=\"644.109034\"/>\r\n      </g>\r\n     </g>\r\n     <g id=\"text_7\">\r\n      <!-- 0.0 -->\r\n      <g transform=\"translate(20.878125 647.908253)scale(0.1 -0.1)\">\r\n       <use xlink:href=\"#DejaVuSans-30\"/>\r\n       <use x=\"63.623047\" xlink:href=\"#DejaVuSans-2e\"/>\r\n       <use x=\"95.410156\" xlink:href=\"#DejaVuSans-30\"/>\r\n      </g>\r\n     </g>\r\n    </g>\r\n    <g id=\"ytick_2\">\r\n     <g id=\"line2d_7\">\r\n      <g>\r\n       <use style=\"stroke:#000000;stroke-width:0.8;\" x=\"43.78125\" xlink:href=\"#m9a62ba9844\" y=\"525.67267\"/>\r\n      </g>\r\n     </g>\r\n     <g id=\"text_8\">\r\n      <!-- 0.1 -->\r\n      <g transform=\"translate(20.878125 529.471889)scale(0.1 -0.1)\">\r\n       <use xlink:href=\"#DejaVuSans-30\"/>\r\n       <use x=\"63.623047\" xlink:href=\"#DejaVuSans-2e\"/>\r\n       <use x=\"95.410156\" xlink:href=\"#DejaVuSans-31\"/>\r\n      </g>\r\n     </g>\r\n    </g>\r\n    <g id=\"ytick_3\">\r\n     <g id=\"line2d_8\">\r\n      <g>\r\n       <use style=\"stroke:#000000;stroke-width:0.8;\" x=\"43.78125\" xlink:href=\"#m9a62ba9844\" y=\"407.236307\"/>\r\n      </g>\r\n     </g>\r\n     <g id=\"text_9\">\r\n      <!-- 0.2 -->\r\n      <g transform=\"translate(20.878125 411.035526)scale(0.1 -0.1)\">\r\n       <use xlink:href=\"#DejaVuSans-30\"/>\r\n       <use x=\"63.623047\" xlink:href=\"#DejaVuSans-2e\"/>\r\n       <use x=\"95.410156\" xlink:href=\"#DejaVuSans-32\"/>\r\n      </g>\r\n     </g>\r\n    </g>\r\n    <g id=\"ytick_4\">\r\n     <g id=\"line2d_9\">\r\n      <g>\r\n       <use style=\"stroke:#000000;stroke-width:0.8;\" x=\"43.78125\" xlink:href=\"#m9a62ba9844\" y=\"288.799943\"/>\r\n      </g>\r\n     </g>\r\n     <g id=\"text_10\">\r\n      <!-- 0.3 -->\r\n      <g transform=\"translate(20.878125 292.599162)scale(0.1 -0.1)\">\r\n       <defs>\r\n        <path d=\"M 2597 2516 \r\nQ 3050 2419 3304 2112 \r\nQ 3559 1806 3559 1356 \r\nQ 3559 666 3084 287 \r\nQ 2609 -91 1734 -91 \r\nQ 1441 -91 1130 -33 \r\nQ 819 25 488 141 \r\nL 488 750 \r\nQ 750 597 1062 519 \r\nQ 1375 441 1716 441 \r\nQ 2309 441 2620 675 \r\nQ 2931 909 2931 1356 \r\nQ 2931 1769 2642 2001 \r\nQ 2353 2234 1838 2234 \r\nL 1294 2234 \r\nL 1294 2753 \r\nL 1863 2753 \r\nQ 2328 2753 2575 2939 \r\nQ 2822 3125 2822 3475 \r\nQ 2822 3834 2567 4026 \r\nQ 2313 4219 1838 4219 \r\nQ 1578 4219 1281 4162 \r\nQ 984 4106 628 3988 \r\nL 628 4550 \r\nQ 988 4650 1302 4700 \r\nQ 1616 4750 1894 4750 \r\nQ 2613 4750 3031 4423 \r\nQ 3450 4097 3450 3541 \r\nQ 3450 3153 3228 2886 \r\nQ 3006 2619 2597 2516 \r\nz\r\n\" id=\"DejaVuSans-33\" transform=\"scale(0.015625)\"/>\r\n       </defs>\r\n       <use xlink:href=\"#DejaVuSans-30\"/>\r\n       <use x=\"63.623047\" xlink:href=\"#DejaVuSans-2e\"/>\r\n       <use x=\"95.410156\" xlink:href=\"#DejaVuSans-33\"/>\r\n      </g>\r\n     </g>\r\n    </g>\r\n    <g id=\"ytick_5\">\r\n     <g id=\"line2d_10\">\r\n      <g>\r\n       <use style=\"stroke:#000000;stroke-width:0.8;\" x=\"43.78125\" xlink:href=\"#m9a62ba9844\" y=\"170.36358\"/>\r\n      </g>\r\n     </g>\r\n     <g id=\"text_11\">\r\n      <!-- 0.4 -->\r\n      <g transform=\"translate(20.878125 174.162798)scale(0.1 -0.1)\">\r\n       <defs>\r\n        <path d=\"M 2419 4116 \r\nL 825 1625 \r\nL 2419 1625 \r\nL 2419 4116 \r\nz\r\nM 2253 4666 \r\nL 3047 4666 \r\nL 3047 1625 \r\nL 3713 1625 \r\nL 3713 1100 \r\nL 3047 1100 \r\nL 3047 0 \r\nL 2419 0 \r\nL 2419 1100 \r\nL 313 1100 \r\nL 313 1709 \r\nL 2253 4666 \r\nz\r\n\" id=\"DejaVuSans-34\" transform=\"scale(0.015625)\"/>\r\n       </defs>\r\n       <use xlink:href=\"#DejaVuSans-30\"/>\r\n       <use x=\"63.623047\" xlink:href=\"#DejaVuSans-2e\"/>\r\n       <use x=\"95.410156\" xlink:href=\"#DejaVuSans-34\"/>\r\n      </g>\r\n     </g>\r\n    </g>\r\n    <g id=\"ytick_6\">\r\n     <g id=\"line2d_11\">\r\n      <g>\r\n       <use style=\"stroke:#000000;stroke-width:0.8;\" x=\"43.78125\" xlink:href=\"#m9a62ba9844\" y=\"51.927216\"/>\r\n      </g>\r\n     </g>\r\n     <g id=\"text_12\">\r\n      <!-- 0.5 -->\r\n      <g transform=\"translate(20.878125 55.726435)scale(0.1 -0.1)\">\r\n       <use xlink:href=\"#DejaVuSans-30\"/>\r\n       <use x=\"63.623047\" xlink:href=\"#DejaVuSans-2e\"/>\r\n       <use x=\"95.410156\" xlink:href=\"#DejaVuSans-35\"/>\r\n      </g>\r\n     </g>\r\n    </g>\r\n    <g id=\"text_13\">\r\n     <!-- Y location [m] -->\r\n     <g transform=\"translate(14.798438 382.861094)rotate(-90)scale(0.1 -0.1)\">\r\n      <defs>\r\n       <path d=\"M -13 4666 \r\nL 666 4666 \r\nL 1959 2747 \r\nL 3244 4666 \r\nL 3922 4666 \r\nL 2272 2222 \r\nL 2272 0 \r\nL 1638 0 \r\nL 1638 2222 \r\nL -13 4666 \r\nz\r\n\" id=\"DejaVuSans-59\" transform=\"scale(0.015625)\"/>\r\n      </defs>\r\n      <use xlink:href=\"#DejaVuSans-59\"/>\r\n      <use x=\"61.083984\" xlink:href=\"#DejaVuSans-20\"/>\r\n      <use x=\"92.871094\" xlink:href=\"#DejaVuSans-6c\"/>\r\n      <use x=\"120.654297\" xlink:href=\"#DejaVuSans-6f\"/>\r\n      <use x=\"181.835938\" xlink:href=\"#DejaVuSans-63\"/>\r\n      <use x=\"236.816406\" xlink:href=\"#DejaVuSans-61\"/>\r\n      <use x=\"298.095703\" xlink:href=\"#DejaVuSans-74\"/>\r\n      <use x=\"337.304688\" xlink:href=\"#DejaVuSans-69\"/>\r\n      <use x=\"365.087891\" xlink:href=\"#DejaVuSans-6f\"/>\r\n      <use x=\"426.269531\" xlink:href=\"#DejaVuSans-6e\"/>\r\n      <use x=\"489.648438\" xlink:href=\"#DejaVuSans-20\"/>\r\n      <use x=\"521.435547\" xlink:href=\"#DejaVuSans-5b\"/>\r\n      <use x=\"560.449219\" xlink:href=\"#DejaVuSans-6d\"/>\r\n      <use x=\"657.861328\" xlink:href=\"#DejaVuSans-5d\"/>\r\n     </g>\r\n    </g>\r\n   </g>\r\n   <g id=\"patch_3\">\r\n    <path d=\"M 43.78125 673.718125 \r\nL 43.78125 22.318125 \r\n\" style=\"fill:none;stroke:#000000;stroke-linecap:square;stroke-linejoin:miter;stroke-width:0.8;\"/>\r\n   </g>\r\n   <g id=\"patch_4\">\r\n    <path d=\"M 305.34625 673.718125 \r\nL 305.34625 22.318125 \r\n\" style=\"fill:none;stroke:#000000;stroke-linecap:square;stroke-linejoin:miter;stroke-width:0.8;\"/>\r\n   </g>\r\n   <g id=\"patch_5\">\r\n    <path d=\"M 43.78125 673.718125 \r\nL 305.34625 673.718125 \r\n\" style=\"fill:none;stroke:#000000;stroke-linecap:square;stroke-linejoin:miter;stroke-width:0.8;\"/>\r\n   </g>\r\n   <g id=\"patch_6\">\r\n    <path d=\"M 43.78125 22.318125 \r\nL 305.34625 22.318125 \r\n\" style=\"fill:none;stroke:#000000;stroke-linecap:square;stroke-linejoin:miter;stroke-width:0.8;\"/>\r\n   </g>\r\n   <g id=\"text_14\">\r\n    <!-- Nodes -->\r\n    <g transform=\"translate(155.777187 16.318125)scale(0.12 -0.12)\">\r\n     <defs>\r\n      <path d=\"M 628 4666 \r\nL 1478 4666 \r\nL 3547 763 \r\nL 3547 4666 \r\nL 4159 4666 \r\nL 4159 0 \r\nL 3309 0 \r\nL 1241 3903 \r\nL 1241 0 \r\nL 628 0 \r\nL 628 4666 \r\nz\r\n\" id=\"DejaVuSans-4e\" transform=\"scale(0.015625)\"/>\r\n      <path d=\"M 2906 2969 \r\nL 2906 4863 \r\nL 3481 4863 \r\nL 3481 0 \r\nL 2906 0 \r\nL 2906 525 \r\nQ 2725 213 2448 61 \r\nQ 2172 -91 1784 -91 \r\nQ 1150 -91 751 415 \r\nQ 353 922 353 1747 \r\nQ 353 2572 751 3078 \r\nQ 1150 3584 1784 3584 \r\nQ 2172 3584 2448 3432 \r\nQ 2725 3281 2906 2969 \r\nz\r\nM 947 1747 \r\nQ 947 1113 1208 752 \r\nQ 1469 391 1925 391 \r\nQ 2381 391 2643 752 \r\nQ 2906 1113 2906 1747 \r\nQ 2906 2381 2643 2742 \r\nQ 2381 3103 1925 3103 \r\nQ 1469 3103 1208 2742 \r\nQ 947 2381 947 1747 \r\nz\r\n\" id=\"DejaVuSans-64\" transform=\"scale(0.015625)\"/>\r\n      <path d=\"M 3597 1894 \r\nL 3597 1613 \r\nL 953 1613 \r\nQ 991 1019 1311 708 \r\nQ 1631 397 2203 397 \r\nQ 2534 397 2845 478 \r\nQ 3156 559 3463 722 \r\nL 3463 178 \r\nQ 3153 47 2828 -22 \r\nQ 2503 -91 2169 -91 \r\nQ 1331 -91 842 396 \r\nQ 353 884 353 1716 \r\nQ 353 2575 817 3079 \r\nQ 1281 3584 2069 3584 \r\nQ 2775 3584 3186 3129 \r\nQ 3597 2675 3597 1894 \r\nz\r\nM 3022 2063 \r\nQ 3016 2534 2758 2815 \r\nQ 2500 3097 2075 3097 \r\nQ 1594 3097 1305 2825 \r\nQ 1016 2553 972 2059 \r\nL 3022 2063 \r\nz\r\n\" id=\"DejaVuSans-65\" transform=\"scale(0.015625)\"/>\r\n      <path d=\"M 2834 3397 \r\nL 2834 2853 \r\nQ 2591 2978 2328 3040 \r\nQ 2066 3103 1784 3103 \r\nQ 1356 3103 1142 2972 \r\nQ 928 2841 928 2578 \r\nQ 928 2378 1081 2264 \r\nQ 1234 2150 1697 2047 \r\nL 1894 2003 \r\nQ 2506 1872 2764 1633 \r\nQ 3022 1394 3022 966 \r\nQ 3022 478 2636 193 \r\nQ 2250 -91 1575 -91 \r\nQ 1294 -91 989 -36 \r\nQ 684 19 347 128 \r\nL 347 722 \r\nQ 666 556 975 473 \r\nQ 1284 391 1588 391 \r\nQ 1994 391 2212 530 \r\nQ 2431 669 2431 922 \r\nQ 2431 1156 2273 1281 \r\nQ 2116 1406 1581 1522 \r\nL 1381 1569 \r\nQ 847 1681 609 1914 \r\nQ 372 2147 372 2553 \r\nQ 372 3047 722 3315 \r\nQ 1072 3584 1716 3584 \r\nQ 2034 3584 2315 3537 \r\nQ 2597 3491 2834 3397 \r\nz\r\n\" id=\"DejaVuSans-73\" transform=\"scale(0.015625)\"/>\r\n     </defs>\r\n     <use xlink:href=\"#DejaVuSans-4e\"/>\r\n     <use x=\"74.804688\" xlink:href=\"#DejaVuSans-6f\"/>\r\n     <use x=\"135.986328\" xlink:href=\"#DejaVuSans-64\"/>\r\n     <use x=\"199.462891\" xlink:href=\"#DejaVuSans-65\"/>\r\n     <use x=\"260.986328\" xlink:href=\"#DejaVuSans-73\"/>\r\n    </g>\r\n   </g>\r\n   <g id=\"legend_1\">\r\n    <g id=\"patch_7\">\r\n     <path d=\"M 314.635031 59.674375 \r\nL 400.683469 59.674375 \r\nQ 402.683469 59.674375 402.683469 57.674375 \r\nL 402.683469 29.318125 \r\nQ 402.683469 27.318125 400.683469 27.318125 \r\nL 314.635031 27.318125 \r\nQ 312.635031 27.318125 312.635031 29.318125 \r\nL 312.635031 57.674375 \r\nQ 312.635031 59.674375 314.635031 59.674375 \r\nz\r\n\" style=\"fill:#ffffff;opacity:0.8;stroke:#cccccc;stroke-linejoin:miter;\"/>\r\n    </g>\r\n    <g id=\"PathCollection_3\">\r\n     <g>\r\n      <use style=\"fill:#1f77b4;stroke:#1f77b4;\" x=\"326.635031\" xlink:href=\"#md897673cfc\" y=\"36.291562\"/>\r\n     </g>\r\n    </g>\r\n    <g id=\"text_15\">\r\n     <!-- Free node -->\r\n     <g transform=\"translate(344.635031 38.916562)scale(0.1 -0.1)\">\r\n      <defs>\r\n       <path d=\"M 628 4666 \r\nL 3309 4666 \r\nL 3309 4134 \r\nL 1259 4134 \r\nL 1259 2759 \r\nL 3109 2759 \r\nL 3109 2228 \r\nL 1259 2228 \r\nL 1259 0 \r\nL 628 0 \r\nL 628 4666 \r\nz\r\n\" id=\"DejaVuSans-46\" transform=\"scale(0.015625)\"/>\r\n       <path d=\"M 2631 2963 \r\nQ 2534 3019 2420 3045 \r\nQ 2306 3072 2169 3072 \r\nQ 1681 3072 1420 2755 \r\nQ 1159 2438 1159 1844 \r\nL 1159 0 \r\nL 581 0 \r\nL 581 3500 \r\nL 1159 3500 \r\nL 1159 2956 \r\nQ 1341 3275 1631 3429 \r\nQ 1922 3584 2338 3584 \r\nQ 2397 3584 2469 3576 \r\nQ 2541 3569 2628 3553 \r\nL 2631 2963 \r\nz\r\n\" id=\"DejaVuSans-72\" transform=\"scale(0.015625)\"/>\r\n      </defs>\r\n      <use xlink:href=\"#DejaVuSans-46\"/>\r\n      <use x=\"50.269531\" xlink:href=\"#DejaVuSans-72\"/>\r\n      <use x=\"89.132812\" xlink:href=\"#DejaVuSans-65\"/>\r\n      <use x=\"150.65625\" xlink:href=\"#DejaVuSans-65\"/>\r\n      <use x=\"212.179688\" xlink:href=\"#DejaVuSans-20\"/>\r\n      <use x=\"243.966797\" xlink:href=\"#DejaVuSans-6e\"/>\r\n      <use x=\"307.345703\" xlink:href=\"#DejaVuSans-6f\"/>\r\n      <use x=\"368.527344\" xlink:href=\"#DejaVuSans-64\"/>\r\n      <use x=\"432.003906\" xlink:href=\"#DejaVuSans-65\"/>\r\n     </g>\r\n    </g>\r\n    <g id=\"PathCollection_4\">\r\n     <g>\r\n      <use style=\"fill:#ff7f0e;stroke:#ff7f0e;stroke-width:1.5;\" x=\"326.635031\" xlink:href=\"#m16c3e5a747\" y=\"50.969687\"/>\r\n     </g>\r\n    </g>\r\n    <g id=\"text_16\">\r\n     <!-- Fixed node -->\r\n     <g transform=\"translate(344.635031 53.594687)scale(0.1 -0.1)\">\r\n      <defs>\r\n       <path d=\"M 3513 3500 \r\nL 2247 1797 \r\nL 3578 0 \r\nL 2900 0 \r\nL 1881 1375 \r\nL 863 0 \r\nL 184 0 \r\nL 1544 1831 \r\nL 300 3500 \r\nL 978 3500 \r\nL 1906 2253 \r\nL 2834 3500 \r\nL 3513 3500 \r\nz\r\n\" id=\"DejaVuSans-78\" transform=\"scale(0.015625)\"/>\r\n      </defs>\r\n      <use xlink:href=\"#DejaVuSans-46\"/>\r\n      <use x=\"50.269531\" xlink:href=\"#DejaVuSans-69\"/>\r\n      <use x=\"78.052734\" xlink:href=\"#DejaVuSans-78\"/>\r\n      <use x=\"134.107422\" xlink:href=\"#DejaVuSans-65\"/>\r\n      <use x=\"195.630859\" xlink:href=\"#DejaVuSans-64\"/>\r\n      <use x=\"259.107422\" xlink:href=\"#DejaVuSans-20\"/>\r\n      <use x=\"290.894531\" xlink:href=\"#DejaVuSans-6e\"/>\r\n      <use x=\"354.273438\" xlink:href=\"#DejaVuSans-6f\"/>\r\n      <use x=\"415.455078\" xlink:href=\"#DejaVuSans-64\"/>\r\n      <use x=\"478.931641\" xlink:href=\"#DejaVuSans-65\"/>\r\n     </g>\r\n    </g>\r\n   </g>\r\n  </g>\r\n </g>\r\n <defs>\r\n  <clipPath id=\"p49fbe6b77d\">\r\n   <rect height=\"651.4\" width=\"261.565\" x=\"43.78125\" y=\"22.318125\"/>\r\n  </clipPath>\r\n </defs>\r\n</svg>\r\n",
      "image/png": "[encoded data removed]"
     },
     "metadata": {
      "needs_background": "light"
     }
    }
   ],
   "metadata": {}
  },
  {
   "cell_type": "markdown",
   "source": [
    "# Solve eignevalue problem"
   ],
   "metadata": {}
  },
  {
   "cell_type": "code",
   "execution_count": 10,
   "source": [
    "start_eig = datetime.now()\r\n",
    "resultados = dict()\r\n",
    "\r\n",
    "# Problema de autovalor generalizado. W é um vetor e A uma matrix com as colunas normalizadas\r\n",
    "M = sp.sparse.bsr_matrix(M)\r\n",
    "K = sp.sparse.bsr_matrix(K)\r\n",
    "W, Vc = eigsh(A=K, k=40, M=M, which='SM')\r\n",
    "\r\n",
    "# Ordenando os autovalores e a matriz de autovetores\r\n",
    "idx = W.argsort()\r\n",
    "W = W[idx]\r\n",
    "Vc = Vc[:,idx]\r\n",
    "Vc_backup = Vc.copy()\r\n",
    "\r\n",
    "# Normalizando os autovetores pela matriz de massa, de forma que A'@M@A = I\r\n",
    "m_r = np.diagonal(Vc.T @ M @ Vc)\r\n",
    "m_r = np.reciprocal(np.sqrt(m_r))\r\n",
    "for a in range(Vc.shape[1]):\r\n",
    "    Vc[:,a] *= m_r[a] # multiplica cada coluna pelo fator de escala\r\n",
    "    \r\n",
    "## Montando as formas modais\r\n",
    "# Incluindo os dof das condições de contorno\r\n",
    "for c in fixed_dof:\r\n",
    "    Vc = np.insert(Vc, c-1, 0, axis=0)\r\n",
    "\r\n",
    "resultados[nElements] = dict()\r\n",
    "resultados[nElements]['fn'] = (W**0.5/(2*pi)).real\r\n",
    "resultados[nElements]['V'] = Vc[0::3, :].real # Displacement shape (dof 1,4,7,10,13,...) \r\n",
    "resultados[nElements]['theta'] = np.delete(Vc, np.arange(0, Vc.shape[1]-1, 4), axis = 1).real # Angular shapes (dof 2,3,5,6,8,9,11,12,...)\r\n",
    "\r\n",
    "# Faz as formas modais terem a mesma orientação\r\n",
    "for j in range(1, W.size):\r\n",
    "    if np.sum(resultados[nElements]['V'][:,j-1]) >= 0:\r\n",
    "        pass\r\n",
    "    else:\r\n",
    "        resultados[nElements]['V'][:,j-1] *= -1\r\n",
    "\r\n",
    "finish_eig = datetime.now()\r\n",
    "print(\"Elapsed time: \", finish_eig-start_eig)"
   ],
   "outputs": [
    {
     "output_type": "stream",
     "name": "stdout",
     "text": [
      "Elapsed time:  0:02:16.723530\n"
     ]
    }
   ],
   "metadata": {}
  },
  {
   "cell_type": "code",
   "execution_count": 11,
   "source": [
    "np.savetxt(f\"fn_{eSize}.csv\", (W**0.5/(2*pi)).real, delimiter=\",\")\r\n",
    "np.savetxt(f\"Vc_{eSize}.csv\", Vc_backup, delimiter=\",\")"
   ],
   "outputs": [],
   "metadata": {}
  },
  {
   "cell_type": "code",
   "execution_count": 12,
   "source": [
    "n = np.array([nElements])\r\n",
    "pd.options.display.float_format = \"{:.2f}\".format\r\n",
    "pd.DataFrame(data=[resultados[n_b]['fn'] for n_b in n], index=[f\"n={i}\" for i in n], columns=[f\"f_{j}\" for j in range(1, len(resultados[n.max()]['fn'])+1)])"
   ],
   "outputs": [
    {
     "output_type": "execute_result",
     "data": {
      "text/plain": [
       "         f_1   f_2    f_3    f_4    f_5    f_6    f_7    f_8    f_9   f_10  \\\n",
       "n=1000 42.60 45.42 115.52 123.00 127.77 178.20 192.70 251.91 259.41 310.68   \n",
       "\n",
       "        ...    f_31    f_32    f_33    f_34    f_35    f_36    f_37    f_38  \\\n",
       "n=1000  ... 1135.61 1174.68 1185.72 1224.10 1257.06 1303.71 1333.00 1375.16   \n",
       "\n",
       "          f_39    f_40  \n",
       "n=1000 1454.22 1486.74  \n",
       "\n",
       "[1 rows x 40 columns]"
      ],
      "text/html": [
       "<div>\n",
       "<style scoped>\n",
       "    .dataframe tbody tr th:only-of-type {\n",
       "        vertical-align: middle;\n",
       "    }\n",
       "\n",
       "    .dataframe tbody tr th {\n",
       "        vertical-align: top;\n",
       "    }\n",
       "\n",
       "    .dataframe thead th {\n",
       "        text-align: right;\n",
       "    }\n",
       "</style>\n",
       "<table border=\"1\" class=\"dataframe\">\n",
       "  <thead>\n",
       "    <tr style=\"text-align: right;\">\n",
       "      <th></th>\n",
       "      <th>f_1</th>\n",
       "      <th>f_2</th>\n",
       "      <th>f_3</th>\n",
       "      <th>f_4</th>\n",
       "      <th>f_5</th>\n",
       "      <th>f_6</th>\n",
       "      <th>f_7</th>\n",
       "      <th>f_8</th>\n",
       "      <th>f_9</th>\n",
       "      <th>f_10</th>\n",
       "      <th>...</th>\n",
       "      <th>f_31</th>\n",
       "      <th>f_32</th>\n",
       "      <th>f_33</th>\n",
       "      <th>f_34</th>\n",
       "      <th>f_35</th>\n",
       "      <th>f_36</th>\n",
       "      <th>f_37</th>\n",
       "      <th>f_38</th>\n",
       "      <th>f_39</th>\n",
       "      <th>f_40</th>\n",
       "    </tr>\n",
       "  </thead>\n",
       "  <tbody>\n",
       "    <tr>\n",
       "      <th>n=1000</th>\n",
       "      <td>42.60</td>\n",
       "      <td>45.42</td>\n",
       "      <td>115.52</td>\n",
       "      <td>123.00</td>\n",
       "      <td>127.77</td>\n",
       "      <td>178.20</td>\n",
       "      <td>192.70</td>\n",
       "      <td>251.91</td>\n",
       "      <td>259.41</td>\n",
       "      <td>310.68</td>\n",
       "      <td>...</td>\n",
       "      <td>1135.61</td>\n",
       "      <td>1174.68</td>\n",
       "      <td>1185.72</td>\n",
       "      <td>1224.10</td>\n",
       "      <td>1257.06</td>\n",
       "      <td>1303.71</td>\n",
       "      <td>1333.00</td>\n",
       "      <td>1375.16</td>\n",
       "      <td>1454.22</td>\n",
       "      <td>1486.74</td>\n",
       "    </tr>\n",
       "  </tbody>\n",
       "</table>\n",
       "<p>1 rows × 40 columns</p>\n",
       "</div>"
      ]
     },
     "metadata": {},
     "execution_count": 12
    }
   ],
   "metadata": {}
  },
  {
   "cell_type": "code",
   "execution_count": 13,
   "source": [
    "mode1 = resultados[nElements]['V'][:,8].reshape((nNodesY, nNodesX))\r\n",
    "\r\n",
    "x = np.linspace(0, L, nNodesX)\r\n",
    "y = np.linspace(0, H, nNodesY)\r\n",
    "\r\n",
    "X, Y = np.meshgrid(x, y)\r\n",
    "Z = mode1\r\n",
    "\r\n",
    "fig, ax = plt.subplots(subplot_kw={\"projection\": \"3d\"})\r\n",
    "surf = ax.plot_surface(X, Y, Z, cmap=cm.coolwarm, linewidth=0, antialiased=False)\r\n",
    "plt.show()"
   ],
   "outputs": [
    {
     "output_type": "display_data",
     "data": {
      "text/plain": [
       "<Figure size 432x288 with 1 Axes>"
      ],
      "image/svg+xml": "<?xml version=\"1.0\" encoding=\"utf-8\" standalone=\"no\"?>\r\n<!DOCTYPE svg PUBLIC \"-//W3C//DTD SVG 1.1//EN\"\r\n  \"http://www.w3.org/Graphics/SVG/1.1/DTD/svg11.dtd\">\r\n<svg height=\"241.762917pt\" version=\"1.1\" viewBox=\"0 0 243.798224 241.762917\" width=\"243.798224pt\" xmlns=\"http://www.w3.org/2000/svg\" xmlns:xlink=\"http://www.w3.org/1999/xlink\">\r\n <metadata>\r\n  <rdf:RDF xmlns:cc=\"http://creativecommons.org/ns#\" xmlns:dc=\"http://purl.org/dc/elements/1.1/\" xmlns:rdf=\"http://www.w3.org/1999/02/22-rdf-syntax-ns#\">\r\n   <cc:Work>\r\n    <dc:type rdf:resource=\"http://purl.org/dc/dcmitype/StillImage\"/>\r\n    <dc:date>2021-08-10T23:33:36.818744</dc:date>\r\n    <dc:format>image/svg+xml</dc:format>\r\n    <dc:creator>\r\n     <cc:Agent>\r\n      <dc:title>Matplotlib v3.4.2, https://matplotlib.org/</dc:title>\r\n     </cc:Agent>\r\n    </dc:creator>\r\n   </cc:Work>\r\n  </rdf:RDF>\r\n </metadata>\r\n <defs>\r\n  <style type=\"text/css\">*{stroke-linecap:butt;stroke-linejoin:round;}</style>\r\n </defs>\r\n <g id=\"figure_1\">\r\n  <g id=\"patch_1\">\r\n   <path d=\"M 0 241.762917 \r\nL 243.798224 241.762917 \r\nL 243.798224 0 \r\nL 0 0 \r\nz\r\n\" style=\"fill:none;\"/>\r\n  </g>\r\n  <g id=\"patch_2\">\r\n   <path d=\"M 7.2 224.64 \r\nL 224.64 224.64 \r\nL 224.64 7.2 \r\nL 7.2 7.2 \r\nz\r\n\" style=\"fill:#ffffff;\"/>\r\n  </g>\r\n  <g id=\"pane3d_1\">\r\n   <g id=\"patch_3\">\r\n    <path d=\"M 23.61822 171.026264 \r\nL 95.424009 110.837228 \r\nL 94.42584 24.033878 \r\nL 19.183773 78.942111 \r\n\" style=\"fill:#f2f2f2;opacity:0.5;stroke:#f2f2f2;stroke-linejoin:miter;\"/>\r\n   </g>\r\n  </g>\r\n  <g id=\"pane3d_2\">\r\n   <g id=\"patch_4\">\r\n    <path d=\"M 95.424009 110.837228 \r\nL 210.64668 144.32791 \r\nL 214.758571 54.534718 \r\nL 94.42584 24.033878 \r\n\" style=\"fill:#e6e6e6;opacity:0.5;stroke:#e6e6e6;stroke-linejoin:miter;\"/>\r\n   </g>\r\n  </g>\r\n  <g id=\"pane3d_3\">\r\n   <g id=\"patch_5\">\r\n    <path d=\"M 23.61822 171.026264 \r\nL 145.759879 210.91773 \r\nL 210.64668 144.32791 \r\nL 95.424009 110.837228 \r\n\" style=\"fill:#ececec;opacity:0.5;stroke:#ececec;stroke-linejoin:miter;\"/>\r\n   </g>\r\n  </g>\r\n  <g id=\"axis3d_1\">\r\n   <g id=\"line2d_1\">\r\n    <path d=\"M 23.61822 171.026264 \r\nL 145.759879 210.91773 \r\n\" style=\"fill:none;stroke:#000000;stroke-linecap:square;stroke-width:0.8;\"/>\r\n   </g>\r\n   <g id=\"Line3DCollection_1\">\r\n    <path d=\"M 31.015759 173.442301 \r\nL 102.431499 112.874029 \r\nL 101.729612 25.885171 \r\n\" style=\"fill:none;stroke:#b0b0b0;stroke-width:0.8;\"/>\r\n    <path d=\"M 56.75134 181.847541 \r\nL 126.780894 119.951436 \r\nL 127.12309 32.321678 \r\n\" style=\"fill:none;stroke:#b0b0b0;stroke-width:0.8;\"/>\r\n    <path d=\"M 83.079037 190.446167 \r\nL 151.643632 127.178053 \r\nL 153.075303 38.899807 \r\n\" style=\"fill:none;stroke:#b0b0b0;stroke-width:0.8;\"/>\r\n    <path d=\"M 110.019525 199.244931 \r\nL 177.036121 134.558647 \r\nL 179.604894 45.624285 \r\n\" style=\"fill:none;stroke:#b0b0b0;stroke-width:0.8;\"/>\r\n    <path d=\"M 137.594449 208.250901 \r\nL 202.975474 142.098193 \r\nL 206.73135 52.500051 \r\n\" style=\"fill:none;stroke:#b0b0b0;stroke-width:0.8;\"/>\r\n   </g>\r\n   <g id=\"xtick_1\">\r\n    <g id=\"line2d_2\">\r\n     <path d=\"M 31.637644 172.914876 \r\nL 29.769322 174.499414 \r\n\" style=\"fill:none;stroke:#000000;stroke-linecap:square;stroke-width:0.8;\"/>\r\n    </g>\r\n    <g id=\"text_1\">\r\n     <!-- 0.00 -->\r\n     <g transform=\"translate(12.347627 196.764533)scale(0.1 -0.1)\">\r\n      <defs>\r\n       <path d=\"M 2034 4250 \r\nQ 1547 4250 1301 3770 \r\nQ 1056 3291 1056 2328 \r\nQ 1056 1369 1301 889 \r\nQ 1547 409 2034 409 \r\nQ 2525 409 2770 889 \r\nQ 3016 1369 3016 2328 \r\nQ 3016 3291 2770 3770 \r\nQ 2525 4250 2034 4250 \r\nz\r\nM 2034 4750 \r\nQ 2819 4750 3233 4129 \r\nQ 3647 3509 3647 2328 \r\nQ 3647 1150 3233 529 \r\nQ 2819 -91 2034 -91 \r\nQ 1250 -91 836 529 \r\nQ 422 1150 422 2328 \r\nQ 422 3509 836 4129 \r\nQ 1250 4750 2034 4750 \r\nz\r\n\" id=\"DejaVuSans-30\" transform=\"scale(0.015625)\"/>\r\n       <path d=\"M 684 794 \r\nL 1344 794 \r\nL 1344 0 \r\nL 684 0 \r\nL 684 794 \r\nz\r\n\" id=\"DejaVuSans-2e\" transform=\"scale(0.015625)\"/>\r\n      </defs>\r\n      <use xlink:href=\"#DejaVuSans-30\"/>\r\n      <use x=\"63.623047\" xlink:href=\"#DejaVuSans-2e\"/>\r\n      <use x=\"95.410156\" xlink:href=\"#DejaVuSans-30\"/>\r\n      <use x=\"159.033203\" xlink:href=\"#DejaVuSans-30\"/>\r\n     </g>\r\n    </g>\r\n   </g>\r\n   <g id=\"xtick_2\">\r\n    <g id=\"line2d_3\">\r\n     <path d=\"M 57.361716 181.308056 \r\nL 55.527937 182.928854 \r\n\" style=\"fill:none;stroke:#000000;stroke-linecap:square;stroke-width:0.8;\"/>\r\n    </g>\r\n    <g id=\"text_2\">\r\n     <!-- 0.05 -->\r\n     <g transform=\"translate(38.11563 205.388132)scale(0.1 -0.1)\">\r\n      <defs>\r\n       <path d=\"M 691 4666 \r\nL 3169 4666 \r\nL 3169 4134 \r\nL 1269 4134 \r\nL 1269 2991 \r\nQ 1406 3038 1543 3061 \r\nQ 1681 3084 1819 3084 \r\nQ 2600 3084 3056 2656 \r\nQ 3513 2228 3513 1497 \r\nQ 3513 744 3044 326 \r\nQ 2575 -91 1722 -91 \r\nQ 1428 -91 1123 -41 \r\nQ 819 9 494 109 \r\nL 494 744 \r\nQ 775 591 1075 516 \r\nQ 1375 441 1709 441 \r\nQ 2250 441 2565 725 \r\nQ 2881 1009 2881 1497 \r\nQ 2881 1984 2565 2268 \r\nQ 2250 2553 1709 2553 \r\nQ 1456 2553 1204 2497 \r\nQ 953 2441 691 2322 \r\nL 691 4666 \r\nz\r\n\" id=\"DejaVuSans-35\" transform=\"scale(0.015625)\"/>\r\n      </defs>\r\n      <use xlink:href=\"#DejaVuSans-30\"/>\r\n      <use x=\"63.623047\" xlink:href=\"#DejaVuSans-2e\"/>\r\n      <use x=\"95.410156\" xlink:href=\"#DejaVuSans-30\"/>\r\n      <use x=\"159.033203\" xlink:href=\"#DejaVuSans-35\"/>\r\n     </g>\r\n    </g>\r\n   </g>\r\n   <g id=\"xtick_3\">\r\n    <g id=\"line2d_4\">\r\n     <path d=\"M 83.67721 189.894202 \r\nL 81.880066 191.55252 \r\n\" style=\"fill:none;stroke:#000000;stroke-linecap:square;stroke-width:0.8;\"/>\r\n    </g>\r\n    <g id=\"text_3\">\r\n     <!-- 0.10 -->\r\n     <g transform=\"translate(64.479257 214.211064)scale(0.1 -0.1)\">\r\n      <defs>\r\n       <path d=\"M 794 531 \r\nL 1825 531 \r\nL 1825 4091 \r\nL 703 3866 \r\nL 703 4441 \r\nL 1819 4666 \r\nL 2450 4666 \r\nL 2450 531 \r\nL 3481 531 \r\nL 3481 0 \r\nL 794 0 \r\nL 794 531 \r\nz\r\n\" id=\"DejaVuSans-31\" transform=\"scale(0.015625)\"/>\r\n      </defs>\r\n      <use xlink:href=\"#DejaVuSans-30\"/>\r\n      <use x=\"63.623047\" xlink:href=\"#DejaVuSans-2e\"/>\r\n      <use x=\"95.410156\" xlink:href=\"#DejaVuSans-31\"/>\r\n      <use x=\"159.033203\" xlink:href=\"#DejaVuSans-30\"/>\r\n     </g>\r\n    </g>\r\n   </g>\r\n   <g id=\"xtick_4\">\r\n    <g id=\"line2d_5\">\r\n     <path d=\"M 110.604757 198.680048 \r\nL 108.846462 200.377204 \r\n\" style=\"fill:none;stroke:#000000;stroke-linecap:square;stroke-width:0.8;\"/>\r\n    </g>\r\n    <g id=\"text_4\">\r\n     <!-- 0.15 -->\r\n     <g transform=\"translate(91.459403 223.240322)scale(0.1 -0.1)\">\r\n      <use xlink:href=\"#DejaVuSans-30\"/>\r\n      <use x=\"63.623047\" xlink:href=\"#DejaVuSans-2e\"/>\r\n      <use x=\"95.410156\" xlink:href=\"#DejaVuSans-31\"/>\r\n      <use x=\"159.033203\" xlink:href=\"#DejaVuSans-35\"/>\r\n     </g>\r\n    </g>\r\n   </g>\r\n   <g id=\"xtick_5\">\r\n    <g id=\"line2d_6\">\r\n     <path d=\"M 138.165962 207.672643 \r\nL 136.448856 209.410015 \r\n\" style=\"fill:none;stroke:#000000;stroke-linecap:square;stroke-width:0.8;\"/>\r\n    </g>\r\n    <g id=\"text_5\">\r\n     <!-- 0.20 -->\r\n     <g transform=\"translate(119.077949 232.48323)scale(0.1 -0.1)\">\r\n      <defs>\r\n       <path d=\"M 1228 531 \r\nL 3431 531 \r\nL 3431 0 \r\nL 469 0 \r\nL 469 531 \r\nQ 828 903 1448 1529 \r\nQ 2069 2156 2228 2338 \r\nQ 2531 2678 2651 2914 \r\nQ 2772 3150 2772 3378 \r\nQ 2772 3750 2511 3984 \r\nQ 2250 4219 1831 4219 \r\nQ 1534 4219 1204 4116 \r\nQ 875 4013 500 3803 \r\nL 500 4441 \r\nQ 881 4594 1212 4672 \r\nQ 1544 4750 1819 4750 \r\nQ 2544 4750 2975 4387 \r\nQ 3406 4025 3406 3419 \r\nQ 3406 3131 3298 2873 \r\nQ 3191 2616 2906 2266 \r\nQ 2828 2175 2409 1742 \r\nQ 1991 1309 1228 531 \r\nz\r\n\" id=\"DejaVuSans-32\" transform=\"scale(0.015625)\"/>\r\n      </defs>\r\n      <use xlink:href=\"#DejaVuSans-30\"/>\r\n      <use x=\"63.623047\" xlink:href=\"#DejaVuSans-2e\"/>\r\n      <use x=\"95.410156\" xlink:href=\"#DejaVuSans-32\"/>\r\n      <use x=\"159.033203\" xlink:href=\"#DejaVuSans-30\"/>\r\n     </g>\r\n    </g>\r\n   </g>\r\n  </g>\r\n  <g id=\"axis3d_2\">\r\n   <g id=\"line2d_7\">\r\n    <path d=\"M 210.64668 144.32791 \r\nL 145.759879 210.91773 \r\n\" style=\"fill:none;stroke:#000000;stroke-linecap:square;stroke-width:0.8;\"/>\r\n   </g>\r\n   <g id=\"Line3DCollection_2\">\r\n    <path d=\"M 24.386948 75.145071 \r\nL 28.566245 166.878731 \r\nL 150.249543 206.31023 \r\n\" style=\"fill:none;stroke:#b0b0b0;stroke-width:0.8;\"/>\r\n    <path d=\"M 38.348843 64.956316 \r\nL 41.856316 155.73873 \r\nL 162.294948 193.948681 \r\n\" style=\"fill:none;stroke:#b0b0b0;stroke-width:0.8;\"/>\r\n    <path d=\"M 51.873665 55.086517 \r\nL 54.748199 144.932498 \r\nL 173.960642 181.976809 \r\n\" style=\"fill:none;stroke:#b0b0b0;stroke-width:0.8;\"/>\r\n    <path d=\"M 64.981621 45.520927 \r\nL 67.259526 134.445256 \r\nL 185.264301 170.376475 \r\n\" style=\"fill:none;stroke:#b0b0b0;stroke-width:0.8;\"/>\r\n    <path d=\"M 77.691693 36.245695 \r\nL 79.406902 124.263085 \r\nL 196.22252 159.130646 \r\n\" style=\"fill:none;stroke:#b0b0b0;stroke-width:0.8;\"/>\r\n    <path d=\"M 90.021727 27.247799 \r\nL 91.20598 114.372864 \r\nL 206.850896 148.223317 \r\n\" style=\"fill:none;stroke:#b0b0b0;stroke-width:0.8;\"/>\r\n   </g>\r\n   <g id=\"xtick_6\">\r\n    <g id=\"line2d_8\">\r\n     <path d=\"M 149.224115 205.977939 \r\nL 152.303053 206.97567 \r\n\" style=\"fill:none;stroke:#000000;stroke-linecap:square;stroke-width:0.8;\"/>\r\n    </g>\r\n    <g id=\"text_6\">\r\n     <!-- 0.0 -->\r\n     <g transform=\"translate(155.180341 227.333759)scale(0.1 -0.1)\">\r\n      <use xlink:href=\"#DejaVuSans-30\"/>\r\n      <use x=\"63.623047\" xlink:href=\"#DejaVuSans-2e\"/>\r\n      <use x=\"95.410156\" xlink:href=\"#DejaVuSans-30\"/>\r\n     </g>\r\n    </g>\r\n   </g>\r\n   <g id=\"xtick_7\">\r\n    <g id=\"line2d_9\">\r\n     <path d=\"M 161.280832 193.626946 \r\nL 164.325762 194.59297 \r\n\" style=\"fill:none;stroke:#000000;stroke-linecap:square;stroke-width:0.8;\"/>\r\n    </g>\r\n    <g id=\"text_7\">\r\n     <!-- 0.1 -->\r\n     <g transform=\"translate(167.027985 214.74815)scale(0.1 -0.1)\">\r\n      <use xlink:href=\"#DejaVuSans-30\"/>\r\n      <use x=\"63.623047\" xlink:href=\"#DejaVuSans-2e\"/>\r\n      <use x=\"95.410156\" xlink:href=\"#DejaVuSans-31\"/>\r\n     </g>\r\n    </g>\r\n   </g>\r\n   <g id=\"xtick_8\">\r\n    <g id=\"line2d_10\">\r\n     <path d=\"M 172.957639 181.665134 \r\nL 175.96916 182.60094 \r\n\" style=\"fill:none;stroke:#000000;stroke-linecap:square;stroke-width:0.8;\"/>\r\n    </g>\r\n    <g id=\"text_8\">\r\n     <!-- 0.2 -->\r\n     <g transform=\"translate(178.501887 202.559564)scale(0.1 -0.1)\">\r\n      <use xlink:href=\"#DejaVuSans-30\"/>\r\n      <use x=\"63.623047\" xlink:href=\"#DejaVuSans-2e\"/>\r\n      <use x=\"95.410156\" xlink:href=\"#DejaVuSans-32\"/>\r\n     </g>\r\n    </g>\r\n   </g>\r\n   <g id=\"xtick_9\">\r\n    <g id=\"line2d_11\">\r\n     <path d=\"M 184.272216 170.074395 \r\nL 187.250917 170.981379 \r\n\" style=\"fill:none;stroke:#000000;stroke-linecap:square;stroke-width:0.8;\"/>\r\n    </g>\r\n    <g id=\"text_9\">\r\n     <!-- 0.3 -->\r\n     <g transform=\"translate(189.619457 190.749504)scale(0.1 -0.1)\">\r\n      <defs>\r\n       <path d=\"M 2597 2516 \r\nQ 3050 2419 3304 2112 \r\nQ 3559 1806 3559 1356 \r\nQ 3559 666 3084 287 \r\nQ 2609 -91 1734 -91 \r\nQ 1441 -91 1130 -33 \r\nQ 819 25 488 141 \r\nL 488 750 \r\nQ 750 597 1062 519 \r\nQ 1375 441 1716 441 \r\nQ 2309 441 2620 675 \r\nQ 2931 909 2931 1356 \r\nQ 2931 1769 2642 2001 \r\nQ 2353 2234 1838 2234 \r\nL 1294 2234 \r\nL 1294 2753 \r\nL 1863 2753 \r\nQ 2328 2753 2575 2939 \r\nQ 2822 3125 2822 3475 \r\nQ 2822 3834 2567 4026 \r\nQ 2313 4219 1838 4219 \r\nQ 1578 4219 1281 4162 \r\nQ 984 4106 628 3988 \r\nL 628 4550 \r\nQ 988 4650 1302 4700 \r\nQ 1616 4750 1894 4750 \r\nQ 2613 4750 3031 4423 \r\nQ 3450 4097 3450 3541 \r\nQ 3450 3153 3228 2886 \r\nQ 3006 2619 2597 2516 \r\nz\r\n\" id=\"DejaVuSans-33\" transform=\"scale(0.015625)\"/>\r\n      </defs>\r\n      <use xlink:href=\"#DejaVuSans-30\"/>\r\n      <use x=\"63.623047\" xlink:href=\"#DejaVuSans-2e\"/>\r\n      <use x=\"95.410156\" xlink:href=\"#DejaVuSans-33\"/>\r\n     </g>\r\n    </g>\r\n   </g>\r\n   <g id=\"xtick_10\">\r\n    <g id=\"line2d_12\">\r\n     <path d=\"M 195.241159 158.837726 \r\nL 198.187625 159.717198 \r\n\" style=\"fill:none;stroke:#000000;stroke-linecap:square;stroke-width:0.8;\"/>\r\n    </g>\r\n    <g id=\"text_10\">\r\n     <!-- 0.4 -->\r\n     <g transform=\"translate(200.39704 179.300607)scale(0.1 -0.1)\">\r\n      <defs>\r\n       <path d=\"M 2419 4116 \r\nL 825 1625 \r\nL 2419 1625 \r\nL 2419 4116 \r\nz\r\nM 2253 4666 \r\nL 3047 4666 \r\nL 3047 1625 \r\nL 3713 1625 \r\nL 3713 1100 \r\nL 3047 1100 \r\nL 3047 0 \r\nL 2419 0 \r\nL 2419 1100 \r\nL 313 1100 \r\nL 313 1709 \r\nL 2253 4666 \r\nz\r\n\" id=\"DejaVuSans-34\" transform=\"scale(0.015625)\"/>\r\n      </defs>\r\n      <use xlink:href=\"#DejaVuSans-30\"/>\r\n      <use x=\"63.623047\" xlink:href=\"#DejaVuSans-2e\"/>\r\n      <use x=\"95.410156\" xlink:href=\"#DejaVuSans-34\"/>\r\n     </g>\r\n    </g>\r\n   </g>\r\n   <g id=\"xtick_11\">\r\n    <g id=\"line2d_13\">\r\n     <path d=\"M 205.880068 147.939146 \r\nL 208.794875 148.79234 \r\n\" style=\"fill:none;stroke:#000000;stroke-linecap:square;stroke-width:0.8;\"/>\r\n    </g>\r\n    <g id=\"text_11\">\r\n     <!-- 0.5 -->\r\n     <g transform=\"translate(210.849998 168.196556)scale(0.1 -0.1)\">\r\n      <use xlink:href=\"#DejaVuSans-30\"/>\r\n      <use x=\"63.623047\" xlink:href=\"#DejaVuSans-2e\"/>\r\n      <use x=\"95.410156\" xlink:href=\"#DejaVuSans-35\"/>\r\n     </g>\r\n    </g>\r\n   </g>\r\n  </g>\r\n  <g id=\"axis3d_3\">\r\n   <g id=\"line2d_14\">\r\n    <path d=\"M 210.64668 144.32791 \r\nL 214.758571 54.534718 \r\n\" style=\"fill:none;stroke:#000000;stroke-linecap:square;stroke-width:0.8;\"/>\r\n   </g>\r\n   <g id=\"Line3DCollection_3\">\r\n    <path d=\"M 210.934764 138.036898 \r\nL 95.353939 104.743738 \r\nL 23.308024 164.584854 \r\n\" style=\"fill:none;stroke:#b0b0b0;stroke-width:0.8;\"/>\r\n    <path d=\"M 211.897082 117.022336 \r\nL 95.120025 84.402053 \r\nL 22.271313 143.056869 \r\n\" style=\"fill:none;stroke:#b0b0b0;stroke-width:0.8;\"/>\r\n    <path d=\"M 212.879727 95.563876 \r\nL 94.88141 63.651422 \r\nL 21.211858 121.056608 \r\n\" style=\"fill:none;stroke:#b0b0b0;stroke-width:0.8;\"/>\r\n    <path d=\"M 213.88335 73.647303 \r\nL 94.637948 42.479388 \r\nL 20.128904 98.568357 \r\n\" style=\"fill:none;stroke:#b0b0b0;stroke-width:0.8;\"/>\r\n   </g>\r\n   <g id=\"xtick_12\">\r\n    <g id=\"line2d_15\">\r\n     <path d=\"M 209.96458 137.757435 \r\nL 212.877446 138.596489 \r\n\" style=\"fill:none;stroke:#000000;stroke-linecap:square;stroke-width:0.8;\"/>\r\n    </g>\r\n    <g id=\"text_12\">\r\n     <!-- −2 -->\r\n     <g transform=\"translate(221.856036 143.047085)scale(0.1 -0.1)\">\r\n      <defs>\r\n       <path d=\"M 678 2272 \r\nL 4684 2272 \r\nL 4684 1741 \r\nL 678 1741 \r\nL 678 2272 \r\nz\r\n\" id=\"DejaVuSans-2212\" transform=\"scale(0.015625)\"/>\r\n      </defs>\r\n      <use xlink:href=\"#DejaVuSans-2212\"/>\r\n      <use x=\"83.789062\" xlink:href=\"#DejaVuSans-32\"/>\r\n     </g>\r\n    </g>\r\n   </g>\r\n   <g id=\"xtick_13\">\r\n    <g id=\"line2d_16\">\r\n     <path d=\"M 210.916376 116.748388 \r\nL 213.860857 117.570893 \r\n\" style=\"fill:none;stroke:#000000;stroke-linecap:square;stroke-width:0.8;\"/>\r\n    </g>\r\n    <g id=\"text_13\">\r\n     <!-- 0 -->\r\n     <g transform=\"translate(227.19509 122.083677)scale(0.1 -0.1)\">\r\n      <use xlink:href=\"#DejaVuSans-30\"/>\r\n     </g>\r\n    </g>\r\n   </g>\r\n   <g id=\"xtick_14\">\r\n    <g id=\"line2d_17\">\r\n     <path d=\"M 211.888269 95.295738 \r\nL 214.865058 96.100806 \r\n\" style=\"fill:none;stroke:#000000;stroke-linecap:square;stroke-width:0.8;\"/>\r\n    </g>\r\n    <g id=\"text_14\">\r\n     <!-- 2 -->\r\n     <g transform=\"translate(228.368483 100.679115)scale(0.1 -0.1)\">\r\n      <use xlink:href=\"#DejaVuSans-32\"/>\r\n     </g>\r\n    </g>\r\n   </g>\r\n   <g id=\"xtick_15\">\r\n    <g id=\"line2d_18\">\r\n     <path d=\"M 212.880902 73.385287 \r\nL 215.890715 74.171981 \r\n\" style=\"fill:none;stroke:#000000;stroke-linecap:square;stroke-width:0.8;\"/>\r\n    </g>\r\n    <g id=\"text_15\">\r\n     <!-- 4 -->\r\n     <g transform=\"translate(229.566833 78.819324)scale(0.1 -0.1)\">\r\n      <use xlink:href=\"#DejaVuSans-34\"/>\r\n     </g>\r\n    </g>\r\n   </g>\r\n  </g>\r\n  <g id=\"axes_1\">\r\n   <g id=\"Poly3DCollection_1\">\r\n    <path clip-path=\"url(#p3518a2be01)\" d=\"M 140.517698 116.480175 \r\nL 145.549785 121.6266 \r\nL 146.652882 121.792467 \r\nL 147.747134 122.259756 \r\nL 142.753748 115.606243 \r\nL 141.639219 115.90598 \r\nz\r\n\" style=\"fill:#5a78e4;\"/>\r\n    <path clip-path=\"url(#p3518a2be01)\" d=\"M 145.549785 121.6266 \r\nL 150.604849 125.519171 \r\nL 151.687346 126.367839 \r\nL 152.759319 127.530434 \r\nL 147.747134 122.259756 \r\nL 146.652882 121.792467 \r\nz\r\n\" style=\"fill:#4961d2;\"/>\r\n    <path clip-path=\"url(#p3518a2be01)\" d=\"M 135.49801 110.215861 \r\nL 140.517698 116.480175 \r\nL 141.639219 115.90598 \r\nL 142.753748 115.606243 \r\nL 137.767331 107.729986 \r\nL 136.635223 108.855257 \r\nz\r\n\" style=\"fill:#7295f4;\"/>\r\n    <path clip-path=\"url(#p3518a2be01)\" d=\"M 86.075259 99.53729 \r\nL 91.031738 100.959591 \r\nL 92.212255 98.452434 \r\nL 93.365788 93.914296 \r\nL 88.388196 91.25621 \r\nL 87.251664 96.696041 \r\nz\r\n\" style=\"fill:#aec9fc;\"/>\r\n    <path clip-path=\"url(#p3518a2be01)\" d=\"M 130.481297 103.022963 \r\nL 135.49801 110.215861 \r\nL 136.635223 108.855257 \r\nL 137.767331 107.729986 \r\nL 132.777338 98.852746 \r\nL 131.630975 100.843869 \r\nz\r\n\" style=\"fill:#90b2fe;\"/>\r\n    <path clip-path=\"url(#p3518a2be01)\" d=\"M 150.604849 125.519171 \r\nL 155.693811 128.084042 \r\nL 156.754105 129.550706 \r\nL 157.802496 131.328544 \r\nL 152.759319 127.530434 \r\nL 151.687346 126.367839 \r\nz\r\n\" style=\"fill:#3e51c5;\"/>\r\n    <path clip-path=\"url(#p3518a2be01)\" d=\"M 88.388196 91.25621 \r\nL 93.365788 93.914296 \r\nL 94.504577 88.076834 \r\nL 95.636257 81.416987 \r\nL 90.615635 76.658118 \r\nL 89.505845 84.369533 \r\nz\r\n\" style=\"fill:#d5dbe5;\"/>\r\n    <path clip-path=\"url(#p3518a2be01)\" d=\"M 125.459972 95.129849 \r\nL 130.481297 103.022963 \r\nL 131.630975 100.843869 \r\nL 132.777338 98.852746 \r\nL 127.775303 89.243576 \r\nL 126.6185 92.117745 \r\nz\r\n\" style=\"fill:#b3cdfb;\"/>\r\n    <path clip-path=\"url(#p3518a2be01)\" d=\"M 91.031738 100.959591 \r\nL 96.016446 103.013566 \r\nL 97.198049 100.746647 \r\nL 98.362912 97.010922 \r\nL 93.365788 93.914296 \r\nL 92.212255 98.452434 \r\nz\r\n\" style=\"fill:#aac7fd;\"/>\r\n    <path clip-path=\"url(#p3518a2be01)\" d=\"M 83.654449 101.509714 \r\nL 88.620467 102.940471 \r\nL 89.827891 101.948561 \r\nL 91.031738 100.959591 \r\nL 86.075259 99.53729 \r\nL 84.866646 100.522042 \r\nz\r\n\" style=\"fill:#a2c1ff;\"/>\r\n    <path clip-path=\"url(#p3518a2be01)\" d=\"M 155.693811 128.084042 \r\nL 160.827096 129.313002 \r\nL 161.864127 131.328609 \r\nL 162.88829 133.637937 \r\nL 157.802496 131.328544 \r\nL 156.754105 129.550706 \r\nz\r\n\" style=\"fill:#3b4cc0;\"/>\r\n    <path clip-path=\"url(#p3518a2be01)\" d=\"M 133.211363 113.41633 \r\nL 138.257893 118.191663 \r\nL 139.39031 117.260296 \r\nL 140.517698 116.480175 \r\nL 135.49801 110.215861 \r\nL 134.356497 111.75505 \r\nz\r\n\" style=\"fill:#7295f4;\"/>\r\n    <path clip-path=\"url(#p3518a2be01)\" d=\"M 128.174009 107.767984 \r\nL 133.211363 113.41633 \r\nL 134.356497 111.75505 \r\nL 135.49801 110.215861 \r\nL 130.481297 103.022963 \r\nL 129.328811 105.349691 \r\nz\r\n\" style=\"fill:#88abfd;\"/>\r\n    <path clip-path=\"url(#p3518a2be01)\" d=\"M 93.365788 93.914296 \r\nL 98.362912 97.010922 \r\nL 99.516323 92.093481 \r\nL 100.663775 86.382745 \r\nL 95.636257 81.416987 \r\nL 94.504577 88.076834 \r\nz\r\n\" style=\"fill:#ccd9ed;\"/>\r\n    <path clip-path=\"url(#p3518a2be01)\" d=\"M 138.257893 118.191663 \r\nL 143.322261 121.923019 \r\nL 144.439261 121.686869 \r\nL 145.549785 121.6266 \r\nL 140.517698 116.480175 \r\nL 139.39031 117.260296 \r\nz\r\n\" style=\"fill:#6180e9;\"/>\r\n    <path clip-path=\"url(#p3518a2be01)\" d=\"M 123.138872 101.455103 \r\nL 128.174009 107.767984 \r\nL 129.328811 105.349691 \r\nL 130.481297 103.022963 \r\nL 125.459972 95.129849 \r\nL 124.299994 98.260187 \r\nz\r\n\" style=\"fill:#a3c2fe;\"/>\r\n    <path clip-path=\"url(#p3518a2be01)\" d=\"M 120.428751 86.784235 \r\nL 125.459972 95.129849 \r\nL 126.6185 92.117745 \r\nL 127.775303 89.243576 \r\nL 122.755425 79.198655 \r\nL 121.592283 82.94526 \r\nz\r\n\" style=\"fill:#d4dbe6;\"/>\r\n    <path clip-path=\"url(#p3518a2be01)\" d=\"M 98.362912 97.010922 \r\nL 103.377003 100.612837 \r\nL 104.539141 96.451513 \r\nL 105.696922 91.585319 \r\nL 100.663775 86.382745 \r\nL 99.516323 92.093481 \r\nz\r\n\" style=\"fill:#bfd3f6;\"/>\r\n    <path clip-path=\"url(#p3518a2be01)\" d=\"M 96.016446 103.013566 \r\nL 101.028476 106.103889 \r\nL 102.207412 103.839722 \r\nL 103.377003 100.612837 \r\nL 98.362912 97.010922 \r\nL 97.198049 100.746647 \r\nz\r\n\" style=\"fill:#a3c2fe;\"/>\r\n    <path clip-path=\"url(#p3518a2be01)\" d=\"M 118.101125 94.704357 \r\nL 123.138872 101.455103 \r\nL 124.299994 98.260187 \r\nL 125.459972 95.129849 \r\nL 120.428751 86.784235 \r\nL 119.264983 90.720355 \r\nz\r\n\" style=\"fill:#bfd3f6;\"/>\r\n    <path clip-path=\"url(#p3518a2be01)\" d=\"M 143.322261 121.923019 \r\nL 148.414186 124.490534 \r\nL 149.513468 124.907693 \r\nL 150.604849 125.519171 \r\nL 145.549785 121.6266 \r\nL 144.439261 121.686869 \r\nz\r\n\" style=\"fill:#5572df;\"/>\r\n    <path clip-path=\"url(#p3518a2be01)\" d=\"M 88.620467 102.940471 \r\nL 93.622007 105.525146 \r\nL 94.82132 104.307334 \r\nL 96.016446 103.013566 \r\nL 91.031738 100.959591 \r\nL 89.827891 101.948561 \r\nz\r\n\" style=\"fill:#a1c0ff;\"/>\r\n    <path clip-path=\"url(#p3518a2be01)\" d=\"M 103.377003 100.612837 \r\nL 108.404184 104.66434 \r\nL 109.570382 101.102072 \r\nL 110.733801 96.974609 \r\nL 105.696922 91.585319 \r\nL 104.539141 96.451513 \r\nz\r\n\" style=\"fill:#b1cbfc;\"/>\r\n    <path clip-path=\"url(#p3518a2be01)\" d=\"M 115.772857 102.414178 \r\nL 120.813934 107.700709 \r\nL 121.976832 104.63413 \r\nL 123.138872 101.455103 \r\nL 118.101125 94.704357 \r\nL 116.937171 98.643314 \r\nz\r\n\" style=\"fill:#a6c4fe;\"/>\r\n    <path clip-path=\"url(#p3518a2be01)\" d=\"M 120.813934 107.700709 \r\nL 125.85899 112.599759 \r\nL 127.017307 110.209366 \r\nL 128.174009 107.767984 \r\nL 123.138872 101.455103 \r\nL 121.976832 104.63413 \r\nz\r\n\" style=\"fill:#92b4fe;\"/>\r\n    <path clip-path=\"url(#p3518a2be01)\" d=\"M 110.733801 96.974609 \r\nL 115.772857 102.414178 \r\nL 116.937171 98.643314 \r\nL 118.101125 94.704357 \r\nL 113.058199 87.736119 \r\nL 111.896015 92.459254 \r\nz\r\n\" style=\"fill:#bcd2f7;\"/>\r\n    <path clip-path=\"url(#p3518a2be01)\" d=\"M 160.827096 129.313002 \r\nL 166.013833 129.261998 \r\nL 167.027027 131.756435 \r\nL 168.026867 134.514145 \r\nL 162.88829 133.637937 \r\nL 161.864127 131.328609 \r\nz\r\n\" style=\"fill:#3c4ec2;\"/>\r\n    <path clip-path=\"url(#p3518a2be01)\" d=\"M 108.404184 104.66434 \r\nL 113.440612 108.932363 \r\nL 114.607616 105.882829 \r\nL 115.772857 102.414178 \r\nL 110.733801 96.974609 \r\nL 109.570382 101.102072 \r\nz\r\n\" style=\"fill:#a1c0ff;\"/>\r\n    <path clip-path=\"url(#p3518a2be01)\" d=\"M 125.85899 112.599759 \r\nL 130.912326 116.87907 \r\nL 132.063166 115.14268 \r\nL 133.211363 113.41633 \r\nL 128.174009 107.767984 \r\nL 127.017307 110.209366 \r\nz\r\n\" style=\"fill:#7ea1fa;\"/>\r\n    <path clip-path=\"url(#p3518a2be01)\" d=\"M 105.696922 91.585319 \r\nL 110.733801 96.974609 \r\nL 111.896015 92.459254 \r\nL 113.058199 87.736119 \r\nL 108.009522 80.736894 \r\nL 106.85306 86.270888 \r\nz\r\n\" style=\"fill:#d1dae9;\"/>\r\n    <path clip-path=\"url(#p3518a2be01)\" d=\"M 101.028476 106.103889 \r\nL 106.05749 109.772372 \r\nL 107.233563 107.545682 \r\nL 108.404184 104.66434 \r\nL 103.377003 100.612837 \r\nL 102.207412 103.839722 \r\nz\r\n\" style=\"fill:#9abbff;\"/>\r\n    <path clip-path=\"url(#p3518a2be01)\" d=\"M 113.058199 87.736119 \r\nL 118.101125 94.704357 \r\nL 119.264983 90.720355 \r\nL 120.428751 86.784235 \r\nL 115.384816 78.22844 \r\nL 114.221044 82.95745 \r\nz\r\n\" style=\"fill:#d8dce2;\"/>\r\n    <path clip-path=\"url(#p3518a2be01)\" d=\"M 100.663775 86.382745 \r\nL 105.696922 91.585319 \r\nL 106.85306 86.270888 \r\nL 108.009522 80.736894 \r\nL 102.955881 73.832551 \r\nL 101.80934 80.20583 \r\nz\r\n\" style=\"fill:#e2dad5;\"/>\r\n    <path clip-path=\"url(#p3518a2be01)\" d=\"M 90.615635 76.658118 \r\nL 95.636257 81.416987 \r\nL 96.766271 74.311912 \r\nL 97.898446 67.066404 \r\nL 92.837559 60.382991 \r\nL 91.724578 68.549849 \r\nz\r\n\" style=\"fill:#f6bda2;\"/>\r\n    <path clip-path=\"url(#p3518a2be01)\" d=\"M 95.636257 81.416987 \r\nL 100.663775 86.382745 \r\nL 101.80934 80.20583 \r\nL 102.955881 73.832551 \r\nL 97.898446 67.066404 \r\nL 96.766271 74.311912 \r\nz\r\n\" style=\"fill:#f0cdbb;\"/>\r\n    <path clip-path=\"url(#p3518a2be01)\" d=\"M 115.384816 78.22844 \r\nL 120.428751 86.784235 \r\nL 121.592283 82.94526 \r\nL 122.755425 79.198655 \r\nL 117.714844 69.015441 \r\nL 116.549476 73.59198 \r\nz\r\n\" style=\"fill:#eed0c0;\"/>\r\n    <path clip-path=\"url(#p3518a2be01)\" d=\"M 113.440612 108.932363 \r\nL 118.484703 113.126675 \r\nL 119.650018 110.557538 \r\nL 120.813934 107.700709 \r\nL 115.772857 102.414178 \r\nL 114.607616 105.882829 \r\nz\r\n\" style=\"fill:#90b2fe;\"/>\r\n    <path clip-path=\"url(#p3518a2be01)\" d=\"M 81.197599 102.317929 \r\nL 86.198106 105.138758 \r\nL 87.412384 104.126203 \r\nL 88.620467 102.940471 \r\nL 83.654449 101.509714 \r\nL 82.429266 101.972904 \r\nz\r\n\" style=\"fill:#a3c2fe;\"/>\r\n    <path clip-path=\"url(#p3518a2be01)\" d=\"M 130.912326 116.87907 \r\nL 135.98038 120.333201 \r\nL 137.121091 119.228663 \r\nL 138.257893 118.191663 \r\nL 133.211363 113.41633 \r\nL 132.063166 115.14268 \r\nz\r\n\" style=\"fill:#6f92f3;\"/>\r\n    <path clip-path=\"url(#p3518a2be01)\" d=\"M 93.622007 105.525146 \r\nL 98.649568 109.139844 \r\nL 99.841415 107.719154 \r\nL 101.028476 106.103889 \r\nL 96.016446 103.013566 \r\nL 94.82132 104.307334 \r\nz\r\n\" style=\"fill:#9abbff;\"/>\r\n    <path clip-path=\"url(#p3518a2be01)\" d=\"M 148.414186 124.490534 \r\nL 153.543691 125.833442 \r\nL 154.623371 126.855749 \r\nL 155.693811 128.084042 \r\nL 150.604849 125.519171 \r\nL 149.513468 124.907693 \r\nz\r\n\" style=\"fill:#506bda;\"/>\r\n    <path clip-path=\"url(#p3518a2be01)\" d=\"M 106.05749 109.772372 \r\nL 111.097786 113.614549 \r\nL 112.270918 111.501275 \r\nL 113.440612 108.932363 \r\nL 108.404184 104.66434 \r\nL 107.233563 107.545682 \r\nz\r\n\" style=\"fill:#8db0fe;\"/>\r\n    <path clip-path=\"url(#p3518a2be01)\" d=\"M 108.009522 80.736894 \r\nL 113.058199 87.736119 \r\nL 114.221044 82.95745 \r\nL 115.384816 78.22844 \r\nL 110.327596 69.67038 \r\nL 109.167522 75.164378 \r\nz\r\n\" style=\"fill:#edd1c2;\"/>\r\n    <path clip-path=\"url(#p3518a2be01)\" d=\"M 118.484703 113.126675 \r\nL 123.537719 116.966044 \r\nL 124.699159 114.869622 \r\nL 125.85899 112.599759 \r\nL 120.813934 107.700709 \r\nL 119.650018 110.557538 \r\nz\r\n\" style=\"fill:#81a4fb;\"/>\r\n    <path clip-path=\"url(#p3518a2be01)\" d=\"M 135.98038 120.333201 \r\nL 141.07124 122.800274 \r\nL 142.199436 122.301484 \r\nL 143.322261 121.923019 \r\nL 138.257893 118.191663 \r\nL 137.121091 119.228663 \r\nz\r\n\" style=\"fill:#6485ec;\"/>\r\n    <path clip-path=\"url(#p3518a2be01)\" d=\"M 111.097786 113.614549 \r\nL 116.147725 117.302883 \r\nL 117.317457 115.370491 \r\nL 118.484703 113.126675 \r\nL 113.440612 108.932363 \r\nL 112.270918 111.501275 \r\nz\r\n\" style=\"fill:#81a4fb;\"/>\r\n    <path clip-path=\"url(#p3518a2be01)\" d=\"M 98.649568 109.139844 \r\nL 103.690227 113.050815 \r\nL 104.876072 111.528635 \r\nL 106.05749 109.772372 \r\nL 101.028476 106.103889 \r\nL 99.841415 107.719154 \r\nz\r\n\" style=\"fill:#8fb1fe;\"/>\r\n    <path clip-path=\"url(#p3518a2be01)\" d=\"M 102.955881 73.832551 \r\nL 108.009522 80.736894 \r\nL 109.167522 75.164378 \r\nL 110.327596 69.67038 \r\nL 105.258103 61.251054 \r\nL 104.105197 67.470729 \r\nz\r\n\" style=\"fill:#f7b99e;\"/>\r\n    <path clip-path=\"url(#p3518a2be01)\" d=\"M 123.537719 116.966044 \r\nL 128.603585 120.202725 \r\nL 129.759103 118.577467 \r\nL 130.912326 116.87907 \r\nL 125.85899 112.599759 \r\nL 124.699159 114.869622 \r\nz\r\n\" style=\"fill:#7597f6;\"/>\r\n    <path clip-path=\"url(#p3518a2be01)\" d=\"M 110.327596 69.67038 \r\nL 115.384816 78.22844 \r\nL 116.549476 73.59198 \r\nL 117.714844 69.015441 \r\nL 112.653522 58.961324 \r\nL 111.489726 64.290355 \r\nz\r\n\" style=\"fill:#f7b194;\"/>\r\n    <path clip-path=\"url(#p3518a2be01)\" d=\"M 86.198106 105.138758 \r\nL 91.218223 108.325346 \r\nL 92.422458 106.984138 \r\nL 93.622007 105.525146 \r\nL 88.620467 102.940471 \r\nL 87.412384 104.126203 \r\nz\r\n\" style=\"fill:#9ebeff;\"/>\r\n    <path clip-path=\"url(#p3518a2be01)\" d=\"M 97.898446 67.066404 \r\nL 102.955881 73.832551 \r\nL 104.105197 67.470729 \r\nL 105.258103 61.251054 \r\nL 100.177794 53.009398 \r\nL 99.035234 59.915359 \r\nz\r\n\" style=\"fill:#f49a7b;\"/>\r\n    <path clip-path=\"url(#p3518a2be01)\" d=\"M 166.013833 129.261998 \r\nL 171.261188 128.045043 \r\nL 172.25036 130.950132 \r\nL 173.226204 134.077653 \r\nL 168.026867 134.514145 \r\nL 167.027027 131.756435 \r\nz\r\n\" style=\"fill:#4358cb;\"/>\r\n    <path clip-path=\"url(#p3518a2be01)\" d=\"M 116.147725 117.302883 \r\nL 121.20886 120.565366 \r\nL 122.374407 118.863158 \r\nL 123.537719 116.966044 \r\nL 118.484703 113.126675 \r\nL 117.317457 115.370491 \r\nz\r\n\" style=\"fill:#7597f6;\"/>\r\n    <path clip-path=\"url(#p3518a2be01)\" d=\"M 103.690227 113.050815 \r\nL 108.740161 116.912817 \r\nL 109.920867 115.376181 \r\nL 111.097786 113.614549 \r\nL 106.05749 109.772372 \r\nL 104.876072 111.528635 \r\nz\r\n\" style=\"fill:#82a6fb;\"/>\r\n    <path clip-path=\"url(#p3518a2be01)\" d=\"M 153.543691 125.833442 \r\nL 158.720302 125.952882 \r\nL 159.77892 127.52739 \r\nL 160.827096 129.313002 \r\nL 155.693811 128.084042 \r\nL 154.623371 126.855749 \r\nz\r\n\" style=\"fill:#516ddb;\"/>\r\n    <path clip-path=\"url(#p3518a2be01)\" d=\"M 128.603585 120.202725 \r\nL 133.688416 122.634394 \r\nL 134.83609 121.475291 \r\nL 135.98038 120.333201 \r\nL 130.912326 116.87907 \r\nL 129.759103 118.577467 \r\nz\r\n\" style=\"fill:#6b8df0;\"/>\r\n    <path clip-path=\"url(#p3518a2be01)\" d=\"M 141.07124 122.800274 \r\nL 146.193981 124.172483 \r\nL 147.307579 124.247386 \r\nL 148.414186 124.490534 \r\nL 143.322261 121.923019 \r\nL 142.199436 122.301484 \r\nz\r\n\" style=\"fill:#5f7fe8;\"/>\r\n    <path clip-path=\"url(#p3518a2be01)\" d=\"M 91.218223 108.325346 \r\nL 96.256118 111.943352 \r\nL 97.454827 110.58066 \r\nL 98.649568 109.139844 \r\nL 93.622007 105.525146 \r\nL 92.422458 106.984138 \r\nz\r\n\" style=\"fill:#96b7ff;\"/>\r\n    <path clip-path=\"url(#p3518a2be01)\" d=\"M 92.837559 60.382991 \r\nL 97.898446 67.066404 \r\nL 99.035234 59.915359 \r\nL 100.177794 53.009398 \r\nL 95.086959 44.849521 \r\nL 93.957804 52.422925 \r\nz\r\n\" style=\"fill:#e8765c;\"/>\r\n    <path clip-path=\"url(#p3518a2be01)\" d=\"M 105.258103 61.251054 \r\nL 110.327596 69.67038 \r\nL 111.489726 64.290355 \r\nL 112.653522 58.961324 \r\nL 107.573645 49.236504 \r\nL 106.414524 55.204209 \r\nz\r\n\" style=\"fill:#ee8669;\"/>\r\n    <path clip-path=\"url(#p3518a2be01)\" d=\"M 78.716415 102.784157 \r\nL 83.744153 106.325962 \r\nL 84.975688 105.880987 \r\nL 86.198106 105.138758 \r\nL 81.197599 102.317929 \r\nL 79.960877 102.63254 \r\nz\r\n\" style=\"fill:#a7c5fe;\"/>\r\n    <path clip-path=\"url(#p3518a2be01)\" d=\"M 108.740161 116.912817 \r\nL 113.799173 120.466911 \r\nL 114.975062 118.979453 \r\nL 116.147725 117.302883 \r\nL 111.097786 113.614549 \r\nL 109.920867 115.376181 \r\nz\r\n\" style=\"fill:#779af7;\"/>\r\n    <path clip-path=\"url(#p3518a2be01)\" d=\"M 121.20886 120.565366 \r\nL 126.285306 123.17859 \r\nL 127.445709 121.736816 \r\nL 128.603585 120.202725 \r\nL 123.537719 116.966044 \r\nL 122.374407 118.863158 \r\nz\r\n\" style=\"fill:#6c8ff1;\"/>\r\n    <path clip-path=\"url(#p3518a2be01)\" d=\"M 96.256118 111.943352 \r\nL 101.306907 115.783669 \r\nL 102.500613 114.474118 \r\nL 103.690227 113.050815 \r\nL 98.649568 109.139844 \r\nL 97.454827 110.58066 \r\nz\r\n\" style=\"fill:#8badfd;\"/>\r\n    <path clip-path=\"url(#p3518a2be01)\" d=\"M 133.688416 122.634394 \r\nL 138.799905 124.111753 \r\nL 139.937989 123.405982 \r\nL 141.07124 122.800274 \r\nL 135.98038 120.333201 \r\nL 134.83609 121.475291 \r\nz\r\n\" style=\"fill:#6687ed;\"/>\r\n    <path clip-path=\"url(#p3518a2be01)\" d=\"M 100.177794 53.009398 \r\nL 105.258103 61.251054 \r\nL 106.414524 55.204209 \r\nL 107.573645 49.236504 \r\nL 102.478423 39.928268 \r\nL 101.325995 46.386108 \r\nz\r\n\" style=\"fill:#d65244;\"/>\r\n    <path clip-path=\"url(#p3518a2be01)\" d=\"M 83.744153 106.325962 \r\nL 88.785378 110.017535 \r\nL 90.006237 109.348338 \r\nL 91.218223 108.325346 \r\nL 86.198106 105.138758 \r\nL 84.975688 105.880987 \r\nz\r\n\" style=\"fill:#9ebeff;\"/>\r\n    <path clip-path=\"url(#p3518a2be01)\" d=\"M 113.799173 120.466911 \r\nL 118.869658 123.49676 \r\nL 120.040713 122.099348 \r\nL 121.20886 120.565366 \r\nL 116.147725 117.302883 \r\nL 114.975062 118.979453 \r\nz\r\n\" style=\"fill:#6e90f2;\"/>\r\n    <path clip-path=\"url(#p3518a2be01)\" d=\"M 101.306907 115.783669 \r\nL 106.367251 119.556381 \r\nL 107.555705 118.304744 \r\nL 108.740161 116.912817 \r\nL 103.690227 113.050815 \r\nL 102.500613 114.474118 \r\nz\r\n\" style=\"fill:#7ea1fa;\"/>\r\n    <path clip-path=\"url(#p3518a2be01)\" d=\"M 146.193981 124.172483 \r\nL 151.357911 124.401466 \r\nL 152.455165 125.011637 \r\nL 153.543691 125.833442 \r\nL 148.414186 124.490534 \r\nL 147.307579 124.247386 \r\nz\r\n\" style=\"fill:#5f7fe8;\"/>\r\n    <path clip-path=\"url(#p3518a2be01)\" d=\"M 126.285306 123.17859 \r\nL 131.383164 124.968734 \r\nL 132.537437 123.799816 \r\nL 133.688416 122.634394 \r\nL 128.603585 120.202725 \r\nL 127.445709 121.736816 \r\nz\r\n\" style=\"fill:#6788ee;\"/>\r\n    <path clip-path=\"url(#p3518a2be01)\" d=\"M 158.720302 125.952882 \r\nL 163.952313 124.909836 \r\nL 164.988808 126.980729 \r\nL 166.013833 129.261998 \r\nL 160.827096 129.313002 \r\nL 159.77892 127.52739 \r\nz\r\n\" style=\"fill:#5875e1;\"/>\r\n    <path clip-path=\"url(#p3518a2be01)\" d=\"M 88.785378 110.017535 \r\nL 93.838935 113.846674 \r\nL 95.051319 113.060032 \r\nL 96.256118 111.943352 \r\nL 91.218223 108.325346 \r\nL 90.006237 109.348338 \r\nz\r\n\" style=\"fill:#94b6ff;\"/>\r\n    <path clip-path=\"url(#p3518a2be01)\" d=\"M 171.261188 128.045043 \r\nL 176.573897 125.823869 \r\nL 177.539138 129.076112 \r\nL 178.49157 132.502687 \r\nL 173.226204 134.077653 \r\nL 172.25036 130.950132 \r\nz\r\n\" style=\"fill:#506bda;\"/>\r\n    <path clip-path=\"url(#p3518a2be01)\" d=\"M 95.086959 44.849521 \r\nL 100.177794 53.009398 \r\nL 101.325995 46.386108 \r\nL 102.478423 39.928268 \r\nL 97.369995 30.939052 \r\nL 96.22501 37.726428 \r\nz\r\n\" style=\"fill:#b40426;\"/>\r\n    <path clip-path=\"url(#p3518a2be01)\" d=\"M 106.367251 119.556381 \r\nL 111.43681 123.00781 \r\nL 112.619843 121.808683 \r\nL 113.799173 120.466911 \r\nL 108.740161 116.912817 \r\nL 107.555705 118.304744 \r\nz\r\n\" style=\"fill:#7396f5;\"/>\r\n    <path clip-path=\"url(#p3518a2be01)\" d=\"M 118.869658 123.49676 \r\nL 123.956118 125.82449 \r\nL 125.122172 124.537734 \r\nL 126.285306 123.17859 \r\nL 121.20886 120.565366 \r\nL 120.040713 122.099348 \r\nz\r\n\" style=\"fill:#6788ee;\"/>\r\n    <path clip-path=\"url(#p3518a2be01)\" d=\"M 138.799905 124.111753 \r\nL 143.946624 124.54324 \r\nL 145.073606 124.268757 \r\nL 146.193981 124.172483 \r\nL 141.07124 122.800274 \r\nL 139.937989 123.405982 \r\nz\r\n\" style=\"fill:#6788ee;\"/>\r\n    <path clip-path=\"url(#p3518a2be01)\" d=\"M 93.838935 113.846674 \r\nL 98.902873 117.70927 \r\nL 100.108045 116.888039 \r\nL 101.306907 115.783669 \r\nL 96.256118 111.943352 \r\nL 95.051319 113.060032 \r\nz\r\n\" style=\"fill:#88abfd;\"/>\r\n    <path clip-path=\"url(#p3518a2be01)\" d=\"M 76.196666 102.296135 \r\nL 81.250233 106.257587 \r\nL 82.502528 106.450878 \r\nL 83.744153 106.325962 \r\nL 78.716415 102.784157 \r\nL 77.462068 102.682775 \r\nz\r\n\" style=\"fill:#afcafc;\"/>\r\n    <path clip-path=\"url(#p3518a2be01)\" d=\"M 111.43681 123.00781 \r\nL 116.517855 125.931977 \r\nL 117.695448 124.775916 \r\nL 118.869658 123.49676 \r\nL 113.799173 120.466911 \r\nL 112.619843 121.808683 \r\nz\r\n\" style=\"fill:#6b8df0;\"/>\r\n    <path clip-path=\"url(#p3518a2be01)\" d=\"M 131.383164 124.968734 \r\nL 136.509897 125.814756 \r\nL 137.657157 124.915093 \r\nL 138.799905 124.111753 \r\nL 133.688416 122.634394 \r\nL 132.537437 123.799816 \r\nz\r\n\" style=\"fill:#6788ee;\"/>\r\n    <path clip-path=\"url(#p3518a2be01)\" d=\"M 98.902873 117.70927 \r\nL 103.975806 121.438486 \r\nL 105.174208 120.619792 \r\nL 106.367251 119.556381 \r\nL 101.306907 115.783669 \r\nL 100.108045 116.888039 \r\nz\r\n\" style=\"fill:#7da0f9;\"/>\r\n    <path clip-path=\"url(#p3518a2be01)\" d=\"M 151.357911 124.401466 \r\nL 156.571814 123.499031 \r\nL 157.651338 124.600452 \r\nL 158.720302 125.952882 \r\nL 153.543691 125.833442 \r\nL 152.455165 125.011637 \r\nz\r\n\" style=\"fill:#6687ed;\"/>\r\n    <path clip-path=\"url(#p3518a2be01)\" d=\"M 123.956118 125.82449 \r\nL 129.06469 127.314673 \r\nL 130.225581 126.141401 \r\nL 131.383164 124.968734 \r\nL 126.285306 123.17859 \r\nL 125.122172 124.537734 \r\nz\r\n\" style=\"fill:#6485ec;\"/>\r\n    <path clip-path=\"url(#p3518a2be01)\" d=\"M 81.250233 106.257587 \r\nL 86.314485 110.301206 \r\nL 87.554927 110.329328 \r\nL 88.785378 110.017535 \r\nL 83.744153 106.325962 \r\nL 82.502528 106.450878 \r\nz\r\n\" style=\"fill:#a5c3fe;\"/>\r\n    <path clip-path=\"url(#p3518a2be01)\" d=\"M 116.517855 125.931977 \r\nL 121.614696 128.168172 \r\nL 122.787001 127.039464 \r\nL 123.956118 125.82449 \r\nL 118.869658 123.49676 \r\nL 117.695448 124.775916 \r\nz\r\n\" style=\"fill:#6687ed;\"/>\r\n    <path clip-path=\"url(#p3518a2be01)\" d=\"M 103.975806 121.438486 \r\nL 109.057918 124.847849 \r\nL 110.249677 124.034526 \r\nL 111.43681 123.00781 \r\nL 106.367251 119.556381 \r\nL 105.174208 120.619792 \r\nz\r\n\" style=\"fill:#7295f4;\"/>\r\n    <path clip-path=\"url(#p3518a2be01)\" d=\"M 163.952313 124.909836 \r\nL 169.246174 122.818477 \r\nL 170.259833 125.329416 \r\nL 171.261188 128.045043 \r\nL 166.013833 129.261998 \r\nL 164.988808 126.980729 \r\nz\r\n\" style=\"fill:#6485ec;\"/>\r\n    <path clip-path=\"url(#p3518a2be01)\" d=\"M 86.314485 110.301206 \r\nL 91.388241 114.378517 \r\nL 92.618072 114.281938 \r\nL 93.838935 113.846674 \r\nL 88.785378 110.017535 \r\nL 87.554927 110.329328 \r\nz\r\n\" style=\"fill:#98b9ff;\"/>\r\n    <path clip-path=\"url(#p3518a2be01)\" d=\"M 143.946624 124.54324 \r\nL 149.137278 123.896714 \r\nL 150.251939 124.02261 \r\nL 151.357911 124.401466 \r\nL 146.193981 124.172483 \r\nL 145.073606 124.268757 \r\nz\r\n\" style=\"fill:#6c8ff1;\"/>\r\n    <path clip-path=\"url(#p3518a2be01)\" d=\"M 176.573897 125.823869 \r\nL 181.95407 122.793876 \r\nL 182.895608 126.336906 \r\nL 183.825299 130.001994 \r\nL 178.49157 132.502687 \r\nL 177.539138 129.076112 \r\nz\r\n\" style=\"fill:#6180e9;\"/>\r\n    <path clip-path=\"url(#p3518a2be01)\" d=\"M 136.509897 125.814756 \r\nL 141.673654 125.650895 \r\nL 142.813222 125.002963 \r\nL 143.946624 124.54324 \r\nL 138.799905 124.111753 \r\nL 137.657157 124.915093 \r\nz\r\n\" style=\"fill:#6b8df0;\"/>\r\n    <path clip-path=\"url(#p3518a2be01)\" d=\"M 91.388241 114.378517 \r\nL 96.470296 118.395589 \r\nL 97.690487 118.211575 \r\nL 98.902873 117.70927 \r\nL 93.838935 113.846674 \r\nL 92.618072 114.281938 \r\nz\r\n\" style=\"fill:#8caffe;\"/>\r\n    <path clip-path=\"url(#p3518a2be01)\" d=\"M 109.057918 124.847849 \r\nL 114.151313 127.7645 \r\nL 115.336597 126.939615 \r\nL 116.517855 125.931977 \r\nL 111.43681 123.00781 \r\nL 110.249677 124.034526 \r\nz\r\n\" style=\"fill:#6a8bef;\"/>\r\n    <path clip-path=\"url(#p3518a2be01)\" d=\"M 129.06469 127.314673 \r\nL 134.202591 127.879053 \r\nL 135.358301 126.806584 \r\nL 136.509897 125.814756 \r\nL 131.383164 124.968734 \r\nL 130.225581 126.141401 \r\nz\r\n\" style=\"fill:#6788ee;\"/>\r\n    <path clip-path=\"url(#p3518a2be01)\" d=\"M 121.614696 128.168172 \r\nL 126.733149 129.601455 \r\nL 127.900528 128.476162 \r\nL 129.06469 127.314673 \r\nL 123.956118 125.82449 \r\nL 122.787001 127.039464 \r\nz\r\n\" style=\"fill:#6384eb;\"/>\r\n    <path clip-path=\"url(#p3518a2be01)\" d=\"M 96.470296 118.395589 \r\nL 101.560091 122.225138 \r\nL 102.771299 121.976244 \r\nL 103.975806 121.438486 \r\nL 98.902873 117.70927 \r\nL 97.690487 118.211575 \r\nz\r\n\" style=\"fill:#81a4fb;\"/>\r\n    <path clip-path=\"url(#p3518a2be01)\" d=\"M 156.571814 123.499031 \r\nL 161.843262 121.533467 \r\nL 162.904018 123.078206 \r\nL 163.952313 124.909836 \r\nL 158.720302 125.952882 \r\nL 157.651338 124.600452 \r\nz\r\n\" style=\"fill:#7295f4;\"/>\r\n    <path clip-path=\"url(#p3518a2be01)\" d=\"M 73.632747 100.770459 \r\nL 78.714252 105.073247 \r\nL 79.987264 105.77817 \r\nL 81.250233 106.257587 \r\nL 76.196666 102.296135 \r\nL 74.919998 101.640309 \r\nz\r\n\" style=\"fill:#bcd2f7;\"/>\r\n    <path clip-path=\"url(#p3518a2be01)\" d=\"M 114.151313 127.7645 \r\nL 119.259863 130.047719 \r\nL 120.439055 129.182491 \r\nL 121.614696 128.168172 \r\nL 116.517855 125.931977 \r\nL 115.336597 126.939615 \r\nz\r\n\" style=\"fill:#6485ec;\"/>\r\n    <path clip-path=\"url(#p3518a2be01)\" d=\"M 101.560091 122.225138 \r\nL 106.658261 125.725342 \r\nL 107.860959 125.415607 \r\nL 109.057918 124.847849 \r\nL 103.975806 121.438486 \r\nL 102.771299 121.976244 \r\nz\r\n\" style=\"fill:#7699f6;\"/>\r\n    <path clip-path=\"url(#p3518a2be01)\" d=\"M 78.714252 105.073247 \r\nL 83.804191 109.409514 \r\nL 85.064072 109.973603 \r\nL 86.314485 110.301206 \r\nL 81.250233 106.257587 \r\nL 79.987264 105.77817 \r\nz\r\n\" style=\"fill:#b1cbfc;\"/>\r\n    <path clip-path=\"url(#p3518a2be01)\" d=\"M 149.137278 123.896714 \r\nL 154.379988 122.197763 \r\nL 155.481435 122.685753 \r\nL 156.571814 123.499031 \r\nL 151.357911 124.401466 \r\nL 150.251939 124.02261 \r\nz\r\n\" style=\"fill:#779af7;\"/>\r\n    <path clip-path=\"url(#p3518a2be01)\" d=\"M 169.246174 122.818477 \r\nL 174.606097 119.835144 \r\nL 175.596461 122.732137 \r\nL 176.573897 125.823869 \r\nL 171.261188 128.045043 \r\nL 170.259833 125.329416 \r\nz\r\n\" style=\"fill:#7699f6;\"/>\r\n    <path clip-path=\"url(#p3518a2be01)\" d=\"M 141.673654 125.650895 \r\nL 146.882577 124.466968 \r\nL 148.014059 124.041727 \r\nL 149.137278 123.896714 \r\nL 143.946624 124.54324 \r\nL 142.813222 125.002963 \r\nz\r\n\" style=\"fill:#7597f6;\"/>\r\n    <path clip-path=\"url(#p3518a2be01)\" d=\"M 134.202591 127.879053 \r\nL 139.377511 127.479524 \r\nL 140.528265 126.481948 \r\nL 141.673654 125.650895 \r\nL 136.509897 125.814756 \r\nL 135.358301 126.806584 \r\nz\r\n\" style=\"fill:#6c8ff1;\"/>\r\n    <path clip-path=\"url(#p3518a2be01)\" d=\"M 83.804191 109.409514 \r\nL 88.90165 113.729317 \r\nL 90.149334 114.174405 \r\nL 91.388241 114.378517 \r\nL 86.314485 110.301206 \r\nL 85.064072 109.973603 \r\nz\r\n\" style=\"fill:#a3c2fe;\"/>\r\n    <path clip-path=\"url(#p3518a2be01)\" d=\"M 126.733149 129.601455 \r\nL 131.879951 130.164668 \r\nL 133.043041 129.009829 \r\nL 134.202591 127.879053 \r\nL 129.06469 127.314673 \r\nL 127.900528 128.476162 \r\nz\r\n\" style=\"fill:#6687ed;\"/>\r\n    <path clip-path=\"url(#p3518a2be01)\" d=\"M 106.658261 125.725342 \r\nL 111.76691 128.759723 \r\nL 112.96157 128.376546 \r\nL 114.151313 127.7645 \r\nL 109.057918 124.847849 \r\nL 107.860959 125.415607 \r\nz\r\n\" style=\"fill:#6e90f2;\"/>\r\n    <path clip-path=\"url(#p3518a2be01)\" d=\"M 119.259863 130.047719 \r\nL 124.388804 131.598526 \r\nL 125.562586 130.655623 \r\nL 126.733149 129.601455 \r\nL 121.614696 128.168172 \r\nL 120.439055 129.182491 \r\nz\r\n\" style=\"fill:#6384eb;\"/>\r\n    <path clip-path=\"url(#p3518a2be01)\" d=\"M 88.90165 113.729317 \r\nL 94.005777 117.947442 \r\nL 95.242033 118.290256 \r\nL 96.470296 118.395589 \r\nL 91.388241 114.378517 \r\nL 90.149334 114.174405 \r\nz\r\n\" style=\"fill:#96b7ff;\"/>\r\n    <path clip-path=\"url(#p3518a2be01)\" d=\"M 181.95407 122.793876 \r\nL 187.401291 119.16719 \r\nL 188.319337 122.954062 \r\nL 189.226903 126.808444 \r\nL 183.825299 130.001994 \r\nL 182.895608 126.336906 \r\nz\r\n\" style=\"fill:#779af7;\"/>\r\n    <path clip-path=\"url(#p3518a2be01)\" d=\"M 94.005777 117.947442 \r\nL 99.116343 121.955201 \r\nL 100.341808 122.204093 \r\nL 101.560091 122.225138 \r\nL 96.470296 118.395589 \r\nL 95.242033 118.290256 \r\nz\r\n\" style=\"fill:#89acfd;\"/>\r\n    <path clip-path=\"url(#p3518a2be01)\" d=\"M 161.843262 121.533467 \r\nL 167.178068 118.62143 \r\nL 168.21933 120.560117 \r\nL 169.246174 122.818477 \r\nL 163.952313 124.909836 \r\nL 162.904018 123.078206 \r\nz\r\n\" style=\"fill:#84a7fc;\"/>\r\n    <path clip-path=\"url(#p3518a2be01)\" d=\"M 111.76691 128.759723 \r\nL 116.889573 131.213943 \r\nL 118.076823 130.731866 \r\nL 119.259863 130.047719 \r\nL 114.151313 127.7645 \r\nL 112.96157 128.376546 \r\nz\r\n\" style=\"fill:#688aef;\"/>\r\n    <path clip-path=\"url(#p3518a2be01)\" d=\"M 99.116343 121.955201 \r\nL 104.234155 125.634426 \r\nL 105.449406 125.787488 \r\nL 106.658261 125.725342 \r\nL 101.560091 122.225138 \r\nL 100.341808 122.204093 \r\nz\r\n\" style=\"fill:#7ea1fa;\"/>\r\n    <path clip-path=\"url(#p3518a2be01)\" d=\"M 131.879951 130.164668 \r\nL 137.062165 129.839584 \r\nL 138.221942 128.613379 \r\nL 139.377511 127.479524 \r\nL 134.202591 127.879053 \r\nL 133.043041 129.009829 \r\nz\r\n\" style=\"fill:#6c8ff1;\"/>\r\n    <path clip-path=\"url(#p3518a2be01)\" d=\"M 124.388804 131.598526 \r\nL 129.544197 132.364616 \r\nL 130.713601 131.299377 \r\nL 131.879951 130.164668 \r\nL 126.733149 129.601455 \r\nL 125.562586 130.655623 \r\nz\r\n\" style=\"fill:#6687ed;\"/>\r\n    <path clip-path=\"url(#p3518a2be01)\" d=\"M 154.379988 122.197763 \r\nL 159.68166 119.524255 \r\nL 160.769328 120.330968 \r\nL 161.843262 121.533467 \r\nL 156.571814 123.499031 \r\nL 155.481435 122.685753 \r\nz\r\n\" style=\"fill:#88abfd;\"/>\r\n    <path clip-path=\"url(#p3518a2be01)\" d=\"M 71.033243 98.752425 \r\nL 76.143712 103.342642 \r\nL 77.432456 104.227343 \r\nL 78.714252 105.073247 \r\nL 73.632747 100.770459 \r\nL 72.336421 99.77211 \r\nz\r\n\" style=\"fill:#ccd9ed;\"/>\r\n    <path clip-path=\"url(#p3518a2be01)\" d=\"M 139.377511 127.479524 \r\nL 144.596976 126.128318 \r\nL 145.74332 125.168949 \r\nL 146.882577 124.466968 \r\nL 141.673654 125.650895 \r\nL 140.528265 126.481948 \r\nz\r\n\" style=\"fill:#799cf8;\"/>\r\n    <path clip-path=\"url(#p3518a2be01)\" d=\"M 146.882577 124.466968 \r\nL 152.144139 122.305615 \r\nL 153.267465 122.065249 \r\nL 154.379988 122.197763 \r\nL 149.137278 123.896714 \r\nL 148.014059 124.041727 \r\nz\r\n\" style=\"fill:#82a6fb;\"/>\r\n    <path clip-path=\"url(#p3518a2be01)\" d=\"M 76.143712 103.342642 \r\nL 81.260504 107.917244 \r\nL 82.535843 108.69157 \r\nL 83.804191 109.409514 \r\nL 78.714252 105.073247 \r\nL 77.432456 104.227343 \r\nz\r\n\" style=\"fill:#c0d4f5;\"/>\r\n    <path clip-path=\"url(#p3518a2be01)\" d=\"M 116.889573 131.213943 \r\nL 122.030944 133.008039 \r\nL 123.21167 132.392163 \r\nL 124.388804 131.598526 \r\nL 119.259863 130.047719 \r\nL 118.076823 130.731866 \r\nz\r\n\" style=\"fill:#6687ed;\"/>\r\n    <path clip-path=\"url(#p3518a2be01)\" d=\"M 174.606097 119.835144 \r\nL 180.033945 116.143117 \r\nL 181.000666 119.378199 \r\nL 181.95407 122.793876 \r\nL 176.573897 125.823869 \r\nL 175.596461 122.732137 \r\nz\r\n\" style=\"fill:#8caffe;\"/>\r\n    <path clip-path=\"url(#p3518a2be01)\" d=\"M 104.234155 125.634426 \r\nL 109.361256 128.871986 \r\nL 110.566912 128.917097 \r\nL 111.76691 128.759723 \r\nL 106.658261 125.725342 \r\nL 105.449406 125.787488 \r\nz\r\n\" style=\"fill:#7699f6;\"/>\r\n    <path clip-path=\"url(#p3518a2be01)\" d=\"M 81.260504 107.917244 \r\nL 86.383236 112.441409 \r\nL 87.645909 113.121149 \r\nL 88.90165 113.729317 \r\nL 83.804191 109.409514 \r\nL 82.535843 108.69157 \r\nz\r\n\" style=\"fill:#b2ccfb;\"/>\r\n    <path clip-path=\"url(#p3518a2be01)\" d=\"M 86.383236 112.441409 \r\nL 91.511391 116.844211 \r\nL 92.761966 117.43745 \r\nL 94.005777 117.947442 \r\nL 88.90165 113.729317 \r\nL 87.645909 113.121149 \r\nz\r\n\" style=\"fill:#a5c3fe;\"/>\r\n    <path clip-path=\"url(#p3518a2be01)\" d=\"M 109.361256 128.871986 \r\nL 114.50091 131.573161 \r\nL 115.697723 131.489514 \r\nL 116.889573 131.213943 \r\nL 111.76691 128.759723 \r\nL 110.566912 128.917097 \r\nz\r\n\" style=\"fill:#6f92f3;\"/>\r\n    <path clip-path=\"url(#p3518a2be01)\" d=\"M 129.544197 132.364616 \r\nL 134.732327 132.342053 \r\nL 135.898784 131.10298 \r\nL 137.062165 129.839584 \r\nL 131.879951 130.164668 \r\nL 130.713601 131.299377 \r\nz\r\n\" style=\"fill:#6b8df0;\"/>\r\n    <path clip-path=\"url(#p3518a2be01)\" d=\"M 187.401291 119.16719 \r\nL 192.913053 115.15398 \r\nL 193.807601 119.150197 \r\nL 194.693515 123.155208 \r\nL 189.226903 126.808444 \r\nL 188.319337 122.954062 \r\nz\r\n\" style=\"fill:#90b2fe;\"/>\r\n    <path clip-path=\"url(#p3518a2be01)\" d=\"M 122.030944 133.008039 \r\nL 127.196416 134.104238 \r\nL 128.371824 133.312585 \r\nL 129.544197 132.364616 \r\nL 124.388804 131.598526 \r\nL 123.21167 132.392163 \r\nz\r\n\" style=\"fill:#6788ee;\"/>\r\n    <path clip-path=\"url(#p3518a2be01)\" d=\"M 167.178068 118.62143 \r\nL 172.579985 114.915322 \r\nL 173.601249 117.200467 \r\nL 174.606097 119.835144 \r\nL 169.246174 122.818477 \r\nL 168.21933 120.560117 \r\nz\r\n\" style=\"fill:#98b9ff;\"/>\r\n    <path clip-path=\"url(#p3518a2be01)\" d=\"M 91.511391 116.844211 \r\nL 96.644917 121.032171 \r\nL 97.883884 121.539497 \r\nL 99.116343 121.955201 \r\nL 94.005777 117.947442 \r\nL 92.761966 117.43745 \r\nz\r\n\" style=\"fill:#97b8ff;\"/>\r\n    <path clip-path=\"url(#p3518a2be01)\" d=\"M 137.062165 129.839584 \r\nL 142.28657 128.655694 \r\nL 143.444402 127.308385 \r\nL 144.596976 126.128318 \r\nL 139.377511 127.479524 \r\nL 138.221942 128.613379 \r\nz\r\n\" style=\"fill:#799cf8;\"/>\r\n    <path clip-path=\"url(#p3518a2be01)\" d=\"M 144.596976 126.128318 \r\nL 149.867756 123.884815 \r\nL 151.0106 122.918919 \r\nL 152.144139 122.305615 \r\nL 146.882577 124.466968 \r\nL 145.74332 125.168949 \r\nz\r\n\" style=\"fill:#88abfd;\"/>\r\n    <path clip-path=\"url(#p3518a2be01)\" d=\"M 96.644917 121.032171 \r\nL 101.784641 124.902805 \r\nL 103.01249 125.31751 \r\nL 104.234155 125.634426 \r\nL 99.116343 121.955201 \r\nL 97.883884 121.539497 \r\nz\r\n\" style=\"fill:#8caffe;\"/>\r\n    <path clip-path=\"url(#p3518a2be01)\" d=\"M 159.68166 119.524255 \r\nL 165.047517 115.996762 \r\nL 166.121133 117.076706 \r\nL 167.178068 118.62143 \r\nL 161.843262 121.533467 \r\nL 160.769328 120.330968 \r\nz\r\n\" style=\"fill:#9dbdff;\"/>\r\n    <path clip-path=\"url(#p3518a2be01)\" d=\"M 114.50091 131.573161 \r\nL 119.657378 133.672678 \r\nL 120.846302 133.433009 \r\nL 122.030944 133.008039 \r\nL 116.889573 131.213943 \r\nL 115.697723 131.489514 \r\nz\r\n\" style=\"fill:#6b8df0;\"/>\r\n    <path clip-path=\"url(#p3518a2be01)\" d=\"M 152.144139 122.305615 \r\nL 157.464583 119.255954 \r\nL 158.580019 119.156936 \r\nL 159.68166 119.524255 \r\nL 154.379988 122.197763 \r\nL 153.267465 122.065249 \r\nz\r\n\" style=\"fill:#96b7ff;\"/>\r\n    <path clip-path=\"url(#p3518a2be01)\" d=\"M 68.417883 97.131825 \r\nL 73.554959 101.90949 \r\nL 74.850331 102.531692 \r\nL 76.143712 103.342642 \r\nL 71.033243 98.752425 \r\nL 69.726004 97.831232 \r\nz\r\n\" style=\"fill:#dbdcde;\"/>\r\n    <path clip-path=\"url(#p3518a2be01)\" d=\"M 101.784641 124.902805 \r\nL 106.932474 128.35757 \r\nL 108.149771 128.6664 \r\nL 109.361256 128.871986 \r\nL 104.234155 125.634426 \r\nL 103.01249 125.31751 \r\nz\r\n\" style=\"fill:#81a4fb;\"/>\r\n    <path clip-path=\"url(#p3518a2be01)\" d=\"M 73.554959 101.90949 \r\nL 78.696675 106.625943 \r\nL 79.980055 107.192721 \r\nL 81.260504 107.917244 \r\nL 76.143712 103.342642 \r\nL 74.850331 102.531692 \r\nz\r\n\" style=\"fill:#cedaeb;\"/>\r\n    <path clip-path=\"url(#p3518a2be01)\" d=\"M 180.033945 116.143117 \r\nL 185.529478 111.933405 \r\nL 186.472092 115.469695 \r\nL 187.401291 119.16719 \r\nL 181.95407 122.793876 \r\nL 181.000666 119.378199 \r\nz\r\n\" style=\"fill:#a5c3fe;\"/>\r\n    <path clip-path=\"url(#p3518a2be01)\" d=\"M 127.196416 134.104238 \r\nL 132.391522 134.510869 \r\nL 133.563177 133.495684 \r\nL 134.732327 132.342053 \r\nL 129.544197 132.364616 \r\nL 128.371824 133.312585 \r\nz\r\n\" style=\"fill:#6b8df0;\"/>\r\n    <path clip-path=\"url(#p3518a2be01)\" d=\"M 134.732327 132.342053 \r\nL 139.959102 131.5738 \r\nL 141.124488 130.10288 \r\nL 142.28657 128.655694 \r\nL 137.062165 129.839584 \r\nL 135.898784 131.10298 \r\nz\r\n\" style=\"fill:#7699f6;\"/>\r\n    <path clip-path=\"url(#p3518a2be01)\" d=\"M 78.696675 106.625943 \r\nL 83.84329 111.266852 \r\nL 85.115112 111.789605 \r\nL 86.383236 112.441409 \r\nL 81.260504 107.917244 \r\nL 79.980055 107.192721 \r\nz\r\n\" style=\"fill:#c1d4f4;\"/>\r\n    <path clip-path=\"url(#p3518a2be01)\" d=\"M 119.657378 133.672678 \r\nL 124.835533 135.142816 \r\nL 126.017762 134.715718 \r\nL 127.196416 134.104238 \r\nL 122.030944 133.008039 \r\nL 120.846302 133.433009 \r\nz\r\n\" style=\"fill:#6b8df0;\"/>\r\n    <path clip-path=\"url(#p3518a2be01)\" d=\"M 106.932474 128.35757 \r\nL 112.091408 131.313529 \r\nL 113.298855 131.498119 \r\nL 114.50091 131.573161 \r\nL 109.361256 128.871986 \r\nL 108.149771 128.6664 \r\nz\r\n\" style=\"fill:#7a9df8;\"/>\r\n    <path clip-path=\"url(#p3518a2be01)\" d=\"M 83.84329 111.266852 \r\nL 88.994631 115.778141 \r\nL 90.255158 116.259763 \r\nL 91.511391 116.844211 \r\nL 86.383236 112.441409 \r\nL 85.115112 111.789605 \r\nz\r\n\" style=\"fill:#b5cdfa;\"/>\r\n    <path clip-path=\"url(#p3518a2be01)\" d=\"M 142.28657 128.655694 \r\nL 147.559108 126.685787 \r\nL 148.716795 125.161341 \r\nL 149.867756 123.884815 \r\nL 144.596976 126.128318 \r\nL 143.444402 127.308385 \r\nz\r\n\" style=\"fill:#88abfd;\"/>\r\n    <path clip-path=\"url(#p3518a2be01)\" d=\"M 192.913053 115.15398 \r\nL 198.485534 110.942365 \r\nL 199.35596 115.133085 \r\nL 200.220486 119.259962 \r\nL 194.693515 123.155208 \r\nL 193.807601 119.150197 \r\nz\r\n\" style=\"fill:#abc8fd;\"/>\r\n    <path clip-path=\"url(#p3518a2be01)\" d=\"M 88.994631 115.778141 \r\nL 94.150774 120.081059 \r\nL 95.400211 120.517138 \r\nL 96.644917 121.032171 \r\nL 91.511391 116.844211 \r\nL 90.255158 116.259763 \r\nz\r\n\" style=\"fill:#a6c4fe;\"/>\r\n    <path clip-path=\"url(#p3518a2be01)\" d=\"M 172.579985 114.915322 \r\nL 178.050719 110.586052 \r\nL 179.051549 113.176364 \r\nL 180.033945 116.143117 \r\nL 174.606097 119.835144 \r\nL 173.601249 117.200467 \r\nz\r\n\" style=\"fill:#b2ccfb;\"/>\r\n    <path clip-path=\"url(#p3518a2be01)\" d=\"M 149.867756 123.884815 \r\nL 155.195371 120.848631 \r\nL 156.335997 119.826479 \r\nL 157.464583 119.255954 \r\nL 152.144139 122.305615 \r\nL 151.0106 122.918919 \r\nz\r\n\" style=\"fill:#9dbdff;\"/>\r\n    <path clip-path=\"url(#p3518a2be01)\" d=\"M 112.091408 131.313529 \r\nL 117.265351 133.713089 \r\nL 118.463822 133.751999 \r\nL 119.657378 133.672678 \r\nL 114.50091 131.573161 \r\nL 113.298855 131.498119 \r\nz\r\n\" style=\"fill:#7597f6;\"/>\r\n    <path clip-path=\"url(#p3518a2be01)\" d=\"M 94.150774 120.081059 \r\nL 99.312498 124.086037 \r\nL 100.55108 124.465895 \r\nL 101.784641 124.902805 \r\nL 96.644917 121.032171 \r\nL 95.400211 120.517138 \r\nz\r\n\" style=\"fill:#9abbff;\"/>\r\n    <path clip-path=\"url(#p3518a2be01)\" d=\"M 132.391522 134.510869 \r\nL 137.621345 134.282638 \r\nL 138.791206 132.990655 \r\nL 139.959102 131.5738 \r\nL 134.732327 132.342053 \r\nL 133.563177 133.495684 \r\nz\r\n\" style=\"fill:#7396f5;\"/>\r\n    <path clip-path=\"url(#p3518a2be01)\" d=\"M 165.047517 115.996762 \r\nL 170.480884 111.764537 \r\nL 171.540391 113.073691 \r\nL 172.579985 114.915322 \r\nL 167.178068 118.62143 \r\nL 166.121133 117.076706 \r\nz\r\n\" style=\"fill:#b5cdfa;\"/>\r\n    <path clip-path=\"url(#p3518a2be01)\" d=\"M 124.835533 135.142816 \r\nL 130.040354 135.998476 \r\nL 131.217328 135.350309 \r\nL 132.391522 134.510869 \r\nL 127.196416 134.104238 \r\nL 126.017762 134.715718 \r\nz\r\n\" style=\"fill:#6e90f2;\"/>\r\n    <path clip-path=\"url(#p3518a2be01)\" d=\"M 157.464583 119.255954 \r\nL 162.848533 115.443222 \r\nL 163.956649 115.43969 \r\nL 165.047517 115.996762 \r\nL 159.68166 119.524255 \r\nL 158.580019 119.156936 \r\nz\r\n\" style=\"fill:#adc9fd;\"/>\r\n    <path clip-path=\"url(#p3518a2be01)\" d=\"M 65.812314 96.854255 \r\nL 70.96943 101.654988 \r\nL 72.260403 101.585342 \r\nL 73.554959 101.90949 \r\nL 68.417883 97.131825 \r\nL 67.112228 96.77179 \r\nz\r\n\" style=\"fill:#e5d8d1;\"/>\r\n    <path clip-path=\"url(#p3518a2be01)\" d=\"M 139.959102 131.5738 \r\nL 145.229516 130.144639 \r\nL 146.396189 128.377791 \r\nL 147.559108 126.685787 \r\nL 142.28657 128.655694 \r\nL 141.124488 130.10288 \r\nz\r\n\" style=\"fill:#84a7fc;\"/>\r\n    <path clip-path=\"url(#p3518a2be01)\" d=\"M 99.312498 124.086037 \r\nL 104.481523 127.705181 \r\nL 105.709586 128.013089 \r\nL 106.932474 128.35757 \r\nL 101.784641 124.902805 \r\nL 100.55108 124.465895 \r\nz\r\n\" style=\"fill:#8fb1fe;\"/>\r\n    <path clip-path=\"url(#p3518a2be01)\" d=\"M 70.96943 101.654988 \r\nL 76.130462 106.362423 \r\nL 77.412701 106.319295 \r\nL 78.696675 106.625943 \r\nL 73.554959 101.90949 \r\nL 72.260403 101.585342 \r\nz\r\n\" style=\"fill:#dadce0;\"/>\r\n    <path clip-path=\"url(#p3518a2be01)\" d=\"M 117.265351 133.713089 \r\nL 122.458788 135.531414 \r\nL 123.649338 135.402555 \r\nL 124.835533 135.142816 \r\nL 119.657378 133.672678 \r\nL 118.463822 133.751999 \r\nz\r\n\" style=\"fill:#7396f5;\"/>\r\n    <path clip-path=\"url(#p3518a2be01)\" d=\"M 185.529478 111.933405 \r\nL 191.09105 107.381691 \r\nL 192.008609 111.200671 \r\nL 192.913053 115.15398 \r\nL 187.401291 119.16719 \r\nL 186.472092 115.469695 \r\nz\r\n\" style=\"fill:#bfd3f6;\"/>\r\n    <path clip-path=\"url(#p3518a2be01)\" d=\"M 76.130462 106.362423 \r\nL 81.296232 110.980567 \r\nL 82.569684 110.969117 \r\nL 83.84329 111.266852 \r\nL 78.696675 106.625943 \r\nL 77.412701 106.319295 \r\nz\r\n\" style=\"fill:#cdd9ec;\"/>\r\n    <path clip-path=\"url(#p3518a2be01)\" d=\"M 104.481523 127.705181 \r\nL 109.660553 130.863134 \r\nL 110.878581 131.079855 \r\nL 112.091408 131.313529 \r\nL 106.932474 128.35757 \r\nL 105.709586 128.013089 \r\nz\r\n\" style=\"fill:#86a9fc;\"/>\r\n    <path clip-path=\"url(#p3518a2be01)\" d=\"M 147.559108 126.685787 \r\nL 152.88445 124.037905 \r\nL 154.044236 122.276257 \r\nL 155.195371 120.848631 \r\nL 149.867756 123.884815 \r\nL 148.716795 125.161341 \r\nz\r\n\" style=\"fill:#9bbcff;\"/>\r\n    <path clip-path=\"url(#p3518a2be01)\" d=\"M 81.296232 110.980567 \r\nL 86.466855 115.471111 \r\nL 87.731337 115.488955 \r\nL 88.994631 115.778141 \r\nL 83.84329 111.266852 \r\nL 82.569684 110.969117 \r\nz\r\n\" style=\"fill:#c0d4f5;\"/>\r\n    <path clip-path=\"url(#p3518a2be01)\" d=\"M 130.040354 135.998476 \r\nL 135.276359 136.299314 \r\nL 136.44976 135.395323 \r\nL 137.621345 134.282638 \r\nL 132.391522 134.510869 \r\nL 131.217328 135.350309 \r\nz\r\n\" style=\"fill:#7396f5;\"/>\r\n    <path clip-path=\"url(#p3518a2be01)\" d=\"M 86.466855 115.471111 \r\nL 91.642485 119.769075 \r\nL 92.897781 119.807135 \r\nL 94.150774 120.081059 \r\nL 88.994631 115.778141 \r\nL 87.731337 115.488955 \r\nz\r\n\" style=\"fill:#b3cdfb;\"/>\r\n    <path clip-path=\"url(#p3518a2be01)\" d=\"M 137.621345 134.282638 \r\nL 142.889952 133.517105 \r\nL 144.06042 131.888721 \r\nL 145.229516 130.144639 \r\nL 139.959102 131.5738 \r\nL 138.791206 132.990655 \r\nz\r\n\" style=\"fill:#80a3fa;\"/>\r\n    <path clip-path=\"url(#p3518a2be01)\" d=\"M 109.660553 130.863134 \r\nL 114.853147 133.505991 \r\nL 116.0618 133.610678 \r\nL 117.265351 133.713089 \r\nL 112.091408 131.313529 \r\nL 110.878581 131.079855 \r\nz\r\n\" style=\"fill:#81a4fb;\"/>\r\n    <path clip-path=\"url(#p3518a2be01)\" d=\"M 122.458788 135.531414 \r\nL 127.676353 136.781321 \r\nL 128.860192 136.464597 \r\nL 130.040354 135.998476 \r\nL 124.835533 135.142816 \r\nL 123.649338 135.402555 \r\nz\r\n\" style=\"fill:#7396f5;\"/>\r\n    <path clip-path=\"url(#p3518a2be01)\" d=\"M 155.195371 120.848631 \r\nL 160.583779 117.148808 \r\nL 161.723814 116.018973 \r\nL 162.848533 115.443222 \r\nL 157.464583 119.255954 \r\nL 156.335997 119.826479 \r\nz\r\n\" style=\"fill:#b5cdfa;\"/>\r\n    <path clip-path=\"url(#p3518a2be01)\" d=\"M 178.050719 110.586052 \r\nL 183.590355 105.801037 \r\nL 184.57015 108.667081 \r\nL 185.529478 111.933405 \r\nL 180.033945 116.143117 \r\nL 179.051549 113.176364 \r\nz\r\n\" style=\"fill:#cbd8ee;\"/>\r\n    <path clip-path=\"url(#p3518a2be01)\" d=\"M 91.642485 119.769075 \r\nL 96.823806 123.796634 \r\nL 98.069753 123.840084 \r\nL 99.312498 124.086037 \r\nL 94.150774 120.081059 \r\nL 92.897781 119.807135 \r\nz\r\n\" style=\"fill:#a7c5fe;\"/>\r\n    <path clip-path=\"url(#p3518a2be01)\" d=\"M 63.240948 98.641212 \r\nL 68.407847 103.249201 \r\nL 69.684559 102.193468 \r\nL 70.96943 101.654988 \r\nL 65.812314 96.854255 \r\nL 64.521092 97.460046 \r\nz\r\n\" style=\"fill:#ead5c9;\"/>\r\n    <path clip-path=\"url(#p3518a2be01)\" d=\"M 145.229516 130.144639 \r\nL 150.547232 128.172006 \r\nL 151.718074 126.039976 \r\nL 152.88445 124.037905 \r\nL 147.559108 126.685787 \r\nL 146.396189 128.377791 \r\nz\r\n\" style=\"fill:#96b7ff;\"/>\r\n    <path clip-path=\"url(#p3518a2be01)\" d=\"M 68.407847 103.249201 \r\nL 73.579406 107.754736 \r\nL 74.852105 106.825696 \r\nL 76.130462 106.362423 \r\nL 70.96943 101.654988 \r\nL 69.684559 102.193468 \r\nz\r\n\" style=\"fill:#dfdbd9;\"/>\r\n    <path clip-path=\"url(#p3518a2be01)\" d=\"M 162.848533 115.443222 \r\nL 168.298863 111.014095 \r\nL 169.40046 111.061456 \r\nL 170.480884 111.764537 \r\nL 165.047517 115.996762 \r\nL 163.956649 115.43969 \r\nz\r\n\" style=\"fill:#c6d6f1;\"/>\r\n    <path clip-path=\"url(#p3518a2be01)\" d=\"M 170.480884 111.764537 \r\nL 175.983322 106.986717 \r\nL 177.028738 108.486789 \r\nL 178.050719 110.586052 \r\nL 172.579985 114.915322 \r\nL 171.540391 113.073691 \r\nz\r\n\" style=\"fill:#cedaeb;\"/>\r\n    <path clip-path=\"url(#p3518a2be01)\" d=\"M 96.823806 123.796634 \r\nL 102.012307 127.475256 \r\nL 103.248865 127.504675 \r\nL 104.481523 127.705181 \r\nL 99.312498 124.086037 \r\nL 98.069753 123.840084 \r\nz\r\n\" style=\"fill:#9dbdff;\"/>\r\n    <path clip-path=\"url(#p3518a2be01)\" d=\"M 73.579406 107.754736 \r\nL 78.756755 112.173194 \r\nL 80.024745 111.367486 \r\nL 81.296232 110.980567 \r\nL 76.130462 106.362423 \r\nL 74.852105 106.825696 \r\nz\r\n\" style=\"fill:#d4dbe6;\"/>\r\n    <path clip-path=\"url(#p3518a2be01)\" d=\"M 114.853147 133.505991 \r\nL 120.063446 135.608015 \r\nL 121.26356 135.580406 \r\nL 122.458788 135.531414 \r\nL 117.265351 133.713089 \r\nL 116.0618 133.610678 \r\nz\r\n\" style=\"fill:#7da0f9;\"/>\r\n    <path clip-path=\"url(#p3518a2be01)\" d=\"M 135.276359 136.299314 \r\nL 140.547029 136.149133 \r\nL 141.718767 134.953148 \r\nL 142.889952 133.517105 \r\nL 137.621345 134.282638 \r\nL 136.44976 135.395323 \r\nz\r\n\" style=\"fill:#7da0f9;\"/>\r\n    <path clip-path=\"url(#p3518a2be01)\" d=\"M 78.756755 112.173194 \r\nL 83.940164 116.478174 \r\nL 85.202696 115.787084 \r\nL 86.466855 115.471111 \r\nL 81.296232 110.980567 \r\nL 80.024745 111.367486 \r\nz\r\n\" style=\"fill:#c7d7f0;\"/>\r\n    <path clip-path=\"url(#p3518a2be01)\" d=\"M 127.676353 136.781321 \r\nL 132.922321 137.515746 \r\nL 134.100748 136.995723 \r\nL 135.276359 136.299314 \r\nL 130.040354 135.998476 \r\nL 128.860192 136.464597 \r\nz\r\n\" style=\"fill:#779af7;\"/>\r\n    <path clip-path=\"url(#p3518a2be01)\" d=\"M 102.012307 127.475256 \r\nL 107.210362 130.736068 \r\nL 108.43766 130.728829 \r\nL 109.660553 130.863134 \r\nL 104.481523 127.705181 \r\nL 103.248865 127.504675 \r\nz\r\n\" style=\"fill:#93b5fe;\"/>\r\n    <path clip-path=\"url(#p3518a2be01)\" d=\"M 152.88445 124.037905 \r\nL 158.265753 120.843587 \r\nL 159.430305 118.783479 \r\nL 160.583779 117.148808 \r\nL 155.195371 120.848631 \r\nL 154.044236 122.276257 \r\nz\r\n\" style=\"fill:#b2ccfb;\"/>\r\n    <path clip-path=\"url(#p3518a2be01)\" d=\"M 191.09105 107.381691 \r\nL 196.716789 102.621594 \r\nL 197.6073 106.733431 \r\nL 198.485534 110.942365 \r\nL 192.913053 115.15398 \r\nL 192.008609 111.200671 \r\nz\r\n\" style=\"fill:#d7dce3;\"/>\r\n    <path clip-path=\"url(#p3518a2be01)\" d=\"M 142.889952 133.517105 \r\nL 148.19994 132.346709 \r\nL 149.37394 130.314076 \r\nL 150.547232 128.172006 \r\nL 145.229516 130.144639 \r\nL 144.06042 131.888721 \r\nz\r\n\" style=\"fill:#8db0fe;\"/>\r\n    <path clip-path=\"url(#p3518a2be01)\" d=\"M 60.719311 102.767849 \r\nL 65.883708 106.948815 \r\nL 67.1407 104.839651 \r\nL 68.407847 103.249201 \r\nL 63.240948 98.641212 \r\nL 61.973479 100.416334 \r\nz\r\n\" style=\"fill:#e7d7ce;\"/>\r\n    <path clip-path=\"url(#p3518a2be01)\" d=\"M 83.940164 116.478174 \r\nL 89.12978 120.616321 \r\nL 90.38612 120.025662 \r\nL 91.642485 119.769075 \r\nL 86.466855 115.471111 \r\nL 85.202696 115.787084 \r\nz\r\n\" style=\"fill:#bcd2f7;\"/>\r\n    <path clip-path=\"url(#p3518a2be01)\" d=\"M 65.883708 106.948815 \r\nL 71.055285 111.046449 \r\nL 72.313611 109.166403 \r\nL 73.579406 107.754736 \r\nL 68.407847 103.249201 \r\nL 67.1407 104.839651 \r\nz\r\n\" style=\"fill:#dddcdc;\"/>\r\n    <path clip-path=\"url(#p3518a2be01)\" d=\"M 120.063446 135.608015 \r\nL 125.295808 137.176061 \r\nL 126.488356 136.998875 \r\nL 127.676353 136.781321 \r\nL 122.458788 135.531414 \r\nL 121.26356 135.580406 \r\nz\r\n\" style=\"fill:#7da0f9;\"/>\r\n    <path clip-path=\"url(#p3518a2be01)\" d=\"M 107.210362 130.736068 \r\nL 112.421148 133.528337 \r\nL 113.639512 133.460178 \r\nL 114.853147 133.505991 \r\nL 109.660553 130.863134 \r\nL 108.43766 130.728829 \r\nz\r\n\" style=\"fill:#8caffe;\"/>\r\n    <path clip-path=\"url(#p3518a2be01)\" d=\"M 89.12978 120.616321 \r\nL 94.326135 124.520288 \r\nL 95.575633 124.010841 \r\nL 96.823806 123.796634 \r\nL 91.642485 119.769075 \r\nL 90.38612 120.025662 \r\nz\r\n\" style=\"fill:#b1cbfc;\"/>\r\n    <path clip-path=\"url(#p3518a2be01)\" d=\"M 71.055285 111.046449 \r\nL 76.235123 115.078641 \r\nL 77.493365 113.414323 \r\nL 78.756755 112.173194 \r\nL 73.579406 107.754736 \r\nL 72.313611 109.166403 \r\nz\r\n\" style=\"fill:#d3dbe7;\"/>\r\n    <path clip-path=\"url(#p3518a2be01)\" d=\"M 58.247776 108.947112 \r\nL 63.397762 112.489626 \r\nL 64.63652 109.526564 \r\nL 65.883708 106.948815 \r\nL 60.719311 102.767849 \r\nL 59.477966 105.641425 \r\nz\r\n\" style=\"fill:#dddcdc;\"/>\r\n    <path clip-path=\"url(#p3518a2be01)\" d=\"M 160.583779 117.148808 \r\nL 166.035317 112.929014 \r\nL 167.176672 111.641693 \r\nL 168.298863 111.014095 \r\nL 162.848533 115.443222 \r\nL 161.723814 116.018973 \r\nz\r\n\" style=\"fill:#ccd9ed;\"/>\r\n    <path clip-path=\"url(#p3518a2be01)\" d=\"M 150.547232 128.172006 \r\nL 155.914389 125.792553 \r\nL 157.092824 123.222721 \r\nL 158.265753 120.843587 \r\nL 152.88445 124.037905 \r\nL 151.718074 126.039976 \r\nz\r\n\" style=\"fill:#a9c6fd;\"/>\r\n    <path clip-path=\"url(#p3518a2be01)\" d=\"M 94.326135 124.520288 \r\nL 99.530441 128.120083 \r\nL 100.772592 127.6685 \r\nL 102.012307 127.475256 \r\nL 96.823806 123.796634 \r\nL 95.575633 124.010841 \r\nz\r\n\" style=\"fill:#a5c3fe;\"/>\r\n    <path clip-path=\"url(#p3518a2be01)\" d=\"M 183.590355 105.801037 \r\nL 189.198306 100.697335 \r\nL 190.155933 103.82897 \r\nL 191.09105 107.381691 \r\nL 185.529478 111.933405 \r\nL 184.57015 108.667081 \r\nz\r\n\" style=\"fill:#e2dad5;\"/>\r\n    <path clip-path=\"url(#p3518a2be01)\" d=\"M 132.922321 137.515746 \r\nL 138.200078 137.828105 \r\nL 139.374389 137.096536 \r\nL 140.547029 136.149133 \r\nL 135.276359 136.299314 \r\nL 134.100748 136.995723 \r\nz\r\n\" style=\"fill:#7da0f9;\"/>\r\n    <path clip-path=\"url(#p3518a2be01)\" d=\"M 140.547029 136.149133 \r\nL 145.854254 135.692665 \r\nL 147.026509 134.164247 \r\nL 148.19994 132.346709 \r\nL 142.889952 133.517105 \r\nL 141.718767 134.953148 \r\nz\r\n\" style=\"fill:#86a9fc;\"/>\r\n    <path clip-path=\"url(#p3518a2be01)\" d=\"M 76.235123 115.078641 \r\nL 81.423441 119.025816 \r\nL 82.680235 117.561055 \r\nL 83.940164 116.478174 \r\nL 78.756755 112.173194 \r\nL 77.493365 113.414323 \r\nz\r\n\" style=\"fill:#c9d7f0;\"/>\r\n    <path clip-path=\"url(#p3518a2be01)\" d=\"M 55.807941 116.330429 \r\nL 60.93462 119.08555 \r\nL 62.164984 115.723669 \r\nL 63.397762 112.489626 \r\nL 58.247776 108.947112 \r\nL 57.025832 112.561622 \r\nz\r\n\" style=\"fill:#cdd9ec;\"/>\r\n    <path clip-path=\"url(#p3518a2be01)\" d=\"M 63.397762 112.489626 \r\nL 68.559248 115.996887 \r\nL 69.804198 113.348882 \r\nL 71.055285 111.046449 \r\nL 65.883708 106.948815 \r\nL 64.63652 109.526564 \r\nz\r\n\" style=\"fill:#d5dbe5;\"/>\r\n    <path clip-path=\"url(#p3518a2be01)\" d=\"M 112.421148 133.528337 \r\nL 117.648423 135.825937 \r\nL 118.858378 135.672613 \r\nL 120.063446 135.608015 \r\nL 114.853147 133.505991 \r\nL 113.639512 133.460178 \r\nz\r\n\" style=\"fill:#88abfd;\"/>\r\n    <path clip-path=\"url(#p3518a2be01)\" d=\"M 125.295808 137.176061 \r\nL 130.554365 138.251743 \r\nL 131.740398 137.913178 \r\nL 132.922321 137.515746 \r\nL 127.676353 136.781321 \r\nL 126.488356 136.998875 \r\nz\r\n\" style=\"fill:#7ea1fa;\"/>\r\n    <path clip-path=\"url(#p3518a2be01)\" d=\"M 53.360027 123.542651 \r\nL 58.460755 125.477249 \r\nL 59.701919 122.404091 \r\nL 60.93462 119.08555 \r\nL 55.807941 116.330429 \r\nL 54.588494 120.067009 \r\nz\r\n\" style=\"fill:#b9d0f9;\"/>\r\n    <path clip-path=\"url(#p3518a2be01)\" d=\"M 168.298863 111.014095 \r\nL 173.816914 106.117367 \r\nL 174.912919 106.17602 \r\nL 175.983322 106.986717 \r\nL 170.480884 111.764537 \r\nL 169.40046 111.061456 \r\nz\r\n\" style=\"fill:#dddcdc;\"/>\r\n    <path clip-path=\"url(#p3518a2be01)\" d=\"M 175.983322 106.986717 \r\nL 181.555205 101.808441 \r\nL 182.586418 103.471914 \r\nL 183.590355 105.801037 \r\nL 178.050719 110.586052 \r\nL 177.028738 108.486789 \r\nz\r\n\" style=\"fill:#e5d8d1;\"/>\r\n    <path clip-path=\"url(#p3518a2be01)\" d=\"M 81.423441 119.025816 \r\nL 86.620263 122.843212 \r\nL 87.874322 121.557947 \r\nL 89.12978 120.616321 \r\nL 83.940164 116.478174 \r\nL 82.680235 117.561055 \r\nz\r\n\" style=\"fill:#bed2f6;\"/>\r\n    <path clip-path=\"url(#p3518a2be01)\" d=\"M 99.530441 128.120083 \r\nL 104.744699 131.352852 \r\nL 105.979191 130.932891 \r\nL 107.210362 130.736068 \r\nL 102.012307 127.475256 \r\nL 100.772592 127.6685 \r\nz\r\n\" style=\"fill:#9dbdff;\"/>\r\n    <path clip-path=\"url(#p3518a2be01)\" d=\"M 148.19994 132.346709 \r\nL 153.552198 130.925017 \r\nL 154.733302 128.409747 \r\nL 155.914389 125.792553 \r\nL 150.547232 128.172006 \r\nL 149.37394 130.314076 \r\nz\r\n\" style=\"fill:#9dbdff;\"/>\r\n    <path clip-path=\"url(#p3518a2be01)\" d=\"M 68.559248 115.996887 \r\nL 73.732898 119.481838 \r\nL 74.981916 117.124508 \r\nL 76.235123 115.078641 \r\nL 71.055285 111.046449 \r\nL 69.804198 113.348882 \r\nz\r\n\" style=\"fill:#ccd9ed;\"/>\r\n    <path clip-path=\"url(#p3518a2be01)\" d=\"M 60.93462 119.08555 \r\nL 66.078706 121.881102 \r\nL 67.31841 118.884887 \r\nL 68.559248 115.996887 \r\nL 63.397762 112.489626 \r\nL 62.164984 115.723669 \r\nz\r\n\" style=\"fill:#c6d6f1;\"/>\r\n    <path clip-path=\"url(#p3518a2be01)\" d=\"M 50.825021 128.25843 \r\nL 55.917361 129.806356 \r\nL 57.203229 128.062276 \r\nL 58.460755 125.477249 \r\nL 53.360027 123.542651 \r\nL 52.111671 126.443893 \r\nz\r\n\" style=\"fill:#a7c5fe;\"/>\r\n    <path clip-path=\"url(#p3518a2be01)\" d=\"M 86.620263 122.843212 \r\nL 91.825884 126.471795 \r\nL 93.076054 125.342149 \r\nL 94.326135 124.520288 \r\nL 89.12978 120.616321 \r\nL 87.874322 121.557947 \r\nz\r\n\" style=\"fill:#b3cdfb;\"/>\r\n    <path clip-path=\"url(#p3518a2be01)\" d=\"M 158.265753 120.843587 \r\nL 163.704667 117.242727 \r\nL 164.877019 114.824803 \r\nL 166.035317 112.929014 \r\nL 160.583779 117.148808 \r\nL 159.430305 118.783479 \r\nz\r\n\" style=\"fill:#c9d7f0;\"/>\r\n    <path clip-path=\"url(#p3518a2be01)\" d=\"M 117.648423 135.825937 \r\nL 122.896204 137.631765 \r\nL 124.098456 137.370646 \r\nL 125.295808 137.176061 \r\nL 120.063446 135.608015 \r\nL 118.858378 135.672613 \r\nz\r\n\" style=\"fill:#85a8fc;\"/>\r\n    <path clip-path=\"url(#p3518a2be01)\" d=\"M 73.732898 119.481838 \r\nL 78.918662 122.927603 \r\nL 80.169783 120.835573 \r\nL 81.423441 119.025816 \r\nL 76.235123 115.078641 \r\nL 74.981916 117.124508 \r\nz\r\n\" style=\"fill:#c3d5f4;\"/>\r\n    <path clip-path=\"url(#p3518a2be01)\" d=\"M 104.744699 131.352852 \r\nL 109.97166 134.171024 \r\nL 111.198399 133.754949 \r\nL 112.421148 133.528337 \r\nL 107.210362 130.736068 \r\nL 105.979191 130.932891 \r\nz\r\n\" style=\"fill:#96b7ff;\"/>\r\n    <path clip-path=\"url(#p3518a2be01)\" d=\"M 58.460755 125.477249 \r\nL 63.585812 127.55101 \r\nL 64.836179 124.82971 \r\nL 66.078706 121.881102 \r\nL 60.93462 119.08555 \r\nL 59.701919 122.404091 \r\nz\r\n\" style=\"fill:#b5cdfa;\"/>\r\n    <path clip-path=\"url(#p3518a2be01)\" d=\"M 138.200078 137.828105 \r\nL 143.511591 137.851177 \r\nL 144.682955 136.909095 \r\nL 145.854254 135.692665 \r\nL 140.547029 136.149133 \r\nL 139.374389 137.096536 \r\nz\r\n\" style=\"fill:#85a8fc;\"/>\r\n    <path clip-path=\"url(#p3518a2be01)\" d=\"M 66.078706 121.881102 \r\nL 71.240167 124.722487 \r\nL 72.486452 122.054314 \r\nL 73.732898 119.481838 \r\nL 68.559248 115.996887 \r\nL 67.31841 118.884887 \r\nz\r\n\" style=\"fill:#bfd3f6;\"/>\r\n    <path clip-path=\"url(#p3518a2be01)\" d=\"M 91.825884 126.471795 \r\nL 97.041174 129.84821 \r\nL 98.286481 128.847331 \r\nL 99.530441 128.120083 \r\nL 94.326135 124.520288 \r\nL 93.076054 125.342149 \r\nz\r\n\" style=\"fill:#aac7fd;\"/>\r\n    <path clip-path=\"url(#p3518a2be01)\" d=\"M 145.854254 135.692665 \r\nL 151.19788 135.109408 \r\nL 152.373258 133.196133 \r\nL 153.552198 130.925017 \r\nL 148.19994 132.346709 \r\nL 147.026509 134.164247 \r\nz\r\n\" style=\"fill:#93b5fe;\"/>\r\n    <path clip-path=\"url(#p3518a2be01)\" d=\"M 130.554365 138.251743 \r\nL 135.842572 138.911681 \r\nL 137.023116 138.407884 \r\nL 138.200078 137.828105 \r\nL 132.922321 137.515746 \r\nL 131.740398 137.913178 \r\nz\r\n\" style=\"fill:#82a6fb;\"/>\r\n    <path clip-path=\"url(#p3518a2be01)\" d=\"M 78.918662 122.927603 \r\nL 84.116276 126.294795 \r\nL 85.367704 124.440402 \r\nL 86.620263 122.843212 \r\nL 81.423441 119.025816 \r\nL 80.169783 120.835573 \r\nz\r\n\" style=\"fill:#bad0f8;\"/>\r\n    <path clip-path=\"url(#p3518a2be01)\" d=\"M 155.914389 125.792553 \r\nL 161.331691 123.145075 \r\nL 162.521656 120.064546 \r\nL 163.704667 117.242727 \r\nL 158.265753 120.843587 \r\nL 157.092824 123.222721 \r\nz\r\n\" style=\"fill:#bed2f6;\"/>\r\n    <path clip-path=\"url(#p3518a2be01)\" d=\"M 55.917361 129.806356 \r\nL 61.037021 131.519867 \r\nL 62.321366 129.838641 \r\nL 63.585812 127.55101 \r\nL 58.460755 125.477249 \r\nL 57.203229 128.062276 \r\nz\r\n\" style=\"fill:#a6c4fe;\"/>\r\n    <path clip-path=\"url(#p3518a2be01)\" d=\"M 109.97166 134.171024 \r\nL 115.214641 136.548666 \r\nL 116.433759 136.108719 \r\nL 117.648423 135.825937 \r\nL 112.421148 133.528337 \r\nL 111.198399 133.754949 \r\nz\r\n\" style=\"fill:#90b2fe;\"/>\r\n    <path clip-path=\"url(#p3518a2be01)\" d=\"M 63.585812 127.55101 \r\nL 68.734668 129.777551 \r\nL 69.990863 127.347583 \r\nL 71.240167 124.722487 \r\nL 66.078706 121.881102 \r\nL 64.836179 124.82971 \r\nz\r\n\" style=\"fill:#b1cbfc;\"/>\r\n    <path clip-path=\"url(#p3518a2be01)\" d=\"M 71.240167 124.722487 \r\nL 76.418496 127.595161 \r\nL 77.668849 125.215898 \r\nL 78.918662 122.927603 \r\nL 73.732898 119.481838 \r\nL 72.486452 122.054314 \r\nz\r\n\" style=\"fill:#b9d0f9;\"/>\r\n    <path clip-path=\"url(#p3518a2be01)\" d=\"M 122.896204 137.631765 \r\nL 128.168382 138.980226 \r\nL 129.363775 138.591683 \r\nL 130.554365 138.251743 \r\nL 125.295808 137.176061 \r\nL 124.098456 137.370646 \r\nz\r\n\" style=\"fill:#86a9fc;\"/>\r\n    <path clip-path=\"url(#p3518a2be01)\" d=\"M 48.190298 130.405146 \r\nL 53.292533 131.962676 \r\nL 54.606979 130.882847 \r\nL 55.917361 129.806356 \r\nL 50.825021 128.25843 \r\nL 49.509694 129.330131 \r\nz\r\n\" style=\"fill:#a2c1ff;\"/>\r\n    <path clip-path=\"url(#p3518a2be01)\" d=\"M 97.041174 129.84821 \r\nL 102.26771 132.913786 \r\nL 103.5074 132.013092 \r\nL 104.744699 131.352852 \r\nL 99.530441 128.120083 \r\nL 98.286481 128.847331 \r\nz\r\n\" style=\"fill:#a1c0ff;\"/>\r\n    <path clip-path=\"url(#p3518a2be01)\" d=\"M 166.035317 112.929014 \r\nL 171.550977 108.328709 \r\nL 172.695757 106.838701 \r\nL 173.816914 106.117367 \r\nL 168.298863 111.014095 \r\nL 167.176672 111.641693 \r\nz\r\n\" style=\"fill:#e2dad5;\"/>\r\n    <path clip-path=\"url(#p3518a2be01)\" d=\"M 84.116276 126.294795 \r\nL 89.325666 129.529069 \r\nL 90.575812 127.882903 \r\nL 91.825884 126.471795 \r\nL 86.620263 122.843212 \r\nL 85.367704 124.440402 \r\nz\r\n\" style=\"fill:#b1cbfc;\"/>\r\n    <path clip-path=\"url(#p3518a2be01)\" d=\"M 189.198306 100.697335 \r\nL 194.87487 95.349806 \r\nL 195.808124 98.765991 \r\nL 196.716789 102.621594 \r\nL 191.09105 107.381691 \r\nL 190.155933 103.82897 \r\nz\r\n\" style=\"fill:#f2c9b4;\"/>\r\n    <path clip-path=\"url(#p3518a2be01)\" d=\"M 153.552198 130.925017 \r\nL 158.946026 129.405478 \r\nL 160.138579 126.318451 \r\nL 161.331691 123.145075 \r\nL 155.914389 125.792553 \r\nL 154.733302 128.409747 \r\nz\r\n\" style=\"fill:#aec9fc;\"/>\r\n    <path clip-path=\"url(#p3518a2be01)\" d=\"M 76.418496 127.595161 \r\nL 81.612895 130.460785 \r\nL 82.865116 128.331616 \r\nL 84.116276 126.294795 \r\nL 78.918662 122.927603 \r\nL 77.668849 125.215898 \r\nz\r\n\" style=\"fill:#b1cbfc;\"/>\r\n    <path clip-path=\"url(#p3518a2be01)\" d=\"M 143.511591 137.851177 \r\nL 148.856896 137.755576 \r\nL 150.02622 136.61438 \r\nL 151.19788 135.109408 \r\nL 145.854254 135.692665 \r\nL 144.682955 136.909095 \r\nz\r\n\" style=\"fill:#8fb1fe;\"/>\r\n    <path clip-path=\"url(#p3518a2be01)\" d=\"M 68.734668 129.777551 \r\nL 73.906207 132.150759 \r\nL 75.1652 129.946937 \r\nL 76.418496 127.595161 \r\nL 71.240167 124.722487 \r\nL 69.990863 127.347583 \r\nz\r\n\" style=\"fill:#abc8fd;\"/>\r\n    <path clip-path=\"url(#p3518a2be01)\" d=\"M 102.26771 132.913786 \r\nL 107.507773 135.622294 \r\nL 108.741331 134.792893 \r\nL 109.97166 134.171024 \r\nL 104.744699 131.352852 \r\nL 103.5074 132.013092 \r\nz\r\n\" style=\"fill:#9abbff;\"/>\r\n    <path clip-path=\"url(#p3518a2be01)\" d=\"M 61.037021 131.519867 \r\nL 66.186817 133.546947 \r\nL 67.467486 131.867123 \r\nL 68.734668 129.777551 \r\nL 63.585812 127.55101 \r\nL 62.321366 129.838641 \r\nz\r\n\" style=\"fill:#a5c3fe;\"/>\r\n    <path clip-path=\"url(#p3518a2be01)\" d=\"M 115.214641 136.548666 \r\nL 120.477253 138.485977 \r\nL 121.689091 137.995843 \r\nL 122.896204 137.631765 \r\nL 117.648423 135.825937 \r\nL 116.433759 136.108719 \r\nz\r\n\" style=\"fill:#8db0fe;\"/>\r\n    <path clip-path=\"url(#p3518a2be01)\" d=\"M 135.842572 138.911681 \r\nL 141.16274 139.266615 \r\nL 142.338672 138.603875 \r\nL 143.511591 137.851177 \r\nL 138.200078 137.828105 \r\nL 137.023116 138.407884 \r\nz\r\n\" style=\"fill:#88abfd;\"/>\r\n    <path clip-path=\"url(#p3518a2be01)\" d=\"M 89.325666 129.529069 \r\nL 94.547248 132.569587 \r\nL 95.794767 131.101705 \r\nL 97.041174 129.84821 \r\nL 91.825884 126.471795 \r\nL 90.575812 127.882903 \r\nz\r\n\" style=\"fill:#a9c6fd;\"/>\r\n    <path clip-path=\"url(#p3518a2be01)\" d=\"M 173.816914 106.117367 \r\nL 179.403167 100.879679 \r\nL 180.494479 100.918729 \r\nL 181.555205 101.808441 \r\nL 175.983322 106.986717 \r\nL 174.912919 106.17602 \r\nz\r\n\" style=\"fill:#f1cdba;\"/>\r\n    <path clip-path=\"url(#p3518a2be01)\" d=\"M 181.555205 101.808441 \r\nL 187.196853 96.33157 \r\nL 188.213337 98.147731 \r\nL 189.198306 100.697335 \r\nL 183.590355 105.801037 \r\nL 182.586418 103.471914 \r\nz\r\n\" style=\"fill:#f4c5ad;\"/>\r\n    <path clip-path=\"url(#p3518a2be01)\" d=\"M 53.292533 131.962676 \r\nL 58.425675 133.794635 \r\nL 59.735917 132.743433 \r\nL 61.037021 131.519867 \r\nL 55.917361 129.806356 \r\nL 54.606979 130.882847 \r\nz\r\n\" style=\"fill:#a2c1ff;\"/>\r\n    <path clip-path=\"url(#p3518a2be01)\" d=\"M 151.19788 135.109408 \r\nL 156.575446 134.601583 \r\nL 157.757411 132.223064 \r\nL 158.946026 129.405478 \r\nL 153.552198 130.925017 \r\nL 152.373258 133.196133 \r\nz\r\n\" style=\"fill:#9fbfff;\"/>\r\n    <path clip-path=\"url(#p3518a2be01)\" d=\"M 163.704667 117.242727 \r\nL 169.20165 113.365606 \r\nL 170.385129 110.535101 \r\nL 171.550977 108.328709 \r\nL 166.035317 112.929014 \r\nL 164.877019 114.824803 \r\nz\r\n\" style=\"fill:#dedcdb;\"/>\r\n    <path clip-path=\"url(#p3518a2be01)\" d=\"M 128.168382 138.980226 \r\nL 133.468296 139.938131 \r\nL 134.657757 139.406564 \r\nL 135.842572 138.911681 \r\nL 130.554365 138.251743 \r\nL 129.363775 138.591683 \r\nz\r\n\" style=\"fill:#89acfd;\"/>\r\n    <path clip-path=\"url(#p3518a2be01)\" d=\"M 81.612895 130.460785 \r\nL 86.82264 133.261329 \r\nL 88.074906 131.346978 \r\nL 89.325666 129.529069 \r\nL 84.116276 126.294795 \r\nL 82.865116 128.331616 \r\nz\r\n\" style=\"fill:#aac7fd;\"/>\r\n    <path clip-path=\"url(#p3518a2be01)\" d=\"M 94.547248 132.569587 \r\nL 99.782098 135.357707 \r\nL 101.025908 134.03884 \r\nL 102.26771 132.913786 \r\nL 97.041174 129.84821 \r\nL 95.794767 131.101705 \r\nz\r\n\" style=\"fill:#a1c0ff;\"/>\r\n    <path clip-path=\"url(#p3518a2be01)\" d=\"M 73.906207 132.150759 \r\nL 79.098229 134.607127 \r\nL 80.357899 132.584216 \r\nL 81.612895 130.460785 \r\nL 76.418496 127.595161 \r\nL 75.1652 129.946937 \r\nz\r\n\" style=\"fill:#a6c4fe;\"/>\r\n    <path clip-path=\"url(#p3518a2be01)\" d=\"M 107.507773 135.622294 \r\nL 112.764215 137.946116 \r\nL 113.991362 137.16033 \r\nL 115.214641 136.548666 \r\nL 109.97166 134.171024 \r\nL 108.741331 134.792893 \r\nz\r\n\" style=\"fill:#96b7ff;\"/>\r\n    <path clip-path=\"url(#p3518a2be01)\" d=\"M 45.473492 130.757694 \r\nL 50.605189 132.768217 \r\nL 51.961008 132.654178 \r\nL 53.292533 131.962676 \r\nL 48.190298 130.405146 \r\nL 46.847429 130.940329 \r\nz\r\n\" style=\"fill:#a6c4fe;\"/>\r\n    <path clip-path=\"url(#p3518a2be01)\" d=\"M 66.186817 133.546947 \r\nL 71.361744 135.768334 \r\nL 72.638925 134.106892 \r\nL 73.906207 132.150759 \r\nL 68.734668 129.777551 \r\nL 67.467486 131.867123 \r\nz\r\n\" style=\"fill:#a2c1ff;\"/>\r\n    <path clip-path=\"url(#p3518a2be01)\" d=\"M 120.477253 138.485977 \r\nL 125.763049 140.011915 \r\nL 126.968121 139.448196 \r\nL 128.168382 138.980226 \r\nL 122.896204 137.631765 \r\nL 121.689091 137.995843 \r\nz\r\n\" style=\"fill:#8db0fe;\"/>\r\n    <path clip-path=\"url(#p3518a2be01)\" d=\"M 161.331691 123.145075 \r\nL 166.798793 120.35181 \r\nL 168.004671 116.691323 \r\nL 169.20165 113.365606 \r\nL 163.704667 117.242727 \r\nL 162.521656 120.064546 \r\nz\r\n\" style=\"fill:#d2dbe8;\"/>\r\n    <path clip-path=\"url(#p3518a2be01)\" d=\"M 86.82264 133.261329 \r\nL 92.047492 135.929744 \r\nL 93.298336 134.199548 \r\nL 94.547248 132.569587 \r\nL 89.325666 129.529069 \r\nL 88.074906 131.346978 \r\nz\r\n\" style=\"fill:#a3c2fe;\"/>\r\n    <path clip-path=\"url(#p3518a2be01)\" d=\"M 58.425675 133.794635 \r\nL 63.589313 135.954467 \r\nL 64.893491 134.878802 \r\nL 66.186817 133.546947 \r\nL 61.037021 131.519867 \r\nL 59.735917 132.743433 \r\nz\r\n\" style=\"fill:#a1c0ff;\"/>\r\n    <path clip-path=\"url(#p3518a2be01)\" d=\"M 148.856896 137.755576 \r\nL 154.233578 137.749294 \r\nL 155.401388 136.430251 \r\nL 156.575446 134.601583 \r\nL 151.19788 135.109408 \r\nL 150.02622 136.61438 \r\nz\r\n\" style=\"fill:#97b8ff;\"/>\r\n    <path clip-path=\"url(#p3518a2be01)\" d=\"M 141.16274 139.266615 \r\nL 146.515576 139.46136 \r\nL 147.68748 138.657109 \r\nL 148.856896 137.755576 \r\nL 143.511591 137.851177 \r\nL 142.338672 138.603875 \r\nz\r\n\" style=\"fill:#90b2fe;\"/>\r\n    <path clip-path=\"url(#p3518a2be01)\" d=\"M 158.946026 129.405478 \r\nL 164.37974 127.91361 \r\nL 165.588858 124.161083 \r\nL 166.798793 120.35181 \r\nL 161.331691 123.145075 \r\nL 160.138579 126.318451 \r\nz\r\n\" style=\"fill:#bfd3f6;\"/>\r\n    <path clip-path=\"url(#p3518a2be01)\" d=\"M 99.782098 135.357707 \r\nL 105.031994 137.844779 \r\nL 106.271269 136.647431 \r\nL 107.507773 135.622294 \r\nL 102.26771 132.913786 \r\nL 101.025908 134.03884 \r\nz\r\n\" style=\"fill:#9bbcff;\"/>\r\n    <path clip-path=\"url(#p3518a2be01)\" d=\"M 79.098229 134.607127 \r\nL 84.308815 137.062249 \r\nL 85.567709 135.191813 \r\nL 86.82264 133.261329 \r\nL 81.612895 130.460785 \r\nL 80.357899 132.584216 \r\nz\r\n\" style=\"fill:#a1c0ff;\"/>\r\n    <path clip-path=\"url(#p3518a2be01)\" d=\"M 133.468296 139.938131 \r\nL 138.7983 140.604722 \r\nL 139.982773 139.919253 \r\nL 141.16274 139.266615 \r\nL 135.842572 138.911681 \r\nL 134.657757 139.406564 \r\nz\r\n\" style=\"fill:#8db0fe;\"/>\r\n    <path clip-path=\"url(#p3518a2be01)\" d=\"M 112.764215 137.946116 \r\nL 118.040221 139.880526 \r\nL 119.260889 139.11354 \r\nL 120.477253 138.485977 \r\nL 115.214641 136.548666 \r\nL 113.991362 137.16033 \r\nz\r\n\" style=\"fill:#93b5fe;\"/>\r\n    <path clip-path=\"url(#p3518a2be01)\" d=\"M 71.361744 135.768334 \r\nL 76.558323 138.080684 \r\nL 77.832128 136.453738 \r\nL 79.098229 134.607127 \r\nL 73.906207 132.150759 \r\nL 72.638925 134.106892 \r\nz\r\n\" style=\"fill:#9ebeff;\"/>\r\n    <path clip-path=\"url(#p3518a2be01)\" d=\"M 171.550977 108.328709 \r\nL 177.131092 103.460132 \r\nL 178.281507 101.728987 \r\nL 179.403167 100.879679 \r\nL 173.816914 106.117367 \r\nL 172.695757 106.838701 \r\nz\r\n\" style=\"fill:#f3c8b2;\"/>\r\n    <path clip-path=\"url(#p3518a2be01)\" d=\"M 50.605189 132.768217 \r\nL 55.762397 134.936391 \r\nL 57.103036 134.579236 \r\nL 58.425675 133.794635 \r\nL 53.292533 131.962676 \r\nL 51.961008 132.654178 \r\nz\r\n\" style=\"fill:#a5c3fe;\"/>\r\n    <path clip-path=\"url(#p3518a2be01)\" d=\"M 156.575446 134.601583 \r\nL 161.982566 134.360718 \r\nL 163.176169 131.389628 \r\nL 164.37974 127.91361 \r\nL 158.946026 129.405478 \r\nL 157.757411 132.223064 \r\nz\r\n\" style=\"fill:#abc8fd;\"/>\r\n    <path clip-path=\"url(#p3518a2be01)\" d=\"M 92.047492 135.929744 \r\nL 97.287929 138.400684 \r\nL 98.536196 136.828265 \r\nL 99.782098 135.357707 \r\nL 94.547248 132.569587 \r\nL 93.298336 134.199548 \r\nz\r\n\" style=\"fill:#9ebeff;\"/>\r\n    <path clip-path=\"url(#p3518a2be01)\" d=\"M 63.589313 135.954467 \r\nL 68.776829 138.269241 \r\nL 70.074329 137.145988 \r\nL 71.361744 135.768334 \r\nL 66.186817 133.546947 \r\nL 64.893491 134.878802 \r\nz\r\n\" style=\"fill:#9dbdff;\"/>\r\n    <path clip-path=\"url(#p3518a2be01)\" d=\"M 125.763049 140.011915 \r\nL 131.07514 141.185012 \r\nL 132.274077 140.528921 \r\nL 133.468296 139.938131 \r\nL 128.168382 138.980226 \r\nL 126.968121 139.448196 \r\nz\r\n\" style=\"fill:#8fb1fe;\"/>\r\n    <path clip-path=\"url(#p3518a2be01)\" d=\"M 105.031994 137.844779 \r\nL 110.299313 139.998249 \r\nL 111.533463 138.8978 \r\nL 112.764215 137.946116 \r\nL 107.507773 135.622294 \r\nL 106.271269 136.647431 \r\nz\r\n\" style=\"fill:#97b8ff;\"/>\r\n    <path clip-path=\"url(#p3518a2be01)\" d=\"M 84.308815 137.062249 \r\nL 89.53692 139.432246 \r\nL 90.793974 137.694721 \r\nL 92.047492 135.929744 \r\nL 86.82264 133.261329 \r\nL 85.567709 135.191813 \r\nz\r\n\" style=\"fill:#9dbdff;\"/>\r\n    <path clip-path=\"url(#p3518a2be01)\" d=\"M 76.558323 138.080684 \r\nL 81.774389 140.394915 \r\nL 83.044715 138.810451 \r\nL 84.308815 137.062249 \r\nL 79.098229 134.607127 \r\nL 77.832128 136.453738 \r\nz\r\n\" style=\"fill:#9abbff;\"/>\r\n    <path clip-path=\"url(#p3518a2be01)\" d=\"M 179.403167 100.879679 \r\nL 185.058464 95.375871 \r\nL 186.145782 95.376735 \r\nL 187.196853 96.33157 \r\nL 181.555205 101.808441 \r\nL 180.494479 100.918729 \r\nz\r\n\" style=\"fill:#f7b194;\"/>\r\n    <path clip-path=\"url(#p3518a2be01)\" d=\"M 118.040221 139.880526 \r\nL 123.33901 141.445857 \r\nL 124.553294 140.677647 \r\nL 125.763049 140.011915 \r\nL 120.477253 138.485977 \r\nL 119.260889 139.11354 \r\nz\r\n\" style=\"fill:#92b4fe;\"/>\r\n    <path clip-path=\"url(#p3518a2be01)\" d=\"M 187.196853 96.33157 \r\nL 192.910364 90.579554 \r\nL 193.910765 92.561884 \r\nL 194.87487 95.349806 \r\nL 189.198306 100.697335 \r\nL 188.213337 98.147731 \r\nz\r\n\" style=\"fill:#f7a889;\"/>\r\n    <path clip-path=\"url(#p3518a2be01)\" d=\"M 55.762397 134.936391 \r\nL 60.944615 137.28002 \r\nL 62.273723 136.77298 \r\nL 63.589313 135.954467 \r\nL 58.425675 133.794635 \r\nL 57.103036 134.579236 \r\nz\r\n\" style=\"fill:#a2c1ff;\"/>\r\n    <path clip-path=\"url(#p3518a2be01)\" d=\"M 146.515576 139.46136 \r\nL 151.899599 139.681178 \r\nL 153.0677 138.759903 \r\nL 154.233578 137.749294 \r\nL 148.856896 137.755576 \r\nL 147.68748 138.657109 \r\nz\r\n\" style=\"fill:#97b8ff;\"/>\r\n    <path clip-path=\"url(#p3518a2be01)\" d=\"M 154.233578 137.749294 \r\nL 159.636156 138.081819 \r\nL 160.802595 136.610082 \r\nL 161.982566 134.360718 \r\nL 156.575446 134.601583 \r\nL 155.401388 136.430251 \r\nz\r\n\" style=\"fill:#9fbfff;\"/>\r\n    <path clip-path=\"url(#p3518a2be01)\" d=\"M 169.20165 113.365606 \r\nL 174.756629 109.312569 \r\nL 175.954797 106.020508 \r\nL 177.131092 103.460132 \r\nL 171.550977 108.328709 \r\nL 170.385129 110.535101 \r\nz\r\n\" style=\"fill:#efcebd;\"/>\r\n    <path clip-path=\"url(#p3518a2be01)\" d=\"M 97.287929 138.400684 \r\nL 102.545206 140.618725 \r\nL 103.789999 139.181545 \r\nL 105.031994 137.844779 \r\nL 99.782098 135.357707 \r\nL 98.536196 136.828265 \r\nz\r\n\" style=\"fill:#9abbff;\"/>\r\n    <path clip-path=\"url(#p3518a2be01)\" d=\"M 42.666841 129.310548 \r\nL 47.839479 131.935022 \r\nL 49.230123 132.485787 \r\nL 50.605189 132.768217 \r\nL 45.473492 130.757694 \r\nL 44.078286 130.162188 \r\nz\r\n\" style=\"fill:#b2ccfb;\"/>\r\n    <path clip-path=\"url(#p3518a2be01)\" d=\"M 138.7983 140.604722 \r\nL 144.159317 141.111944 \r\nL 145.339681 140.267587 \r\nL 146.515576 139.46136 \r\nL 141.16274 139.266615 \r\nL 139.982773 139.919253 \r\nz\r\n\" style=\"fill:#93b5fe;\"/>\r\n    <path clip-path=\"url(#p3518a2be01)\" d=\"M 68.776829 138.269241 \r\nL 73.985109 140.644822 \r\nL 75.276111 139.476301 \r\nL 76.558323 138.080684 \r\nL 71.361744 135.768334 \r\nL 70.074329 137.145988 \r\nz\r\n\" style=\"fill:#9abbff;\"/>\r\n    <path clip-path=\"url(#p3518a2be01)\" d=\"M 89.53692 139.432246 \r\nL 94.782475 141.641745 \r\nL 96.036868 140.022121 \r\nL 97.287929 138.400684 \r\nL 92.047492 135.929744 \r\nL 90.793974 137.694721 \r\nz\r\n\" style=\"fill:#98b9ff;\"/>\r\n    <path clip-path=\"url(#p3518a2be01)\" d=\"M 166.798793 120.35181 \r\nL 172.314966 117.500955 \r\nL 173.541499 113.197544 \r\nL 174.756629 109.312569 \r\nL 169.20165 113.365606 \r\nL 168.004671 116.691323 \r\nz\r\n\" style=\"fill:#e3d9d3;\"/>\r\n    <path clip-path=\"url(#p3518a2be01)\" d=\"M 110.299313 139.998249 \r\nL 115.586842 141.805671 \r\nL 116.815472 140.781616 \r\nL 118.040221 139.880526 \r\nL 112.764215 137.946116 \r\nL 111.533463 138.8978 \r\nz\r\n\" style=\"fill:#96b7ff;\"/>\r\n    <path clip-path=\"url(#p3518a2be01)\" d=\"M 164.37974 127.91361 \r\nL 169.851618 126.523428 \r\nL 171.082973 122.018856 \r\nL 172.314966 117.500955 \r\nL 166.798793 120.35181 \r\nL 165.588858 124.161083 \r\nz\r\n\" style=\"fill:#cdd9ec;\"/>\r\n    <path clip-path=\"url(#p3518a2be01)\" d=\"M 131.07514 141.185012 \r\nL 136.415804 142.092434 \r\nL 137.609267 141.332237 \r\nL 138.7983 140.604722 \r\nL 133.468296 139.938131 \r\nL 132.274077 140.528921 \r\nz\r\n\" style=\"fill:#92b4fe;\"/>\r\n    <path clip-path=\"url(#p3518a2be01)\" d=\"M 81.774389 140.394915 \r\nL 87.008795 142.628624 \r\nL 88.275457 141.08978 \r\nL 89.53692 139.432246 \r\nL 84.308815 137.062249 \r\nL 83.044715 138.810451 \r\nz\r\n\" style=\"fill:#96b7ff;\"/>\r\n    <path clip-path=\"url(#p3518a2be01)\" d=\"M 161.982566 134.360718 \r\nL 167.415205 134.477917 \r\nL 168.627007 130.766332 \r\nL 169.851618 126.523428 \r\nL 164.37974 127.91361 \r\nL 163.176169 131.389628 \r\nz\r\n\" style=\"fill:#b6cefa;\"/>\r\n    <path clip-path=\"url(#p3518a2be01)\" d=\"M 60.944615 137.28002 \r\nL 66.149802 139.765666 \r\nL 67.468916 139.145883 \r\nL 68.776829 138.269241 \r\nL 63.589313 135.954467 \r\nL 62.273723 136.77298 \r\nz\r\n\" style=\"fill:#9ebeff;\"/>\r\n    <path clip-path=\"url(#p3518a2be01)\" d=\"M 102.545206 140.618725 \r\nL 107.821267 142.544042 \r\nL 109.061899 141.223324 \r\nL 110.299313 139.998249 \r\nL 105.031994 137.844779 \r\nL 103.789999 139.181545 \r\nz\r\n\" style=\"fill:#97b8ff;\"/>\r\n    <path clip-path=\"url(#p3518a2be01)\" d=\"M 47.839479 131.935022 \r\nL 53.032406 134.63973 \r\nL 54.40465 134.921893 \r\nL 55.762397 134.936391 \r\nL 50.605189 132.768217 \r\nL 49.230123 132.485787 \r\nz\r\n\" style=\"fill:#aec9fc;\"/>\r\n    <path clip-path=\"url(#p3518a2be01)\" d=\"M 123.33901 141.445857 \r\nL 128.663502 142.687338 \r\nL 129.871583 141.905102 \r\nL 131.07514 141.185012 \r\nL 125.763049 140.011915 \r\nL 124.553294 140.677647 \r\nz\r\n\" style=\"fill:#93b5fe;\"/>\r\n    <path clip-path=\"url(#p3518a2be01)\" d=\"M 73.985109 140.644822 \r\nL 79.212295 143.001933 \r\nL 80.497091 141.794502 \r\nL 81.774389 140.394915 \r\nL 76.558323 138.080684 \r\nL 75.276111 139.476301 \r\nz\r\n\" style=\"fill:#96b7ff;\"/>\r\n    <path clip-path=\"url(#p3518a2be01)\" d=\"M 94.782475 141.641745 \r\nL 100.046333 143.628495 \r\nL 101.297415 142.114626 \r\nL 102.545206 140.618725 \r\nL 97.287929 138.400684 \r\nL 96.036868 140.022121 \r\nz\r\n\" style=\"fill:#96b7ff;\"/>\r\n    <path clip-path=\"url(#p3518a2be01)\" d=\"M 159.636156 138.081819 \r\nL 165.054086 139.105272 \r\nL 166.222326 137.360718 \r\nL 167.415205 134.477917 \r\nL 161.982566 134.360718 \r\nL 160.802595 136.610082 \r\nz\r\n\" style=\"fill:#a5c3fe;\"/>\r\n    <path clip-path=\"url(#p3518a2be01)\" d=\"M 151.899599 139.681178 \r\nL 157.310055 140.179026 \r\nL 158.474473 139.153266 \r\nL 159.636156 138.081819 \r\nL 154.233578 137.749294 \r\nL 153.0677 138.759903 \r\nz\r\n\" style=\"fill:#9dbdff;\"/>\r\n    <path clip-path=\"url(#p3518a2be01)\" d=\"M 115.586842 141.805671 \r\nL 120.897509 143.276416 \r\nL 122.120362 142.313804 \r\nL 123.33901 141.445857 \r\nL 118.040221 139.880526 \r\nL 116.815472 140.781616 \r\nz\r\n\" style=\"fill:#94b6ff;\"/>\r\n    <path clip-path=\"url(#p3518a2be01)\" d=\"M 144.159317 141.111944 \r\nL 149.55036 141.625816 \r\nL 150.727255 140.629292 \r\nL 151.899599 139.681178 \r\nL 146.515576 139.46136 \r\nL 145.339681 140.267587 \r\nz\r\n\" style=\"fill:#98b9ff;\"/>\r\n    <path clip-path=\"url(#p3518a2be01)\" d=\"M 177.131092 103.460132 \r\nL 182.776541 98.38075 \r\nL 183.934847 96.377547 \r\nL 185.058464 95.375871 \r\nL 179.403167 100.879679 \r\nL 178.281507 101.728987 \r\nz\r\n\" style=\"fill:#f7ac8e;\"/>\r\n    <path clip-path=\"url(#p3518a2be01)\" d=\"M 87.008795 142.628624 \r\nL 92.261371 144.707789 \r\nL 93.524167 143.215236 \r\nL 94.782475 141.641745 \r\nL 89.53692 139.432246 \r\nL 88.275457 141.08978 \r\nz\r\n\" style=\"fill:#93b5fe;\"/>\r\n    <path clip-path=\"url(#p3518a2be01)\" d=\"M 66.149802 139.765666 \r\nL 71.375199 142.315463 \r\nL 72.684941 141.590353 \r\nL 73.985109 140.644822 \r\nL 68.776829 138.269241 \r\nL 67.468916 139.145883 \r\nz\r\n\" style=\"fill:#9abbff;\"/>\r\n    <path clip-path=\"url(#p3518a2be01)\" d=\"M 53.032406 134.63973 \r\nL 58.24538 137.431529 \r\nL 59.60144 137.479252 \r\nL 60.944615 137.28002 \r\nL 55.762397 134.936391 \r\nL 54.40465 134.921893 \r\nz\r\n\" style=\"fill:#aac7fd;\"/>\r\n    <path clip-path=\"url(#p3518a2be01)\" d=\"M 136.415804 142.092434 \r\nL 141.78613 142.846988 \r\nL 142.974672 141.982352 \r\nL 144.159317 141.111944 \r\nL 138.7983 140.604722 \r\nL 137.609267 141.332237 \r\nz\r\n\" style=\"fill:#96b7ff;\"/>\r\n    <path clip-path=\"url(#p3518a2be01)\" d=\"M 107.821267 142.544042 \r\nL 113.118558 144.155818 \r\nL 114.354498 142.936865 \r\nL 115.586842 141.805671 \r\nL 110.299313 139.998249 \r\nL 109.061899 141.223324 \r\nz\r\n\" style=\"fill:#96b7ff;\"/>\r\n    <path clip-path=\"url(#p3518a2be01)\" d=\"M 79.212295 143.001933 \r\nL 84.457403 145.264621 \r\nL 85.736283 144.024414 \r\nL 87.008795 142.628624 \r\nL 81.774389 140.394915 \r\nL 80.497091 141.794502 \r\nz\r\n\" style=\"fill:#93b5fe;\"/>\r\n    <path clip-path=\"url(#p3518a2be01)\" d=\"M 128.663502 142.687338 \r\nL 134.016007 143.672223 \r\nL 135.218037 142.873703 \r\nL 136.415804 142.092434 \r\nL 131.07514 141.185012 \r\nL 129.871583 141.905102 \r\nz\r\n\" style=\"fill:#96b7ff;\"/>\r\n    <path clip-path=\"url(#p3518a2be01)\" d=\"M 167.415205 134.477917 \r\nL 172.872421 134.891173 \r\nL 174.108738 130.346559 \r\nL 175.360665 125.254309 \r\nL 169.851618 126.523428 \r\nL 168.627007 130.766332 \r\nz\r\n\" style=\"fill:#bfd3f6;\"/>\r\n    <path clip-path=\"url(#p3518a2be01)\" d=\"M 100.046333 143.628495 \r\nL 105.330129 145.346833 \r\nL 106.577382 143.92899 \r\nL 107.821267 142.544042 \r\nL 102.545206 140.618725 \r\nL 101.297415 142.114626 \r\nz\r\n\" style=\"fill:#93b5fe;\"/>\r\n    <path clip-path=\"url(#p3518a2be01)\" d=\"M 39.809903 127.27225 \r\nL 45.023848 130.431829 \r\nL 46.436433 131.220856 \r\nL 47.839479 131.935022 \r\nL 42.666841 129.310548 \r\nL 41.242926 128.315686 \r\nz\r\n\" style=\"fill:#c1d4f4;\"/>\r\n    <path clip-path=\"url(#p3518a2be01)\" d=\"M 169.851618 126.523428 \r\nL 175.360665 125.254309 \r\nL 176.620285 119.924033 \r\nL 177.879969 114.631817 \r\nL 172.314966 117.500955 \r\nL 171.082973 122.018856 \r\nz\r\n\" style=\"fill:#dbdcde;\"/>\r\n    <path clip-path=\"url(#p3518a2be01)\" d=\"M 174.756629 109.312569 \r\nL 180.370072 105.131223 \r\nL 181.586745 101.332897 \r\nL 182.776541 98.38075 \r\nL 177.131092 103.460132 \r\nL 175.954797 106.020508 \r\nz\r\n\" style=\"fill:#f7b89c;\"/>\r\n    <path clip-path=\"url(#p3518a2be01)\" d=\"M 185.058464 95.375871 \r\nL 190.785939 89.593288 \r\nL 191.869552 89.553194 \r\nL 192.910364 90.579554 \r\nL 187.196853 96.33157 \r\nL 186.145782 95.376735 \r\nz\r\n\" style=\"fill:#f18d6f;\"/>\r\n    <path clip-path=\"url(#p3518a2be01)\" d=\"M 165.054086 139.105272 \r\nL 170.485036 140.702027 \r\nL 171.660407 138.52274 \r\nL 172.872421 134.891173 \r\nL 167.415205 134.477917 \r\nL 166.222326 137.360718 \r\nz\r\n\" style=\"fill:#a9c6fd;\"/>\r\n    <path clip-path=\"url(#p3518a2be01)\" d=\"M 92.261371 144.707789 \r\nL 97.532855 146.570348 \r\nL 98.791605 145.12376 \r\nL 100.046333 143.628495 \r\nL 94.782475 141.641745 \r\nL 93.524167 143.215236 \r\nz\r\n\" style=\"fill:#92b4fe;\"/>\r\n    <path clip-path=\"url(#p3518a2be01)\" d=\"M 71.375199 142.315463 \r\nL 76.61868 144.844115 \r\nL 77.919593 144.016884 \r\nL 79.212295 143.001933 \r\nL 73.985109 140.644822 \r\nL 72.684941 141.590353 \r\nz\r\n\" style=\"fill:#96b7ff;\"/>\r\n    <path clip-path=\"url(#p3518a2be01)\" d=\"M 157.310055 140.179026 \r\nL 162.736996 141.319736 \r\nL 163.897358 140.210767 \r\nL 165.054086 139.105272 \r\nL 159.636156 138.081819 \r\nL 158.474473 139.153266 \r\nz\r\n\" style=\"fill:#a1c0ff;\"/>\r\n    <path clip-path=\"url(#p3518a2be01)\" d=\"M 120.897509 143.276416 \r\nL 126.234103 144.440946 \r\nL 127.450982 143.53201 \r\nL 128.663502 142.687338 \r\nL 123.33901 141.445857 \r\nL 122.120362 142.313804 \r\nz\r\n\" style=\"fill:#96b7ff;\"/>\r\n    <path clip-path=\"url(#p3518a2be01)\" d=\"M 58.24538 137.431529 \r\nL 63.477313 140.28953 \r\nL 64.819107 140.13458 \r\nL 66.149802 139.765666 \r\nL 60.944615 137.28002 \r\nL 59.60144 137.479252 \r\nz\r\n\" style=\"fill:#a5c3fe;\"/>\r\n    <path clip-path=\"url(#p3518a2be01)\" d=\"M 172.314966 117.500955 \r\nL 177.879969 114.631817 \r\nL 179.132279 109.627024 \r\nL 180.370072 105.131223 \r\nL 174.756629 109.312569 \r\nL 173.541499 113.197544 \r\nz\r\n\" style=\"fill:#f1cdba;\"/>\r\n    <path clip-path=\"url(#p3518a2be01)\" d=\"M 149.55036 141.625816 \r\nL 154.968031 142.347507 \r\nL 156.141278 141.240978 \r\nL 157.310055 140.179026 \r\nL 151.899599 139.681178 \r\nL 150.727255 140.629292 \r\nz\r\n\" style=\"fill:#9ebeff;\"/>\r\n    <path clip-path=\"url(#p3518a2be01)\" d=\"M 84.457403 145.264621 \r\nL 89.72033 147.362599 \r\nL 90.993571 146.095083 \r\nL 92.261371 144.707789 \r\nL 87.008795 142.628624 \r\nL 85.736283 144.024414 \r\nz\r\n\" style=\"fill:#90b2fe;\"/>\r\n    <path clip-path=\"url(#p3518a2be01)\" d=\"M 113.118558 144.155818 \r\nL 118.439778 145.453528 \r\nL 119.670604 144.326272 \r\nL 120.897509 143.276416 \r\nL 115.586842 141.805671 \r\nL 114.354498 142.936865 \r\nz\r\n\" style=\"fill:#96b7ff;\"/>\r\n    <path clip-path=\"url(#p3518a2be01)\" d=\"M 141.78613 142.846988 \r\nL 147.185749 143.580468 \r\nL 148.369552 142.631404 \r\nL 149.55036 141.625816 \r\nL 144.159317 141.111944 \r\nL 142.974672 141.982352 \r\nz\r\n\" style=\"fill:#9bbcff;\"/>\r\n    <path clip-path=\"url(#p3518a2be01)\" d=\"M 45.023848 130.431829 \r\nL 50.254383 133.633392 \r\nL 51.648199 134.18328 \r\nL 53.032406 134.63973 \r\nL 47.839479 131.935022 \r\nL 46.436433 131.220856 \r\nz\r\n\" style=\"fill:#bcd2f7;\"/>\r\n    <path clip-path=\"url(#p3518a2be01)\" d=\"M 105.330129 145.346833 \r\nL 110.636086 146.769988 \r\nL 111.879084 145.440942 \r\nL 113.118558 144.155818 \r\nL 107.821267 142.544042 \r\nL 106.577382 143.92899 \r\nz\r\n\" style=\"fill:#93b5fe;\"/>\r\n    <path clip-path=\"url(#p3518a2be01)\" d=\"M 134.016007 143.672223 \r\nL 139.397984 144.483511 \r\nL 140.593919 143.681478 \r\nL 141.78613 142.846988 \r\nL 136.415804 142.092434 \r\nL 135.218037 142.873703 \r\nz\r\n\" style=\"fill:#98b9ff;\"/>\r\n    <path clip-path=\"url(#p3518a2be01)\" d=\"M 63.477313 140.28953 \r\nL 68.726674 143.16653 \r\nL 70.055693 142.831551 \r\nL 71.375199 142.315463 \r\nL 66.149802 139.765666 \r\nL 64.819107 140.13458 \r\nz\r\n\" style=\"fill:#9fbfff;\"/>\r\n    <path clip-path=\"url(#p3518a2be01)\" d=\"M 76.61868 144.844115 \r\nL 81.879088 147.270704 \r\nL 83.171761 146.345501 \r\nL 84.457403 145.264621 \r\nL 79.212295 143.001933 \r\nL 77.919593 144.016884 \r\nz\r\n\" style=\"fill:#93b5fe;\"/>\r\n    <path clip-path=\"url(#p3518a2be01)\" d=\"M 97.532855 146.570348 \r\nL 102.824783 148.169602 \r\nL 104.079334 146.768623 \r\nL 105.330129 145.346833 \r\nL 100.046333 143.628495 \r\nL 98.791605 145.12376 \r\nz\r\n\" style=\"fill:#90b2fe;\"/>\r\n    <path clip-path=\"url(#p3518a2be01)\" d=\"M 170.485036 140.702027 \r\nL 175.940652 142.306035 \r\nL 177.119818 139.886191 \r\nL 178.353889 135.539528 \r\nL 172.872421 134.891173 \r\nL 171.660407 138.52274 \r\nz\r\n\" style=\"fill:#aac7fd;\"/>\r\n    <path clip-path=\"url(#p3518a2be01)\" d=\"M 162.736996 141.319736 \r\nL 168.179784 142.926554 \r\nL 169.334222 141.812542 \r\nL 170.485036 140.702027 \r\nL 165.054086 139.105272 \r\nL 163.897358 140.210767 \r\nz\r\n\" style=\"fill:#a2c1ff;\"/>\r\n    <path clip-path=\"url(#p3518a2be01)\" d=\"M 172.872421 134.891173 \r\nL 178.353889 135.539528 \r\nL 179.620852 130.103052 \r\nL 180.906874 124.086283 \r\nL 175.360665 125.254309 \r\nL 174.108738 130.346559 \r\nz\r\n\" style=\"fill:#c7d7f0;\"/>\r\n    <path clip-path=\"url(#p3518a2be01)\" d=\"M 126.234103 144.440946 \r\nL 131.599006 145.347545 \r\nL 132.809681 144.493327 \r\nL 134.016007 143.672223 \r\nL 128.663502 142.687338 \r\nL 127.450982 143.53201 \r\nz\r\n\" style=\"fill:#98b9ff;\"/>\r\n    <path clip-path=\"url(#p3518a2be01)\" d=\"M 50.254383 133.633392 \r\nL 55.501705 136.888981 \r\nL 56.878191 137.211279 \r\nL 58.24538 137.431529 \r\nL 53.032406 134.63973 \r\nL 51.648199 134.18328 \r\nz\r\n\" style=\"fill:#b6cefa;\"/>\r\n    <path clip-path=\"url(#p3518a2be01)\" d=\"M 89.72033 147.362599 \r\nL 95.001843 149.23558 \r\nL 96.269712 147.94583 \r\nL 97.532855 146.570348 \r\nL 92.261371 144.707789 \r\nL 90.993571 146.095083 \r\nz\r\n\" style=\"fill:#8fb1fe;\"/>\r\n    <path clip-path=\"url(#p3518a2be01)\" d=\"M 154.968031 142.347507 \r\nL 160.405297 143.548162 \r\nL 161.572981 142.432196 \r\nL 162.736996 141.319736 \r\nL 157.310055 140.179026 \r\nL 156.141278 141.240978 \r\nz\r\n\" style=\"fill:#a2c1ff;\"/>\r\n    <path clip-path=\"url(#p3518a2be01)\" d=\"M 118.439778 145.453528 \r\nL 123.787619 146.456147 \r\nL 125.01295 145.415707 \r\nL 126.234103 144.440946 \r\nL 120.897509 143.276416 \r\nL 119.670604 144.326272 \r\nz\r\n\" style=\"fill:#97b8ff;\"/>\r\n    <path clip-path=\"url(#p3518a2be01)\" d=\"M 182.776541 98.38075 \r\nL 188.490583 93.060366 \r\nL 189.659085 90.760646 \r\nL 190.785939 89.593288 \r\nL 185.058464 95.375871 \r\nL 183.934847 96.377547 \r\nz\r\n\" style=\"fill:#ef886b;\"/>\r\n    <path clip-path=\"url(#p3518a2be01)\" d=\"M 68.726674 143.16653 \r\nL 73.992006 145.997166 \r\nL 75.309434 145.496353 \r\nL 76.61868 144.844115 \r\nL 71.375199 142.315463 \r\nL 70.055693 142.831551 \r\nz\r\n\" style=\"fill:#9abbff;\"/>\r\n    <path clip-path=\"url(#p3518a2be01)\" d=\"M 175.360665 125.254309 \r\nL 180.906874 124.086283 \r\nL 182.201449 117.856212 \r\nL 183.495148 111.720513 \r\nL 177.879969 114.631817 \r\nL 176.620285 119.924033 \r\nz\r\n\" style=\"fill:#e8d6cc;\"/>\r\n    <path clip-path=\"url(#p3518a2be01)\" d=\"M 81.879088 147.270704 \r\nL 87.156239 149.522111 \r\nL 88.4413 148.504367 \r\nL 89.72033 147.362599 \r\nL 84.457403 145.264621 \r\nL 83.171761 146.345501 \r\nz\r\n\" style=\"fill:#8fb1fe;\"/>\r\n    <path clip-path=\"url(#p3518a2be01)\" d=\"M 147.185749 143.580468 \r\nL 152.612861 144.425998 \r\nL 153.791121 143.455422 \r\nL 154.968031 142.347507 \r\nL 149.55036 141.625816 \r\nL 148.369552 142.631404 \r\nz\r\n\" style=\"fill:#9fbfff;\"/>\r\n    <path clip-path=\"url(#p3518a2be01)\" d=\"M 110.636086 146.769988 \r\nL 115.966767 147.890965 \r\nL 117.20514 146.646216 \r\nL 118.439778 145.453528 \r\nL 113.118558 144.155818 \r\nL 111.879084 145.440942 \r\nz\r\n\" style=\"fill:#94b6ff;\"/>\r\n    <path clip-path=\"url(#p3518a2be01)\" d=\"M 55.501705 136.888981 \r\nL 60.765019 140.180744 \r\nL 62.125507 140.285464 \r\nL 63.477313 140.28953 \r\nL 58.24538 137.431529 \r\nL 56.878191 137.211279 \r\nz\r\n\" style=\"fill:#afcafc;\"/>\r\n    <path clip-path=\"url(#p3518a2be01)\" d=\"M 102.824783 148.169602 \r\nL 108.139305 149.476713 \r\nL 109.389521 148.121607 \r\nL 110.636086 146.769988 \r\nL 105.330129 145.346833 \r\nL 104.079334 146.768623 \r\nz\r\n\" style=\"fill:#92b4fe;\"/>\r\n    <path clip-path=\"url(#p3518a2be01)\" d=\"M 139.397984 144.483511 \r\nL 144.809961 145.209112 \r\nL 145.999327 144.436286 \r\nL 147.185749 143.580468 \r\nL 141.78613 142.846988 \r\nL 140.593919 143.681478 \r\nz\r\n\" style=\"fill:#9dbdff;\"/>\r\n    <path clip-path=\"url(#p3518a2be01)\" d=\"M 168.179784 142.926554 \r\nL 173.64737 144.540694 \r\nL 174.795818 143.421604 \r\nL 175.940652 142.306035 \r\nL 170.485036 140.702027 \r\nL 169.334222 141.812542 \r\nz\r\n\" style=\"fill:#a2c1ff;\"/>\r\n    <path clip-path=\"url(#p3518a2be01)\" d=\"M 36.927741 125.331062 \r\nL 42.179337 128.894451 \r\nL 43.604202 129.639719 \r\nL 45.023848 130.431829 \r\nL 39.809903 127.27225 \r\nL 38.370738 126.258497 \r\nz\r\n\" style=\"fill:#d2dbe8;\"/>\r\n    <path clip-path=\"url(#p3518a2be01)\" d=\"M 177.879969 114.631817 \r\nL 183.495148 111.720513 \r\nL 184.779011 105.951641 \r\nL 186.044547 100.790117 \r\nL 180.370072 105.131223 \r\nL 179.132279 109.627024 \r\nz\r\n\" style=\"fill:#f7b99e;\"/>\r\n    <path clip-path=\"url(#p3518a2be01)\" d=\"M 95.001843 149.23558 \r\nL 100.303493 150.837239 \r\nL 101.566244 149.530335 \r\nL 102.824783 148.169602 \r\nL 97.532855 146.570348 \r\nL 96.269712 147.94583 \r\nz\r\n\" style=\"fill:#8db0fe;\"/>\r\n    <path clip-path=\"url(#p3518a2be01)\" d=\"M 180.370072 105.131223 \r\nL 186.044547 100.790117 \r\nL 187.283975 96.439763 \r\nL 188.490583 93.060366 \r\nL 182.776541 98.38075 \r\nL 181.586745 101.332897 \r\nz\r\n\" style=\"fill:#f4987a;\"/>\r\n    <path clip-path=\"url(#p3518a2be01)\" d=\"M 131.599006 145.347545 \r\nL 136.994007 146.056514 \r\nL 138.198098 145.267958 \r\nL 139.397984 144.483511 \r\nL 134.016007 143.672223 \r\nL 132.809681 144.493327 \r\nz\r\n\" style=\"fill:#9dbdff;\"/>\r\n    <path clip-path=\"url(#p3518a2be01)\" d=\"M 73.992006 145.997166 \r\nL 79.272389 148.70864 \r\nL 80.57927 148.051735 \r\nL 81.879088 147.270704 \r\nL 76.61868 144.844115 \r\nL 75.309434 145.496353 \r\nz\r\n\" style=\"fill:#96b7ff;\"/>\r\n    <path clip-path=\"url(#p3518a2be01)\" d=\"M 160.405297 143.548162 \r\nL 165.859965 145.165138 \r\nL 167.021704 144.044081 \r\nL 168.179784 142.926554 \r\nL 162.736996 141.319736 \r\nL 161.572981 142.432196 \r\nz\r\n\" style=\"fill:#a2c1ff;\"/>\r\n    <path clip-path=\"url(#p3518a2be01)\" d=\"M 87.156239 149.522111 \r\nL 92.450878 151.536168 \r\nL 93.728967 150.432409 \r\nL 95.001843 149.23558 \r\nL 89.72033 147.362599 \r\nL 88.4413 148.504367 \r\nz\r\n\" style=\"fill:#8db0fe;\"/>\r\n    <path clip-path=\"url(#p3518a2be01)\" d=\"M 60.765019 140.180744 \r\nL 66.043063 143.466096 \r\nL 67.388817 143.362168 \r\nL 68.726674 143.16653 \r\nL 63.477313 140.28953 \r\nL 62.125507 140.285464 \r\nz\r\n\" style=\"fill:#a9c6fd;\"/>\r\n    <path clip-path=\"url(#p3518a2be01)\" d=\"M 123.787619 146.456147 \r\nL 129.164518 147.199333 \r\nL 130.38395 146.246324 \r\nL 131.599006 145.347545 \r\nL 126.234103 144.440946 \r\nL 125.01295 145.415707 \r\nz\r\n\" style=\"fill:#9abbff;\"/>\r\n    <path clip-path=\"url(#p3518a2be01)\" d=\"M 42.179337 128.894451 \r\nL 47.44561 132.496496 \r\nL 48.853014 133.055915 \r\nL 50.254383 133.633392 \r\nL 45.023848 130.431829 \r\nL 43.604202 129.639719 \r\nz\r\n\" style=\"fill:#cbd8ee;\"/>\r\n    <path clip-path=\"url(#p3518a2be01)\" d=\"M 152.612861 144.425998 \r\nL 158.065194 145.466665 \r\nL 159.235024 144.613206 \r\nL 160.405297 143.548162 \r\nL 154.968031 142.347507 \r\nL 153.791121 143.455422 \r\nz\r\n\" style=\"fill:#a2c1ff;\"/>\r\n    <path clip-path=\"url(#p3518a2be01)\" d=\"M 115.966767 147.890965 \r\nL 121.324818 148.721833 \r\nL 122.558209 147.559775 \r\nL 123.787619 146.456147 \r\nL 118.439778 145.453528 \r\nL 117.20514 146.646216 \r\nz\r\n\" style=\"fill:#97b8ff;\"/>\r\n    <path clip-path=\"url(#p3518a2be01)\" d=\"M 108.139305 149.476713 \r\nL 113.47896 150.4819 \r\nL 114.724703 149.17395 \r\nL 115.966767 147.890965 \r\nL 110.636086 146.769988 \r\nL 109.389521 148.121607 \r\nz\r\n\" style=\"fill:#93b5fe;\"/>\r\n    <path clip-path=\"url(#p3518a2be01)\" d=\"M 79.272389 148.70864 \r\nL 84.567701 151.229681 \r\nL 85.865029 150.425037 \r\nL 87.156239 149.522111 \r\nL 81.879088 147.270704 \r\nL 80.57927 148.051735 \r\nz\r\n\" style=\"fill:#92b4fe;\"/>\r\n    <path clip-path=\"url(#p3518a2be01)\" d=\"M 144.809961 145.209112 \r\nL 150.251695 145.926132 \r\nL 151.433373 145.235671 \r\nL 152.612861 144.425998 \r\nL 147.185749 143.580468 \r\nL 145.999327 144.436286 \r\nz\r\n\" style=\"fill:#a1c0ff;\"/>\r\n    <path clip-path=\"url(#p3518a2be01)\" d=\"M 100.303493 150.837239 \r\nL 105.627462 152.138176 \r\nL 106.885327 150.819512 \r\nL 108.139305 149.476713 \r\nL 102.824783 148.169602 \r\nL 101.566244 149.530335 \r\nz\r\n\" style=\"fill:#8fb1fe;\"/>\r\n    <path clip-path=\"url(#p3518a2be01)\" d=\"M 66.043063 143.466096 \r\nL 71.334593 146.684724 \r\nL 72.666836 146.380144 \r\nL 73.992006 145.997166 \r\nL 68.726674 143.16653 \r\nL 67.388817 143.362168 \r\nz\r\n\" style=\"fill:#a2c1ff;\"/>\r\n    <path clip-path=\"url(#p3518a2be01)\" d=\"M 47.44561 132.496496 \r\nL 52.727125 136.159739 \r\nL 54.117589 136.524175 \r\nL 55.501705 136.888981 \r\nL 50.254383 133.633392 \r\nL 48.853014 133.055915 \r\nz\r\n\" style=\"fill:#c3d5f4;\"/>\r\n    <path clip-path=\"url(#p3518a2be01)\" d=\"M 165.859965 145.165138 \r\nL 171.339564 146.789504 \r\nL 172.495291 145.663321 \r\nL 173.64737 144.540694 \r\nL 168.179784 142.926554 \r\nL 167.021704 144.044081 \r\nz\r\n\" style=\"fill:#a2c1ff;\"/>\r\n    <path clip-path=\"url(#p3518a2be01)\" d=\"M 136.994007 146.056514 \r\nL 142.420219 146.632201 \r\nL 143.617098 145.929729 \r\nL 144.809961 145.209112 \r\nL 139.397984 144.483511 \r\nL 138.198098 145.267958 \r\nz\r\n\" style=\"fill:#a1c0ff;\"/>\r\n    <path clip-path=\"url(#p3518a2be01)\" d=\"M 92.450878 151.536168 \r\nL 97.764578 153.264969 \r\nL 99.036324 152.082693 \r\nL 100.303493 150.837239 \r\nL 95.001843 149.23558 \r\nL 93.728967 150.432409 \r\nz\r\n\" style=\"fill:#8caffe;\"/>\r\n    <path clip-path=\"url(#p3518a2be01)\" d=\"M 129.164518 147.199333 \r\nL 134.572462 147.730805 \r\nL 135.785504 146.871103 \r\nL 136.994007 146.056514 \r\nL 131.599006 145.347545 \r\nL 130.38395 146.246324 \r\nz\r\n\" style=\"fill:#9ebeff;\"/>\r\n    <path clip-path=\"url(#p3518a2be01)\" d=\"M 52.727125 136.159739 \r\nL 58.023039 139.867869 \r\nL 59.397166 140.028027 \r\nL 60.765019 140.180744 \r\nL 55.501705 136.888981 \r\nL 54.117589 136.524175 \r\nz\r\n\" style=\"fill:#bbd1f8;\"/>\r\n    <path clip-path=\"url(#p3518a2be01)\" d=\"M 158.065194 145.466665 \r\nL 163.541838 146.683224 \r\nL 164.699879 146.056914 \r\nL 165.859965 145.165138 \r\nL 160.405297 143.548162 \r\nL 159.235024 144.613206 \r\nz\r\n\" style=\"fill:#a3c2fe;\"/>\r\n    <path clip-path=\"url(#p3518a2be01)\" d=\"M 71.334593 146.684724 \r\nL 76.6388 149.766851 \r\nL 77.95874 149.269276 \r\nL 79.272389 148.70864 \r\nL 73.992006 145.997166 \r\nL 72.666836 146.380144 \r\nz\r\n\" style=\"fill:#9bbcff;\"/>\r\n    <path clip-path=\"url(#p3518a2be01)\" d=\"M 84.567701 151.229681 \r\nL 89.878705 153.497246 \r\nL 91.16746 152.553447 \r\nL 92.450878 151.536168 \r\nL 87.156239 149.522111 \r\nL 85.865029 150.425037 \r\nz\r\n\" style=\"fill:#8fb1fe;\"/>\r\n    <path clip-path=\"url(#p3518a2be01)\" d=\"M 121.324818 148.721833 \r\nL 126.712724 149.291389 \r\nL 127.940752 148.213232 \r\nL 129.164518 147.199333 \r\nL 123.787619 146.456147 \r\nL 122.558209 147.559775 \r\nz\r\n\" style=\"fill:#9bbcff;\"/>\r\n    <path clip-path=\"url(#p3518a2be01)\" d=\"M 113.47896 150.4819 \r\nL 118.846422 151.194147 \r\nL 120.087532 149.935806 \r\nL 121.324818 148.721833 \r\nL 115.966767 147.890965 \r\nL 114.724703 149.17395 \r\nz\r\n\" style=\"fill:#96b7ff;\"/>\r\n    <path clip-path=\"url(#p3518a2be01)\" d=\"M 34.032945 123.786663 \r\nL 39.31546 127.577233 \r\nL 40.750045 128.215081 \r\nL 42.179337 128.894451 \r\nL 36.927741 125.331062 \r\nL 35.482086 124.515194 \r\nz\r\n\" style=\"fill:#dfdbd9;\"/>\r\n    <path clip-path=\"url(#p3518a2be01)\" d=\"M 150.251695 145.926132 \r\nL 155.72261 146.684795 \r\nL 156.894864 146.137603 \r\nL 158.065194 145.466665 \r\nL 152.612861 144.425998 \r\nL 151.433373 145.235671 \r\nz\r\n\" style=\"fill:#a5c3fe;\"/>\r\n    <path clip-path=\"url(#p3518a2be01)\" d=\"M 105.627462 152.138176 \r\nL 110.97635 153.127529 \r\nL 112.229521 151.802987 \r\nL 113.47896 150.4819 \r\nL 108.139305 149.476713 \r\nL 106.885327 150.819512 \r\nz\r\n\" style=\"fill:#92b4fe;\"/>\r\n    <path clip-path=\"url(#p3518a2be01)\" d=\"M 58.023039 139.867869 \r\nL 63.331849 143.574825 \r\nL 64.690431 143.524239 \r\nL 66.043063 143.466096 \r\nL 60.765019 140.180744 \r\nL 59.397166 140.028027 \r\nz\r\n\" style=\"fill:#b2ccfb;\"/>\r\n    <path clip-path=\"url(#p3518a2be01)\" d=\"M 97.764578 153.264969 \r\nL 103.099585 154.677639 \r\nL 104.365584 153.42521 \r\nL 105.627462 152.138176 \r\nL 100.303493 150.837239 \r\nL 99.036324 152.082693 \r\nz\r\n\" style=\"fill:#8db0fe;\"/>\r\n    <path clip-path=\"url(#p3518a2be01)\" d=\"M 76.6388 149.766851 \r\nL 81.955596 152.641548 \r\nL 83.264443 151.959157 \r\nL 84.567701 151.229681 \r\nL 79.272389 148.70864 \r\nL 77.95874 149.269276 \r\nz\r\n\" style=\"fill:#96b7ff;\"/>\r\n    <path clip-path=\"url(#p3518a2be01)\" d=\"M 142.420219 146.632201 \r\nL 147.87815 147.134004 \r\nL 149.066881 146.544526 \r\nL 150.251695 145.926132 \r\nL 144.809961 145.209112 \r\nL 143.617098 145.929729 \r\nz\r\n\" style=\"fill:#a5c3fe;\"/>\r\n    <path clip-path=\"url(#p3518a2be01)\" d=\"M 39.31546 127.577233 \r\nL 44.614025 131.468615 \r\nL 46.032816 131.973193 \r\nL 47.44561 132.496496 \r\nL 42.179337 128.894451 \r\nL 40.750045 128.215081 \r\nz\r\n\" style=\"fill:#d8dce2;\"/>\r\n    <path clip-path=\"url(#p3518a2be01)\" d=\"M 163.541838 146.683224 \r\nL 169.043428 148.002773 \r\nL 170.188438 147.596969 \r\nL 171.339564 146.789504 \r\nL 165.859965 145.165138 \r\nL 164.699879 146.056914 \r\nz\r\n\" style=\"fill:#a5c3fe;\"/>\r\n    <path clip-path=\"url(#p3518a2be01)\" d=\"M 89.878705 153.497246 \r\nL 95.207015 155.461533 \r\nL 96.488151 154.388082 \r\nL 97.764578 153.264969 \r\nL 92.450878 151.536168 \r\nL 91.16746 152.553447 \r\nz\r\n\" style=\"fill:#8db0fe;\"/>\r\n    <path clip-path=\"url(#p3518a2be01)\" d=\"M 134.572462 147.730805 \r\nL 140.012885 148.104307 \r\nL 141.218911 147.348039 \r\nL 142.420219 146.632201 \r\nL 136.994007 146.056514 \r\nL 135.785504 146.871103 \r\nz\r\n\" style=\"fill:#a3c2fe;\"/>\r\n    <path clip-path=\"url(#p3518a2be01)\" d=\"M 63.331849 143.574825 \r\nL 68.652035 147.214845 \r\nL 69.996063 146.95098 \r\nL 71.334593 146.684724 \r\nL 66.043063 143.466096 \r\nL 64.690431 143.524239 \r\nz\r\n\" style=\"fill:#aac7fd;\"/>\r\n    <path clip-path=\"url(#p3518a2be01)\" d=\"M 126.712724 149.291389 \r\nL 132.132605 149.641262 \r\nL 133.354824 148.650641 \r\nL 134.572462 147.730805 \r\nL 129.164518 147.199333 \r\nL 127.940752 148.213232 \r\nz\r\n\" style=\"fill:#a1c0ff;\"/>\r\n    <path clip-path=\"url(#p3518a2be01)\" d=\"M 44.614025 131.468615 \r\nL 49.928778 135.484131 \r\nL 51.33095 135.815853 \r\nL 52.727125 136.159739 \r\nL 47.44561 132.496496 \r\nL 46.032816 131.973193 \r\nz\r\n\" style=\"fill:#cfdaea;\"/>\r\n    <path clip-path=\"url(#p3518a2be01)\" d=\"M 118.846422 151.194147 \r\nL 124.244258 151.639331 \r\nL 125.480526 150.434141 \r\nL 126.712724 149.291389 \r\nL 121.324818 148.721833 \r\nL 120.087532 149.935806 \r\nz\r\n\" style=\"fill:#9bbcff;\"/>\r\n    <path clip-path=\"url(#p3518a2be01)\" d=\"M 155.72261 146.684795 \r\nL 161.222295 147.501429 \r\nL 162.383148 147.145786 \r\nL 163.541838 146.683224 \r\nL 158.065194 145.466665 \r\nL 156.894864 146.137603 \r\nz\r\n\" style=\"fill:#a7c5fe;\"/>\r\n    <path clip-path=\"url(#p3518a2be01)\" d=\"M 81.955596 152.641548 \r\nL 87.28576 155.244126 \r\nL 88.584727 154.38632 \r\nL 89.878705 153.497246 \r\nL 84.567701 151.229681 \r\nL 83.264443 151.959157 \r\nz\r\n\" style=\"fill:#92b4fe;\"/>\r\n    <path clip-path=\"url(#p3518a2be01)\" d=\"M 110.97635 153.127529 \r\nL 116.352929 153.813096 \r\nL 117.601543 152.489039 \r\nL 118.846422 151.194147 \r\nL 113.47896 150.4819 \r\nL 112.229521 151.802987 \r\nz\r\n\" style=\"fill:#94b6ff;\"/>\r\n    <path clip-path=\"url(#p3518a2be01)\" d=\"M 103.099585 154.677639 \r\nL 108.458605 155.762007 \r\nL 109.719395 154.448522 \r\nL 110.97635 153.127529 \r\nL 105.627462 152.138176 \r\nL 104.365584 153.42521 \r\nz\r\n\" style=\"fill:#8fb1fe;\"/>\r\n    <path clip-path=\"url(#p3518a2be01)\" d=\"M 68.652035 147.214845 \r\nL 73.982541 150.712035 \r\nL 75.313178 150.236532 \r\nL 76.6388 149.766851 \r\nL 71.334593 146.684724 \r\nL 69.996063 146.95098 \r\nz\r\n\" style=\"fill:#a2c1ff;\"/>\r\n    <path clip-path=\"url(#p3518a2be01)\" d=\"M 49.928778 135.484131 \r\nL 55.257955 139.59495 \r\nL 56.643298 139.723307 \r\nL 58.023039 139.867869 \r\nL 52.727125 136.159739 \r\nL 51.33095 135.815853 \r\nz\r\n\" style=\"fill:#c6d6f1;\"/>\r\n    <path clip-path=\"url(#p3518a2be01)\" d=\"M 95.207015 155.461533 \r\nL 100.554957 157.089558 \r\nL 101.829387 155.897055 \r\nL 103.099585 154.677639 \r\nL 97.764578 153.264969 \r\nL 96.488151 154.388082 \r\nz\r\n\" style=\"fill:#8caffe;\"/>\r\n    <path clip-path=\"url(#p3518a2be01)\" d=\"M 147.87815 147.134004 \r\nL 153.367898 147.608188 \r\nL 154.547268 147.159816 \r\nL 155.72261 146.684795 \r\nL 150.251695 145.926132 \r\nL 149.066881 146.544526 \r\nz\r\n\" style=\"fill:#aac7fd;\"/>\r\n    <path clip-path=\"url(#p3518a2be01)\" d=\"M 140.012885 148.104307 \r\nL 145.486668 148.372779 \r\nL 146.684895 147.732564 \r\nL 147.87815 147.134004 \r\nL 142.420219 146.632201 \r\nL 141.218911 147.348039 \r\nz\r\n\" style=\"fill:#a9c6fd;\"/>\r\n    <path clip-path=\"url(#p3518a2be01)\" d=\"M 73.982541 150.712035 \r\nL 79.323096 153.989169 \r\nL 80.641628 153.307731 \r\nL 81.955596 152.641548 \r\nL 76.6388 149.766851 \r\nL 75.313178 150.236532 \r\nz\r\n\" style=\"fill:#9bbcff;\"/>\r\n    <path clip-path=\"url(#p3518a2be01)\" d=\"M 55.257955 139.59495 \r\nL 60.599128 143.739345 \r\nL 61.967994 143.643525 \r\nL 63.331849 143.574825 \r\nL 58.023039 139.867869 \r\nL 56.643298 139.723307 \r\nz\r\n\" style=\"fill:#bcd2f7;\"/>\r\n    <path clip-path=\"url(#p3518a2be01)\" d=\"M 87.28576 155.244126 \r\nL 92.630944 157.522129 \r\nL 93.921228 156.499883 \r\nL 95.207015 155.461533 \r\nL 89.878705 153.497246 \r\nL 88.584727 154.38632 \r\nz\r\n\" style=\"fill:#8fb1fe;\"/>\r\n    <path clip-path=\"url(#p3518a2be01)\" d=\"M 132.132605 149.641262 \r\nL 137.586083 149.820703 \r\nL 138.801965 148.922964 \r\nL 140.012885 148.104307 \r\nL 134.572462 147.730805 \r\nL 133.354824 148.650641 \r\nz\r\n\" style=\"fill:#a6c4fe;\"/>\r\n    <path clip-path=\"url(#p3518a2be01)\" d=\"M 161.222295 147.501429 \r\nL 166.750836 148.364013 \r\nL 167.898398 148.228176 \r\nL 169.043428 148.002773 \r\nL 163.541838 146.683224 \r\nL 162.383148 147.145786 \r\nz\r\n\" style=\"fill:#aac7fd;\"/>\r\n    <path clip-path=\"url(#p3518a2be01)\" d=\"M 124.244258 151.639331 \r\nL 129.674711 151.856831 \r\nL 130.905867 150.709111 \r\nL 132.132605 149.641262 \r\nL 126.712724 149.291389 \r\nL 125.480526 150.434141 \r\nz\r\n\" style=\"fill:#a1c0ff;\"/>\r\n    <path clip-path=\"url(#p3518a2be01)\" d=\"M 116.352929 153.813096 \r\nL 121.759898 154.219857 \r\nL 123.004018 152.902958 \r\nL 124.244258 151.639331 \r\nL 118.846422 151.194147 \r\nL 117.601543 152.489039 \r\nz\r\n\" style=\"fill:#9abbff;\"/>\r\n    <path clip-path=\"url(#p3518a2be01)\" d=\"M 108.458605 155.762007 \r\nL 113.844559 156.524911 \r\nL 115.100599 155.159979 \r\nL 116.352929 153.813096 \r\nL 110.97635 153.127529 \r\nL 109.719395 154.448522 \r\nz\r\n\" style=\"fill:#93b5fe;\"/>\r\n    <path clip-path=\"url(#p3518a2be01)\" d=\"M 60.599128 143.739345 \r\nL 65.949968 147.835379 \r\nL 67.303185 147.504135 \r\nL 68.652035 147.214845 \r\nL 63.331849 143.574825 \r\nL 61.967994 143.643525 \r\nz\r\n\" style=\"fill:#b3cdfb;\"/>\r\n    <path clip-path=\"url(#p3518a2be01)\" d=\"M 100.554957 157.089558 \r\nL 105.92537 158.367283 \r\nL 107.193938 157.067324 \r\nL 108.458605 155.762007 \r\nL 103.099585 154.677639 \r\nL 101.829387 155.897055 \r\nz\r\n\" style=\"fill:#8db0fe;\"/>\r\n    <path clip-path=\"url(#p3518a2be01)\" d=\"M 79.323096 153.989169 \r\nL 84.674373 156.975412 \r\nL 85.982156 156.097498 \r\nL 87.28576 155.244126 \r\nL 81.955596 152.641548 \r\nL 80.641628 153.307731 \r\nz\r\n\" style=\"fill:#94b6ff;\"/>\r\n    <path clip-path=\"url(#p3518a2be01)\" d=\"M 153.367898 147.608188 \r\nL 158.889436 148.082211 \r\nL 160.058059 147.799004 \r\nL 161.222295 147.501429 \r\nL 155.72261 146.684795 \r\nL 154.547268 147.159816 \r\nz\r\n\" style=\"fill:#aec9fc;\"/>\r\n    <path clip-path=\"url(#p3518a2be01)\" d=\"M 92.630944 157.522129 \r\nL 97.993566 159.439718 \r\nL 99.276318 158.265591 \r\nL 100.554957 157.089558 \r\nL 95.207015 155.461533 \r\nL 93.921228 156.499883 \r\nz\r\n\" style=\"fill:#8db0fe;\"/>\r\n    <path clip-path=\"url(#p3518a2be01)\" d=\"M 65.949968 147.835379 \r\nL 71.308784 151.791648 \r\nL 72.647549 151.22275 \r\nL 73.982541 150.712035 \r\nL 68.652035 147.214845 \r\nL 67.303185 147.504135 \r\nz\r\n\" style=\"fill:#a9c6fd;\"/>\r\n    <path clip-path=\"url(#p3518a2be01)\" d=\"M 145.486668 148.372779 \r\nL 150.994255 148.581398 \r\nL 152.183751 148.070276 \r\nL 153.367898 147.608188 \r\nL 147.87815 147.134004 \r\nL 146.684895 147.732564 \r\nz\r\n\" style=\"fill:#afcafc;\"/>\r\n    <path clip-path=\"url(#p3518a2be01)\" d=\"M 84.674373 156.975412 \r\nL 90.038013 159.612694 \r\nL 91.336418 158.551043 \r\nL 92.630944 157.522129 \r\nL 87.28576 155.244126 \r\nL 85.982156 156.097498 \r\nz\r\n\" style=\"fill:#90b2fe;\"/>\r\n    <path clip-path=\"url(#p3518a2be01)\" d=\"M 137.586083 149.820703 \r\nL 143.07425 149.880325 \r\nL 144.283174 149.08162 \r\nL 145.486668 148.372779 \r\nL 140.012885 148.104307 \r\nL 138.801965 148.922964 \r\nz\r\n\" style=\"fill:#adc9fd;\"/>\r\n    <path clip-path=\"url(#p3518a2be01)\" d=\"M 71.308784 151.791648 \r\nL 76.67486 155.516783 \r\nL 78.000622 154.716144 \r\nL 79.323096 153.989169 \r\nL 73.982541 150.712035 \r\nL 72.647549 151.22275 \r\nz\r\n\" style=\"fill:#9fbfff;\"/>\r\n    <path clip-path=\"url(#p3518a2be01)\" d=\"M 129.674711 151.856831 \r\nL 135.139556 151.894694 \r\nL 136.365251 150.809057 \r\nL 137.586083 149.820703 \r\nL 132.132605 149.641262 \r\nL 130.905867 150.709111 \r\nz\r\n\" style=\"fill:#a7c5fe;\"/>\r\n    <path clip-path=\"url(#p3518a2be01)\" d=\"M 121.759898 154.219857 \r\nL 127.199658 154.386918 \r\nL 128.439264 153.083832 \r\nL 129.674711 151.856831 \r\nL 124.244258 151.639331 \r\nL 123.004018 152.902958 \r\nz\r\n\" style=\"fill:#a1c0ff;\"/>\r\n    <path clip-path=\"url(#p3518a2be01)\" d=\"M 113.844559 156.524911 \r\nL 119.260325 156.990952 \r\nL 120.511979 155.584365 \r\nL 121.759898 154.219857 \r\nL 116.352929 153.813096 \r\nL 115.100599 155.159979 \r\nz\r\n\" style=\"fill:#98b9ff;\"/>\r\n    <path clip-path=\"url(#p3518a2be01)\" d=\"M 105.92537 158.367283 \r\nL 111.321357 159.30023 \r\nL 112.58481 157.90512 \r\nL 113.844559 156.524911 \r\nL 108.458605 155.762007 \r\nL 107.193938 157.067324 \r\nz\r\n\" style=\"fill:#92b4fe;\"/>\r\n    <path clip-path=\"url(#p3518a2be01)\" d=\"M 97.993566 159.439718 \r\nL 103.376617 160.980378 \r\nL 104.652911 159.66827 \r\nL 105.92537 158.367283 \r\nL 100.554957 157.089558 \r\nL 99.276318 158.265591 \r\nz\r\n\" style=\"fill:#8db0fe;\"/>\r\n    <path clip-path=\"url(#p3518a2be01)\" d=\"M 158.889436 148.082211 \r\nL 164.442932 148.561887 \r\nL 165.599361 148.461487 \r\nL 166.750836 148.364013 \r\nL 161.222295 147.501429 \r\nL 160.058059 147.799004 \r\nz\r\n\" style=\"fill:#b2ccfb;\"/>\r\n    <path clip-path=\"url(#p3518a2be01)\" d=\"M 76.67486 155.516783 \r\nL 82.04862 158.927681 \r\nL 83.362972 157.908211 \r\nL 84.674373 156.975412 \r\nL 79.323096 153.989169 \r\nL 78.000622 154.716144 \r\nz\r\n\" style=\"fill:#98b9ff;\"/>\r\n    <path clip-path=\"url(#p3518a2be01)\" d=\"M 90.038013 159.612694 \r\nL 95.41652 161.860473 \r\nL 96.706875 160.630469 \r\nL 97.993566 159.439718 \r\nL 92.630944 157.522129 \r\nL 91.336418 158.551043 \r\nz\r\n\" style=\"fill:#8db0fe;\"/>\r\n    <path clip-path=\"url(#p3518a2be01)\" d=\"M 150.994255 148.581398 \r\nL 156.535872 148.761014 \r\nL 157.715595 148.390871 \r\nL 158.889436 148.082211 \r\nL 153.367898 147.608188 \r\nL 152.183751 148.070276 \r\nz\r\n\" style=\"fill:#b5cdfa;\"/>\r\n    <path clip-path=\"url(#p3518a2be01)\" d=\"M 143.07425 149.880325 \r\nL 148.597744 149.86511 \r\nL 149.799003 149.171568 \r\nL 150.994255 148.581398 \r\nL 145.486668 148.372779 \r\nL 144.283174 149.08162 \r\nz\r\n\" style=\"fill:#b3cdfb;\"/>\r\n    <path clip-path=\"url(#p3518a2be01)\" d=\"M 82.04862 158.927681 \r\nL 87.431643 161.956263 \r\nL 88.736212 160.736511 \r\nL 90.038013 159.612694 \r\nL 84.674373 156.975412 \r\nL 83.362972 157.908211 \r\nz\r\n\" style=\"fill:#92b4fe;\"/>\r\n    <path clip-path=\"url(#p3518a2be01)\" d=\"M 111.321357 159.30023 \r\nL 116.746017 159.91248 \r\nL 118.00499 158.434816 \r\nL 119.260325 156.990952 \r\nL 113.844559 156.524911 \r\nL 112.58481 157.90512 \r\nz\r\n\" style=\"fill:#96b7ff;\"/>\r\n    <path clip-path=\"url(#p3518a2be01)\" d=\"M 119.260325 156.990952 \r\nL 124.708504 157.199674 \r\nL 125.956029 155.760974 \r\nL 127.199658 154.386918 \r\nL 121.759898 154.219857 \r\nL 120.511979 155.584365 \r\nz\r\n\" style=\"fill:#9ebeff;\"/>\r\n    <path clip-path=\"url(#p3518a2be01)\" d=\"M 135.139556 151.894694 \r\nL 140.640035 151.803538 \r\nL 141.859851 150.78436 \r\nL 143.07425 149.880325 \r\nL 137.586083 149.820703 \r\nL 136.365251 150.809057 \r\nz\r\n\" style=\"fill:#afcafc;\"/>\r\n    <path clip-path=\"url(#p3518a2be01)\" d=\"M 127.199658 154.386918 \r\nL 132.674145 154.362939 \r\nL 133.909131 153.079859 \r\nL 135.139556 151.894694 \r\nL 129.674711 151.856831 \r\nL 128.439264 153.083832 \r\nz\r\n\" style=\"fill:#a7c5fe;\"/>\r\n    <path clip-path=\"url(#p3518a2be01)\" d=\"M 103.376617 160.980378 \r\nL 108.783413 162.147898 \r\nL 110.054212 160.712628 \r\nL 111.321357 159.30023 \r\nL 105.92537 158.367283 \r\nL 104.652911 159.66827 \r\nz\r\n\" style=\"fill:#8fb1fe;\"/>\r\n    <path clip-path=\"url(#p3518a2be01)\" d=\"M 95.41652 161.860473 \r\nL 100.81306 163.698751 \r\nL 102.096603 162.317664 \r\nL 103.376617 160.980378 \r\nL 97.993566 159.439718 \r\nL 96.706875 160.630469 \r\nz\r\n\" style=\"fill:#8caffe;\"/>\r\n    <path clip-path=\"url(#p3518a2be01)\" d=\"M 87.431643 161.956263 \r\nL 92.826541 164.554546 \r\nL 94.122891 163.157178 \r\nL 95.41652 161.860473 \r\nL 90.038013 159.612694 \r\nL 88.736212 160.736511 \r\nz\r\n\" style=\"fill:#8db0fe;\"/>\r\n    <path clip-path=\"url(#p3518a2be01)\" d=\"M 156.535872 148.761014 \r\nL 162.111851 148.922099 \r\nL 163.280675 148.703448 \r\nL 164.442932 148.561887 \r\nL 158.889436 148.082211 \r\nL 157.715595 148.390871 \r\nz\r\n\" style=\"fill:#bbd1f8;\"/>\r\n    <path clip-path=\"url(#p3518a2be01)\" d=\"M 148.597744 149.86511 \r\nL 154.156951 149.806906 \r\nL 155.349768 149.224245 \r\nL 156.535872 148.761014 \r\nL 150.994255 148.581398 \r\nL 149.799003 149.171568 \r\nz\r\n\" style=\"fill:#bbd1f8;\"/>\r\n    <path clip-path=\"url(#p3518a2be01)\" d=\"M 108.783413 162.147898 \r\nL 114.217311 162.965637 \r\nL 115.483444 161.422397 \r\nL 116.746017 159.91248 \r\nL 111.321357 159.30023 \r\nL 110.054212 160.712628 \r\nz\r\n\" style=\"fill:#93b5fe;\"/>\r\n    <path clip-path=\"url(#p3518a2be01)\" d=\"M 116.746017 159.91248 \r\nL 122.202201 160.244076 \r\nL 123.457196 158.696214 \r\nL 124.708504 157.199674 \r\nL 119.260325 156.990952 \r\nL 118.00499 158.434816 \r\nz\r\n\" style=\"fill:#9bbcff;\"/>\r\n    <path clip-path=\"url(#p3518a2be01)\" d=\"M 124.708504 157.199674 \r\nL 130.191239 157.20119 \r\nL 131.434785 155.73913 \r\nL 132.674145 154.362939 \r\nL 127.199658 154.386918 \r\nL 125.956029 155.760974 \r\nz\r\n\" style=\"fill:#a6c4fe;\"/>\r\n    <path clip-path=\"url(#p3518a2be01)\" d=\"M 100.81306 163.698751 \r\nL 106.231199 165.129269 \r\nL 107.509033 163.615414 \r\nL 108.783413 162.147898 \r\nL 103.376617 160.980378 \r\nL 102.096603 162.317664 \r\nz\r\n\" style=\"fill:#8db0fe;\"/>\r\n    <path clip-path=\"url(#p3518a2be01)\" d=\"M 140.640035 151.803538 \r\nL 146.176916 151.629352 \r\nL 147.390373 150.68033 \r\nL 148.597744 149.86511 \r\nL 143.07425 149.880325 \r\nL 141.859851 150.78436 \r\nz\r\n\" style=\"fill:#b7cff9;\"/>\r\n    <path clip-path=\"url(#p3518a2be01)\" d=\"M 132.674145 154.362939 \r\nL 138.184755 154.200132 \r\nL 139.414937 152.942292 \r\nL 140.640035 151.803538 \r\nL 135.139556 151.894694 \r\nL 133.909131 153.079859 \r\nz\r\n\" style=\"fill:#afcafc;\"/>\r\n    <path clip-path=\"url(#p3518a2be01)\" d=\"M 92.826541 164.554546 \r\nL 98.236728 166.697847 \r\nL 99.526286 165.14803 \r\nL 100.81306 163.698751 \r\nL 95.41652 161.860473 \r\nL 94.122891 163.157178 \r\nz\r\n\" style=\"fill:#8badfd;\"/>\r\n    <path clip-path=\"url(#p3518a2be01)\" d=\"M 106.231199 165.129269 \r\nL 111.674608 166.174865 \r\nL 112.947671 164.546739 \r\nL 114.217311 162.965637 \r\nL 108.783413 162.147898 \r\nL 107.509033 163.615414 \r\nz\r\n\" style=\"fill:#90b2fe;\"/>\r\n    <path clip-path=\"url(#p3518a2be01)\" d=\"M 114.217311 162.965637 \r\nL 119.68145 163.47411 \r\nL 120.943597 161.837844 \r\nL 122.202201 160.244076 \r\nL 116.746017 159.91248 \r\nL 115.483444 161.422397 \r\nz\r\n\" style=\"fill:#98b9ff;\"/>\r\n    <path clip-path=\"url(#p3518a2be01)\" d=\"M 154.156951 149.806906 \r\nL 159.752345 149.716469 \r\nL 160.935878 149.250458 \r\nL 162.111851 148.922099 \r\nL 156.535872 148.761014 \r\nL 155.349768 149.224245 \r\nz\r\n\" style=\"fill:#c1d4f4;\"/>\r\n    <path clip-path=\"url(#p3518a2be01)\" d=\"M 122.202201 160.244076 \r\nL 127.692297 160.346854 \r\nL 128.943689 158.740275 \r\nL 130.191239 157.20119 \r\nL 124.708504 157.199674 \r\nL 123.457196 158.696214 \r\nz\r\n\" style=\"fill:#a3c2fe;\"/>\r\n    <path clip-path=\"url(#p3518a2be01)\" d=\"M 98.236728 166.697847 \r\nL 103.666126 168.386036 \r\nL 104.950121 166.709799 \r\nL 106.231199 165.129269 \r\nL 100.81306 163.698751 \r\nL 99.526286 165.14803 \r\nz\r\n\" style=\"fill:#8badfd;\"/>\r\n    <path clip-path=\"url(#p3518a2be01)\" d=\"M 130.191239 157.20119 \r\nL 135.710106 157.050328 \r\nL 136.949726 155.572258 \r\nL 138.184755 154.200132 \r\nL 132.674145 154.362939 \r\nL 131.434785 155.73913 \r\nz\r\n\" style=\"fill:#aec9fc;\"/>\r\n    <path clip-path=\"url(#p3518a2be01)\" d=\"M 146.176916 151.629352 \r\nL 151.750683 151.40533 \r\nL 152.957259 150.529331 \r\nL 154.156951 149.806906 \r\nL 148.597744 149.86511 \r\nL 147.390373 150.68033 \r\nz\r\n\" style=\"fill:#bfd3f6;\"/>\r\n    <path clip-path=\"url(#p3518a2be01)\" d=\"M 138.184755 154.200132 \r\nL 143.732371 153.946971 \r\nL 144.957507 152.718176 \r\nL 146.176916 151.629352 \r\nL 140.640035 151.803538 \r\nL 139.414937 152.942292 \r\nz\r\n\" style=\"fill:#b7cff9;\"/>\r\n    <path clip-path=\"url(#p3518a2be01)\" d=\"M 103.666126 168.386036 \r\nL 109.118826 169.642819 \r\nL 110.398253 167.865475 \r\nL 111.674608 166.174865 \r\nL 106.231199 165.129269 \r\nL 104.950121 166.709799 \r\nz\r\n\" style=\"fill:#8caffe;\"/>\r\n    <path clip-path=\"url(#p3518a2be01)\" d=\"M 111.674608 166.174865 \r\nL 117.146763 166.877079 \r\nL 118.415819 165.152521 \r\nL 119.68145 163.47411 \r\nL 114.217311 162.965637 \r\nL 112.947671 164.546739 \r\nz\r\n\" style=\"fill:#94b6ff;\"/>\r\n    <path clip-path=\"url(#p3518a2be01)\" d=\"M 119.68145 163.47411 \r\nL 125.178517 163.727001 \r\nL 126.437203 162.011704 \r\nL 127.692297 160.346854 \r\nL 122.202201 160.244076 \r\nL 120.943597 161.837844 \r\nz\r\n\" style=\"fill:#9fbfff;\"/>\r\n    <path clip-path=\"url(#p3518a2be01)\" d=\"M 127.692297 160.346854 \r\nL 133.218111 160.278821 \r\nL 134.466153 158.623371 \r\nL 135.710106 157.050328 \r\nL 130.191239 157.20119 \r\nL 128.943689 158.740275 \r\nz\r\n\" style=\"fill:#abc8fd;\"/>\r\n    <path clip-path=\"url(#p3518a2be01)\" d=\"M 135.710106 157.050328 \r\nL 141.266123 156.799433 \r\nL 142.5018 155.310612 \r\nL 143.732371 153.946971 \r\nL 138.184755 154.200132 \r\nL 136.949726 155.572258 \r\nz\r\n\" style=\"fill:#b6cefa;\"/>\r\n    <path clip-path=\"url(#p3518a2be01)\" d=\"M 151.750683 151.40533 \r\nL 157.361882 151.142769 \r\nL 158.561026 150.342167 \r\nL 159.752345 149.716469 \r\nL 154.156951 149.806906 \r\nL 152.957259 150.529331 \r\nz\r\n\" style=\"fill:#c6d6f1;\"/>\r\n    <path clip-path=\"url(#p3518a2be01)\" d=\"M 143.732371 153.946971 \r\nL 149.317542 153.639714 \r\nL 150.537359 152.441978 \r\nL 151.750683 151.40533 \r\nL 146.176916 151.629352 \r\nL 144.957507 152.718176 \r\nz\r\n\" style=\"fill:#c0d4f5;\"/>\r\n    <path clip-path=\"url(#p3518a2be01)\" d=\"M 109.118826 169.642819 \r\nL 114.59875 170.513091 \r\nL 115.874365 168.65781 \r\nL 117.146763 166.877079 \r\nL 111.674608 166.174865 \r\nL 110.398253 167.865475 \r\nz\r\n\" style=\"fill:#8fb1fe;\"/>\r\n    <path clip-path=\"url(#p3518a2be01)\" d=\"M 117.146763 166.877079 \r\nL 122.6507 167.292133 \r\nL 123.916328 165.487545 \r\nL 125.178517 163.727001 \r\nL 119.68145 163.47411 \r\nL 118.415819 165.152521 \r\nz\r\n\" style=\"fill:#9abbff;\"/>\r\n    <path clip-path=\"url(#p3518a2be01)\" d=\"M 125.178517 163.727001 \r\nL 130.710591 163.78577 \r\nL 131.966197 162.003677 \r\nL 133.218111 160.278821 \r\nL 127.692297 160.346854 \r\nL 126.437203 162.011704 \r\nz\r\n\" style=\"fill:#a6c4fe;\"/>\r\n    <path clip-path=\"url(#p3518a2be01)\" d=\"M 133.218111 160.278821 \r\nL 138.780833 160.097197 \r\nL 140.025687 158.400188 \r\nL 141.266123 156.799433 \r\nL 135.710106 157.050328 \r\nL 134.466153 158.623371 \r\nz\r\n\" style=\"fill:#b3cdfb;\"/>\r\n    <path clip-path=\"url(#p3518a2be01)\" d=\"M 141.266123 156.799433 \r\nL 146.859896 156.489914 \r\nL 148.091583 154.992774 \r\nL 149.317542 153.639714 \r\nL 143.732371 153.946971 \r\nL 142.5018 155.310612 \r\nz\r\n\" style=\"fill:#bfd3f6;\"/>\r\n    <path clip-path=\"url(#p3518a2be01)\" d=\"M 149.317542 153.639714 \r\nL 154.940815 153.292787 \r\nL 156.155048 152.126159 \r\nL 157.361882 151.142769 \r\nL 151.750683 151.40533 \r\nL 150.537359 152.441978 \r\nz\r\n\" style=\"fill:#c9d7f0;\"/>\r\n    <path clip-path=\"url(#p3518a2be01)\" d=\"M 114.59875 170.513091 \r\nL 120.109361 171.058515 \r\nL 121.38169 169.14515 \r\nL 122.6507 167.292133 \r\nL 117.146763 166.877079 \r\nL 115.874365 168.65781 \r\nz\r\n\" style=\"fill:#94b6ff;\"/>\r\n    <path clip-path=\"url(#p3518a2be01)\" d=\"M 122.6507 167.292133 \r\nL 128.188818 167.485522 \r\nL 129.451433 165.615144 \r\nL 130.710591 163.78577 \r\nL 125.178517 163.727001 \r\nL 123.916328 165.487545 \r\nz\r\n\" style=\"fill:#a1c0ff;\"/>\r\n    <path clip-path=\"url(#p3518a2be01)\" d=\"M 130.710591 163.78577 \r\nL 136.279083 163.713037 \r\nL 137.531874 161.873648 \r\nL 138.780833 160.097197 \r\nL 133.218111 160.278821 \r\nL 131.966197 162.003677 \r\nz\r\n\" style=\"fill:#aec9fc;\"/>\r\n    <path clip-path=\"url(#p3518a2be01)\" d=\"M 138.780833 160.097197 \r\nL 144.381147 159.850291 \r\nL 145.622932 158.115409 \r\nL 146.859896 156.489914 \r\nL 141.266123 156.799433 \r\nL 140.025687 158.400188 \r\nz\r\n\" style=\"fill:#bcd2f7;\"/>\r\n    <path clip-path=\"url(#p3518a2be01)\" d=\"M 146.859896 156.489914 \r\nL 152.491925 156.142652 \r\nL 153.719603 154.635986 \r\nL 154.940815 153.292787 \r\nL 149.317542 153.639714 \r\nL 148.091583 154.992774 \r\nz\r\n\" style=\"fill:#c7d7f0;\"/>\r\n    <path clip-path=\"url(#p3518a2be01)\" d=\"M 120.109361 171.058515 \r\nL 125.65344 171.351545 \r\nL 126.922809 169.395811 \r\nL 128.188818 167.485522 \r\nL 122.6507 167.292133 \r\nL 121.38169 169.14515 \r\nz\r\n\" style=\"fill:#9bbcff;\"/>\r\n    <path clip-path=\"url(#p3518a2be01)\" d=\"M 128.188818 167.485522 \r\nL 133.762798 167.525537 \r\nL 135.022673 165.600722 \r\nL 136.279083 163.713037 \r\nL 130.710591 163.78577 \r\nL 129.451433 165.615144 \r\nz\r\n\" style=\"fill:#a9c6fd;\"/>\r\n    <path clip-path=\"url(#p3518a2be01)\" d=\"M 136.279083 163.713037 \r\nL 141.884795 163.564962 \r\nL 143.134973 161.673793 \r\nL 144.381147 159.850291 \r\nL 138.780833 160.097197 \r\nL 137.531874 161.873648 \r\nz\r\n\" style=\"fill:#b7cff9;\"/>\r\n    <path clip-path=\"url(#p3518a2be01)\" d=\"M 144.381147 159.850291 \r\nL 150.019489 159.568336 \r\nL 151.258356 157.79429 \r\nL 152.491925 156.142652 \r\nL 146.859896 156.489914 \r\nL 145.622932 158.115409 \r\nz\r\n\" style=\"fill:#c4d5f3;\"/>\r\n    <path clip-path=\"url(#p3518a2be01)\" d=\"M 125.65344 171.351545 \r\nL 131.232964 171.468217 \r\nL 132.499549 169.481366 \r\nL 133.762798 167.525537 \r\nL 128.188818 167.485522 \r\nL 126.922809 169.395811 \r\nz\r\n\" style=\"fill:#a2c1ff;\"/>\r\n    <path clip-path=\"url(#p3518a2be01)\" d=\"M 133.762798 167.525537 \r\nL 139.373616 167.476118 \r\nL 140.630931 165.504403 \r\nL 141.884795 163.564962 \r\nL 136.279083 163.713037 \r\nL 135.022673 165.600722 \r\nz\r\n\" style=\"fill:#b1cbfc;\"/>\r\n    <path clip-path=\"url(#p3518a2be01)\" d=\"M 141.884795 163.564962 \r\nL 147.528128 163.382806 \r\nL 148.775904 161.43975 \r\nL 150.019489 159.568336 \r\nL 144.381147 159.850291 \r\nL 143.134973 161.673793 \r\nz\r\n\" style=\"fill:#bfd3f6;\"/>\r\n    <path clip-path=\"url(#p3518a2be01)\" d=\"M 131.232964 171.468217 \r\nL 136.84912 171.480213 \r\nL 138.112994 169.469373 \r\nL 139.373616 167.476118 \r\nL 133.762798 167.525537 \r\nL 132.499549 169.481366 \r\nz\r\n\" style=\"fill:#aac7fd;\"/>\r\n    <path clip-path=\"url(#p3518a2be01)\" d=\"M 139.373616 167.476118 \r\nL 145.021701 167.389386 \r\nL 146.276612 165.37305 \r\nL 147.528128 163.382806 \r\nL 141.884795 163.564962 \r\nL 140.630931 165.504403 \r\nz\r\n\" style=\"fill:#b9d0f9;\"/>\r\n    <path clip-path=\"url(#p3518a2be01)\" d=\"M 136.84912 171.480213 \r\nL 142.50244 171.44718 \r\nL 143.763617 169.416331 \r\nL 145.021701 167.389386 \r\nL 139.373616 167.476118 \r\nL 138.112994 169.469373 \r\nz\r\n\" style=\"fill:#b2ccfb;\"/>\r\n   </g>\r\n  </g>\r\n </g>\r\n <defs>\r\n  <clipPath id=\"p3518a2be01\">\r\n   <rect height=\"217.44\" width=\"217.44\" x=\"7.2\" y=\"7.2\"/>\r\n  </clipPath>\r\n </defs>\r\n</svg>\r\n",
      "image/png": "[encoded data removed]"
     },
     "metadata": {
      "needs_background": "light"
     }
    }
   ],
   "metadata": {}
  },
  {
   "cell_type": "code",
   "execution_count": 14,
   "source": [
    "z_data = pd.DataFrame(resultados[nElements]['V'][:,0].reshape((nNodesY, nNodesX)))\r\n",
    "\r\n",
    "fig = go.Figure(data=[go.Surface(z=z_data.values)])\r\n",
    "\r\n",
    "fig.update_layout(title='First mode shape', autosize=False,\r\n",
    "                  width=1000, height=1000,\r\n",
    "                  margin=dict(l=65, r=50, b=65, t=90))\r\n",
    "\r\n",
    "fig.show()"
   ],
   "outputs": [
    {
     "output_type": "display_data",
     "data": {
      "application/vnd.plotly.v1+json": {
       "config": {
        "plotlyServerURL": "https://plot.ly"
       },
       "data": [
        {
         "type": "surface",
         "z": [
          [
           0.6978805629094769,
           0.84433818670429,
           0.9930433203364516,
           1.1455676549959894,
           1.302801169793275,
           1.4650631107531598,
           1.632171265814215,
           1.8035348627760144,
           1.9782640533854654,
           2.1552805970485727,
           2.3334184756457708,
           2.511509243589117,
           2.6884517112969735,
           2.8632682714672875,
           3.035151230064798,
           3.2035026393010217,
           3.367970999639183,
           3.528488395186247,
           3.685313160656859,
           3.8390919843976117,
           3.9910121033894215
          ],
          [
           0.5833286214055659,
           0.7281273647655341,
           0.8743509632276764,
           1.023724170377419,
           1.1773248484136212,
           1.3356006536826175,
           1.498447782838256,
           1.6653251024747042,
           1.8353833212716717,
           2.007588912069036,
           2.1808308950600095,
           2.354007084899283,
           2.5260917680684,
           2.696189014576221,
           2.8635761649386384,
           3.02774161549689,
           3.1884206059634583,
           3.3456328673618407,
           3.499727515951508,
           3.6514457913806404,
           3.8020044375104813
          ],
          [
           0.47119267350639776,
           0.6131513992368897,
           0.7560024499586716,
           0.9016322147708754,
           1.0512728312278667,
           1.205455151087879,
           1.3640958996645813,
           1.5266447829928431,
           1.6922430540033888,
           1.8598642113657964,
           2.0284258352934645,
           2.196873700122014,
           2.3642443283422057,
           2.5297127851179257,
           2.6926314392375703,
           2.8525641257528243,
           3.0093192270081817,
           3.1629847853077364,
           3.3139686077624844,
           3.463043166339267,
           3.6113714955992102
          ],
          [
           0.3637219988970451,
           0.5013979317933498,
           0.6396528040641606,
           0.7806640188511752,
           0.9258147109575302,
           1.0756530113024243,
           1.23002689234996,
           1.3882936978739686,
           1.5495227997586654,
           1.7126541798626103,
           1.876609819907149,
           2.0403692101887945,
           2.2030217265577017,
           2.3638055552932515,
           2.522139558940135,
           2.677652157601579,
           2.8302098695553957,
           2.979947099999805,
           3.127296994457046,
           3.2730181255422175,
           3.4182047800346615
          ],
          [
           0.2632939724708224,
           0.3949414673865581,
           0.5270720134731872,
           0.6623510948513923,
           0.8023292290257837,
           0.947470346386374,
           1.097421923882608,
           1.2513422183086422,
           1.4081619820649114,
           1.5667527410264281,
           1.7260246089679758,
           1.884983143005784,
           2.042765603781877,
           2.1986679195714354,
           2.352168056299883,
           2.5029485856927063,
           2.650919731136195,
           2.796243029677321,
           2.9393541341769054,
           3.0809810170297323,
           3.2221537441982777
          ],
          [
           0.17267713680663432,
           0.29603855519053635,
           0.4201203003466428,
           0.5483377365591188,
           0.6823766744419776,
           0.8224208842278121,
           0.9677200671212117,
           1.117110637131224,
           1.2693299760972052,
           1.423163983140775,
           1.577508406178985,
           1.731395426317281,
           1.884009230834458,
           2.0346996633676384,
           2.1829968850099384,
           2.328627700791445,
           2.4715333444750582,
           2.611887953481946,
           2.750116315792447,
           2.8869091376635265,
           3.023235256952966
          ],
          [
           0.09520446941743173,
           0.20716320244837833,
           0.32071515376787446,
           0.4403673703186061,
           0.5677233627403462,
           0.7022810039054117,
           0.8426155263413623,
           0.9871373819293288,
           1.134376455132106,
           1.283045721621834,
           1.4320396946239045,
           1.5804238850950791,
           1.7274297346067597,
           1.8724565387915315,
           2.0150788575649425,
           2.1550576758606623,
           2.292353893894675,
           2.427142973330786,
           2.5598297342582947,
           2.6910627338685837,
           2.8217487494849594
          ],
          [
           0.03498336452965616,
           0.1309375203150452,
           0.2307357775381536,
           0.3403264563675668,
           0.46045114710115004,
           0.5891443462711776,
           0.7240355645874723,
           0.8631102331462379,
           1.0047463911624575,
           1.1476257707279645,
           1.2906619512484232,
           1.4329589480651217,
           1.573791820407677,
           1.7126010506520921,
           1.8489951386907162,
           1.9827579953068273,
           2.113859100946081,
           2.2424652515229857,
           2.3689533242777085,
           2.4939241376883987,
           2.61821829634288
          ],
          [
           -0.0028347343461796962,
           0.06977093171604766,
           0.15189533147608736,
           0.25052542525861127,
           0.36318603687819956,
           0.485429985848579,
           0.6140246627783715,
           0.7467191839745252,
           0.8818435769942695,
           1.0180878928854158,
           1.154391648752329,
           1.2898896374724584,
           1.4238871796794363,
           1.5558511621899997,
           1.685409682199359,
           1.812356458317311,
           1.9366580024993596,
           2.0584626453140307,
           2.1781112645509615,
           2.296150193079207,
           2.4133473508103265
          ],
          [
           -0.012626427099057418,
           0.024827590592320262,
           0.08627370681047625,
           0.1746448762426488,
           0.27918457198776586,
           0.3935948613990649,
           0.5144267643772759,
           0.6394027156779762,
           0.7668444249223283,
           0.8954373662820865,
           1.0241199885621675,
           1.1520296312175475,
           1.2784765252220256,
           1.4029324548213806,
           1.5250273326101222,
           1.644550169527262,
           1.761452716661304,
           1.8758551930396221,
           1.988054306786308,
           2.098534346272247,
           2.2079824944362163
          ],
          [
           0,
           0,
           0.04090717388349133,
           0.11773696486033683,
           0.21122228031568172,
           0.31528457817776756,
           0.4263605258601977,
           0.5420302000781152,
           0.6605016054874862,
           0.7803748470207904,
           0.9005277429088642,
           1.0200563061345318,
           1.1382429941464798,
           1.2545399076042314,
           1.3685602004561255,
           1.4800740908214336,
           1.5890077447759559,
           1.695444591109822,
           1.799629538452653,
           1.9019771489268313,
           2.0030850647142313
          ],
          [
           0,
           0,
           0.022492554572186393,
           0.08066706760189309,
           0.15918645169372014,
           0.25029844680549446,
           0.3497318584493492,
           0.45465685566479835,
           0.5630124300096763,
           0.673219887938119,
           0.7840365527627997,
           0.8944763880235145,
           1.0037652298014161,
           1.111314649823981,
           1.2167059463714693,
           1.3196796533127453,
           1.420128356762019,
           1.5180923048169161,
           1.6137585162044368,
           1.707464818764847,
           1.7997104067748018
          ],
          [
           0,
           0,
           0.014467923540680333,
           0.05631098148679948,
           0.11912185993732594,
           0.19628386235081657,
           0.28315164837615703,
           0.3765108639390066,
           0.4740242340474701,
           0.5739184769418929,
           0.6748138225452532,
           0.7756271894471505,
           0.8755151306170897,
           0.9738386544196939,
           1.070139847615646,
           1.1641246097953077,
           1.2556487020536828,
           1.3447065222484127,
           1.4314237183092549,
           1.516055774021691,
           1.5989948159431049
          ],
          [
           -0.01624605611113718,
           -0.01206162081465304,
           0.0021189600612912217,
           0.03456799716899801,
           0.08508407382768914,
           0.149660957073064,
           0.22442051110148803,
           0.30626452040387075,
           0.3927938961953399,
           0.4821397522065348,
           0.5728321940986123,
           0.663713094426863,
           0.7538796503782754,
           0.8426468365069937,
           0.9295202558559547,
           1.01417382580389,
           1.096429359706608,
           1.1762376624012898,
           1.2536630914503017,
           1.3288750951515118,
           1.4021503841930028
          ],
          [
           -0.04951031833812103,
           -0.03788223403180007,
           -0.019755403717392785,
           0.009717423396278251,
           0.0524564744873988,
           0.10714808552925313,
           0.17131689627401972,
           0.24247108872897774,
           0.318442462843218,
           0.3974302176378316,
           0.4779655789604518,
           0.558866539176243,
           0.639200022636265,
           0.7182524014355975,
           0.7955048177608379,
           0.8706093164890444,
           0.9433631966951772,
           1.013681676849224,
           1.0815722675754424,
           1.1471168806709717,
           1.21046814591426
          ],
          [
           -0.08744636147926693,
           -0.06960880465483898,
           -0.047902790044997694,
           -0.01890584081079232,
           0.01931386693353785,
           0.06677567829716324,
           0.12223197238080223,
           0.1839582128632953,
           0.25020240397337756,
           0.31937170453086977,
           0.3900917408735339,
           0.46121582481429885,
           0.5318175879427973,
           0.6011786678039306,
           0.6687731972745781,
           0.7342468455332151,
           0.7973878241424982,
           0.8580900748341967,
           0.9163139380001252,
           0.9720546154803104,
           1.025330322904444
          ],
          [
           -0.12525250854512532,
           -0.10302698765707399,
           -0.078646663499335,
           -0.04959115936607923,
           -0.014224411145753924,
           0.027933362692827163,
           0.07637825489994206,
           0.13002797239695854,
           0.1875733652750085,
           0.2476944241858441,
           0.30917216861616126,
           0.3709414175552321,
           0.43211435023152245,
           0.4919896138186746,
           0.5500513365932567,
           0.6059560066970071,
           0.6595027667663945,
           0.7105855622435415,
           0.7591339979089885,
           0.8050601057288247,
           0.8482333209138795
          ],
          [
           -0.1606791971618277,
           -0.13558142727800565,
           -0.10946049016323983,
           -0.08043613876660446,
           -0.04718182314597335,
           -0.009112281845135147,
           0.03364725053444437,
           0.08045143582289459,
           0.1303606049102776,
           0.1823220584407945,
           0.23529133308933284,
           0.28830722243160695,
           0.34053814568962415,
           0.39131182222257194,
           0.4401323595875951,
           0.48668085682772644,
           0.5307897239861934,
           0.5723824631539906,
           0.6113844697769394,
           0.6476324132118844,
           0.6808247841935036
          ],
          [
           -0.19245574844413152,
           -0.16565482004171408,
           -0.13860261292048098,
           -0.10988135084723681,
           -0.07843699087767254,
           -0.04371173822052546,
           -0.005659060077027855,
           0.035342478470781084,
           0.07862310773362077,
           0.12335368246765009,
           0.16865182279936744,
           0.21366031852505035,
           0.25760514359307046,
           0.2998411918512064,
           0.33988927146789677,
           0.37745846497301444,
           0.41243491253762,
           0.4448116877832686,
           0.4745538753483682,
           0.5014397473679039,
           0.5249611320605041
          ],
          [
           -0.21979604158638255,
           -0.19218163763652155,
           -0.16485315859547447,
           -0.1367316689358756,
           -0.10698746779826573,
           -0.07513551598500268,
           -0.041063782181453685,
           -0.0049974202481543354,
           0.03257755535449341,
           0.07100320294651417,
           0.10953235017629828,
           0.14739839500237176,
           0.18387429686919876,
           0.21832700466998292,
           0.2502730250937819,
           0.279432221369534,
           0.30575323449493746,
           0.3293509619154102,
           0.3503065829489474,
           0.36837976728364674,
           0.3827979476241336
          ],
          [
           -0.24219852402696654,
           -0.21444813763237938,
           -0.18735810941728423,
           -0.1601001607378844,
           -0.13202305713842552,
           -0.1027228197416459,
           -0.07207272640361127,
           -0.04021210195607786,
           -0.007504544052870208,
           0.025519099175720174,
           0.05822018116710609,
           0.08990753171738608,
           0.11988855158388778,
           0.14752198290392868,
           0.17228319285727461,
           0.19385278915804366,
           0.21221458031633392,
           0.22766265989915002,
           0.24053376219055309,
           0.25066745762608933,
           0.25693724205950635
          ],
          [
           -0.25935549171049205,
           -0.23198763828244995,
           -0.20553501832456994,
           -0.1793553892294071,
           -0.15293613303600162,
           -0.12594690813361997,
           -0.09826724410010224,
           -0.06998723015149874,
           -0.04138613824395582,
           -0.012897513238194514,
           0.014930813458496983,
           0.04147615503538716,
           0.06607848379894632,
           0.08808027811663055,
           0.10688202394450434,
           0.12204307609854598,
           0.13347133694468452,
           0.1416462127113085,
           0.14742059458122536,
           0.15096586029276082,
           0.15067800602661358
          ],
          [
           -0.271107997881157,
           -0.24452274312649583,
           -0.21901536095621288,
           -0.19408122998061927,
           -0.16931292802585676,
           -0.1444402660612896,
           -0.11935420866403836,
           -0.09411287256950235,
           -0.0689317783790003,
           -0.04416324272863325,
           -0.020270600035010952,
           0.0021979264986841953,
           0.022632909136756158,
           0.04038546490200666,
           0.05479443253804557,
           0.06524587133487701,
           0.07135950550134593,
           0.07354266009881541,
           0.07353711219397661,
           0.0725925325127139,
           0.06844450522260706
          ],
          [
           -0.2774215357675845,
           -0.25193125794857657,
           -0.22760761733257037,
           -0.2040468093245807,
           -0.18091914715484528,
           -0.15799973929104197,
           -0.1351885115457382,
           -0.11251794922881775,
           -0.09014939167418064,
           -0.06836066268102436,
           -0.0475288380893338,
           -0.028112074833698444,
           -0.010633974370871326,
           0.004326883837500537,
           0.01614135842096487,
           0.024133549120749078,
           0.027617089931377556,
           0.026231392746688547,
           0.02206851397587818,
           0.01996359690989633,
           0.016324221626134065
          ],
          [
           -0.278371446228501,
           -0.2542242493197274,
           -0.23127176509792402,
           -0.2091828867197083,
           -0.18768355543197304,
           -0.16658036522634945,
           -0.14577693510718537,
           -0.12528151100033075,
           -0.10520581554331787,
           -0.0857565374605682,
           -0.06722174106278271,
           -0.04995482695168997,
           -0.03435864856955589,
           -0.020872232930535774,
           -0.009962178476965733,
           -0.00211808346839863,
           0.0021551359539513032,
           0.0023925226967240355,
           0,
           0,
           0
          ],
          [
           -0.27413289964447984,
           -0.2515303810027553,
           -0.23010000032462877,
           -0.20956196323399728,
           -0.1896804753303433,
           -0.17028205750078124,
           -0.15126885312662258,
           -0.13262533361663473,
           -0.11441783470498475,
           -0.09678732983437523,
           -0.07993650456183096,
           -0.06411238884886908,
           -0.0495854862031601,
           -0.036625480595388706,
           -0.02547200627128684,
           -0.01629623052788957,
           -0.009121675818189252,
           -0.003586914522275657,
           0,
           0,
           0
          ],
          [
           -0.26497311792136236,
           -0.2440836657860359,
           -0.22430103460718104,
           -0.2053806699951139,
           -0.1871117665474759,
           -0.1693318903020119,
           -0.15193812990950048,
           -0.13489299748484815,
           -0.11822407574793009,
           -0.10201721725061133,
           -0.08640367718284549,
           -0.07154172486708445,
           -0.057592988215907324,
           -0.04469322203216466,
           -0.03291718179336517,
           -0.02224225297105783,
           -0.012570425957247095,
           -0.004210863957298194,
           0,
           0,
           0
          ],
          [
           -0.25124499565699365,
           -0.23221345668561175,
           -0.21418688179651496,
           -0.19694404076913738,
           -0.18028916676139325,
           -0.16406449701627904,
           -0.14816049495181757,
           -0.13252164139083003,
           -0.11714648021491168,
           -0.10208154747073028,
           -0.08740960133978623,
           -0.07323309106395147,
           -0.059654291656499187,
           -0.04675491881047769,
           -0.034583476573949445,
           -0.02317936246185692,
           -0.012728951072901984,
           -0.0040856379685046676,
           0,
           0,
           0
          ],
          [
           -0.2333821475050574,
           -0.2163364963608572,
           -0.20016200438679224,
           -0.18465197868574565,
           -0.16961817098032392,
           -0.15490302168874032,
           -0.14039049059998393,
           -0.12601276588926505,
           -0.11175129167486626,
           -0.09763197627002737,
           -0.08371569426615984,
           -0.07008623863767073,
           -0.05683925992227996,
           -0.04407884076518667,
           -0.03193608839516149,
           -0.020640569141434847,
           -0.010694693379692208,
           -0.003168737710851536,
           0,
           0,
           0
          ],
          [
           -0.21189598401534998,
           -0.19695146316301707,
           -0.18271525465830227,
           -0.16898859959754028,
           -0.1555846645544267,
           -0.14234267460800343,
           -0.1291412579455874,
           -0.11590716411780895,
           -0.10261754395449545,
           -0.08929630217414598,
           -0.07600681563032187,
           -0.06284454167684492,
           -0.04993443948007022,
           -0.0374407175280842,
           -0.02560074581180739,
           -0.014798217573550902,
           -0.0056801238560962196,
           0.0007585716377484258,
           0.0037628952942566547,
           0.004573396347805804,
           0.0043388407285749366
          ],
          [
           -0.18737591851947222,
           -0.17463690410819452,
           -0.16241538363167235,
           -0.1505152538955005,
           -0.1387452722640194,
           -0.12693814614188748,
           -0.11496889085881933,
           -0.10276645300488062,
           -0.09031659696807769,
           -0.07765792320204015,
           -0.06487500324600881,
           -0.0520932126301248,
           -0.03948001624153642,
           -0.027257751316319002,
           -0.015732098057090034,
           -0.005332986388106627,
           0.0033668593567492905,
           0.009784994550867699,
           0.013801554002799091,
           0.015953120806758075,
           0.016656310683069372
          ],
          [
           -0.1604944649630658,
           -0.15005392316814264,
           -0.13991115986252875,
           -0.12986801579575816,
           -0.11972192235723675,
           -0.10929501817921747,
           -0.09846112736219459,
           -0.08716055667007422,
           -0.07540124187002398,
           -0.06325123680437503,
           -0.050829150343953834,
           -0.03829774209504465,
           -0.025863949651850033,
           -0.013786544054517095,
           -0.0023884590290663274,
           0.007939799541578765,
           0.016780974360515993,
           0.023826348750225417,
           0.029054371371999056,
           0.03269754246997217,
           0.034955449334292524
          ],
          [
           -0.13202017544108158,
           -0.12395573917824651,
           -0.1159375095575801,
           -0.10776040729501009,
           -0.09920050536939103,
           -0.09006392601600516,
           -0.08022802681566885,
           -0.06965769172667624,
           -0.05839920451273843,
           -0.04656417513493907,
           -0.03431399870575072,
           -0.021849793081670014,
           -0.009408617603217156,
           0.0027362581257772156,
           0.01427720988968191,
           0.024888515145595747,
           0.034273596271008816,
           0.04224411038153471,
           0.048777255218303756,
           0.05397778934606749,
           0.057959953456869946
          ],
          [
           -0.10284387671888327,
           -0.09720762857225035,
           -0.0913297347482878,
           -0.08499215725497287,
           -0.07793254677373596,
           -0.06993421886729694,
           -0.06088990863983044,
           -0.05081133815872851,
           -0.03980445256938523,
           -0.0280387491264914,
           -0.015724298370118142,
           -0.0030983501694971014,
           0.00958131492051666,
           0.02204090171967301,
           0.03399908229400035,
           0.0451865499662405,
           0.055380438927891865,
           0.06444392176374056,
           0.07234411361664311,
           0.07912701788876896,
           0.08486323332176979
          ],
          [
           -0.07402945726116768,
           -0.07082338291614014,
           -0.06704892211888525,
           -0.06246483705315309,
           -0.05673646037127657,
           -0.04961993868163809,
           -0.04105466939303775,
           -0.031137448727393165,
           -0.020060535754015705,
           -0.00806376536109145,
           0.004592389943491847,
           0.017639611358204292,
           0.03080776685584657,
           0.04382998386712562,
           0.05645139571062485,
           0.06844459212475809,
           0.0796307594817032,
           0.08989869336432,
           0.0992096674744021,
           0.10758187374540537,
           0.11506234066854927
          ],
          [
           -0.04691563452584431,
           -0.04602907153506295,
           -0.04422340258374375,
           -0.04120460654384003,
           -0.036486854987266844,
           -0.029822191599254467,
           -0.02127255594769057,
           -0.011075507930924457,
           0.00046681623858417954,
           0.013041176984699187,
           0.02634324423441133,
           0.04008337023918309,
           0.05398814905159848,
           0.06780281831707693,
           0.08129711067159114,
           0.09427515194289735,
           0.1065873056987058,
           0.11813905127160335,
           0.12889143701003464,
           0.1388512225821844,
           0.1480547991559045
          ],
          [
           -0.023337888547803984,
           -0.024363792170464967,
           -0.024222372717449713,
           -0.022380693064885628,
           -0.01805201218987558,
           -0.011136448771475772,
           -0.0019554756719160123,
           0.009068045217399222,
           0.021524917224165316,
           0.03504605565240536,
           0.04930223690848757,
           0.0639983471748084,
           0.07886888907270943,
           0.09367683170023135,
           0.10821617327504826,
           0.12231739830342293,
           0.13585373088303393,
           0.1487451590898962,
           0.1609575730766313,
           0.17249640007994857,
           0.1833967960446163
          ],
          [
           -0.006168150790461857,
           -0.007829923177535903,
           -0.008817922453000506,
           -0.007206797334428658,
           -0.0020681204449281058,
           0.006130517569947965,
           0.016735851736132006,
           0.029181820375682663,
           0.04300602898227604,
           0.05782635919387913,
           0.07331897671068799,
           0.08920354520938999,
           0.10523493217070803,
           0.1212000308144342,
           0.1369183675193182,
           0.15224500896762,
           0.1670739577636936,
           0.18134011292056346,
           0.1950183815237851,
           0.20811969836631233,
           0.22068500840354416
          ],
          [
           0,
           0,
           0.0000169856180083227,
           0.003818314252569937,
           0.01154392100177616,
           0.02218958911024094,
           0.03498839968912653,
           0.04938566072390955,
           0.06495797760677455,
           0.0813640740484168,
           0.09831743391680395,
           0.11557142031866464,
           0.13291193509653765,
           0.15015489653131564,
           0.16714677383217277,
           0.18376673809179433,
           0.19992906550742032,
           0.21558457978432916,
           0.23072034993216461,
           0.24535754690165934,
           0.25954804598380316
          ],
          [
           0,
           0,
           0.003552913403498289,
           0.012220879198595443,
           0.023964643575561675,
           0.037851342608817146,
           0.05332997288572076,
           0.07000374503047019,
           0.08755752558069077,
           0.10572657068850665,
           0.1242810252896327,
           0.14301845718001535,
           0.16176104928002782,
           0.18035567503897046,
           0.19867570161765416,
           0.2166235750634397,
           0.23413333329478486,
           0.2511723437157858,
           0.26774185785383736,
           0.28387638448565483,
           0.29964227189402876
          ],
          [
           0,
           0,
           0.007780577858995489,
           0.021389196292352884,
           0.03713036047178411,
           0.054273340163499176,
           0.07246797713372055,
           0.09146280249147064,
           0.11104544317218297,
           0.1310248280546751,
           0.15122576554458864,
           0.17148811918986254,
           0.1916682068517997,
           0.21164144733707949,
           0.23130564668294945,
           0.2505844076802021,
           0.2694301920107767,
           0.28782666506020316,
           0.305790143754968,
           0.3233702216061751,
           0.34064989079131736
          ],
          [
           -0.001577576869403775,
           0.005848913610516171,
           0.01771207028579819,
           0.034085955604147324,
           0.05268342772452711,
           0.07247041704813091,
           0.09303566608553078,
           0.11415049299543671,
           0.13564306970330117,
           0.15736236745930704,
           0.1791682768952519,
           0.20093055505383267,
           0.2225310986832128,
           0.2438675399948304,
           0.26485728668359826,
           0.28544150276087904,
           0.30558868025879077,
           0.3252975717820015,
           0.3445994049081867,
           0.3635594847620888,
           0.38227847828637823
          ],
          [
           0.0025537798765223945,
           0.016637295282758032,
           0.03232047761166575,
           0.05073760896830071,
           0.07122539038927052,
           0.09293898108242422,
           0.11538921575837663,
           0.13829877169500077,
           0.16148195787859498,
           0.1847913683659437,
           0.2080978271713364,
           0.23128455637640716,
           0.25424741832376857,
           0.2768977524361803,
           0.299166222432794,
           0.32100687640570047,
           0.3424009738080768,
           0.3633603305377345,
           0.38393009584716287,
           0.40419104772606484,
           0.4242616768482048
          ],
          [
           0.012769677296188775,
           0.031106875548957226,
           0.04999600776952679,
           0.0704432470179128,
           0.09246258801458207,
           0.11563645744502835,
           0.1395596897113516,
           0.16394072161735557,
           0.1885710386175446,
           0.21328910399727377,
           0.23795989694488073,
           0.26246631968655215,
           0.2867073050413691,
           0.3105993664946812,
           0.3340797787304409,
           0.35711038807366935,
           0.37968148070296287,
           0.4018153753025951,
           0.42356957683252605,
           0.44503950490824684,
           0.4663610245621668
          ],
          [
           0.02763359322919849,
           0.04880914923343458,
           0.07014966867106973,
           0.09241521230405701,
           0.11581870462784796,
           0.14021527087428654,
           0.16534066121577876,
           0.19094110414103446,
           0.21680505612828002,
           0.2427582907825954,
           0.26865407442713224,
           0.29436708061840766,
           0.3197914941718696,
           0.3448420243036068,
           0.36945662308907634,
           0.3936000657306164,
           0.41726783402156903,
           0.440489919134572,
           0.46333427496756213,
           0.4859097995455755,
           0.50836898190627
          ],
          [
           0.04598355934115129,
           0.06914451985228677,
           0.09233691640905954,
           0.11613026246906177,
           0.14077237130065948,
           0.16625160836779315,
           0.19241487665395343,
           0.21906307931034485,
           0.24599941502590614,
           0.27304547263219836,
           0.30004404909022814,
           0.3268588926050542,
           0.3533750478249458,
           0.379500558373934,
           0.405169331487806,
           0.43034478192174347,
           0.45502389504990165,
           0.47924137259882715,
           0.5030734947220807,
           0.5266413385471479,
           0.5501132637706633
          ],
          [
           0.06693897666254285,
           0.09152552666419615,
           0.11612187408466548,
           0.14116645996081525,
           0.16689316628901205,
           0.19334747973196684,
           0.22044461785625272,
           0.24803160325819246,
           0.27593141240980845,
           0.3039673296592206,
           0.3319745708040236,
           0.3598059178523174,
           0.3873352924551702,
           0.4144610285595387,
           0.44110946753751124,
           0.46723901756451147,
           0.49284463559353164,
           0.5179625714829346,
           0.5426749936023568,
           0.5671137603852351,
           0.5914626303526623
          ],
          [
           0.08980772691403885,
           0.1154251122286754,
           0.14108675059736692,
           0.167146202202275,
           0.19381317637081902,
           0.22115255475323964,
           0.24911465454593595,
           0.27757589244699477,
           0.3063745903312875,
           0.33533636517856386,
           0.36429015447539237,
           0.3930780896160264,
           0.42156205405447156,
           0.4496287588464169,
           0.4771943551340331,
           0.5042091191278838,
           0.5306624994627807,
           0.5565886698743435,
           0.5820724593542377,
           0.6072546554565007,
           0.6323344252147034
          ],
          [
           0.11402822640521638,
           0.14037802445401007,
           0.1668419763337572,
           0.1937237352143675,
           0.22120948959433853,
           0.24936358733354244,
           0.27814832438446874,
           0.30745295211557816,
           0.3371225287616734,
           0.3669816667045609,
           0.39685202982357964,
           0.4265646066350132,
           0.4559684143640056,
           0.4849371079841218,
           0.5133745681066336,
           0.5412202014528957,
           0.5684544872693341,
           0.5951052397650851,
           0.6212550623347877,
           0.6470499340614886,
           0.6727045733694897
          ],
          [
           0.13912884096564407,
           0.16596823694848503,
           0.19302780030046215,
           0.22058458580334628,
           0.2487994761860222,
           0.27772326182082563,
           0.3073140553500944,
           0.33746014088965753,
           0.368004019422807,
           0.3987640289789086,
           0.42955183852789514,
           0.4601857650937443,
           0.49050073847334513,
           0.5203559672702261,
           0.54964125882985,
           0.578282760006756,
           0.6062487539023651,
           0.6335561627512969,
           0.6602787027814825,
           0.6865586314004283,
           0.7126226668428048
          ],
          [
           0.16467747325324478,
           0.19180867703982388,
           0.21931587855549015,
           0.247451644762554,
           0.27634471576432634,
           0.3060232223255777,
           0.3364302227918467,
           0.3674427480465988,
           0.3988926404905906,
           0.4305863499273049,
           0.4623219091189088,
           0.4939025584588069,
           0.5251473462349877,
           0.5558994210847443,
           0.5860328024706664,
           0.6154583395108532,
           0.6441294810124537,
           0.6720484869573171,
           0.6992739915717846,
           0.7259324653153193,
           0.7522465819671287
          ]
         ]
        }
       ],
       "layout": {
        "autosize": false,
        "height": 1000,
        "margin": {
         "b": 65,
         "l": 65,
         "r": 50,
         "t": 90
        },
        "template": {
         "data": {
          "bar": [
           {
            "error_x": {
             "color": "#2a3f5f"
            },
            "error_y": {
             "color": "#2a3f5f"
            },
            "marker": {
             "line": {
              "color": "#E5ECF6",
              "width": 0.5
             },
             "pattern": {
              "fillmode": "overlay",
              "size": 10,
              "solidity": 0.2
             }
            },
            "type": "bar"
           }
          ],
          "barpolar": [
           {
            "marker": {
             "line": {
              "color": "#E5ECF6",
              "width": 0.5
             },
             "pattern": {
              "fillmode": "overlay",
              "size": 10,
              "solidity": 0.2
             }
            },
            "type": "barpolar"
           }
          ],
          "carpet": [
           {
            "aaxis": {
             "endlinecolor": "#2a3f5f",
             "gridcolor": "white",
             "linecolor": "white",
             "minorgridcolor": "white",
             "startlinecolor": "#2a3f5f"
            },
            "baxis": {
             "endlinecolor": "#2a3f5f",
             "gridcolor": "white",
             "linecolor": "white",
             "minorgridcolor": "white",
             "startlinecolor": "#2a3f5f"
            },
            "type": "carpet"
           }
          ],
          "choropleth": [
           {
            "colorbar": {
             "outlinewidth": 0,
             "ticks": ""
            },
            "type": "choropleth"
           }
          ],
          "contour": [
           {
            "colorbar": {
             "outlinewidth": 0,
             "ticks": ""
            },
            "colorscale": [
             [
              0,
              "#0d0887"
             ],
             [
              0.1111111111111111,
              "#46039f"
             ],
             [
              0.2222222222222222,
              "#7201a8"
             ],
             [
              0.3333333333333333,
              "#9c179e"
             ],
             [
              0.4444444444444444,
              "#bd3786"
             ],
             [
              0.5555555555555556,
              "#d8576b"
             ],
             [
              0.6666666666666666,
              "#ed7953"
             ],
             [
              0.7777777777777778,
              "#fb9f3a"
             ],
             [
              0.8888888888888888,
              "#fdca26"
             ],
             [
              1,
              "#f0f921"
             ]
            ],
            "type": "contour"
           }
          ],
          "contourcarpet": [
           {
            "colorbar": {
             "outlinewidth": 0,
             "ticks": ""
            },
            "type": "contourcarpet"
           }
          ],
          "heatmap": [
           {
            "colorbar": {
             "outlinewidth": 0,
             "ticks": ""
            },
            "colorscale": [
             [
              0,
              "#0d0887"
             ],
             [
              0.1111111111111111,
              "#46039f"
             ],
             [
              0.2222222222222222,
              "#7201a8"
             ],
             [
              0.3333333333333333,
              "#9c179e"
             ],
             [
              0.4444444444444444,
              "#bd3786"
             ],
             [
              0.5555555555555556,
              "#d8576b"
             ],
             [
              0.6666666666666666,
              "#ed7953"
             ],
             [
              0.7777777777777778,
              "#fb9f3a"
             ],
             [
              0.8888888888888888,
              "#fdca26"
             ],
             [
              1,
              "#f0f921"
             ]
            ],
            "type": "heatmap"
           }
          ],
          "heatmapgl": [
           {
            "colorbar": {
             "outlinewidth": 0,
             "ticks": ""
            },
            "colorscale": [
             [
              0,
              "#0d0887"
             ],
             [
              0.1111111111111111,
              "#46039f"
             ],
             [
              0.2222222222222222,
              "#7201a8"
             ],
             [
              0.3333333333333333,
              "#9c179e"
             ],
             [
              0.4444444444444444,
              "#bd3786"
             ],
             [
              0.5555555555555556,
              "#d8576b"
             ],
             [
              0.6666666666666666,
              "#ed7953"
             ],
             [
              0.7777777777777778,
              "#fb9f3a"
             ],
             [
              0.8888888888888888,
              "#fdca26"
             ],
             [
              1,
              "#f0f921"
             ]
            ],
            "type": "heatmapgl"
           }
          ],
          "histogram": [
           {
            "marker": {
             "pattern": {
              "fillmode": "overlay",
              "size": 10,
              "solidity": 0.2
             }
            },
            "type": "histogram"
           }
          ],
          "histogram2d": [
           {
            "colorbar": {
             "outlinewidth": 0,
             "ticks": ""
            },
            "colorscale": [
             [
              0,
              "#0d0887"
             ],
             [
              0.1111111111111111,
              "#46039f"
             ],
             [
              0.2222222222222222,
              "#7201a8"
             ],
             [
              0.3333333333333333,
              "#9c179e"
             ],
             [
              0.4444444444444444,
              "#bd3786"
             ],
             [
              0.5555555555555556,
              "#d8576b"
             ],
             [
              0.6666666666666666,
              "#ed7953"
             ],
             [
              0.7777777777777778,
              "#fb9f3a"
             ],
             [
              0.8888888888888888,
              "#fdca26"
             ],
             [
              1,
              "#f0f921"
             ]
            ],
            "type": "histogram2d"
           }
          ],
          "histogram2dcontour": [
           {
            "colorbar": {
             "outlinewidth": 0,
             "ticks": ""
            },
            "colorscale": [
             [
              0,
              "#0d0887"
             ],
             [
              0.1111111111111111,
              "#46039f"
             ],
             [
              0.2222222222222222,
              "#7201a8"
             ],
             [
              0.3333333333333333,
              "#9c179e"
             ],
             [
              0.4444444444444444,
              "#bd3786"
             ],
             [
              0.5555555555555556,
              "#d8576b"
             ],
             [
              0.6666666666666666,
              "#ed7953"
             ],
             [
              0.7777777777777778,
              "#fb9f3a"
             ],
             [
              0.8888888888888888,
              "#fdca26"
             ],
             [
              1,
              "#f0f921"
             ]
            ],
            "type": "histogram2dcontour"
           }
          ],
          "mesh3d": [
           {
            "colorbar": {
             "outlinewidth": 0,
             "ticks": ""
            },
            "type": "mesh3d"
           }
          ],
          "parcoords": [
           {
            "line": {
             "colorbar": {
              "outlinewidth": 0,
              "ticks": ""
             }
            },
            "type": "parcoords"
           }
          ],
          "pie": [
           {
            "automargin": true,
            "type": "pie"
           }
          ],
          "scatter": [
           {
            "marker": {
             "colorbar": {
              "outlinewidth": 0,
              "ticks": ""
             }
            },
            "type": "scatter"
           }
          ],
          "scatter3d": [
           {
            "line": {
             "colorbar": {
              "outlinewidth": 0,
              "ticks": ""
             }
            },
            "marker": {
             "colorbar": {
              "outlinewidth": 0,
              "ticks": ""
             }
            },
            "type": "scatter3d"
           }
          ],
          "scattercarpet": [
           {
            "marker": {
             "colorbar": {
              "outlinewidth": 0,
              "ticks": ""
             }
            },
            "type": "scattercarpet"
           }
          ],
          "scattergeo": [
           {
            "marker": {
             "colorbar": {
              "outlinewidth": 0,
              "ticks": ""
             }
            },
            "type": "scattergeo"
           }
          ],
          "scattergl": [
           {
            "marker": {
             "colorbar": {
              "outlinewidth": 0,
              "ticks": ""
             }
            },
            "type": "scattergl"
           }
          ],
          "scattermapbox": [
           {
            "marker": {
             "colorbar": {
              "outlinewidth": 0,
              "ticks": ""
             }
            },
            "type": "scattermapbox"
           }
          ],
          "scatterpolar": [
           {
            "marker": {
             "colorbar": {
              "outlinewidth": 0,
              "ticks": ""
             }
            },
            "type": "scatterpolar"
           }
          ],
          "scatterpolargl": [
           {
            "marker": {
             "colorbar": {
              "outlinewidth": 0,
              "ticks": ""
             }
            },
            "type": "scatterpolargl"
           }
          ],
          "scatterternary": [
           {
            "marker": {
             "colorbar": {
              "outlinewidth": 0,
              "ticks": ""
             }
            },
            "type": "scatterternary"
           }
          ],
          "surface": [
           {
            "colorbar": {
             "outlinewidth": 0,
             "ticks": ""
            },
            "colorscale": [
             [
              0,
              "#0d0887"
             ],
             [
              0.1111111111111111,
              "#46039f"
             ],
             [
              0.2222222222222222,
              "#7201a8"
             ],
             [
              0.3333333333333333,
              "#9c179e"
             ],
             [
              0.4444444444444444,
              "#bd3786"
             ],
             [
              0.5555555555555556,
              "#d8576b"
             ],
             [
              0.6666666666666666,
              "#ed7953"
             ],
             [
              0.7777777777777778,
              "#fb9f3a"
             ],
             [
              0.8888888888888888,
              "#fdca26"
             ],
             [
              1,
              "#f0f921"
             ]
            ],
            "type": "surface"
           }
          ],
          "table": [
           {
            "cells": {
             "fill": {
              "color": "#EBF0F8"
             },
             "line": {
              "color": "white"
             }
            },
            "header": {
             "fill": {
              "color": "#C8D4E3"
             },
             "line": {
              "color": "white"
             }
            },
            "type": "table"
           }
          ]
         },
         "layout": {
          "annotationdefaults": {
           "arrowcolor": "#2a3f5f",
           "arrowhead": 0,
           "arrowwidth": 1
          },
          "autotypenumbers": "strict",
          "coloraxis": {
           "colorbar": {
            "outlinewidth": 0,
            "ticks": ""
           }
          },
          "colorscale": {
           "diverging": [
            [
             0,
             "#8e0152"
            ],
            [
             0.1,
             "#c51b7d"
            ],
            [
             0.2,
             "#de77ae"
            ],
            [
             0.3,
             "#f1b6da"
            ],
            [
             0.4,
             "#fde0ef"
            ],
            [
             0.5,
             "#f7f7f7"
            ],
            [
             0.6,
             "#e6f5d0"
            ],
            [
             0.7,
             "#b8e186"
            ],
            [
             0.8,
             "#7fbc41"
            ],
            [
             0.9,
             "#4d9221"
            ],
            [
             1,
             "#276419"
            ]
           ],
           "sequential": [
            [
             0,
             "#0d0887"
            ],
            [
             0.1111111111111111,
             "#46039f"
            ],
            [
             0.2222222222222222,
             "#7201a8"
            ],
            [
             0.3333333333333333,
             "#9c179e"
            ],
            [
             0.4444444444444444,
             "#bd3786"
            ],
            [
             0.5555555555555556,
             "#d8576b"
            ],
            [
             0.6666666666666666,
             "#ed7953"
            ],
            [
             0.7777777777777778,
             "#fb9f3a"
            ],
            [
             0.8888888888888888,
             "#fdca26"
            ],
            [
             1,
             "#f0f921"
            ]
           ],
           "sequentialminus": [
            [
             0,
             "#0d0887"
            ],
            [
             0.1111111111111111,
             "#46039f"
            ],
            [
             0.2222222222222222,
             "#7201a8"
            ],
            [
             0.3333333333333333,
             "#9c179e"
            ],
            [
             0.4444444444444444,
             "#bd3786"
            ],
            [
             0.5555555555555556,
             "#d8576b"
            ],
            [
             0.6666666666666666,
             "#ed7953"
            ],
            [
             0.7777777777777778,
             "#fb9f3a"
            ],
            [
             0.8888888888888888,
             "#fdca26"
            ],
            [
             1,
             "#f0f921"
            ]
           ]
          },
          "colorway": [
           "#636efa",
           "#EF553B",
           "#00cc96",
           "#ab63fa",
           "#FFA15A",
           "#19d3f3",
           "#FF6692",
           "#B6E880",
           "#FF97FF",
           "#FECB52"
          ],
          "font": {
           "color": "#2a3f5f"
          },
          "geo": {
           "bgcolor": "white",
           "lakecolor": "white",
           "landcolor": "#E5ECF6",
           "showlakes": true,
           "showland": true,
           "subunitcolor": "white"
          },
          "hoverlabel": {
           "align": "left"
          },
          "hovermode": "closest",
          "mapbox": {
           "style": "light"
          },
          "paper_bgcolor": "white",
          "plot_bgcolor": "#E5ECF6",
          "polar": {
           "angularaxis": {
            "gridcolor": "white",
            "linecolor": "white",
            "ticks": ""
           },
           "bgcolor": "#E5ECF6",
           "radialaxis": {
            "gridcolor": "white",
            "linecolor": "white",
            "ticks": ""
           }
          },
          "scene": {
           "xaxis": {
            "backgroundcolor": "#E5ECF6",
            "gridcolor": "white",
            "gridwidth": 2,
            "linecolor": "white",
            "showbackground": true,
            "ticks": "",
            "zerolinecolor": "white"
           },
           "yaxis": {
            "backgroundcolor": "#E5ECF6",
            "gridcolor": "white",
            "gridwidth": 2,
            "linecolor": "white",
            "showbackground": true,
            "ticks": "",
            "zerolinecolor": "white"
           },
           "zaxis": {
            "backgroundcolor": "#E5ECF6",
            "gridcolor": "white",
            "gridwidth": 2,
            "linecolor": "white",
            "showbackground": true,
            "ticks": "",
            "zerolinecolor": "white"
           }
          },
          "shapedefaults": {
           "line": {
            "color": "#2a3f5f"
           }
          },
          "ternary": {
           "aaxis": {
            "gridcolor": "white",
            "linecolor": "white",
            "ticks": ""
           },
           "baxis": {
            "gridcolor": "white",
            "linecolor": "white",
            "ticks": ""
           },
           "bgcolor": "#E5ECF6",
           "caxis": {
            "gridcolor": "white",
            "linecolor": "white",
            "ticks": ""
           }
          },
          "title": {
           "x": 0.05
          },
          "xaxis": {
           "automargin": true,
           "gridcolor": "white",
           "linecolor": "white",
           "ticks": "",
           "title": {
            "standoff": 15
           },
           "zerolinecolor": "white",
           "zerolinewidth": 2
          },
          "yaxis": {
           "automargin": true,
           "gridcolor": "white",
           "linecolor": "white",
           "ticks": "",
           "title": {
            "standoff": 15
           },
           "zerolinecolor": "white",
           "zerolinewidth": 2
          }
         }
        },
        "title": {
         "text": "First mode shape"
        },
        "width": 1000
       }
      }
     },
     "metadata": {}
    }
   ],
   "metadata": {}
  }
 ],
 "metadata": {
  "orig_nbformat": 4,
  "language_info": {
   "name": "python",
   "version": "3.9.4",
   "mimetype": "text/x-python",
   "codemirror_mode": {
    "name": "ipython",
    "version": 3
   },
   "pygments_lexer": "ipython3",
   "nbconvert_exporter": "python",
   "file_extension": ".py"
  },
  "kernelspec": {
   "name": "python3",
   "display_name": "Python 3.9.4 64-bit ('venv': venv)"
  },
  "interpreter": {
   "hash": "02527d8ca5c65af2ede56b2d82ee91e660e182a92b14a4e2ad38e2cd32139a84"
  }
 },
 "nbformat": 4,
 "nbformat_minor": 2
}