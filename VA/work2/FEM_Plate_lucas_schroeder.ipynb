{
 "cells": [
  {
   "cell_type": "markdown",
   "source": [
    "# 2D FEM with ACM element\r\n",
    "\r\n",
    "![image](\\img\\door_drawing2.png)"
   ],
   "metadata": {}
  },
  {
   "cell_type": "code",
   "execution_count": 1,
   "source": [
    "import numpy as np\r\n",
    "import pandas as pd\r\n",
    "import scipy as sp\r\n",
    "from scipy.linalg import eig\r\n",
    "from scipy.sparse.linalg import eigsh\r\n",
    "import matplotlib.pyplot as plt\r\n",
    "from mpl_toolkits import mplot3d\r\n",
    "import plotly.graph_objects as go\r\n",
    "from matplotlib import cm\r\n",
    "from datetime import datetime\r\n",
    "\r\n",
    "pi = np.pi"
   ],
   "outputs": [],
   "metadata": {}
  },
  {
   "cell_type": "code",
   "execution_count": 2,
   "source": [
    "h = 1.6e-3 # thickness [m]\r\n",
    "H = 500e-3 # door height [m]\r\n",
    "L = 200e-3 # door length [m]\r\n",
    "Iz = (h**3)/12 # corss section moment of inertia per length [m**3]\r\n",
    "E = 186e9 # modulus of elasticity [Pa]\r\n",
    "nu = 0.3 # poison coef\r\n",
    "rho = 7870 # steel density [kg/m**3]\r\n",
    "\r\n",
    "def m_e(dx, dy):\r\n",
    "    a=dx/2\r\n",
    "    b=dy/2\r\n",
    "    m11 =  np.array([[3454,\t    922*b,\t    -922*a,\t    1226,\t398*b,\t    548*a       ],\r\n",
    "                    [922*b,\t    320*b**2,\t-252*a*b,\t398*b,\t160*b**2,\t168*a*b     ],\r\n",
    "                    [-922*a,    -252*a*b,\t320*a**2,\t-548*a,\t-168*a*b,\t-240*a**2   ],\r\n",
    "                    [1226,\t    398*b,\t    -548*a,\t    3454,\t922*b,\t    922*a       ],\r\n",
    "                    [398*b,\t    160*b**2,\t-168*a*b,\t922*b,\t320*b**2,\t252*a*b     ],\r\n",
    "                    [548*a,\t    168*a*b,\t-240*a**2,\t922*a,\t252*a*b,\t320*a**2    ]])\r\n",
    "\r\n",
    "    m21 =  np.array([[394,\t    323*b,\t    -232*a,\t    1226,\t548*b,\t    398*a       ],\r\n",
    "                    [-232*b,\t-120*b**2,\t112*a*b,\t-548*b,\t-240*b**2,\t-168*a*b    ],\r\n",
    "                    [232*a,\t    112*a*b,\t-120*a**2,\t398*a,\t168*a*b,\t160*a**2    ],\r\n",
    "                    [1226,\t    548*b,\t    -398*a,\t    394,\t232*b,\t    232*a       ],\r\n",
    "                    [-548*b,\t-240*b**2,\t168*a*b,\t-232*b,\t-120*b**2,\t-112*a*b    ],\r\n",
    "                    [-398*a,\t-168*a*b,\t160*a**2,\t-232*a,\t-112*a*b,\t-120*a**2   ]])\r\n",
    "    \r\n",
    "    m22 =   np.array([[3454,\t-922*b,\t    922*a,\t    1226,\t-398*b,\t    -548*a      ],\r\n",
    "                    [-922*b,\t320*b**2,\t-252*a*b,\t-398*b,\t160*b**2,\t168*a*b     ],\r\n",
    "                    [922*a,\t    -252*a*b,\t320*a**2,\t548*a,\t-168*a*b,\t-240*a**2   ],\r\n",
    "                    [1226,\t    -398*b,\t    548*a,\t    3454,\t-922*b,\t    -922*a      ],\r\n",
    "                    [-398*b,\t160*b**2,\t-168*a*b,\t-922*b,\t320*b**2,\t252*a*b     ],\r\n",
    "                    [-548*a,\t168*a*b,\t-240*a**2,\t-922*a,\t252*a*b,\t320*a**2    ]])\r\n",
    "\r\n",
    "    m = np.concatenate((np.concatenate((m11, m21.T), axis=1),  np.concatenate((m21, m22), axis=1)), axis=0)\r\n",
    "\r\n",
    "    return (rho*h*a*b/6300)*m\r\n",
    "\r\n",
    "def k_e(dx, dy):\r\n",
    "    a=dx/2\r\n",
    "    b=dy/2\r\n",
    "    alp=a/b\r\n",
    "    bet=b/a\r\n",
    "    I1 = np.eye(3)\r\n",
    "    I1[0,0]=-1\r\n",
    "    I2 = np.eye(3)\r\n",
    "    I2[1,1]=-1\r\n",
    "    I3 = np.eye(3)\r\n",
    "    I3[2,2]=-1\r\n",
    "\r\n",
    "    k11 = np.array([[4*(bet**2+alp**2)+0.4*(7-2*nu),\t    2*(2*alp**2+0.2*(1+4*nu))*b,\t    2*(-2*bet**2-0.2*(1+4*nu))*a    ],\r\n",
    "                    [2*(2*alp**2+0.2*(1+4*nu))*b,\t        4*(4/3*alp**2+4/15*(1-nu))*b**2,\t-4*nu*a*b                       ],\r\n",
    "                    [2*(-2*bet**2-0.2*(1+4*nu))*a,\t        -4*nu*a*b,                      \t4*(4/3*bet**2+4/15*(1-nu))*a**2]])\r\n",
    "\r\n",
    "    k21 = np.array([[-(2*(2*bet**2-alp**2)+0.4*(7-2*nu)),\t2*(alp**2-0.2*(1+4*nu))*b,\t        2*(2*bet**2+0.2*(1-nu))*a     ],\r\n",
    "                    [2*(alp**2-0.2*(1+4*nu))*b,\t            4*(2/3*alp**2-4/15*(1-nu))*b**2,    0                               ],\r\n",
    "                    [-2*(2*bet**2+0.2*(1-nu))*a,\t        0,                          \t    4*(2/3*bet**2-1/15*(1-nu))*a**2]])\r\n",
    "\r\n",
    "    k31 = np.array([[-(2*(bet**2+alp**2)-0.4*(7-2*nu)),\t    2*(-alp**2+0.2*(1-nu))*b,\t        2*(bet**2-0.2*(1-nu))*a      ],\r\n",
    "                    [2*(alp**2-0.2*(1-nu))*b,\t            4*(1/3*alp**2+1/15*(1-nu))*b**2,\t0                               ],\r\n",
    "                    [2*(-bet**2+0.2*(1-nu))*a,\t            0,\t                                4*(1/3*bet**2+1/15*(1-nu))*a**2]])\r\n",
    "\r\n",
    "    k41 = np.array([[2*(bet**2-2*alp**2)-0.4*(7-2*nu),\t    2*(-2*alp**2-0.2*(1-nu))*b,\t        2*(-bet**2+0.2*(1+4*nu))*a      ],\r\n",
    "                    [2*(2*alp**2+0.2*(1-nu))*b,\t            4*(2/3*alp**2-1/15*(1-nu))*b**2,\t0                               ],\r\n",
    "                    [2*(-bet**2+0.2*(1+4*nu))*a,\t        0,\t                                4*(2/3*bet**2-4/15*(1-nu))*a**2]])\r\n",
    "\r\n",
    "    k22 = I3.T @ k11 @ I3\r\n",
    "    k32 = I3.T @ k41 @ I3\r\n",
    "    k42 = I3.T @ k31 @ I3\r\n",
    "    \r\n",
    "    k33 = I1.T @ k11 @ I1\r\n",
    "    k43 = I1.T @ k21 @ I1\r\n",
    "\r\n",
    "    k44 = I2.T @ k11 @ I2\r\n",
    "\r\n",
    "    aux1 = np.concatenate((k11, k21.T, k31.T, k41.T), axis=1)\r\n",
    "    aux2 = np.concatenate((k21, k22, k32.T, k42.T), axis=1)\r\n",
    "    aux3 = np.concatenate((k31, k32, k33, k43.T), axis=1)\r\n",
    "    aux4 = np.concatenate((k41, k42, k43, k44), axis=1)\r\n",
    "    k = np.concatenate((aux1, aux2, aux3, aux4), axis=0)\r\n",
    "\r\n",
    "    \r\n",
    "    return E*h**3/(48*(1-nu**2)*a*b)*k"
   ],
   "outputs": [],
   "metadata": {}
  },
  {
   "cell_type": "markdown",
   "source": [
    "# Mesh Definition"
   ],
   "metadata": {}
  },
  {
   "cell_type": "code",
   "execution_count": 3,
   "source": [
    "# Node coordinates\r\n",
    "# 2D rectangular plate, square ACM elements\r\n",
    "eSize = 0.01 # meters\r\n",
    "nElementX = int(L/eSize)\r\n",
    "nElementY = int(H/eSize)\r\n",
    "nElements = nElementX * nElementY\r\n",
    "dx = L / nElementX\r\n",
    "dy = H / nElementY\r\n",
    "nNodesX = nElementX + 1\r\n",
    "nNodesY = nElementY + 1\r\n",
    "nNodes = nNodesX * nNodesY\r\n",
    "ndof = nNodes*3\r\n",
    "\r\n",
    "# Degrees of Freedom\r\n",
    "# Define the number of each DoF for each node\r\n",
    "node_dof = np.arange(1, 3*nNodes+1).reshape((nNodes, 3))\r\n",
    "node_dof = pd.DataFrame(columns=[\"w\", \"thetaX\", \"thetaY\"], index=np.arange(1, nNodes+1), data=node_dof, dtype=int)\r\n",
    "node_dof.index.rename(\"Node\", inplace=True)\r\n",
    "node_dof.rename_axis(\"DoF\", axis=\"columns\", inplace=True)\r\n",
    "\r\n",
    "# Nodes coordinates\r\n",
    "node_coor = np.zeros((nNodes, 2))\r\n",
    "for n in range(1, nNodes+1):\r\n",
    "    q, r = divmod(n-1, nNodesX) # quotient and remainder\r\n",
    "    node_coor[n-1, 0] = r*dx\r\n",
    "    node_coor[n-1, 1] = q*dy\r\n",
    "\r\n",
    "node_coor = pd.DataFrame(columns=[\"x\", \"y\"], index=np.arange(1, nNodes+1), data=node_coor)\r\n",
    "node_coor.index.rename(\"Node\", inplace=True)\r\n",
    "node_coor.rename_axis(\"Coordinate\", axis=\"columns\", inplace=True)\r\n",
    "\r\n",
    "# Conectivity matrix\r\n",
    "# Relates local nodes of elements to dofobal nodes\r\n",
    "element_con = np.zeros((nElements, 4))\r\n",
    "for n in range(1, nElements+1):\r\n",
    "    q, r = divmod(n, nElementX) # quotient and remainder\r\n",
    "    if r == 0:\r\n",
    "        q = q-1\r\n",
    "        r = nElementX\r\n",
    "    a = q*nNodesX + r\r\n",
    "    element_con[n-1, 0] = a\r\n",
    "    element_con[n-1, 1] = a + 1\r\n",
    "    element_con[n-1, 2] = a + nNodesX + 1\r\n",
    "    element_con[n-1, 3] = a + nNodesX\r\n",
    "\r\n",
    "element_con = pd.DataFrame(columns=[\"1\", \"2\", \"3\", \"4\"], index=np.arange(1, nElements+1), data=element_con, dtype=int)\r\n",
    "element_con.index.rename(\"Element\", inplace=True)\r\n",
    "element_con.rename_axis(\"Local Node\", axis=\"columns\", inplace=True)\r\n",
    "\r\n",
    "# Index table\r\n",
    "# Relates the dofobal DoF associated with each element\r\n",
    "index_table = np.zeros((nElements, 12))\r\n",
    "for n in range(1, nElements+1):\r\n",
    "    index_table[n-1, 0] = node_dof[\"w\"][element_con[\"1\"][n]] # w, local node 1\r\n",
    "    index_table[n-1, 1] = node_dof[\"thetaX\"][element_con[\"1\"][n]] # thetaX, local node 1\r\n",
    "    index_table[n-1, 2] = node_dof[\"thetaY\"][element_con[\"1\"][n]] # thetaY, locasl node 1\r\n",
    "\r\n",
    "    index_table[n-1, 3] = node_dof[\"w\"][element_con[\"2\"][n]] # w, local node 2\r\n",
    "    index_table[n-1, 4] = node_dof[\"thetaX\"][element_con[\"2\"][n]] # thetaX, local node 2\r\n",
    "    index_table[n-1, 5] = node_dof[\"thetaY\"][element_con[\"2\"][n]] # thetaY, locasl node 2\r\n",
    "\r\n",
    "    index_table[n-1, 6] = node_dof[\"w\"][element_con[\"3\"][n]] # w, local node 3\r\n",
    "    index_table[n-1, 7] = node_dof[\"thetaX\"][element_con[\"3\"][n]] # thetaX, local node 3\r\n",
    "    index_table[n-1, 8] = node_dof[\"thetaY\"][element_con[\"3\"][n]] # thetaY, locasl node 3\r\n",
    "\r\n",
    "    index_table[n-1, 9] = node_dof[\"w\"][element_con[\"4\"][n]] # w, local node 4\r\n",
    "    index_table[n-1, 10] = node_dof[\"thetaX\"][element_con[\"4\"][n]] # thetaX, local node 4\r\n",
    "    index_table[n-1, 11] = node_dof[\"thetaY\"][element_con[\"4\"][n]] # thetaY, locasl node 4\r\n",
    "\r\n",
    "col = pd.MultiIndex.from_arrays([[\"Local Node 1\"]*3+ [\"Local Node 2\"]*3+ [\"Local Node 3\"]*3+ [\"Local Node 4\"]*3,\r\n",
    "                                [\"w\", \"thetaX\", \"thetaY\"]*4])\r\n",
    "index_table = pd.DataFrame(columns=col, index=np.arange(1, nElements+1), data=index_table, dtype=int)\r\n",
    "index_table.index.rename(\"Element\", inplace=True)"
   ],
   "outputs": [],
   "metadata": {}
  },
  {
   "cell_type": "code",
   "execution_count": 4,
   "source": [
    "node_dof.head()"
   ],
   "outputs": [
    {
     "output_type": "execute_result",
     "data": {
      "text/plain": [
       "DoF    w  thetaX  thetaY\n",
       "Node                    \n",
       "1      1       2       3\n",
       "2      4       5       6\n",
       "3      7       8       9\n",
       "4     10      11      12\n",
       "5     13      14      15"
      ],
      "text/html": [
       "<div>\n",
       "<style scoped>\n",
       "    .dataframe tbody tr th:only-of-type {\n",
       "        vertical-align: middle;\n",
       "    }\n",
       "\n",
       "    .dataframe tbody tr th {\n",
       "        vertical-align: top;\n",
       "    }\n",
       "\n",
       "    .dataframe thead th {\n",
       "        text-align: right;\n",
       "    }\n",
       "</style>\n",
       "<table border=\"1\" class=\"dataframe\">\n",
       "  <thead>\n",
       "    <tr style=\"text-align: right;\">\n",
       "      <th>DoF</th>\n",
       "      <th>w</th>\n",
       "      <th>thetaX</th>\n",
       "      <th>thetaY</th>\n",
       "    </tr>\n",
       "    <tr>\n",
       "      <th>Node</th>\n",
       "      <th></th>\n",
       "      <th></th>\n",
       "      <th></th>\n",
       "    </tr>\n",
       "  </thead>\n",
       "  <tbody>\n",
       "    <tr>\n",
       "      <th>1</th>\n",
       "      <td>1</td>\n",
       "      <td>2</td>\n",
       "      <td>3</td>\n",
       "    </tr>\n",
       "    <tr>\n",
       "      <th>2</th>\n",
       "      <td>4</td>\n",
       "      <td>5</td>\n",
       "      <td>6</td>\n",
       "    </tr>\n",
       "    <tr>\n",
       "      <th>3</th>\n",
       "      <td>7</td>\n",
       "      <td>8</td>\n",
       "      <td>9</td>\n",
       "    </tr>\n",
       "    <tr>\n",
       "      <th>4</th>\n",
       "      <td>10</td>\n",
       "      <td>11</td>\n",
       "      <td>12</td>\n",
       "    </tr>\n",
       "    <tr>\n",
       "      <th>5</th>\n",
       "      <td>13</td>\n",
       "      <td>14</td>\n",
       "      <td>15</td>\n",
       "    </tr>\n",
       "  </tbody>\n",
       "</table>\n",
       "</div>"
      ]
     },
     "metadata": {},
     "execution_count": 4
    }
   ],
   "metadata": {}
  },
  {
   "cell_type": "code",
   "execution_count": 5,
   "source": [
    "element_con.head()"
   ],
   "outputs": [
    {
     "output_type": "execute_result",
     "data": {
      "text/plain": [
       "Local Node  1  2   3   4\n",
       "Element                 \n",
       "1           1  2  23  22\n",
       "2           2  3  24  23\n",
       "3           3  4  25  24\n",
       "4           4  5  26  25\n",
       "5           5  6  27  26"
      ],
      "text/html": [
       "<div>\n",
       "<style scoped>\n",
       "    .dataframe tbody tr th:only-of-type {\n",
       "        vertical-align: middle;\n",
       "    }\n",
       "\n",
       "    .dataframe tbody tr th {\n",
       "        vertical-align: top;\n",
       "    }\n",
       "\n",
       "    .dataframe thead th {\n",
       "        text-align: right;\n",
       "    }\n",
       "</style>\n",
       "<table border=\"1\" class=\"dataframe\">\n",
       "  <thead>\n",
       "    <tr style=\"text-align: right;\">\n",
       "      <th>Local Node</th>\n",
       "      <th>1</th>\n",
       "      <th>2</th>\n",
       "      <th>3</th>\n",
       "      <th>4</th>\n",
       "    </tr>\n",
       "    <tr>\n",
       "      <th>Element</th>\n",
       "      <th></th>\n",
       "      <th></th>\n",
       "      <th></th>\n",
       "      <th></th>\n",
       "    </tr>\n",
       "  </thead>\n",
       "  <tbody>\n",
       "    <tr>\n",
       "      <th>1</th>\n",
       "      <td>1</td>\n",
       "      <td>2</td>\n",
       "      <td>23</td>\n",
       "      <td>22</td>\n",
       "    </tr>\n",
       "    <tr>\n",
       "      <th>2</th>\n",
       "      <td>2</td>\n",
       "      <td>3</td>\n",
       "      <td>24</td>\n",
       "      <td>23</td>\n",
       "    </tr>\n",
       "    <tr>\n",
       "      <th>3</th>\n",
       "      <td>3</td>\n",
       "      <td>4</td>\n",
       "      <td>25</td>\n",
       "      <td>24</td>\n",
       "    </tr>\n",
       "    <tr>\n",
       "      <th>4</th>\n",
       "      <td>4</td>\n",
       "      <td>5</td>\n",
       "      <td>26</td>\n",
       "      <td>25</td>\n",
       "    </tr>\n",
       "    <tr>\n",
       "      <th>5</th>\n",
       "      <td>5</td>\n",
       "      <td>6</td>\n",
       "      <td>27</td>\n",
       "      <td>26</td>\n",
       "    </tr>\n",
       "  </tbody>\n",
       "</table>\n",
       "</div>"
      ]
     },
     "metadata": {},
     "execution_count": 5
    }
   ],
   "metadata": {}
  },
  {
   "cell_type": "code",
   "execution_count": 6,
   "source": [
    "index_table.head()"
   ],
   "outputs": [
    {
     "output_type": "execute_result",
     "data": {
      "text/plain": [
       "        Local Node 1               Local Node 2               Local Node 3  \\\n",
       "                   w thetaX thetaY            w thetaX thetaY            w   \n",
       "Element                                                                      \n",
       "1                  1      2      3            4      5      6           67   \n",
       "2                  4      5      6            7      8      9           70   \n",
       "3                  7      8      9           10     11     12           73   \n",
       "4                 10     11     12           13     14     15           76   \n",
       "5                 13     14     15           16     17     18           79   \n",
       "\n",
       "                      Local Node 4                \n",
       "        thetaX thetaY            w thetaX thetaY  \n",
       "Element                                           \n",
       "1           68     69           64     65     66  \n",
       "2           71     72           67     68     69  \n",
       "3           74     75           70     71     72  \n",
       "4           77     78           73     74     75  \n",
       "5           80     81           76     77     78  "
      ],
      "text/html": [
       "<div>\n",
       "<style scoped>\n",
       "    .dataframe tbody tr th:only-of-type {\n",
       "        vertical-align: middle;\n",
       "    }\n",
       "\n",
       "    .dataframe tbody tr th {\n",
       "        vertical-align: top;\n",
       "    }\n",
       "\n",
       "    .dataframe thead tr th {\n",
       "        text-align: left;\n",
       "    }\n",
       "\n",
       "    .dataframe thead tr:last-of-type th {\n",
       "        text-align: right;\n",
       "    }\n",
       "</style>\n",
       "<table border=\"1\" class=\"dataframe\">\n",
       "  <thead>\n",
       "    <tr>\n",
       "      <th></th>\n",
       "      <th colspan=\"3\" halign=\"left\">Local Node 1</th>\n",
       "      <th colspan=\"3\" halign=\"left\">Local Node 2</th>\n",
       "      <th colspan=\"3\" halign=\"left\">Local Node 3</th>\n",
       "      <th colspan=\"3\" halign=\"left\">Local Node 4</th>\n",
       "    </tr>\n",
       "    <tr>\n",
       "      <th></th>\n",
       "      <th>w</th>\n",
       "      <th>thetaX</th>\n",
       "      <th>thetaY</th>\n",
       "      <th>w</th>\n",
       "      <th>thetaX</th>\n",
       "      <th>thetaY</th>\n",
       "      <th>w</th>\n",
       "      <th>thetaX</th>\n",
       "      <th>thetaY</th>\n",
       "      <th>w</th>\n",
       "      <th>thetaX</th>\n",
       "      <th>thetaY</th>\n",
       "    </tr>\n",
       "    <tr>\n",
       "      <th>Element</th>\n",
       "      <th></th>\n",
       "      <th></th>\n",
       "      <th></th>\n",
       "      <th></th>\n",
       "      <th></th>\n",
       "      <th></th>\n",
       "      <th></th>\n",
       "      <th></th>\n",
       "      <th></th>\n",
       "      <th></th>\n",
       "      <th></th>\n",
       "      <th></th>\n",
       "    </tr>\n",
       "  </thead>\n",
       "  <tbody>\n",
       "    <tr>\n",
       "      <th>1</th>\n",
       "      <td>1</td>\n",
       "      <td>2</td>\n",
       "      <td>3</td>\n",
       "      <td>4</td>\n",
       "      <td>5</td>\n",
       "      <td>6</td>\n",
       "      <td>67</td>\n",
       "      <td>68</td>\n",
       "      <td>69</td>\n",
       "      <td>64</td>\n",
       "      <td>65</td>\n",
       "      <td>66</td>\n",
       "    </tr>\n",
       "    <tr>\n",
       "      <th>2</th>\n",
       "      <td>4</td>\n",
       "      <td>5</td>\n",
       "      <td>6</td>\n",
       "      <td>7</td>\n",
       "      <td>8</td>\n",
       "      <td>9</td>\n",
       "      <td>70</td>\n",
       "      <td>71</td>\n",
       "      <td>72</td>\n",
       "      <td>67</td>\n",
       "      <td>68</td>\n",
       "      <td>69</td>\n",
       "    </tr>\n",
       "    <tr>\n",
       "      <th>3</th>\n",
       "      <td>7</td>\n",
       "      <td>8</td>\n",
       "      <td>9</td>\n",
       "      <td>10</td>\n",
       "      <td>11</td>\n",
       "      <td>12</td>\n",
       "      <td>73</td>\n",
       "      <td>74</td>\n",
       "      <td>75</td>\n",
       "      <td>70</td>\n",
       "      <td>71</td>\n",
       "      <td>72</td>\n",
       "    </tr>\n",
       "    <tr>\n",
       "      <th>4</th>\n",
       "      <td>10</td>\n",
       "      <td>11</td>\n",
       "      <td>12</td>\n",
       "      <td>13</td>\n",
       "      <td>14</td>\n",
       "      <td>15</td>\n",
       "      <td>76</td>\n",
       "      <td>77</td>\n",
       "      <td>78</td>\n",
       "      <td>73</td>\n",
       "      <td>74</td>\n",
       "      <td>75</td>\n",
       "    </tr>\n",
       "    <tr>\n",
       "      <th>5</th>\n",
       "      <td>13</td>\n",
       "      <td>14</td>\n",
       "      <td>15</td>\n",
       "      <td>16</td>\n",
       "      <td>17</td>\n",
       "      <td>18</td>\n",
       "      <td>79</td>\n",
       "      <td>80</td>\n",
       "      <td>81</td>\n",
       "      <td>76</td>\n",
       "      <td>77</td>\n",
       "      <td>78</td>\n",
       "    </tr>\n",
       "  </tbody>\n",
       "</table>\n",
       "</div>"
      ]
     },
     "metadata": {},
     "execution_count": 6
    }
   ],
   "metadata": {}
  },
  {
   "cell_type": "markdown",
   "source": [
    "# Assembly of [K] and [M]"
   ],
   "metadata": {}
  },
  {
   "cell_type": "code",
   "execution_count": 7,
   "source": [
    "start_assy = datetime.now()\r\n",
    "K = np.zeros((ndof,ndof))\r\n",
    "M = np.zeros((ndof,ndof))\r\n",
    "\r\n",
    "Ke = k_e(dx, dy)\r\n",
    "Me = m_e(dx, dy)\r\n",
    "\r\n",
    "for n in range(1, nElements+1):\r\n",
    "    Mee = np.zeros((ndof,ndof))\r\n",
    "    Kee = np.zeros((ndof,ndof))\r\n",
    "    idx = index_table.loc[n].to_list()\r\n",
    "    for i, p in enumerate(idx):\r\n",
    "        for j, q in enumerate(idx):\r\n",
    "            Mee[p-1,q-1] = Me[i, j]\r\n",
    "            Kee[p-1,q-1] = Ke[i, j]\r\n",
    "    M += Mee\r\n",
    "    K += Kee\r\n",
    "\r\n",
    "finish_assy = datetime.now()\r\n",
    "print(\"Elapsed time: \", finish_assy-start_assy)"
   ],
   "outputs": [
    {
     "output_type": "stream",
     "name": "stdout",
     "text": [
      "Elapsed time:  0:00:58.635026\n"
     ]
    }
   ],
   "metadata": {}
  },
  {
   "cell_type": "markdown",
   "source": [
    "# Find nodes inside BC regions and remove fixed DoF from [K] and [M]"
   ],
   "metadata": {}
  },
  {
   "cell_type": "code",
   "execution_count": 8,
   "source": [
    "# Fixed boundary conditions: Two points rectandofe\r\n",
    "region1 = np.array([[0.000, 0.100], [0.010, 0.120]])\r\n",
    "region2 = np.array([[0.000, 0.380], [0.010, 0.400]])\r\n",
    "region3 = np.array([[0.180, 0.240], [0.200, 0.280]])\r\n",
    "regions = {1: region1, 2: region2, 3: region3}\r\n",
    "\r\n",
    "fixed_dof = list()\r\n",
    "fixed_nodes = list()\r\n",
    "for r in regions.values():\r\n",
    "    fixed_nodes += node_coor[(node_coor['x'].between(r[0][0], r[1][0])) & (node_coor['y'].between(r[0][1], r[1][1]))].index.tolist()\r\n",
    "\r\n",
    "for node in fixed_nodes: \r\n",
    "    fixed_dof += node_dof.loc[node].tolist()\r\n",
    "\r\n",
    "# Ordering the fixed degrees of fredom to removem from [K] and [M]\r\n",
    "idx = np.array(fixed_dof).argsort()\r\n",
    "fixed_dof = np.array(fixed_dof)[idx].tolist()\r\n",
    "\r\n",
    "M_backup = M.copy()\r\n",
    "K_backup = K.copy()\r\n",
    "\r\n",
    "M = np.delete(M, np.asarray(fixed_dof)-1, axis=1)\r\n",
    "M = np.delete(M, np.asarray(fixed_dof)-1, axis=0)\r\n",
    "K = np.delete(K, np.asarray(fixed_dof)-1, axis=1)\r\n",
    "K = np.delete(K, np.asarray(fixed_dof)-1, axis=0)"
   ],
   "outputs": [],
   "metadata": {}
  },
  {
   "cell_type": "code",
   "execution_count": 10,
   "source": [
    "plt.figure(figsize=(30/5,50/5))\r\n",
    "plt.scatter(x=node_coor['x'], y=node_coor['y'], label=\"Free node\")\r\n",
    "plt.scatter(x=node_coor['x'][fixed_nodes], y=node_coor['y'][fixed_nodes], marker='x', label='Fixed node')\r\n",
    "plt.title(\"Nodes\")\r\n",
    "plt.legend(loc='upper center', bbox_to_anchor=(1.2, 1))\r\n",
    "plt.xlabel(\"X location [m]\")\r\n",
    "plt.ylabel(\"Y location [m]\")\r\n",
    "plt.tight_layout()"
   ],
   "outputs": [
    {
     "output_type": "display_data",
     "data": {
      "text/plain": [
       "<Figure size 432x720 with 1 Axes>"
      ],
      "image/png": "[encoded data removed]"
     },
     "metadata": {
      "needs_background": "light"
     }
    }
   ],
   "metadata": {}
  },
  {
   "cell_type": "code",
   "execution_count": 11,
   "source": [
    "np.savetxt(f\"M_{eSize}.csv\", M, delimiter=\",\")\r\n",
    "np.savetxt(f\"K_{eSize}.csv\", K, delimiter=\",\")"
   ],
   "outputs": [],
   "metadata": {}
  },
  {
   "cell_type": "code",
   "execution_count": 12,
   "source": [
    "# from numpy import genfromtxt\r\n",
    "# M = genfromtxt('M_0.005.csv', delimiter=',')\r\n",
    "# M = sp.sparse.bsr_matrix(M)\r\n",
    "# K = genfromtxt('K_0.005.csv', delimiter=',')\r\n",
    "# K = sp.sparse.bsr_matrix(K)"
   ],
   "outputs": [],
   "metadata": {}
  },
  {
   "cell_type": "markdown",
   "source": [
    "# Solve eignevalue problem"
   ],
   "metadata": {}
  },
  {
   "cell_type": "code",
   "execution_count": 13,
   "source": [
    "start_eig = datetime.now()\r\n",
    "resultados = dict()\r\n",
    "\r\n",
    "# Problema de autovalor generalizado. W é um vetor e A uma matrix com as colunas normalizadas\r\n",
    "M = sp.sparse.bsr_matrix(M)\r\n",
    "K = sp.sparse.bsr_matrix(K)\r\n",
    "W, Vc = eigsh(A=K, k=40, M=M, which='SM')\r\n",
    "\r\n",
    "# Ordenando os autovalores e a matriz de autovetores\r\n",
    "idx = W.argsort()\r\n",
    "W = W[idx]\r\n",
    "Vc = Vc[:,idx]\r\n",
    "Vc_backup = Vc.copy()\r\n",
    "\r\n",
    "# Normalizando os autovetores pela matriz de massa, de forma que A'@M@A = I\r\n",
    "m_r = np.diagonal(Vc.T @ M @ Vc)\r\n",
    "m_r = np.reciprocal(np.sqrt(m_r))\r\n",
    "for a in range(Vc.shape[1]):\r\n",
    "    Vc[:,a] *= m_r[a] # multiplica cada coluna pelo fator de escala\r\n",
    "    \r\n",
    "## Montando as formas modais\r\n",
    "# Incluindo os dof das condições de contorno\r\n",
    "for c in fixed_dof:\r\n",
    "    Vc = np.insert(Vc, c-1, 0, axis=0)\r\n",
    "\r\n",
    "resultados[nElements] = dict()\r\n",
    "resultados[nElements]['fn'] = (W**0.5/(2*pi)).real\r\n",
    "resultados[nElements]['V'] = Vc[0::3, :].real # Displacement shape (dof 1,4,7,10,13,...) \r\n",
    "resultados[nElements]['theta'] = np.delete(Vc, np.arange(0, Vc.shape[1]-1, 4), axis = 1).real # Angular shapes (dof 2,3,5,6,8,9,11,12,...)\r\n",
    "\r\n",
    "# Faz as formas modais terem a mesma orientação\r\n",
    "for j in range(1, W.size):\r\n",
    "    if np.sum(resultados[nElements]['V'][:,j-1]) >= 0:\r\n",
    "        pass\r\n",
    "    else:\r\n",
    "        resultados[nElements]['V'][:,j-1] *= -1\r\n",
    "\r\n",
    "finish_eig = datetime.now()\r\n",
    "print(\"Elapsed time: \", finish_eig-start_eig)"
   ],
   "outputs": [
    {
     "output_type": "stream",
     "name": "stdout",
     "text": [
      "Elapsed time:  0:02:11.358666\n"
     ]
    }
   ],
   "metadata": {}
  },
  {
   "cell_type": "code",
   "execution_count": 14,
   "source": [
    "np.savetxt(f\"fn_{eSize}.csv\", (W**0.5/(2*pi)).real, delimiter=\",\")\r\n",
    "np.savetxt(f\"Vc_{eSize}.csv\", Vc_backup, delimiter=\",\")"
   ],
   "outputs": [],
   "metadata": {}
  },
  {
   "cell_type": "code",
   "execution_count": 15,
   "source": [
    "n = np.array([nElements])\r\n",
    "pd.options.display.float_format = \"{:.2f}\".format\r\n",
    "pd.DataFrame(data=[resultados[n_b]['fn'] for n_b in n], index=[f\"n={i}\" for i in n], columns=[f\"f_{j}\" for j in range(1, len(resultados[n.max()]['fn'])+1)])"
   ],
   "outputs": [
    {
     "output_type": "execute_result",
     "data": {
      "text/plain": [
       "         f_1   f_2    f_3    f_4    f_5    f_6    f_7    f_8    f_9   f_10  \\\n",
       "n=1000 42.60 45.42 115.52 123.00 127.77 178.20 192.70 251.91 259.41 310.68   \n",
       "\n",
       "        ...    f_31    f_32    f_33    f_34    f_35    f_36    f_37    f_38  \\\n",
       "n=1000  ... 1135.61 1174.68 1185.72 1224.10 1257.06 1303.71 1333.00 1375.16   \n",
       "\n",
       "          f_39    f_40  \n",
       "n=1000 1454.22 1486.74  \n",
       "\n",
       "[1 rows x 40 columns]"
      ],
      "text/html": [
       "<div>\n",
       "<style scoped>\n",
       "    .dataframe tbody tr th:only-of-type {\n",
       "        vertical-align: middle;\n",
       "    }\n",
       "\n",
       "    .dataframe tbody tr th {\n",
       "        vertical-align: top;\n",
       "    }\n",
       "\n",
       "    .dataframe thead th {\n",
       "        text-align: right;\n",
       "    }\n",
       "</style>\n",
       "<table border=\"1\" class=\"dataframe\">\n",
       "  <thead>\n",
       "    <tr style=\"text-align: right;\">\n",
       "      <th></th>\n",
       "      <th>f_1</th>\n",
       "      <th>f_2</th>\n",
       "      <th>f_3</th>\n",
       "      <th>f_4</th>\n",
       "      <th>f_5</th>\n",
       "      <th>f_6</th>\n",
       "      <th>f_7</th>\n",
       "      <th>f_8</th>\n",
       "      <th>f_9</th>\n",
       "      <th>f_10</th>\n",
       "      <th>...</th>\n",
       "      <th>f_31</th>\n",
       "      <th>f_32</th>\n",
       "      <th>f_33</th>\n",
       "      <th>f_34</th>\n",
       "      <th>f_35</th>\n",
       "      <th>f_36</th>\n",
       "      <th>f_37</th>\n",
       "      <th>f_38</th>\n",
       "      <th>f_39</th>\n",
       "      <th>f_40</th>\n",
       "    </tr>\n",
       "  </thead>\n",
       "  <tbody>\n",
       "    <tr>\n",
       "      <th>n=1000</th>\n",
       "      <td>42.60</td>\n",
       "      <td>45.42</td>\n",
       "      <td>115.52</td>\n",
       "      <td>123.00</td>\n",
       "      <td>127.77</td>\n",
       "      <td>178.20</td>\n",
       "      <td>192.70</td>\n",
       "      <td>251.91</td>\n",
       "      <td>259.41</td>\n",
       "      <td>310.68</td>\n",
       "      <td>...</td>\n",
       "      <td>1135.61</td>\n",
       "      <td>1174.68</td>\n",
       "      <td>1185.72</td>\n",
       "      <td>1224.10</td>\n",
       "      <td>1257.06</td>\n",
       "      <td>1303.71</td>\n",
       "      <td>1333.00</td>\n",
       "      <td>1375.16</td>\n",
       "      <td>1454.22</td>\n",
       "      <td>1486.74</td>\n",
       "    </tr>\n",
       "  </tbody>\n",
       "</table>\n",
       "<p>1 rows × 40 columns</p>\n",
       "</div>"
      ]
     },
     "metadata": {},
     "execution_count": 15
    }
   ],
   "metadata": {}
  },
  {
   "cell_type": "code",
   "execution_count": 16,
   "source": [
    "mode1 = resultados[nElements]['V'][:,8].reshape((nNodesY, nNodesX))\r\n",
    "\r\n",
    "x = np.linspace(0, L, nNodesX)\r\n",
    "y = np.linspace(0, H, nNodesY)\r\n",
    "\r\n",
    "X, Y = np.meshgrid(x, y)\r\n",
    "Z = mode1\r\n",
    "\r\n",
    "fig, ax = plt.subplots(subplot_kw={\"projection\": \"3d\"})\r\n",
    "surf = ax.plot_surface(X, Y, Z, cmap=cm.coolwarm, linewidth=0, antialiased=False)\r\n",
    "plt.show()"
   ],
   "outputs": [
    {
     "output_type": "display_data",
     "data": {
      "text/plain": [
       "<Figure size 432x288 with 1 Axes>"
      ],
      "image/png": "[encoded data removed]"
     },
     "metadata": {
      "needs_background": "light"
     }
    }
   ],
   "metadata": {}
  },
  {
   "cell_type": "code",
   "execution_count": 17,
   "source": [
    "z_data = pd.DataFrame(resultados[nElements]['V'][:,0].reshape((nNodesY, nNodesX)))\r\n",
    "\r\n",
    "fig = go.Figure(data=[go.Surface(z=z_data.values)])\r\n",
    "\r\n",
    "fig.update_layout(title='First mode shape', autosize=False,\r\n",
    "                  width=1000, height=1000,\r\n",
    "                  margin=dict(l=65, r=50, b=65, t=90))\r\n",
    "\r\n",
    "fig.show()"
   ],
   "outputs": [
    {
     "output_type": "display_data",
     "data": {
      "application/vnd.plotly.v1+json": {
       "config": {
        "plotlyServerURL": "https://plot.ly"
       },
       "data": [
        {
         "type": "surface",
         "z": [
          [
           0.6978805629094769,
           0.84433818670429,
           0.9930433203364516,
           1.1455676549959894,
           1.302801169793275,
           1.4650631107531598,
           1.632171265814215,
           1.8035348627760144,
           1.9782640533854654,
           2.1552805970485727,
           2.3334184756457708,
           2.511509243589117,
           2.6884517112969735,
           2.8632682714672875,
           3.035151230064798,
           3.2035026393010217,
           3.367970999639183,
           3.528488395186247,
           3.685313160656859,
           3.8390919843976117,
           3.9910121033894215
          ],
          [
           0.5833286214055659,
           0.7281273647655341,
           0.8743509632276764,
           1.023724170377419,
           1.1773248484136212,
           1.3356006536826175,
           1.498447782838256,
           1.6653251024747042,
           1.8353833212716717,
           2.007588912069036,
           2.1808308950600095,
           2.354007084899283,
           2.5260917680684,
           2.696189014576221,
           2.8635761649386384,
           3.02774161549689,
           3.1884206059634583,
           3.3456328673618407,
           3.499727515951508,
           3.6514457913806404,
           3.8020044375104813
          ],
          [
           0.47119267350639776,
           0.6131513992368897,
           0.7560024499586716,
           0.9016322147708754,
           1.0512728312278667,
           1.205455151087879,
           1.3640958996645813,
           1.5266447829928431,
           1.6922430540033888,
           1.8598642113657964,
           2.0284258352934645,
           2.196873700122014,
           2.3642443283422057,
           2.5297127851179257,
           2.6926314392375703,
           2.8525641257528243,
           3.0093192270081817,
           3.1629847853077364,
           3.3139686077624844,
           3.463043166339267,
           3.6113714955992102
          ],
          [
           0.3637219988970451,
           0.5013979317933498,
           0.6396528040641606,
           0.7806640188511752,
           0.9258147109575302,
           1.0756530113024243,
           1.23002689234996,
           1.3882936978739686,
           1.5495227997586654,
           1.7126541798626103,
           1.876609819907149,
           2.0403692101887945,
           2.2030217265577017,
           2.3638055552932515,
           2.522139558940135,
           2.677652157601579,
           2.8302098695553957,
           2.979947099999805,
           3.127296994457046,
           3.2730181255422175,
           3.4182047800346615
          ],
          [
           0.2632939724708224,
           0.3949414673865581,
           0.5270720134731872,
           0.6623510948513923,
           0.8023292290257837,
           0.947470346386374,
           1.097421923882608,
           1.2513422183086422,
           1.4081619820649114,
           1.5667527410264281,
           1.7260246089679758,
           1.884983143005784,
           2.042765603781877,
           2.1986679195714354,
           2.352168056299883,
           2.5029485856927063,
           2.650919731136195,
           2.796243029677321,
           2.9393541341769054,
           3.0809810170297323,
           3.2221537441982777
          ],
          [
           0.17267713680663432,
           0.29603855519053635,
           0.4201203003466428,
           0.5483377365591188,
           0.6823766744419776,
           0.8224208842278121,
           0.9677200671212117,
           1.117110637131224,
           1.2693299760972052,
           1.423163983140775,
           1.577508406178985,
           1.731395426317281,
           1.884009230834458,
           2.0346996633676384,
           2.1829968850099384,
           2.328627700791445,
           2.4715333444750582,
           2.611887953481946,
           2.750116315792447,
           2.8869091376635265,
           3.023235256952966
          ],
          [
           0.09520446941743173,
           0.20716320244837833,
           0.32071515376787446,
           0.4403673703186061,
           0.5677233627403462,
           0.7022810039054117,
           0.8426155263413623,
           0.9871373819293288,
           1.134376455132106,
           1.283045721621834,
           1.4320396946239045,
           1.5804238850950791,
           1.7274297346067597,
           1.8724565387915315,
           2.0150788575649425,
           2.1550576758606623,
           2.292353893894675,
           2.427142973330786,
           2.5598297342582947,
           2.6910627338685837,
           2.8217487494849594
          ],
          [
           0.03498336452965616,
           0.1309375203150452,
           0.2307357775381536,
           0.3403264563675668,
           0.46045114710115004,
           0.5891443462711776,
           0.7240355645874723,
           0.8631102331462379,
           1.0047463911624575,
           1.1476257707279645,
           1.2906619512484232,
           1.4329589480651217,
           1.573791820407677,
           1.7126010506520921,
           1.8489951386907162,
           1.9827579953068273,
           2.113859100946081,
           2.2424652515229857,
           2.3689533242777085,
           2.4939241376883987,
           2.61821829634288
          ],
          [
           -0.0028347343461796962,
           0.06977093171604766,
           0.15189533147608736,
           0.25052542525861127,
           0.36318603687819956,
           0.485429985848579,
           0.6140246627783715,
           0.7467191839745252,
           0.8818435769942695,
           1.0180878928854158,
           1.154391648752329,
           1.2898896374724584,
           1.4238871796794363,
           1.5558511621899997,
           1.685409682199359,
           1.812356458317311,
           1.9366580024993596,
           2.0584626453140307,
           2.1781112645509615,
           2.296150193079207,
           2.4133473508103265
          ],
          [
           -0.012626427099057418,
           0.024827590592320262,
           0.08627370681047625,
           0.1746448762426488,
           0.27918457198776586,
           0.3935948613990649,
           0.5144267643772759,
           0.6394027156779762,
           0.7668444249223283,
           0.8954373662820865,
           1.0241199885621675,
           1.1520296312175475,
           1.2784765252220256,
           1.4029324548213806,
           1.5250273326101222,
           1.644550169527262,
           1.761452716661304,
           1.8758551930396221,
           1.988054306786308,
           2.098534346272247,
           2.2079824944362163
          ],
          [
           0,
           0,
           0.04090717388349133,
           0.11773696486033683,
           0.21122228031568172,
           0.31528457817776756,
           0.4263605258601977,
           0.5420302000781152,
           0.6605016054874862,
           0.7803748470207904,
           0.9005277429088642,
           1.0200563061345318,
           1.1382429941464798,
           1.2545399076042314,
           1.3685602004561255,
           1.4800740908214336,
           1.5890077447759559,
           1.695444591109822,
           1.799629538452653,
           1.9019771489268313,
           2.0030850647142313
          ],
          [
           0,
           0,
           0.022492554572186393,
           0.08066706760189309,
           0.15918645169372014,
           0.25029844680549446,
           0.3497318584493492,
           0.45465685566479835,
           0.5630124300096763,
           0.673219887938119,
           0.7840365527627997,
           0.8944763880235145,
           1.0037652298014161,
           1.111314649823981,
           1.2167059463714693,
           1.3196796533127453,
           1.420128356762019,
           1.5180923048169161,
           1.6137585162044368,
           1.707464818764847,
           1.7997104067748018
          ],
          [
           0,
           0,
           0.014467923540680333,
           0.05631098148679948,
           0.11912185993732594,
           0.19628386235081657,
           0.28315164837615703,
           0.3765108639390066,
           0.4740242340474701,
           0.5739184769418929,
           0.6748138225452532,
           0.7756271894471505,
           0.8755151306170897,
           0.9738386544196939,
           1.070139847615646,
           1.1641246097953077,
           1.2556487020536828,
           1.3447065222484127,
           1.4314237183092549,
           1.516055774021691,
           1.5989948159431049
          ],
          [
           -0.01624605611113718,
           -0.01206162081465304,
           0.0021189600612912217,
           0.03456799716899801,
           0.08508407382768914,
           0.149660957073064,
           0.22442051110148803,
           0.30626452040387075,
           0.3927938961953399,
           0.4821397522065348,
           0.5728321940986123,
           0.663713094426863,
           0.7538796503782754,
           0.8426468365069937,
           0.9295202558559547,
           1.01417382580389,
           1.096429359706608,
           1.1762376624012898,
           1.2536630914503017,
           1.3288750951515118,
           1.4021503841930028
          ],
          [
           -0.04951031833812103,
           -0.03788223403180007,
           -0.019755403717392785,
           0.009717423396278251,
           0.0524564744873988,
           0.10714808552925313,
           0.17131689627401972,
           0.24247108872897774,
           0.318442462843218,
           0.3974302176378316,
           0.4779655789604518,
           0.558866539176243,
           0.639200022636265,
           0.7182524014355975,
           0.7955048177608379,
           0.8706093164890444,
           0.9433631966951772,
           1.013681676849224,
           1.0815722675754424,
           1.1471168806709717,
           1.21046814591426
          ],
          [
           -0.08744636147926693,
           -0.06960880465483898,
           -0.047902790044997694,
           -0.01890584081079232,
           0.01931386693353785,
           0.06677567829716324,
           0.12223197238080223,
           0.1839582128632953,
           0.25020240397337756,
           0.31937170453086977,
           0.3900917408735339,
           0.46121582481429885,
           0.5318175879427973,
           0.6011786678039306,
           0.6687731972745781,
           0.7342468455332151,
           0.7973878241424982,
           0.8580900748341967,
           0.9163139380001252,
           0.9720546154803104,
           1.025330322904444
          ],
          [
           -0.12525250854512532,
           -0.10302698765707399,
           -0.078646663499335,
           -0.04959115936607923,
           -0.014224411145753924,
           0.027933362692827163,
           0.07637825489994206,
           0.13002797239695854,
           0.1875733652750085,
           0.2476944241858441,
           0.30917216861616126,
           0.3709414175552321,
           0.43211435023152245,
           0.4919896138186746,
           0.5500513365932567,
           0.6059560066970071,
           0.6595027667663945,
           0.7105855622435415,
           0.7591339979089885,
           0.8050601057288247,
           0.8482333209138795
          ],
          [
           -0.1606791971618277,
           -0.13558142727800565,
           -0.10946049016323983,
           -0.08043613876660446,
           -0.04718182314597335,
           -0.009112281845135147,
           0.03364725053444437,
           0.08045143582289459,
           0.1303606049102776,
           0.1823220584407945,
           0.23529133308933284,
           0.28830722243160695,
           0.34053814568962415,
           0.39131182222257194,
           0.4401323595875951,
           0.48668085682772644,
           0.5307897239861934,
           0.5723824631539906,
           0.6113844697769394,
           0.6476324132118844,
           0.6808247841935036
          ],
          [
           -0.19245574844413152,
           -0.16565482004171408,
           -0.13860261292048098,
           -0.10988135084723681,
           -0.07843699087767254,
           -0.04371173822052546,
           -0.005659060077027855,
           0.035342478470781084,
           0.07862310773362077,
           0.12335368246765009,
           0.16865182279936744,
           0.21366031852505035,
           0.25760514359307046,
           0.2998411918512064,
           0.33988927146789677,
           0.37745846497301444,
           0.41243491253762,
           0.4448116877832686,
           0.4745538753483682,
           0.5014397473679039,
           0.5249611320605041
          ],
          [
           -0.21979604158638255,
           -0.19218163763652155,
           -0.16485315859547447,
           -0.1367316689358756,
           -0.10698746779826573,
           -0.07513551598500268,
           -0.041063782181453685,
           -0.0049974202481543354,
           0.03257755535449341,
           0.07100320294651417,
           0.10953235017629828,
           0.14739839500237176,
           0.18387429686919876,
           0.21832700466998292,
           0.2502730250937819,
           0.279432221369534,
           0.30575323449493746,
           0.3293509619154102,
           0.3503065829489474,
           0.36837976728364674,
           0.3827979476241336
          ],
          [
           -0.24219852402696654,
           -0.21444813763237938,
           -0.18735810941728423,
           -0.1601001607378844,
           -0.13202305713842552,
           -0.1027228197416459,
           -0.07207272640361127,
           -0.04021210195607786,
           -0.007504544052870208,
           0.025519099175720174,
           0.05822018116710609,
           0.08990753171738608,
           0.11988855158388778,
           0.14752198290392868,
           0.17228319285727461,
           0.19385278915804366,
           0.21221458031633392,
           0.22766265989915002,
           0.24053376219055309,
           0.25066745762608933,
           0.25693724205950635
          ],
          [
           -0.25935549171049205,
           -0.23198763828244995,
           -0.20553501832456994,
           -0.1793553892294071,
           -0.15293613303600162,
           -0.12594690813361997,
           -0.09826724410010224,
           -0.06998723015149874,
           -0.04138613824395582,
           -0.012897513238194514,
           0.014930813458496983,
           0.04147615503538716,
           0.06607848379894632,
           0.08808027811663055,
           0.10688202394450434,
           0.12204307609854598,
           0.13347133694468452,
           0.1416462127113085,
           0.14742059458122536,
           0.15096586029276082,
           0.15067800602661358
          ],
          [
           -0.271107997881157,
           -0.24452274312649583,
           -0.21901536095621288,
           -0.19408122998061927,
           -0.16931292802585676,
           -0.1444402660612896,
           -0.11935420866403836,
           -0.09411287256950235,
           -0.0689317783790003,
           -0.04416324272863325,
           -0.020270600035010952,
           0.0021979264986841953,
           0.022632909136756158,
           0.04038546490200666,
           0.05479443253804557,
           0.06524587133487701,
           0.07135950550134593,
           0.07354266009881541,
           0.07353711219397661,
           0.0725925325127139,
           0.06844450522260706
          ],
          [
           -0.2774215357675845,
           -0.25193125794857657,
           -0.22760761733257037,
           -0.2040468093245807,
           -0.18091914715484528,
           -0.15799973929104197,
           -0.1351885115457382,
           -0.11251794922881775,
           -0.09014939167418064,
           -0.06836066268102436,
           -0.0475288380893338,
           -0.028112074833698444,
           -0.010633974370871326,
           0.004326883837500537,
           0.01614135842096487,
           0.024133549120749078,
           0.027617089931377556,
           0.026231392746688547,
           0.02206851397587818,
           0.01996359690989633,
           0.016324221626134065
          ],
          [
           -0.278371446228501,
           -0.2542242493197274,
           -0.23127176509792402,
           -0.2091828867197083,
           -0.18768355543197304,
           -0.16658036522634945,
           -0.14577693510718537,
           -0.12528151100033075,
           -0.10520581554331787,
           -0.0857565374605682,
           -0.06722174106278271,
           -0.04995482695168997,
           -0.03435864856955589,
           -0.020872232930535774,
           -0.009962178476965733,
           -0.00211808346839863,
           0.0021551359539513032,
           0.0023925226967240355,
           0,
           0,
           0
          ],
          [
           -0.27413289964447984,
           -0.2515303810027553,
           -0.23010000032462877,
           -0.20956196323399728,
           -0.1896804753303433,
           -0.17028205750078124,
           -0.15126885312662258,
           -0.13262533361663473,
           -0.11441783470498475,
           -0.09678732983437523,
           -0.07993650456183096,
           -0.06411238884886908,
           -0.0495854862031601,
           -0.036625480595388706,
           -0.02547200627128684,
           -0.01629623052788957,
           -0.009121675818189252,
           -0.003586914522275657,
           0,
           0,
           0
          ],
          [
           -0.26497311792136236,
           -0.2440836657860359,
           -0.22430103460718104,
           -0.2053806699951139,
           -0.1871117665474759,
           -0.1693318903020119,
           -0.15193812990950048,
           -0.13489299748484815,
           -0.11822407574793009,
           -0.10201721725061133,
           -0.08640367718284549,
           -0.07154172486708445,
           -0.057592988215907324,
           -0.04469322203216466,
           -0.03291718179336517,
           -0.02224225297105783,
           -0.012570425957247095,
           -0.004210863957298194,
           0,
           0,
           0
          ],
          [
           -0.25124499565699365,
           -0.23221345668561175,
           -0.21418688179651496,
           -0.19694404076913738,
           -0.18028916676139325,
           -0.16406449701627904,
           -0.14816049495181757,
           -0.13252164139083003,
           -0.11714648021491168,
           -0.10208154747073028,
           -0.08740960133978623,
           -0.07323309106395147,
           -0.059654291656499187,
           -0.04675491881047769,
           -0.034583476573949445,
           -0.02317936246185692,
           -0.012728951072901984,
           -0.0040856379685046676,
           0,
           0,
           0
          ],
          [
           -0.2333821475050574,
           -0.2163364963608572,
           -0.20016200438679224,
           -0.18465197868574565,
           -0.16961817098032392,
           -0.15490302168874032,
           -0.14039049059998393,
           -0.12601276588926505,
           -0.11175129167486626,
           -0.09763197627002737,
           -0.08371569426615984,
           -0.07008623863767073,
           -0.05683925992227996,
           -0.04407884076518667,
           -0.03193608839516149,
           -0.020640569141434847,
           -0.010694693379692208,
           -0.003168737710851536,
           0,
           0,
           0
          ],
          [
           -0.21189598401534998,
           -0.19695146316301707,
           -0.18271525465830227,
           -0.16898859959754028,
           -0.1555846645544267,
           -0.14234267460800343,
           -0.1291412579455874,
           -0.11590716411780895,
           -0.10261754395449545,
           -0.08929630217414598,
           -0.07600681563032187,
           -0.06284454167684492,
           -0.04993443948007022,
           -0.0374407175280842,
           -0.02560074581180739,
           -0.014798217573550902,
           -0.0056801238560962196,
           0.0007585716377484258,
           0.0037628952942566547,
           0.004573396347805804,
           0.0043388407285749366
          ],
          [
           -0.18737591851947222,
           -0.17463690410819452,
           -0.16241538363167235,
           -0.1505152538955005,
           -0.1387452722640194,
           -0.12693814614188748,
           -0.11496889085881933,
           -0.10276645300488062,
           -0.09031659696807769,
           -0.07765792320204015,
           -0.06487500324600881,
           -0.0520932126301248,
           -0.03948001624153642,
           -0.027257751316319002,
           -0.015732098057090034,
           -0.005332986388106627,
           0.0033668593567492905,
           0.009784994550867699,
           0.013801554002799091,
           0.015953120806758075,
           0.016656310683069372
          ],
          [
           -0.1604944649630658,
           -0.15005392316814264,
           -0.13991115986252875,
           -0.12986801579575816,
           -0.11972192235723675,
           -0.10929501817921747,
           -0.09846112736219459,
           -0.08716055667007422,
           -0.07540124187002398,
           -0.06325123680437503,
           -0.050829150343953834,
           -0.03829774209504465,
           -0.025863949651850033,
           -0.013786544054517095,
           -0.0023884590290663274,
           0.007939799541578765,
           0.016780974360515993,
           0.023826348750225417,
           0.029054371371999056,
           0.03269754246997217,
           0.034955449334292524
          ],
          [
           -0.13202017544108158,
           -0.12395573917824651,
           -0.1159375095575801,
           -0.10776040729501009,
           -0.09920050536939103,
           -0.09006392601600516,
           -0.08022802681566885,
           -0.06965769172667624,
           -0.05839920451273843,
           -0.04656417513493907,
           -0.03431399870575072,
           -0.021849793081670014,
           -0.009408617603217156,
           0.0027362581257772156,
           0.01427720988968191,
           0.024888515145595747,
           0.034273596271008816,
           0.04224411038153471,
           0.048777255218303756,
           0.05397778934606749,
           0.057959953456869946
          ],
          [
           -0.10284387671888327,
           -0.09720762857225035,
           -0.0913297347482878,
           -0.08499215725497287,
           -0.07793254677373596,
           -0.06993421886729694,
           -0.06088990863983044,
           -0.05081133815872851,
           -0.03980445256938523,
           -0.0280387491264914,
           -0.015724298370118142,
           -0.0030983501694971014,
           0.00958131492051666,
           0.02204090171967301,
           0.03399908229400035,
           0.0451865499662405,
           0.055380438927891865,
           0.06444392176374056,
           0.07234411361664311,
           0.07912701788876896,
           0.08486323332176979
          ],
          [
           -0.07402945726116768,
           -0.07082338291614014,
           -0.06704892211888525,
           -0.06246483705315309,
           -0.05673646037127657,
           -0.04961993868163809,
           -0.04105466939303775,
           -0.031137448727393165,
           -0.020060535754015705,
           -0.00806376536109145,
           0.004592389943491847,
           0.017639611358204292,
           0.03080776685584657,
           0.04382998386712562,
           0.05645139571062485,
           0.06844459212475809,
           0.0796307594817032,
           0.08989869336432,
           0.0992096674744021,
           0.10758187374540537,
           0.11506234066854927
          ],
          [
           -0.04691563452584431,
           -0.04602907153506295,
           -0.04422340258374375,
           -0.04120460654384003,
           -0.036486854987266844,
           -0.029822191599254467,
           -0.02127255594769057,
           -0.011075507930924457,
           0.00046681623858417954,
           0.013041176984699187,
           0.02634324423441133,
           0.04008337023918309,
           0.05398814905159848,
           0.06780281831707693,
           0.08129711067159114,
           0.09427515194289735,
           0.1065873056987058,
           0.11813905127160335,
           0.12889143701003464,
           0.1388512225821844,
           0.1480547991559045
          ],
          [
           -0.023337888547803984,
           -0.024363792170464967,
           -0.024222372717449713,
           -0.022380693064885628,
           -0.01805201218987558,
           -0.011136448771475772,
           -0.0019554756719160123,
           0.009068045217399222,
           0.021524917224165316,
           0.03504605565240536,
           0.04930223690848757,
           0.0639983471748084,
           0.07886888907270943,
           0.09367683170023135,
           0.10821617327504826,
           0.12231739830342293,
           0.13585373088303393,
           0.1487451590898962,
           0.1609575730766313,
           0.17249640007994857,
           0.1833967960446163
          ],
          [
           -0.006168150790461857,
           -0.007829923177535903,
           -0.008817922453000506,
           -0.007206797334428658,
           -0.0020681204449281058,
           0.006130517569947965,
           0.016735851736132006,
           0.029181820375682663,
           0.04300602898227604,
           0.05782635919387913,
           0.07331897671068799,
           0.08920354520938999,
           0.10523493217070803,
           0.1212000308144342,
           0.1369183675193182,
           0.15224500896762,
           0.1670739577636936,
           0.18134011292056346,
           0.1950183815237851,
           0.20811969836631233,
           0.22068500840354416
          ],
          [
           0,
           0,
           0.0000169856180083227,
           0.003818314252569937,
           0.01154392100177616,
           0.02218958911024094,
           0.03498839968912653,
           0.04938566072390955,
           0.06495797760677455,
           0.0813640740484168,
           0.09831743391680395,
           0.11557142031866464,
           0.13291193509653765,
           0.15015489653131564,
           0.16714677383217277,
           0.18376673809179433,
           0.19992906550742032,
           0.21558457978432916,
           0.23072034993216461,
           0.24535754690165934,
           0.25954804598380316
          ],
          [
           0,
           0,
           0.003552913403498289,
           0.012220879198595443,
           0.023964643575561675,
           0.037851342608817146,
           0.05332997288572076,
           0.07000374503047019,
           0.08755752558069077,
           0.10572657068850665,
           0.1242810252896327,
           0.14301845718001535,
           0.16176104928002782,
           0.18035567503897046,
           0.19867570161765416,
           0.2166235750634397,
           0.23413333329478486,
           0.2511723437157858,
           0.26774185785383736,
           0.28387638448565483,
           0.29964227189402876
          ],
          [
           0,
           0,
           0.007780577858995489,
           0.021389196292352884,
           0.03713036047178411,
           0.054273340163499176,
           0.07246797713372055,
           0.09146280249147064,
           0.11104544317218297,
           0.1310248280546751,
           0.15122576554458864,
           0.17148811918986254,
           0.1916682068517997,
           0.21164144733707949,
           0.23130564668294945,
           0.2505844076802021,
           0.2694301920107767,
           0.28782666506020316,
           0.305790143754968,
           0.3233702216061751,
           0.34064989079131736
          ],
          [
           -0.001577576869403775,
           0.005848913610516171,
           0.01771207028579819,
           0.034085955604147324,
           0.05268342772452711,
           0.07247041704813091,
           0.09303566608553078,
           0.11415049299543671,
           0.13564306970330117,
           0.15736236745930704,
           0.1791682768952519,
           0.20093055505383267,
           0.2225310986832128,
           0.2438675399948304,
           0.26485728668359826,
           0.28544150276087904,
           0.30558868025879077,
           0.3252975717820015,
           0.3445994049081867,
           0.3635594847620888,
           0.38227847828637823
          ],
          [
           0.0025537798765223945,
           0.016637295282758032,
           0.03232047761166575,
           0.05073760896830071,
           0.07122539038927052,
           0.09293898108242422,
           0.11538921575837663,
           0.13829877169500077,
           0.16148195787859498,
           0.1847913683659437,
           0.2080978271713364,
           0.23128455637640716,
           0.25424741832376857,
           0.2768977524361803,
           0.299166222432794,
           0.32100687640570047,
           0.3424009738080768,
           0.3633603305377345,
           0.38393009584716287,
           0.40419104772606484,
           0.4242616768482048
          ],
          [
           0.012769677296188775,
           0.031106875548957226,
           0.04999600776952679,
           0.0704432470179128,
           0.09246258801458207,
           0.11563645744502835,
           0.1395596897113516,
           0.16394072161735557,
           0.1885710386175446,
           0.21328910399727377,
           0.23795989694488073,
           0.26246631968655215,
           0.2867073050413691,
           0.3105993664946812,
           0.3340797787304409,
           0.35711038807366935,
           0.37968148070296287,
           0.4018153753025951,
           0.42356957683252605,
           0.44503950490824684,
           0.4663610245621668
          ],
          [
           0.02763359322919849,
           0.04880914923343458,
           0.07014966867106973,
           0.09241521230405701,
           0.11581870462784796,
           0.14021527087428654,
           0.16534066121577876,
           0.19094110414103446,
           0.21680505612828002,
           0.2427582907825954,
           0.26865407442713224,
           0.29436708061840766,
           0.3197914941718696,
           0.3448420243036068,
           0.36945662308907634,
           0.3936000657306164,
           0.41726783402156903,
           0.440489919134572,
           0.46333427496756213,
           0.4859097995455755,
           0.50836898190627
          ],
          [
           0.04598355934115129,
           0.06914451985228677,
           0.09233691640905954,
           0.11613026246906177,
           0.14077237130065948,
           0.16625160836779315,
           0.19241487665395343,
           0.21906307931034485,
           0.24599941502590614,
           0.27304547263219836,
           0.30004404909022814,
           0.3268588926050542,
           0.3533750478249458,
           0.379500558373934,
           0.405169331487806,
           0.43034478192174347,
           0.45502389504990165,
           0.47924137259882715,
           0.5030734947220807,
           0.5266413385471479,
           0.5501132637706633
          ],
          [
           0.06693897666254285,
           0.09152552666419615,
           0.11612187408466548,
           0.14116645996081525,
           0.16689316628901205,
           0.19334747973196684,
           0.22044461785625272,
           0.24803160325819246,
           0.27593141240980845,
           0.3039673296592206,
           0.3319745708040236,
           0.3598059178523174,
           0.3873352924551702,
           0.4144610285595387,
           0.44110946753751124,
           0.46723901756451147,
           0.49284463559353164,
           0.5179625714829346,
           0.5426749936023568,
           0.5671137603852351,
           0.5914626303526623
          ],
          [
           0.08980772691403885,
           0.1154251122286754,
           0.14108675059736692,
           0.167146202202275,
           0.19381317637081902,
           0.22115255475323964,
           0.24911465454593595,
           0.27757589244699477,
           0.3063745903312875,
           0.33533636517856386,
           0.36429015447539237,
           0.3930780896160264,
           0.42156205405447156,
           0.4496287588464169,
           0.4771943551340331,
           0.5042091191278838,
           0.5306624994627807,
           0.5565886698743435,
           0.5820724593542377,
           0.6072546554565007,
           0.6323344252147034
          ],
          [
           0.11402822640521638,
           0.14037802445401007,
           0.1668419763337572,
           0.1937237352143675,
           0.22120948959433853,
           0.24936358733354244,
           0.27814832438446874,
           0.30745295211557816,
           0.3371225287616734,
           0.3669816667045609,
           0.39685202982357964,
           0.4265646066350132,
           0.4559684143640056,
           0.4849371079841218,
           0.5133745681066336,
           0.5412202014528957,
           0.5684544872693341,
           0.5951052397650851,
           0.6212550623347877,
           0.6470499340614886,
           0.6727045733694897
          ],
          [
           0.13912884096564407,
           0.16596823694848503,
           0.19302780030046215,
           0.22058458580334628,
           0.2487994761860222,
           0.27772326182082563,
           0.3073140553500944,
           0.33746014088965753,
           0.368004019422807,
           0.3987640289789086,
           0.42955183852789514,
           0.4601857650937443,
           0.49050073847334513,
           0.5203559672702261,
           0.54964125882985,
           0.578282760006756,
           0.6062487539023651,
           0.6335561627512969,
           0.6602787027814825,
           0.6865586314004283,
           0.7126226668428048
          ],
          [
           0.16467747325324478,
           0.19180867703982388,
           0.21931587855549015,
           0.247451644762554,
           0.27634471576432634,
           0.3060232223255777,
           0.3364302227918467,
           0.3674427480465988,
           0.3988926404905906,
           0.4305863499273049,
           0.4623219091189088,
           0.4939025584588069,
           0.5251473462349877,
           0.5558994210847443,
           0.5860328024706664,
           0.6154583395108532,
           0.6441294810124537,
           0.6720484869573171,
           0.6992739915717846,
           0.7259324653153193,
           0.7522465819671287
          ]
         ]
        }
       ],
       "layout": {
        "autosize": false,
        "height": 1000,
        "margin": {
         "b": 65,
         "l": 65,
         "r": 50,
         "t": 90
        },
        "template": {
         "data": {
          "bar": [
           {
            "error_x": {
             "color": "#2a3f5f"
            },
            "error_y": {
             "color": "#2a3f5f"
            },
            "marker": {
             "line": {
              "color": "#E5ECF6",
              "width": 0.5
             },
             "pattern": {
              "fillmode": "overlay",
              "size": 10,
              "solidity": 0.2
             }
            },
            "type": "bar"
           }
          ],
          "barpolar": [
           {
            "marker": {
             "line": {
              "color": "#E5ECF6",
              "width": 0.5
             },
             "pattern": {
              "fillmode": "overlay",
              "size": 10,
              "solidity": 0.2
             }
            },
            "type": "barpolar"
           }
          ],
          "carpet": [
           {
            "aaxis": {
             "endlinecolor": "#2a3f5f",
             "gridcolor": "white",
             "linecolor": "white",
             "minorgridcolor": "white",
             "startlinecolor": "#2a3f5f"
            },
            "baxis": {
             "endlinecolor": "#2a3f5f",
             "gridcolor": "white",
             "linecolor": "white",
             "minorgridcolor": "white",
             "startlinecolor": "#2a3f5f"
            },
            "type": "carpet"
           }
          ],
          "choropleth": [
           {
            "colorbar": {
             "outlinewidth": 0,
             "ticks": ""
            },
            "type": "choropleth"
           }
          ],
          "contour": [
           {
            "colorbar": {
             "outlinewidth": 0,
             "ticks": ""
            },
            "colorscale": [
             [
              0,
              "#0d0887"
             ],
             [
              0.1111111111111111,
              "#46039f"
             ],
             [
              0.2222222222222222,
              "#7201a8"
             ],
             [
              0.3333333333333333,
              "#9c179e"
             ],
             [
              0.4444444444444444,
              "#bd3786"
             ],
             [
              0.5555555555555556,
              "#d8576b"
             ],
             [
              0.6666666666666666,
              "#ed7953"
             ],
             [
              0.7777777777777778,
              "#fb9f3a"
             ],
             [
              0.8888888888888888,
              "#fdca26"
             ],
             [
              1,
              "#f0f921"
             ]
            ],
            "type": "contour"
           }
          ],
          "contourcarpet": [
           {
            "colorbar": {
             "outlinewidth": 0,
             "ticks": ""
            },
            "type": "contourcarpet"
           }
          ],
          "heatmap": [
           {
            "colorbar": {
             "outlinewidth": 0,
             "ticks": ""
            },
            "colorscale": [
             [
              0,
              "#0d0887"
             ],
             [
              0.1111111111111111,
              "#46039f"
             ],
             [
              0.2222222222222222,
              "#7201a8"
             ],
             [
              0.3333333333333333,
              "#9c179e"
             ],
             [
              0.4444444444444444,
              "#bd3786"
             ],
             [
              0.5555555555555556,
              "#d8576b"
             ],
             [
              0.6666666666666666,
              "#ed7953"
             ],
             [
              0.7777777777777778,
              "#fb9f3a"
             ],
             [
              0.8888888888888888,
              "#fdca26"
             ],
             [
              1,
              "#f0f921"
             ]
            ],
            "type": "heatmap"
           }
          ],
          "heatmapgl": [
           {
            "colorbar": {
             "outlinewidth": 0,
             "ticks": ""
            },
            "colorscale": [
             [
              0,
              "#0d0887"
             ],
             [
              0.1111111111111111,
              "#46039f"
             ],
             [
              0.2222222222222222,
              "#7201a8"
             ],
             [
              0.3333333333333333,
              "#9c179e"
             ],
             [
              0.4444444444444444,
              "#bd3786"
             ],
             [
              0.5555555555555556,
              "#d8576b"
             ],
             [
              0.6666666666666666,
              "#ed7953"
             ],
             [
              0.7777777777777778,
              "#fb9f3a"
             ],
             [
              0.8888888888888888,
              "#fdca26"
             ],
             [
              1,
              "#f0f921"
             ]
            ],
            "type": "heatmapgl"
           }
          ],
          "histogram": [
           {
            "marker": {
             "pattern": {
              "fillmode": "overlay",
              "size": 10,
              "solidity": 0.2
             }
            },
            "type": "histogram"
           }
          ],
          "histogram2d": [
           {
            "colorbar": {
             "outlinewidth": 0,
             "ticks": ""
            },
            "colorscale": [
             [
              0,
              "#0d0887"
             ],
             [
              0.1111111111111111,
              "#46039f"
             ],
             [
              0.2222222222222222,
              "#7201a8"
             ],
             [
              0.3333333333333333,
              "#9c179e"
             ],
             [
              0.4444444444444444,
              "#bd3786"
             ],
             [
              0.5555555555555556,
              "#d8576b"
             ],
             [
              0.6666666666666666,
              "#ed7953"
             ],
             [
              0.7777777777777778,
              "#fb9f3a"
             ],
             [
              0.8888888888888888,
              "#fdca26"
             ],
             [
              1,
              "#f0f921"
             ]
            ],
            "type": "histogram2d"
           }
          ],
          "histogram2dcontour": [
           {
            "colorbar": {
             "outlinewidth": 0,
             "ticks": ""
            },
            "colorscale": [
             [
              0,
              "#0d0887"
             ],
             [
              0.1111111111111111,
              "#46039f"
             ],
             [
              0.2222222222222222,
              "#7201a8"
             ],
             [
              0.3333333333333333,
              "#9c179e"
             ],
             [
              0.4444444444444444,
              "#bd3786"
             ],
             [
              0.5555555555555556,
              "#d8576b"
             ],
             [
              0.6666666666666666,
              "#ed7953"
             ],
             [
              0.7777777777777778,
              "#fb9f3a"
             ],
             [
              0.8888888888888888,
              "#fdca26"
             ],
             [
              1,
              "#f0f921"
             ]
            ],
            "type": "histogram2dcontour"
           }
          ],
          "mesh3d": [
           {
            "colorbar": {
             "outlinewidth": 0,
             "ticks": ""
            },
            "type": "mesh3d"
           }
          ],
          "parcoords": [
           {
            "line": {
             "colorbar": {
              "outlinewidth": 0,
              "ticks": ""
             }
            },
            "type": "parcoords"
           }
          ],
          "pie": [
           {
            "automargin": true,
            "type": "pie"
           }
          ],
          "scatter": [
           {
            "marker": {
             "colorbar": {
              "outlinewidth": 0,
              "ticks": ""
             }
            },
            "type": "scatter"
           }
          ],
          "scatter3d": [
           {
            "line": {
             "colorbar": {
              "outlinewidth": 0,
              "ticks": ""
             }
            },
            "marker": {
             "colorbar": {
              "outlinewidth": 0,
              "ticks": ""
             }
            },
            "type": "scatter3d"
           }
          ],
          "scattercarpet": [
           {
            "marker": {
             "colorbar": {
              "outlinewidth": 0,
              "ticks": ""
             }
            },
            "type": "scattercarpet"
           }
          ],
          "scattergeo": [
           {
            "marker": {
             "colorbar": {
              "outlinewidth": 0,
              "ticks": ""
             }
            },
            "type": "scattergeo"
           }
          ],
          "scattergl": [
           {
            "marker": {
             "colorbar": {
              "outlinewidth": 0,
              "ticks": ""
             }
            },
            "type": "scattergl"
           }
          ],
          "scattermapbox": [
           {
            "marker": {
             "colorbar": {
              "outlinewidth": 0,
              "ticks": ""
             }
            },
            "type": "scattermapbox"
           }
          ],
          "scatterpolar": [
           {
            "marker": {
             "colorbar": {
              "outlinewidth": 0,
              "ticks": ""
             }
            },
            "type": "scatterpolar"
           }
          ],
          "scatterpolargl": [
           {
            "marker": {
             "colorbar": {
              "outlinewidth": 0,
              "ticks": ""
             }
            },
            "type": "scatterpolargl"
           }
          ],
          "scatterternary": [
           {
            "marker": {
             "colorbar": {
              "outlinewidth": 0,
              "ticks": ""
             }
            },
            "type": "scatterternary"
           }
          ],
          "surface": [
           {
            "colorbar": {
             "outlinewidth": 0,
             "ticks": ""
            },
            "colorscale": [
             [
              0,
              "#0d0887"
             ],
             [
              0.1111111111111111,
              "#46039f"
             ],
             [
              0.2222222222222222,
              "#7201a8"
             ],
             [
              0.3333333333333333,
              "#9c179e"
             ],
             [
              0.4444444444444444,
              "#bd3786"
             ],
             [
              0.5555555555555556,
              "#d8576b"
             ],
             [
              0.6666666666666666,
              "#ed7953"
             ],
             [
              0.7777777777777778,
              "#fb9f3a"
             ],
             [
              0.8888888888888888,
              "#fdca26"
             ],
             [
              1,
              "#f0f921"
             ]
            ],
            "type": "surface"
           }
          ],
          "table": [
           {
            "cells": {
             "fill": {
              "color": "#EBF0F8"
             },
             "line": {
              "color": "white"
             }
            },
            "header": {
             "fill": {
              "color": "#C8D4E3"
             },
             "line": {
              "color": "white"
             }
            },
            "type": "table"
           }
          ]
         },
         "layout": {
          "annotationdefaults": {
           "arrowcolor": "#2a3f5f",
           "arrowhead": 0,
           "arrowwidth": 1
          },
          "autotypenumbers": "strict",
          "coloraxis": {
           "colorbar": {
            "outlinewidth": 0,
            "ticks": ""
           }
          },
          "colorscale": {
           "diverging": [
            [
             0,
             "#8e0152"
            ],
            [
             0.1,
             "#c51b7d"
            ],
            [
             0.2,
             "#de77ae"
            ],
            [
             0.3,
             "#f1b6da"
            ],
            [
             0.4,
             "#fde0ef"
            ],
            [
             0.5,
             "#f7f7f7"
            ],
            [
             0.6,
             "#e6f5d0"
            ],
            [
             0.7,
             "#b8e186"
            ],
            [
             0.8,
             "#7fbc41"
            ],
            [
             0.9,
             "#4d9221"
            ],
            [
             1,
             "#276419"
            ]
           ],
           "sequential": [
            [
             0,
             "#0d0887"
            ],
            [
             0.1111111111111111,
             "#46039f"
            ],
            [
             0.2222222222222222,
             "#7201a8"
            ],
            [
             0.3333333333333333,
             "#9c179e"
            ],
            [
             0.4444444444444444,
             "#bd3786"
            ],
            [
             0.5555555555555556,
             "#d8576b"
            ],
            [
             0.6666666666666666,
             "#ed7953"
            ],
            [
             0.7777777777777778,
             "#fb9f3a"
            ],
            [
             0.8888888888888888,
             "#fdca26"
            ],
            [
             1,
             "#f0f921"
            ]
           ],
           "sequentialminus": [
            [
             0,
             "#0d0887"
            ],
            [
             0.1111111111111111,
             "#46039f"
            ],
            [
             0.2222222222222222,
             "#7201a8"
            ],
            [
             0.3333333333333333,
             "#9c179e"
            ],
            [
             0.4444444444444444,
             "#bd3786"
            ],
            [
             0.5555555555555556,
             "#d8576b"
            ],
            [
             0.6666666666666666,
             "#ed7953"
            ],
            [
             0.7777777777777778,
             "#fb9f3a"
            ],
            [
             0.8888888888888888,
             "#fdca26"
            ],
            [
             1,
             "#f0f921"
            ]
           ]
          },
          "colorway": [
           "#636efa",
           "#EF553B",
           "#00cc96",
           "#ab63fa",
           "#FFA15A",
           "#19d3f3",
           "#FF6692",
           "#B6E880",
           "#FF97FF",
           "#FECB52"
          ],
          "font": {
           "color": "#2a3f5f"
          },
          "geo": {
           "bgcolor": "white",
           "lakecolor": "white",
           "landcolor": "#E5ECF6",
           "showlakes": true,
           "showland": true,
           "subunitcolor": "white"
          },
          "hoverlabel": {
           "align": "left"
          },
          "hovermode": "closest",
          "mapbox": {
           "style": "light"
          },
          "paper_bgcolor": "white",
          "plot_bgcolor": "#E5ECF6",
          "polar": {
           "angularaxis": {
            "gridcolor": "white",
            "linecolor": "white",
            "ticks": ""
           },
           "bgcolor": "#E5ECF6",
           "radialaxis": {
            "gridcolor": "white",
            "linecolor": "white",
            "ticks": ""
           }
          },
          "scene": {
           "xaxis": {
            "backgroundcolor": "#E5ECF6",
            "gridcolor": "white",
            "gridwidth": 2,
            "linecolor": "white",
            "showbackground": true,
            "ticks": "",
            "zerolinecolor": "white"
           },
           "yaxis": {
            "backgroundcolor": "#E5ECF6",
            "gridcolor": "white",
            "gridwidth": 2,
            "linecolor": "white",
            "showbackground": true,
            "ticks": "",
            "zerolinecolor": "white"
           },
           "zaxis": {
            "backgroundcolor": "#E5ECF6",
            "gridcolor": "white",
            "gridwidth": 2,
            "linecolor": "white",
            "showbackground": true,
            "ticks": "",
            "zerolinecolor": "white"
           }
          },
          "shapedefaults": {
           "line": {
            "color": "#2a3f5f"
           }
          },
          "ternary": {
           "aaxis": {
            "gridcolor": "white",
            "linecolor": "white",
            "ticks": ""
           },
           "baxis": {
            "gridcolor": "white",
            "linecolor": "white",
            "ticks": ""
           },
           "bgcolor": "#E5ECF6",
           "caxis": {
            "gridcolor": "white",
            "linecolor": "white",
            "ticks": ""
           }
          },
          "title": {
           "x": 0.05
          },
          "xaxis": {
           "automargin": true,
           "gridcolor": "white",
           "linecolor": "white",
           "ticks": "",
           "title": {
            "standoff": 15
           },
           "zerolinecolor": "white",
           "zerolinewidth": 2
          },
          "yaxis": {
           "automargin": true,
           "gridcolor": "white",
           "linecolor": "white",
           "ticks": "",
           "title": {
            "standoff": 15
           },
           "zerolinecolor": "white",
           "zerolinewidth": 2
          }
         }
        },
        "title": {
         "text": "First mode shape"
        },
        "width": 1000
       }
      }
     },
     "metadata": {}
    }
   ],
   "metadata": {}
  }
 ],
 "metadata": {
  "orig_nbformat": 4,
  "language_info": {
   "name": "python",
   "version": "3.9.4",
   "mimetype": "text/x-python",
   "codemirror_mode": {
    "name": "ipython",
    "version": 3
   },
   "pygments_lexer": "ipython3",
   "nbconvert_exporter": "python",
   "file_extension": ".py"
  },
  "kernelspec": {
   "name": "python3",
   "display_name": "Python 3.9.4 64-bit ('venv': venv)"
  },
  "interpreter": {
   "hash": "02527d8ca5c65af2ede56b2d82ee91e660e182a92b14a4e2ad38e2cd32139a84"
  }
 },
 "nbformat": 4,
 "nbformat_minor": 2
}