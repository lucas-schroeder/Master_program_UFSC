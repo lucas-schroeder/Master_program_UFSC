{
 "cells": [
  {
   "cell_type": "code",
   "execution_count": null,
   "source": [
    "import numpy as np\r\n",
    "import pandas as pd\r\n",
    "from scipy.linalg import eig\r\n",
    "import matplotlib.pyplot as plt\r\n",
    "from mpl_toolkits import mplot3d\r\n",
    "from datetime import datetime\r\n",
    "\r\n",
    "pi = np.pi"
   ],
   "outputs": [],
   "metadata": {}
  },
  {
   "cell_type": "code",
   "execution_count": null,
   "source": [
    "h = 1.6e-3 # thickness [m]\r\n",
    "H = 500e-3 # door height [m]\r\n",
    "L = 200e-3 # door length [m]\r\n",
    "Iz = (h**3)/12 # corss section moment of inertia per length [m**3]\r\n",
    "E = 186e9 # modulus of elasticity [Pa]\r\n",
    "nu = 0.3 # poison coef\r\n",
    "rho = 7870 # steel density [kg/m**3]\r\n",
    "\r\n",
    "def m_e(dx, dy):\r\n",
    "    a=dx/2\r\n",
    "    b=dy/2\r\n",
    "    m11 =  np.array([[3454,\t    922*b,\t    -922*a,\t    1226,\t398*b,\t    548*a       ],\r\n",
    "                    [922*b,\t    320*b**2,\t-252*a*b,\t398*b,\t160*b**2,\t168*a*b     ],\r\n",
    "                    [-922*a,    -252*a*b,\t320*a**2,\t-548*a,\t-168*a*b,\t-240*a**2   ],\r\n",
    "                    [1226,\t    398*b,\t    -548*a,\t    3454,\t922*b,\t    922*a       ],\r\n",
    "                    [398*b,\t    160*b**2,\t-168*a*b,\t922*b,\t320*b**2,\t252*a*b     ],\r\n",
    "                    [548*a,\t    168*a*b,\t-240*a**2,\t922*a,\t252*a*b,\t320*a**2    ]])\r\n",
    "\r\n",
    "    m21 =  np.array([[394,\t    323*b,\t    -232*a,\t    1226,\t548*b,\t    398*a       ],\r\n",
    "                    [-232*b,\t-120*b**2,\t112*a*b,\t-548*b,\t-240*b**2,\t-168*a*b    ],\r\n",
    "                    [232*a,\t    112*a*b,\t-120*a**2,\t398*a,\t168*a*b,\t160*a**2    ],\r\n",
    "                    [1226,\t    548*b,\t    -398*a,\t    394,\t232*b,\t    232*a       ],\r\n",
    "                    [-548*b,\t-240*b**2,\t168*a*b,\t-232*b,\t-120*b**2,\t-112*a*b    ],\r\n",
    "                    [-398*a,\t-168*a*b,\t160*a**2,\t-232*a,\t-112*a*b,\t-120*a**2   ]])\r\n",
    "    \r\n",
    "    m22 =   np.array([[3454,\t-922*b,\t    922*a,\t    1226,\t-398*b,\t    -548*a      ],\r\n",
    "                    [-922*b,\t320*b**2,\t-252*a*b,\t-398*b,\t160*b**2,\t168*a*b     ],\r\n",
    "                    [922*a,\t    -252*a*b,\t320*a**2,\t548*a,\t-168*a*b,\t-240*a**2   ],\r\n",
    "                    [1226,\t    -398*b,\t    548*a,\t    3454,\t-922*b,\t    -922*a      ],\r\n",
    "                    [-398*b,\t160*b**2,\t-168*a*b,\t-922*b,\t320*b**2,\t252*a*b     ],\r\n",
    "                    [-548*a,\t168*a*b,\t-240*a**2,\t-922*a,\t252*a*b,\t320*a**2    ]])\r\n",
    "\r\n",
    "    m = np.concatenate((np.concatenate((m11, m21.T), axis=1),  np.concatenate((m21, m22), axis=1)), axis=0)\r\n",
    "\r\n",
    "    return (rho*h*a*b/6300)*m\r\n",
    "\r\n",
    "def k_e(dx, dy):\r\n",
    "    a=dx/2\r\n",
    "    b=dy/2\r\n",
    "    alp=a/b\r\n",
    "    bet=b/a\r\n",
    "    I1 = np.eye(3)\r\n",
    "    I1[0,0]=-1\r\n",
    "    I2 = np.eye(3)\r\n",
    "    I2[1,1]=-1\r\n",
    "    I3 = np.eye(3)\r\n",
    "    I3[2,2]=-1\r\n",
    "\r\n",
    "    k11 = np.array([[4*(bet**2+alp**2)+0.4*(7-2*nu),\t    2*(2*alp**2+0.2*(1+4*nu))*b,\t    2*(-2*bet**2-0.2*(1+4*nu))*a    ],\r\n",
    "                    [2*(2*alp**2+0.2*(1+4*nu))*b,\t        4*(4/3*alp**2+4/15*(1-nu))*b**2,\t-4*nu*a*b                       ],\r\n",
    "                    [2*(-2*bet**2-0.2*(1+4*nu))*a,\t        -4*nu*a*b,                      \t4*(4/3*bet**2+4/15*(1-nu))*a**2]])\r\n",
    "\r\n",
    "    k21 = np.array([[-(2*(2*bet**2-alp**2)+0.4*(7-2*nu)),\t2*(alp**2-0.2*(1+4*nu))*b,\t        2*(2*bet**2+0.2*(1-nu))*a     ],\r\n",
    "                    [2*(alp**2-0.2*(1+4*nu))*b,\t            4*(2/3*alp**2-4/15*(1-nu))*b**2,    0                               ],\r\n",
    "                    [-2*(2*bet**2+0.2*(1-nu))*a,\t        0,                          \t    4*(2/3*bet**2-1/15*(1-nu))*a**2]])\r\n",
    "\r\n",
    "    k31 = np.array([[-(2*(bet**2+alp**2)-0.4*(7-2*nu)),\t    2*(-alp**2+0.2*(1-nu))*b,\t        2*(bet**2-0.2*(1-nu))*a      ],\r\n",
    "                    [2*(alp**2-0.2*(1-nu))*b,\t            4*(1/3*alp**2+1/15*(1-nu))*b**2,\t0                               ],\r\n",
    "                    [2*(-bet**2+0.2*(1-nu))*a,\t            0,\t                                4*(1/3*bet**2+1/15*(1-nu))*a**2]])\r\n",
    "\r\n",
    "    k41 = np.array([[2*(bet**2-2*alp**2)-0.4*(7-2*nu),\t    2*(-2*alp**2-0.2*(1-nu))*b,\t        2*(-bet**2+0.2*(1+4*nu))*a      ],\r\n",
    "                    [2*(2*alp**2+0.2*(1-nu))*b,\t            4*(2/3*alp**2-1/15*(1-nu))*b**2,\t0                               ],\r\n",
    "                    [2*(-bet**2+0.2*(1+4*nu))*a,\t        0,\t                                4*(2/3*bet**2-4/15*(1-nu))*a**2]])\r\n",
    "\r\n",
    "    k22 = I3.T @ k11 @ I3\r\n",
    "    k32 = I3.T @ k41 @ I3\r\n",
    "    k42 = I3.T @ k31 @ I3\r\n",
    "    \r\n",
    "    k33 = I1.T @ k11 @ I1\r\n",
    "    k43 = I1.T @ k21 @ I1\r\n",
    "\r\n",
    "    k44 = I2.T @ k11 @ I2\r\n",
    "\r\n",
    "    aux1 = np.concatenate((k11, k21.T, k31.T, k41.T), axis=1)\r\n",
    "    aux2 = np.concatenate((k21, k22, k32.T, k42.T), axis=1)\r\n",
    "    aux3 = np.concatenate((k31, k32, k33, k43.T), axis=1)\r\n",
    "    aux4 = np.concatenate((k41, k42, k43, k44), axis=1)\r\n",
    "    k = np.concatenate((aux1, aux2, aux3, aux4), axis=0)\r\n",
    "\r\n",
    "    \r\n",
    "    return E*h**3/(48*(1-nu**2)*a*b)*k\r\n",
    "\r\n"
   ],
   "outputs": [],
   "metadata": {}
  },
  {
   "cell_type": "code",
   "execution_count": null,
   "source": [
    "Ke2 = k_e(0.01, 0.01)\r\n",
    "Me2 = m_e(0.01, 0.01)\r\n",
    "print('Me is symmetric: ', np.allclose(Me2, Me2.T, rtol=1e-5, atol=1e-5))\r\n",
    "print('Ke is symmetric: ', np.allclose(Ke2, Ke2.T, rtol=1e-5, atol=1e-5))"
   ],
   "outputs": [],
   "metadata": {}
  },
  {
   "cell_type": "code",
   "execution_count": null,
   "source": [
    "np.savetxt(\"Me2.csv\", Me2, delimiter=\",\")\r\n",
    "np.savetxt(\"Ke2.csv\", Ke2, delimiter=\",\")"
   ],
   "outputs": [],
   "metadata": {}
  },
  {
   "cell_type": "markdown",
   "source": [
    "# Mesh Definition"
   ],
   "metadata": {}
  },
  {
   "cell_type": "code",
   "execution_count": null,
   "source": [
    "# Node coordinates\r\n",
    "# 2D rectangular plate, square ACM elements\r\n",
    "eSize = 0.01 # meters\r\n",
    "nElementX = int(L/eSize)\r\n",
    "nElementY = int(H/eSize)\r\n",
    "nElements = nElementX * nElementY\r\n",
    "dx = L / nElementX\r\n",
    "dy = H / nElementY\r\n",
    "nNodesX = nElementX + 1\r\n",
    "nNodesY = nElementY + 1\r\n",
    "nNodes = nNodesX * nNodesY\r\n",
    "nGL = nNodes*3\r\n",
    "\r\n",
    "node_coor = np.zeros((nNodes, 2))\r\n",
    "for n in range(1, nNodes+1):\r\n",
    "    q, r = divmod(n-1, nNodesX) # quotient and remainder\r\n",
    "    node_coor[n-1, 0] = r*dx\r\n",
    "    node_coor[n-1, 1] = q*dy\r\n",
    "\r\n",
    "node_coor = pd.DataFrame(columns=[\"x\", \"y\"], index=np.arange(1, nNodes+1), data=node_coor)\r\n",
    "\r\n",
    "# Conectivity matrix\r\n",
    "# Relates local nodes of elements to global nodes\r\n",
    "element_con = np.zeros((nElements, 4))\r\n",
    "for n in range(1, nElements+1):\r\n",
    "    q, r = divmod(n, nElementX) # quotient and remainder\r\n",
    "    if r == 0:\r\n",
    "        q = q-1\r\n",
    "        r = nElementX\r\n",
    "    a = q*nNodesX + r\r\n",
    "    element_con[n-1, 0] = a\r\n",
    "    element_con[n-1, 1] = a + 1\r\n",
    "    element_con[n-1, 2] = a + nNodesX + 1\r\n",
    "    element_con[n-1, 3] = a + nNodesX\r\n",
    "\r\n",
    "element_con = pd.DataFrame(columns=[\"1\", \"2\", \"3\", \"4\"], index=np.arange(1, nElements+1), data=element_con, dtype=int)\r\n",
    "\r\n",
    "# Degrees of Freedom\r\n",
    "# Define the number of each DoF for each node\r\n",
    "node_GL = np.arange(1, 3*nNodes+1).reshape((nNodes, 3))\r\n",
    "node_GL = pd.DataFrame(columns=[\"w\", \"thetaX\", \"thetaY\"], index=np.arange(1, nNodes+1), data=node_GL, dtype=int)\r\n",
    "\r\n",
    "# Index table\r\n",
    "# Relates the global DoF associated with each element\r\n",
    "index_table = np.zeros((nElements, 12))\r\n",
    "for n in range(1, nElements+1):\r\n",
    "    index_table[n-1, 0] = node_GL[\"w\"][element_con[\"1\"][n]] # w, local node 1\r\n",
    "    index_table[n-1, 1] = node_GL[\"thetaX\"][element_con[\"1\"][n]] # thetaX, local node 1\r\n",
    "    index_table[n-1, 2] = node_GL[\"thetaY\"][element_con[\"1\"][n]] # thetaY, locasl node 1\r\n",
    "\r\n",
    "    index_table[n-1, 3] = node_GL[\"w\"][element_con[\"2\"][n]] # w, local node 2\r\n",
    "    index_table[n-1, 4] = node_GL[\"thetaX\"][element_con[\"2\"][n]] # thetaX, local node 2\r\n",
    "    index_table[n-1, 5] = node_GL[\"thetaY\"][element_con[\"2\"][n]] # thetaY, locasl node 2\r\n",
    "\r\n",
    "    index_table[n-1, 6] = node_GL[\"w\"][element_con[\"3\"][n]] # w, local node 3\r\n",
    "    index_table[n-1, 7] = node_GL[\"thetaX\"][element_con[\"3\"][n]] # thetaX, local node 3\r\n",
    "    index_table[n-1, 8] = node_GL[\"thetaY\"][element_con[\"3\"][n]] # thetaY, locasl node 3\r\n",
    "\r\n",
    "    index_table[n-1, 9] = node_GL[\"w\"][element_con[\"4\"][n]] # w, local node 4\r\n",
    "    index_table[n-1, 10] = node_GL[\"thetaX\"][element_con[\"4\"][n]] # thetaX, local node 4\r\n",
    "    index_table[n-1, 11] = node_GL[\"thetaY\"][element_con[\"4\"][n]] # thetaY, locasl node 4\r\n",
    "\r\n",
    "col = pd.MultiIndex.from_arrays([[\"Local Node 1\"]*3+ [\"Local Node 2\"]*3+ [\"Local Node 3\"]*3+ [\"Local Node 4\"]*3,\r\n",
    "                                [\"w\", \"thetaX\", \"thetaY\"]*4])\r\n",
    "index_table = pd.DataFrame(columns=col, index=np.arange(1, nElements+1), data=index_table, dtype=int)\r\n"
   ],
   "outputs": [],
   "metadata": {}
  },
  {
   "cell_type": "code",
   "execution_count": null,
   "source": [
    "index_table.head()"
   ],
   "outputs": [],
   "metadata": {}
  },
  {
   "cell_type": "code",
   "execution_count": null,
   "source": [
    "element_con.head()"
   ],
   "outputs": [],
   "metadata": {}
  },
  {
   "cell_type": "markdown",
   "source": [
    "# Assembly of [K] and [M]"
   ],
   "metadata": {}
  },
  {
   "cell_type": "code",
   "execution_count": null,
   "source": [
    "start_assy = datetime.now()\r\n",
    "K = np.zeros((nGL,nGL))\r\n",
    "M = np.zeros((nGL,nGL))\r\n",
    "\r\n",
    "Ke = k_e(dx, dy)\r\n",
    "Me = m_e(dx, dy)\r\n",
    "\r\n",
    "for n in range(1, nElements+1):\r\n",
    "    Mee = np.zeros((nGL,nGL))\r\n",
    "    Kee = np.zeros((nGL,nGL))\r\n",
    "    idx = index_table.loc[n].to_list()\r\n",
    "    for i, p in enumerate(idx):\r\n",
    "        for j, q in enumerate(idx):\r\n",
    "            Mee[p-1,q-1] = Me[i, j]\r\n",
    "            Kee[p-1,q-1] = Ke[i, j]\r\n",
    "    M += Mee\r\n",
    "    K += Kee\r\n",
    "finish_assy = datetime.now()\r\n",
    "print(\"Elapsed time: \", finish_assy-start_assy)"
   ],
   "outputs": [],
   "metadata": {}
  },
  {
   "cell_type": "markdown",
   "source": [
    "# Find nodes inside BC regions and remove fixed DoF from [K] and [M]"
   ],
   "metadata": {}
  },
  {
   "cell_type": "code",
   "execution_count": null,
   "source": [
    "# Fixed boundary conditions: Two points rectangle\r\n",
    "region1 = np.array([[0.000, 0.100], [0.010, 0.120]])\r\n",
    "region2 = np.array([[0.000, 0.380], [0.010, 0.400]])\r\n",
    "region3 = np.array([[0.180, 0.240], [0.200, 0.280]])\r\n",
    "regions = {1: region1, 2: region2, 3: region3}\r\n",
    "\r\n",
    "fixed_dof = list()\r\n",
    "for r in regions.values():\r\n",
    "    dof = node_coor[(node_coor['x'].between(r[0][0], r[1][0])) & (node_coor['y'].between(r[0][1], r[1][1]))].index.tolist()\r\n",
    "    fixed_dof += dof\r\n",
    "\r\n",
    "M_backup = M.copy()\r\n",
    "K_backup = K.copy()\r\n",
    "# Removing fixed DoF from the matrices\r\n",
    "for j in range(1, len(fixed_dof)+1):\r\n",
    "    M = np.delete(M, fixed_dof[j-1]-j, axis=1)\r\n",
    "    M = np.delete(M, fixed_dof[j-1]-j, axis=0)\r\n",
    "    K = np.delete(K, fixed_dof[j-1]-j, axis=1)\r\n",
    "    K = np.delete(K, fixed_dof[j-1]-j, axis=0)\r\n"
   ],
   "outputs": [],
   "metadata": {}
  },
  {
   "cell_type": "code",
   "execution_count": null,
   "source": [
    "print('M is symmetric: ', np.allclose(M_backup, M_backup.T, rtol=1e-5, atol=1e-5))\r\n",
    "print('K is symmetric: ', np.allclose(K_backup, K_backup.T, rtol=1e-5, atol=1e-5))"
   ],
   "outputs": [],
   "metadata": {}
  },
  {
   "cell_type": "markdown",
   "source": [
    "# Solve eignevalue problem"
   ],
   "metadata": {}
  },
  {
   "cell_type": "code",
   "execution_count": null,
   "source": [
    "start_eig = datetime.now()\r\n",
    "resultados = dict()\r\n",
    "\r\n",
    "# Problema de autovalor generalizado. W é um vetor e A uma matrix com as colunas normalizadas\r\n",
    "W, Vc = eig(K, M)\r\n",
    "\r\n",
    "# Ordenando os autovalores e a matriz de autovetores\r\n",
    "idx = W.argsort()\r\n",
    "W = W[idx]\r\n",
    "Vc = Vc[:,idx]\r\n",
    "\r\n",
    "# Normalizando os autovetores pela matriz de massa, de forma que A'@M@A = I\r\n",
    "m_r = np.diagonal(Vc.T @ M @ Vc)\r\n",
    "m_r = np.reciprocal(np.sqrt(m_r))\r\n",
    "for a in range(Vc.shape[1]):\r\n",
    "    Vc[:,a] *= m_r[a] # multiplica cada coluna pelo fator de escala\r\n",
    "    \r\n",
    "## Montando as formas modais\r\n",
    "# Incluindo os GL das condições de contorno\r\n",
    "for c in fixed_dof:\r\n",
    "    Vc = np.insert(Vc, c-1, 0, axis=0)\r\n",
    "\r\n",
    "resultados[nElements] = dict()\r\n",
    "resultados[nElements]['fn'] = (W**0.5/(2*pi)).real\r\n",
    "resultados[nElements]['V'] = Vc[0::3, :].real # Displacement shape (Gl 1,4,7,10,13,...) \r\n",
    "resultados[nElements]['theta'] = np.delete(Vc, np.arange(0, Vc.shape[1]-1, 4), axis = 1).real # Angular shapes (Gl 2,3,5,6,8,9,11,12,...)\r\n",
    "\r\n",
    "# Faz as formas modais terem a mesma orientação\r\n",
    "for j in range(1, W.size):\r\n",
    "    if np.sum(resultados[nElements]['V'][:,j-1]) >= 0:\r\n",
    "        pass\r\n",
    "    else:\r\n",
    "        resultados[nElements]['V'][:,j-1] *= -1\r\n",
    "\r\n",
    "finish_eig = datetime.now()\r\n",
    "print(\"Elapsed time: \", finish_eig-start_eig)"
   ],
   "outputs": [],
   "metadata": {}
  },
  {
   "cell_type": "code",
   "execution_count": null,
   "source": [
    "n = np.array([nElements])\r\n",
    "pd.options.display.float_format = \"{:.4f}\".format\r\n",
    "pd.DataFrame(data=[resultados[n_b]['fn'] for n_b in n], index=[f\"n={i}\" for i in n], columns=[f\"f_{j}\" for j in range(1, len(resultados[n.max()]['fn'])+1)])"
   ],
   "outputs": [],
   "metadata": {}
  },
  {
   "cell_type": "code",
   "execution_count": null,
   "source": [
    "from scipy.sparse.linalg import eigs\r\n",
    "W2, Vc2 = eigs(K, k=40, M=M, which='SM')\r\n",
    "idx = W2.argsort()\r\n",
    "W2 = W2[idx]\r\n",
    "Vc2 = Vc2[:,idx]\r\n",
    "print((W2**0.5/(2*pi)).real)"
   ],
   "outputs": [],
   "metadata": {}
  },
  {
   "cell_type": "code",
   "execution_count": null,
   "source": [
    "from mpl_toolkits import mplot3d\r\n",
    "\r\n",
    "def f(x, y):\r\n",
    "    return np.sin(np.sqrt(x ** 2 + y ** 2))\r\n",
    "\r\n",
    "x = np.linspace(0, 0.200, 20)\r\n",
    "y = np.linspace(0, 0.500, 50)\r\n",
    "\r\n",
    "X, Y = np.meshgrid(x, y)\r\n",
    "Z = f(X, Y)\r\n",
    "\r\n",
    "fig = plt.figure()\r\n",
    "ax = plt.axes(projection='3d')\r\n",
    "ax.contour3D(X, Y, Z, 50, cmap='binary')\r\n",
    "ax.set_xlabel('x')\r\n",
    "ax.set_ylabel('y')\r\n",
    "ax.set_zlabel('z')"
   ],
   "outputs": [],
   "metadata": {}
  }
 ],
 "metadata": {
  "orig_nbformat": 4,
  "language_info": {
   "name": "python",
   "version": "3.9.4",
   "mimetype": "text/x-python",
   "codemirror_mode": {
    "name": "ipython",
    "version": 3
   },
   "pygments_lexer": "ipython3",
   "nbconvert_exporter": "python",
   "file_extension": ".py"
  },
  "kernelspec": {
   "name": "python3",
   "display_name": "Python 3.9.4 64-bit ('venv': venv)"
  },
  "interpreter": {
   "hash": "02527d8ca5c65af2ede56b2d82ee91e660e182a92b14a4e2ad38e2cd32139a84"
  }
 },
 "nbformat": 4,
 "nbformat_minor": 2
}