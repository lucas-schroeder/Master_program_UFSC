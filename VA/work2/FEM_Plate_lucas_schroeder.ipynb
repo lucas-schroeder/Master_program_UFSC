{
 "cells": [
  {
   "cell_type": "markdown",
   "source": [
    "# 2D FEM with ACM element\r\n",
    "\r\n",
    "![image](\\img\\door_drawing2.png)"
   ],
   "metadata": {}
  },
  {
   "cell_type": "code",
   "execution_count": 1,
   "source": [
    "import numpy as np\r\n",
    "import pandas as pd\r\n",
    "import scipy as sp\r\n",
    "from scipy.linalg import eig\r\n",
    "from scipy.sparse.linalg import eigsh\r\n",
    "import matplotlib.pyplot as plt\r\n",
    "from mpl_toolkits import mplot3d\r\n",
    "import plotly.graph_objects as go\r\n",
    "from matplotlib import cm\r\n",
    "from datetime import datetime\r\n",
    "\r\n",
    "pi = np.pi"
   ],
   "outputs": [],
   "metadata": {}
  },
  {
   "cell_type": "code",
   "execution_count": 2,
   "source": [
    "h = 1.6e-3 # thickness [m]\r\n",
    "H = 500e-3 # door height [m]\r\n",
    "L = 200e-3 # door length [m]\r\n",
    "Iz = (h**3)/12 # corss section moment of inertia per length [m**3]\r\n",
    "E = 186e9 # modulus of elasticity [Pa]\r\n",
    "nu = 0.3 # poison coef\r\n",
    "rho = 7870 # steel density [kg/m**3]\r\n",
    "\r\n",
    "def m_e(dx, dy):\r\n",
    "    a=dx/2\r\n",
    "    b=dy/2\r\n",
    "    m11 =  np.array([[3454,\t    922*b,\t    -922*a,\t    1226,\t398*b,\t    548*a       ],\r\n",
    "                    [922*b,\t    320*b**2,\t-252*a*b,\t398*b,\t160*b**2,\t168*a*b     ],\r\n",
    "                    [-922*a,    -252*a*b,\t320*a**2,\t-548*a,\t-168*a*b,\t-240*a**2   ],\r\n",
    "                    [1226,\t    398*b,\t    -548*a,\t    3454,\t922*b,\t    922*a       ],\r\n",
    "                    [398*b,\t    160*b**2,\t-168*a*b,\t922*b,\t320*b**2,\t252*a*b     ],\r\n",
    "                    [548*a,\t    168*a*b,\t-240*a**2,\t922*a,\t252*a*b,\t320*a**2    ]])\r\n",
    "\r\n",
    "    m21 =  np.array([[394,\t    323*b,\t    -232*a,\t    1226,\t548*b,\t    398*a       ],\r\n",
    "                    [-232*b,\t-120*b**2,\t112*a*b,\t-548*b,\t-240*b**2,\t-168*a*b    ],\r\n",
    "                    [232*a,\t    112*a*b,\t-120*a**2,\t398*a,\t168*a*b,\t160*a**2    ],\r\n",
    "                    [1226,\t    548*b,\t    -398*a,\t    394,\t232*b,\t    232*a       ],\r\n",
    "                    [-548*b,\t-240*b**2,\t168*a*b,\t-232*b,\t-120*b**2,\t-112*a*b    ],\r\n",
    "                    [-398*a,\t-168*a*b,\t160*a**2,\t-232*a,\t-112*a*b,\t-120*a**2   ]])\r\n",
    "    \r\n",
    "    m22 =   np.array([[3454,\t-922*b,\t    922*a,\t    1226,\t-398*b,\t    -548*a      ],\r\n",
    "                    [-922*b,\t320*b**2,\t-252*a*b,\t-398*b,\t160*b**2,\t168*a*b     ],\r\n",
    "                    [922*a,\t    -252*a*b,\t320*a**2,\t548*a,\t-168*a*b,\t-240*a**2   ],\r\n",
    "                    [1226,\t    -398*b,\t    548*a,\t    3454,\t-922*b,\t    -922*a      ],\r\n",
    "                    [-398*b,\t160*b**2,\t-168*a*b,\t-922*b,\t320*b**2,\t252*a*b     ],\r\n",
    "                    [-548*a,\t168*a*b,\t-240*a**2,\t-922*a,\t252*a*b,\t320*a**2    ]])\r\n",
    "\r\n",
    "    m = np.concatenate((np.concatenate((m11, m21.T), axis=1),  np.concatenate((m21, m22), axis=1)), axis=0)\r\n",
    "\r\n",
    "    return (rho*h*a*b/6300)*m\r\n",
    "\r\n",
    "def k_e(dx, dy):\r\n",
    "    a=dx/2\r\n",
    "    b=dy/2\r\n",
    "    alp=a/b\r\n",
    "    bet=b/a\r\n",
    "    I1 = np.eye(3)\r\n",
    "    I1[0,0]=-1\r\n",
    "    I2 = np.eye(3)\r\n",
    "    I2[1,1]=-1\r\n",
    "    I3 = np.eye(3)\r\n",
    "    I3[2,2]=-1\r\n",
    "\r\n",
    "    k11 = np.array([[4*(bet**2+alp**2)+0.4*(7-2*nu),\t    2*(2*alp**2+0.2*(1+4*nu))*b,\t    2*(-2*bet**2-0.2*(1+4*nu))*a    ],\r\n",
    "                    [2*(2*alp**2+0.2*(1+4*nu))*b,\t        4*(4/3*alp**2+4/15*(1-nu))*b**2,\t-4*nu*a*b                       ],\r\n",
    "                    [2*(-2*bet**2-0.2*(1+4*nu))*a,\t        -4*nu*a*b,                      \t4*(4/3*bet**2+4/15*(1-nu))*a**2]])\r\n",
    "\r\n",
    "    k21 = np.array([[-(2*(2*bet**2-alp**2)+0.4*(7-2*nu)),\t2*(alp**2-0.2*(1+4*nu))*b,\t        2*(2*bet**2+0.2*(1-nu))*a     ],\r\n",
    "                    [2*(alp**2-0.2*(1+4*nu))*b,\t            4*(2/3*alp**2-4/15*(1-nu))*b**2,    0                               ],\r\n",
    "                    [-2*(2*bet**2+0.2*(1-nu))*a,\t        0,                          \t    4*(2/3*bet**2-1/15*(1-nu))*a**2]])\r\n",
    "\r\n",
    "    k31 = np.array([[-(2*(bet**2+alp**2)-0.4*(7-2*nu)),\t    2*(-alp**2+0.2*(1-nu))*b,\t        2*(bet**2-0.2*(1-nu))*a      ],\r\n",
    "                    [2*(alp**2-0.2*(1-nu))*b,\t            4*(1/3*alp**2+1/15*(1-nu))*b**2,\t0                               ],\r\n",
    "                    [2*(-bet**2+0.2*(1-nu))*a,\t            0,\t                                4*(1/3*bet**2+1/15*(1-nu))*a**2]])\r\n",
    "\r\n",
    "    k41 = np.array([[2*(bet**2-2*alp**2)-0.4*(7-2*nu),\t    2*(-2*alp**2-0.2*(1-nu))*b,\t        2*(-bet**2+0.2*(1+4*nu))*a      ],\r\n",
    "                    [2*(2*alp**2+0.2*(1-nu))*b,\t            4*(2/3*alp**2-1/15*(1-nu))*b**2,\t0                               ],\r\n",
    "                    [2*(-bet**2+0.2*(1+4*nu))*a,\t        0,\t                                4*(2/3*bet**2-4/15*(1-nu))*a**2]])\r\n",
    "\r\n",
    "    k22 = I3.T @ k11 @ I3\r\n",
    "    k32 = I3.T @ k41 @ I3\r\n",
    "    k42 = I3.T @ k31 @ I3\r\n",
    "    \r\n",
    "    k33 = I1.T @ k11 @ I1\r\n",
    "    k43 = I1.T @ k21 @ I1\r\n",
    "\r\n",
    "    k44 = I2.T @ k11 @ I2\r\n",
    "\r\n",
    "    aux1 = np.concatenate((k11, k21.T, k31.T, k41.T), axis=1)\r\n",
    "    aux2 = np.concatenate((k21, k22, k32.T, k42.T), axis=1)\r\n",
    "    aux3 = np.concatenate((k31, k32, k33, k43.T), axis=1)\r\n",
    "    aux4 = np.concatenate((k41, k42, k43, k44), axis=1)\r\n",
    "    k = np.concatenate((aux1, aux2, aux3, aux4), axis=0)\r\n",
    "\r\n",
    "    \r\n",
    "    return E*h**3/(48*(1-nu**2)*a*b)*k"
   ],
   "outputs": [],
   "metadata": {}
  },
  {
   "cell_type": "markdown",
   "source": [
    "# Mesh Definition"
   ],
   "metadata": {}
  },
  {
   "cell_type": "code",
   "execution_count": 3,
   "source": [
    "# Node coordinates\r\n",
    "# 2D rectangular plate, square ACM elements\r\n",
    "eSize = 0.01 # meters\r\n",
    "nElementX = int(L/eSize)\r\n",
    "nElementY = int(H/eSize)\r\n",
    "nElements = nElementX * nElementY\r\n",
    "dx = L / nElementX\r\n",
    "dy = H / nElementY\r\n",
    "nNodesX = nElementX + 1\r\n",
    "nNodesY = nElementY + 1\r\n",
    "nNodes = nNodesX * nNodesY\r\n",
    "ndof = nNodes*3\r\n",
    "\r\n",
    "# Degrees of Freedom\r\n",
    "# Define the number of each DoF for each node\r\n",
    "node_dof = np.arange(1, 3*nNodes+1).reshape((nNodes, 3))\r\n",
    "node_dof = pd.DataFrame(columns=[\"w\", \"thetaX\", \"thetaY\"], index=np.arange(1, nNodes+1), data=node_dof, dtype=int)\r\n",
    "node_dof.index.rename(\"Node\", inplace=True)\r\n",
    "node_dof.rename_axis(\"DoF\", axis=\"columns\", inplace=True)\r\n",
    "\r\n",
    "# Nodes coordinates\r\n",
    "node_coor = np.zeros((nNodes, 2))\r\n",
    "for n in range(1, nNodes+1):\r\n",
    "    q, r = divmod(n-1, nNodesX) # quotient and remainder\r\n",
    "    node_coor[n-1, 0] = r*dx\r\n",
    "    node_coor[n-1, 1] = q*dy\r\n",
    "\r\n",
    "node_coor = pd.DataFrame(columns=[\"x\", \"y\"], index=np.arange(1, nNodes+1), data=node_coor)\r\n",
    "node_coor.index.rename(\"Node\", inplace=True)\r\n",
    "node_coor.rename_axis(\"Coordinate\", axis=\"columns\", inplace=True)\r\n",
    "\r\n",
    "# Conectivity matrix\r\n",
    "# Relates local nodes of elements to dofobal nodes\r\n",
    "element_con = np.zeros((nElements, 4))\r\n",
    "for n in range(1, nElements+1):\r\n",
    "    q, r = divmod(n, nElementX) # quotient and remainder\r\n",
    "    if r == 0:\r\n",
    "        q = q-1\r\n",
    "        r = nElementX\r\n",
    "    a = q*nNodesX + r\r\n",
    "    element_con[n-1, 0] = a\r\n",
    "    element_con[n-1, 1] = a + 1\r\n",
    "    element_con[n-1, 2] = a + nNodesX + 1\r\n",
    "    element_con[n-1, 3] = a + nNodesX\r\n",
    "\r\n",
    "element_con = pd.DataFrame(columns=[\"1\", \"2\", \"3\", \"4\"], index=np.arange(1, nElements+1), data=element_con, dtype=int)\r\n",
    "element_con.index.rename(\"Element\", inplace=True)\r\n",
    "element_con.rename_axis(\"Local Node\", axis=\"columns\", inplace=True)\r\n",
    "\r\n",
    "# Index table\r\n",
    "# Relates the dofobal DoF associated with each element\r\n",
    "index_table = np.zeros((nElements, 12))\r\n",
    "for n in range(1, nElements+1):\r\n",
    "    index_table[n-1, 0] = node_dof[\"w\"][element_con[\"1\"][n]] # w, local node 1\r\n",
    "    index_table[n-1, 1] = node_dof[\"thetaX\"][element_con[\"1\"][n]] # thetaX, local node 1\r\n",
    "    index_table[n-1, 2] = node_dof[\"thetaY\"][element_con[\"1\"][n]] # thetaY, locasl node 1\r\n",
    "\r\n",
    "    index_table[n-1, 3] = node_dof[\"w\"][element_con[\"2\"][n]] # w, local node 2\r\n",
    "    index_table[n-1, 4] = node_dof[\"thetaX\"][element_con[\"2\"][n]] # thetaX, local node 2\r\n",
    "    index_table[n-1, 5] = node_dof[\"thetaY\"][element_con[\"2\"][n]] # thetaY, locasl node 2\r\n",
    "\r\n",
    "    index_table[n-1, 6] = node_dof[\"w\"][element_con[\"3\"][n]] # w, local node 3\r\n",
    "    index_table[n-1, 7] = node_dof[\"thetaX\"][element_con[\"3\"][n]] # thetaX, local node 3\r\n",
    "    index_table[n-1, 8] = node_dof[\"thetaY\"][element_con[\"3\"][n]] # thetaY, locasl node 3\r\n",
    "\r\n",
    "    index_table[n-1, 9] = node_dof[\"w\"][element_con[\"4\"][n]] # w, local node 4\r\n",
    "    index_table[n-1, 10] = node_dof[\"thetaX\"][element_con[\"4\"][n]] # thetaX, local node 4\r\n",
    "    index_table[n-1, 11] = node_dof[\"thetaY\"][element_con[\"4\"][n]] # thetaY, locasl node 4\r\n",
    "\r\n",
    "col = pd.MultiIndex.from_arrays([[\"Local Node 1\"]*3+ [\"Local Node 2\"]*3+ [\"Local Node 3\"]*3+ [\"Local Node 4\"]*3,\r\n",
    "                                [\"w\", \"thetaX\", \"thetaY\"]*4])\r\n",
    "index_table = pd.DataFrame(columns=col, index=np.arange(1, nElements+1), data=index_table, dtype=int)\r\n",
    "index_table.index.rename(\"Element\", inplace=True)"
   ],
   "outputs": [],
   "metadata": {}
  },
  {
   "cell_type": "code",
   "execution_count": 4,
   "source": [
    "node_dof.head()"
   ],
   "outputs": [
    {
     "output_type": "execute_result",
     "data": {
      "text/plain": [
       "DoF    w  thetaX  thetaY\n",
       "Node                    \n",
       "1      1       2       3\n",
       "2      4       5       6\n",
       "3      7       8       9\n",
       "4     10      11      12\n",
       "5     13      14      15"
      ],
      "text/html": [
       "<div>\n",
       "<style scoped>\n",
       "    .dataframe tbody tr th:only-of-type {\n",
       "        vertical-align: middle;\n",
       "    }\n",
       "\n",
       "    .dataframe tbody tr th {\n",
       "        vertical-align: top;\n",
       "    }\n",
       "\n",
       "    .dataframe thead th {\n",
       "        text-align: right;\n",
       "    }\n",
       "</style>\n",
       "<table border=\"1\" class=\"dataframe\">\n",
       "  <thead>\n",
       "    <tr style=\"text-align: right;\">\n",
       "      <th>DoF</th>\n",
       "      <th>w</th>\n",
       "      <th>thetaX</th>\n",
       "      <th>thetaY</th>\n",
       "    </tr>\n",
       "    <tr>\n",
       "      <th>Node</th>\n",
       "      <th></th>\n",
       "      <th></th>\n",
       "      <th></th>\n",
       "    </tr>\n",
       "  </thead>\n",
       "  <tbody>\n",
       "    <tr>\n",
       "      <th>1</th>\n",
       "      <td>1</td>\n",
       "      <td>2</td>\n",
       "      <td>3</td>\n",
       "    </tr>\n",
       "    <tr>\n",
       "      <th>2</th>\n",
       "      <td>4</td>\n",
       "      <td>5</td>\n",
       "      <td>6</td>\n",
       "    </tr>\n",
       "    <tr>\n",
       "      <th>3</th>\n",
       "      <td>7</td>\n",
       "      <td>8</td>\n",
       "      <td>9</td>\n",
       "    </tr>\n",
       "    <tr>\n",
       "      <th>4</th>\n",
       "      <td>10</td>\n",
       "      <td>11</td>\n",
       "      <td>12</td>\n",
       "    </tr>\n",
       "    <tr>\n",
       "      <th>5</th>\n",
       "      <td>13</td>\n",
       "      <td>14</td>\n",
       "      <td>15</td>\n",
       "    </tr>\n",
       "  </tbody>\n",
       "</table>\n",
       "</div>"
      ]
     },
     "metadata": {},
     "execution_count": 4
    }
   ],
   "metadata": {}
  },
  {
   "cell_type": "code",
   "execution_count": 5,
   "source": [
    "element_con.head()"
   ],
   "outputs": [
    {
     "output_type": "execute_result",
     "data": {
      "text/plain": [
       "Local Node  1  2   3   4\n",
       "Element                 \n",
       "1           1  2  23  22\n",
       "2           2  3  24  23\n",
       "3           3  4  25  24\n",
       "4           4  5  26  25\n",
       "5           5  6  27  26"
      ],
      "text/html": [
       "<div>\n",
       "<style scoped>\n",
       "    .dataframe tbody tr th:only-of-type {\n",
       "        vertical-align: middle;\n",
       "    }\n",
       "\n",
       "    .dataframe tbody tr th {\n",
       "        vertical-align: top;\n",
       "    }\n",
       "\n",
       "    .dataframe thead th {\n",
       "        text-align: right;\n",
       "    }\n",
       "</style>\n",
       "<table border=\"1\" class=\"dataframe\">\n",
       "  <thead>\n",
       "    <tr style=\"text-align: right;\">\n",
       "      <th>Local Node</th>\n",
       "      <th>1</th>\n",
       "      <th>2</th>\n",
       "      <th>3</th>\n",
       "      <th>4</th>\n",
       "    </tr>\n",
       "    <tr>\n",
       "      <th>Element</th>\n",
       "      <th></th>\n",
       "      <th></th>\n",
       "      <th></th>\n",
       "      <th></th>\n",
       "    </tr>\n",
       "  </thead>\n",
       "  <tbody>\n",
       "    <tr>\n",
       "      <th>1</th>\n",
       "      <td>1</td>\n",
       "      <td>2</td>\n",
       "      <td>23</td>\n",
       "      <td>22</td>\n",
       "    </tr>\n",
       "    <tr>\n",
       "      <th>2</th>\n",
       "      <td>2</td>\n",
       "      <td>3</td>\n",
       "      <td>24</td>\n",
       "      <td>23</td>\n",
       "    </tr>\n",
       "    <tr>\n",
       "      <th>3</th>\n",
       "      <td>3</td>\n",
       "      <td>4</td>\n",
       "      <td>25</td>\n",
       "      <td>24</td>\n",
       "    </tr>\n",
       "    <tr>\n",
       "      <th>4</th>\n",
       "      <td>4</td>\n",
       "      <td>5</td>\n",
       "      <td>26</td>\n",
       "      <td>25</td>\n",
       "    </tr>\n",
       "    <tr>\n",
       "      <th>5</th>\n",
       "      <td>5</td>\n",
       "      <td>6</td>\n",
       "      <td>27</td>\n",
       "      <td>26</td>\n",
       "    </tr>\n",
       "  </tbody>\n",
       "</table>\n",
       "</div>"
      ]
     },
     "metadata": {},
     "execution_count": 5
    }
   ],
   "metadata": {}
  },
  {
   "cell_type": "code",
   "execution_count": 6,
   "source": [
    "index_table.head()"
   ],
   "outputs": [
    {
     "output_type": "execute_result",
     "data": {
      "text/plain": [
       "        Local Node 1               Local Node 2               Local Node 3  \\\n",
       "                   w thetaX thetaY            w thetaX thetaY            w   \n",
       "Element                                                                      \n",
       "1                  1      2      3            4      5      6           67   \n",
       "2                  4      5      6            7      8      9           70   \n",
       "3                  7      8      9           10     11     12           73   \n",
       "4                 10     11     12           13     14     15           76   \n",
       "5                 13     14     15           16     17     18           79   \n",
       "\n",
       "                      Local Node 4                \n",
       "        thetaX thetaY            w thetaX thetaY  \n",
       "Element                                           \n",
       "1           68     69           64     65     66  \n",
       "2           71     72           67     68     69  \n",
       "3           74     75           70     71     72  \n",
       "4           77     78           73     74     75  \n",
       "5           80     81           76     77     78  "
      ],
      "text/html": [
       "<div>\n",
       "<style scoped>\n",
       "    .dataframe tbody tr th:only-of-type {\n",
       "        vertical-align: middle;\n",
       "    }\n",
       "\n",
       "    .dataframe tbody tr th {\n",
       "        vertical-align: top;\n",
       "    }\n",
       "\n",
       "    .dataframe thead tr th {\n",
       "        text-align: left;\n",
       "    }\n",
       "\n",
       "    .dataframe thead tr:last-of-type th {\n",
       "        text-align: right;\n",
       "    }\n",
       "</style>\n",
       "<table border=\"1\" class=\"dataframe\">\n",
       "  <thead>\n",
       "    <tr>\n",
       "      <th></th>\n",
       "      <th colspan=\"3\" halign=\"left\">Local Node 1</th>\n",
       "      <th colspan=\"3\" halign=\"left\">Local Node 2</th>\n",
       "      <th colspan=\"3\" halign=\"left\">Local Node 3</th>\n",
       "      <th colspan=\"3\" halign=\"left\">Local Node 4</th>\n",
       "    </tr>\n",
       "    <tr>\n",
       "      <th></th>\n",
       "      <th>w</th>\n",
       "      <th>thetaX</th>\n",
       "      <th>thetaY</th>\n",
       "      <th>w</th>\n",
       "      <th>thetaX</th>\n",
       "      <th>thetaY</th>\n",
       "      <th>w</th>\n",
       "      <th>thetaX</th>\n",
       "      <th>thetaY</th>\n",
       "      <th>w</th>\n",
       "      <th>thetaX</th>\n",
       "      <th>thetaY</th>\n",
       "    </tr>\n",
       "    <tr>\n",
       "      <th>Element</th>\n",
       "      <th></th>\n",
       "      <th></th>\n",
       "      <th></th>\n",
       "      <th></th>\n",
       "      <th></th>\n",
       "      <th></th>\n",
       "      <th></th>\n",
       "      <th></th>\n",
       "      <th></th>\n",
       "      <th></th>\n",
       "      <th></th>\n",
       "      <th></th>\n",
       "    </tr>\n",
       "  </thead>\n",
       "  <tbody>\n",
       "    <tr>\n",
       "      <th>1</th>\n",
       "      <td>1</td>\n",
       "      <td>2</td>\n",
       "      <td>3</td>\n",
       "      <td>4</td>\n",
       "      <td>5</td>\n",
       "      <td>6</td>\n",
       "      <td>67</td>\n",
       "      <td>68</td>\n",
       "      <td>69</td>\n",
       "      <td>64</td>\n",
       "      <td>65</td>\n",
       "      <td>66</td>\n",
       "    </tr>\n",
       "    <tr>\n",
       "      <th>2</th>\n",
       "      <td>4</td>\n",
       "      <td>5</td>\n",
       "      <td>6</td>\n",
       "      <td>7</td>\n",
       "      <td>8</td>\n",
       "      <td>9</td>\n",
       "      <td>70</td>\n",
       "      <td>71</td>\n",
       "      <td>72</td>\n",
       "      <td>67</td>\n",
       "      <td>68</td>\n",
       "      <td>69</td>\n",
       "    </tr>\n",
       "    <tr>\n",
       "      <th>3</th>\n",
       "      <td>7</td>\n",
       "      <td>8</td>\n",
       "      <td>9</td>\n",
       "      <td>10</td>\n",
       "      <td>11</td>\n",
       "      <td>12</td>\n",
       "      <td>73</td>\n",
       "      <td>74</td>\n",
       "      <td>75</td>\n",
       "      <td>70</td>\n",
       "      <td>71</td>\n",
       "      <td>72</td>\n",
       "    </tr>\n",
       "    <tr>\n",
       "      <th>4</th>\n",
       "      <td>10</td>\n",
       "      <td>11</td>\n",
       "      <td>12</td>\n",
       "      <td>13</td>\n",
       "      <td>14</td>\n",
       "      <td>15</td>\n",
       "      <td>76</td>\n",
       "      <td>77</td>\n",
       "      <td>78</td>\n",
       "      <td>73</td>\n",
       "      <td>74</td>\n",
       "      <td>75</td>\n",
       "    </tr>\n",
       "    <tr>\n",
       "      <th>5</th>\n",
       "      <td>13</td>\n",
       "      <td>14</td>\n",
       "      <td>15</td>\n",
       "      <td>16</td>\n",
       "      <td>17</td>\n",
       "      <td>18</td>\n",
       "      <td>79</td>\n",
       "      <td>80</td>\n",
       "      <td>81</td>\n",
       "      <td>76</td>\n",
       "      <td>77</td>\n",
       "      <td>78</td>\n",
       "    </tr>\n",
       "  </tbody>\n",
       "</table>\n",
       "</div>"
      ]
     },
     "metadata": {},
     "execution_count": 6
    }
   ],
   "metadata": {}
  },
  {
   "cell_type": "markdown",
   "source": [
    "# Assembly of [K] and [M]"
   ],
   "metadata": {}
  },
  {
   "cell_type": "code",
   "execution_count": 7,
   "source": [
    "start_assy = datetime.now()\r\n",
    "K = np.zeros((ndof,ndof))\r\n",
    "M = np.zeros((ndof,ndof))\r\n",
    "\r\n",
    "Ke = k_e(dx, dy)\r\n",
    "Me = m_e(dx, dy)\r\n",
    "\r\n",
    "for n in range(1, nElements+1):\r\n",
    "    Mee = np.zeros((ndof,ndof))\r\n",
    "    Kee = np.zeros((ndof,ndof))\r\n",
    "    idx = index_table.loc[n].to_list()\r\n",
    "    for i, p in enumerate(idx):\r\n",
    "        for j, q in enumerate(idx):\r\n",
    "            Mee[p-1,q-1] = Me[i, j]\r\n",
    "            Kee[p-1,q-1] = Ke[i, j]\r\n",
    "    M += Mee\r\n",
    "    K += Kee\r\n",
    "\r\n",
    "finish_assy = datetime.now()\r\n",
    "print(\"Elapsed time: \", finish_assy-start_assy)"
   ],
   "outputs": [
    {
     "output_type": "stream",
     "name": "stdout",
     "text": [
      "Elapsed time:  0:01:00.462573\n"
     ]
    }
   ],
   "metadata": {}
  },
  {
   "cell_type": "markdown",
   "source": [
    "# Find nodes inside BC regions and remove fixed DoF from [K] and [M]"
   ],
   "metadata": {}
  },
  {
   "cell_type": "code",
   "execution_count": 8,
   "source": [
    "# Fixed boundary conditions: Two points rectandofe\r\n",
    "region1 = np.array([[0.000, 0.100], [0.010, 0.120]])\r\n",
    "region2 = np.array([[0.000, 0.380], [0.010, 0.400]])\r\n",
    "region3 = np.array([[0.180, 0.240], [0.200, 0.280]])\r\n",
    "regions = {1: region1, 2: region2, 3: region3}\r\n",
    "\r\n",
    "fixed_dof = list()\r\n",
    "fixed_nodes = list()\r\n",
    "for r in regions.values():\r\n",
    "    fixed_nodes += node_coor[(node_coor['x'].between(r[0][0], r[1][0])) & (node_coor['y'].between(r[0][1], r[1][1]))].index.tolist()\r\n",
    "\r\n",
    "for node in fixed_nodes: \r\n",
    "    fixed_dof += node_dof.loc[node].tolist()\r\n",
    "\r\n",
    "M_backup = M.copy()\r\n",
    "K_backup = K.copy()\r\n",
    "# Removing fixed DoF from the matrices\r\n",
    "for j in range(1, len(fixed_dof)+1):\r\n",
    "    M = np.delete(M, fixed_dof[j-1]-j, axis=1)\r\n",
    "    M = np.delete(M, fixed_dof[j-1]-j, axis=0)\r\n",
    "    K = np.delete(K, fixed_dof[j-1]-j, axis=1)\r\n",
    "    K = np.delete(K, fixed_dof[j-1]-j, axis=0)"
   ],
   "outputs": [],
   "metadata": {}
  },
  {
   "cell_type": "code",
   "execution_count": 9,
   "source": [
    "plt.figure(figsize=(30/5,50/5))\r\n",
    "plt.scatter(x=node_coor['x'], y=node_coor['y'], label=\"Free node\")\r\n",
    "plt.scatter(x=node_coor['x'][fixed_nodes], y=node_coor['y'][fixed_nodes], marker='x', label='Fixed node')\r\n",
    "plt.title(\"Nodes\")\r\n",
    "plt.legend(loc='upper center', bbox_to_anchor=(1.2, 1))\r\n",
    "plt.xlabel(\"X location [m]\")\r\n",
    "plt.ylabel(\"Y location [m]\")\r\n",
    "plt.tight_layout()"
   ],
   "outputs": [
    {
     "output_type": "display_data",
     "data": {
      "text/plain": [
       "<Figure size 432x720 with 1 Axes>"
      ],
      "image/png": "[encoded data removed]"
     },
     "metadata": {
      "needs_background": "light"
     }
    }
   ],
   "metadata": {}
  },
  {
   "cell_type": "code",
   "execution_count": 10,
   "source": [
    "np.savetxt(f\"M_{eSize}.csv\", M, delimiter=\",\")\r\n",
    "np.savetxt(f\"K_{eSize}.csv\", K, delimiter=\",\")"
   ],
   "outputs": [],
   "metadata": {}
  },
  {
   "cell_type": "code",
   "execution_count": 11,
   "source": [
    "# from numpy import genfromtxt\r\n",
    "# M = genfromtxt('M_0.005.csv', delimiter=',')\r\n",
    "# M = sp.sparse.bsr_matrix(M)\r\n",
    "# K = genfromtxt('K_0.005.csv', delimiter=',')\r\n",
    "# K = sp.sparse.bsr_matrix(K)"
   ],
   "outputs": [],
   "metadata": {}
  },
  {
   "cell_type": "markdown",
   "source": [
    "# Solve eignevalue problem"
   ],
   "metadata": {}
  },
  {
   "cell_type": "code",
   "execution_count": 12,
   "source": [
    "start_eig = datetime.now()\r\n",
    "resultados = dict()\r\n",
    "\r\n",
    "# Problema de autovalor generalizado. W é um vetor e A uma matrix com as colunas normalizadas\r\n",
    "# W, Vc = eig(K, M)\r\n",
    "M = sp.sparse.bsr_matrix(M)\r\n",
    "K = sp.sparse.bsr_matrix(K)\r\n",
    "W, Vc = eigsh(A=K, k=40, M=M, which='SM')\r\n",
    "\r\n",
    "# Ordenando os autovalores e a matriz de autovetores\r\n",
    "idx = W.argsort()\r\n",
    "W = W[idx]\r\n",
    "Vc = Vc[:,idx]\r\n",
    "Vc_backup = Vc.copy()\r\n",
    "\r\n",
    "# Normalizando os autovetores pela matriz de massa, de forma que A'@M@A = I\r\n",
    "m_r = np.diagonal(Vc.T @ M @ Vc)\r\n",
    "m_r = np.reciprocal(np.sqrt(m_r))\r\n",
    "for a in range(Vc.shape[1]):\r\n",
    "    Vc[:,a] *= m_r[a] # multiplica cada coluna pelo fator de escala\r\n",
    "    \r\n",
    "## Montando as formas modais\r\n",
    "# Incluindo os dof das condições de contorno\r\n",
    "for c in fixed_dof:\r\n",
    "    Vc = np.insert(Vc, c-1, 0, axis=0)\r\n",
    "\r\n",
    "resultados[nElements] = dict()\r\n",
    "resultados[nElements]['fn'] = (W**0.5/(2*pi)).real\r\n",
    "resultados[nElements]['V'] = Vc[0::3, :].real # Displacement shape (dof 1,4,7,10,13,...) \r\n",
    "resultados[nElements]['theta'] = np.delete(Vc, np.arange(0, Vc.shape[1]-1, 4), axis = 1).real # Angular shapes (dof 2,3,5,6,8,9,11,12,...)\r\n",
    "\r\n",
    "# Faz as formas modais terem a mesma orientação\r\n",
    "for j in range(1, W.size):\r\n",
    "    if np.sum(resultados[nElements]['V'][:,j-1]) >= 0:\r\n",
    "        pass\r\n",
    "    else:\r\n",
    "        resultados[nElements]['V'][:,j-1] *= -1\r\n",
    "\r\n",
    "finish_eig = datetime.now()\r\n",
    "print(\"Elapsed time: \", finish_eig-start_eig)"
   ],
   "outputs": [
    {
     "output_type": "stream",
     "name": "stdout",
     "text": [
      "Elapsed time:  0:01:52.675427\n"
     ]
    }
   ],
   "metadata": {}
  },
  {
   "cell_type": "code",
   "execution_count": 13,
   "source": [
    "np.savetxt(f\"fn_{eSize}.csv\", (W**0.5/(2*pi)).real, delimiter=\",\")\r\n",
    "np.savetxt(f\"Vc_{eSize}.csv\", Vc_backup, delimiter=\",\")"
   ],
   "outputs": [],
   "metadata": {}
  },
  {
   "cell_type": "code",
   "execution_count": 14,
   "source": [
    "n = np.array([nElements])\r\n",
    "pd.options.display.float_format = \"{:.2f}\".format\r\n",
    "pd.DataFrame(data=[resultados[n_b]['fn'] for n_b in n], index=[f\"n={i}\" for i in n], columns=[f\"f_{j}\" for j in range(1, len(resultados[n.max()]['fn'])+1)])"
   ],
   "outputs": [
    {
     "output_type": "execute_result",
     "data": {
      "text/plain": [
       "         f_1   f_2    f_3    f_4    f_5    f_6    f_7    f_8    f_9   f_10  \\\n",
       "n=1000 41.88 44.49 113.67 120.67 168.00 180.63 197.64 248.85 256.94 328.03   \n",
       "\n",
       "        ...    f_31    f_32    f_33    f_34    f_35    f_36    f_37    f_38  \\\n",
       "n=1000  ... 1146.94 1169.09 1177.08 1196.02 1262.99 1314.92 1331.44 1388.57   \n",
       "\n",
       "          f_39    f_40  \n",
       "n=1000 1448.54 1475.12  \n",
       "\n",
       "[1 rows x 40 columns]"
      ],
      "text/html": [
       "<div>\n",
       "<style scoped>\n",
       "    .dataframe tbody tr th:only-of-type {\n",
       "        vertical-align: middle;\n",
       "    }\n",
       "\n",
       "    .dataframe tbody tr th {\n",
       "        vertical-align: top;\n",
       "    }\n",
       "\n",
       "    .dataframe thead th {\n",
       "        text-align: right;\n",
       "    }\n",
       "</style>\n",
       "<table border=\"1\" class=\"dataframe\">\n",
       "  <thead>\n",
       "    <tr style=\"text-align: right;\">\n",
       "      <th></th>\n",
       "      <th>f_1</th>\n",
       "      <th>f_2</th>\n",
       "      <th>f_3</th>\n",
       "      <th>f_4</th>\n",
       "      <th>f_5</th>\n",
       "      <th>f_6</th>\n",
       "      <th>f_7</th>\n",
       "      <th>f_8</th>\n",
       "      <th>f_9</th>\n",
       "      <th>f_10</th>\n",
       "      <th>...</th>\n",
       "      <th>f_31</th>\n",
       "      <th>f_32</th>\n",
       "      <th>f_33</th>\n",
       "      <th>f_34</th>\n",
       "      <th>f_35</th>\n",
       "      <th>f_36</th>\n",
       "      <th>f_37</th>\n",
       "      <th>f_38</th>\n",
       "      <th>f_39</th>\n",
       "      <th>f_40</th>\n",
       "    </tr>\n",
       "  </thead>\n",
       "  <tbody>\n",
       "    <tr>\n",
       "      <th>n=1000</th>\n",
       "      <td>41.88</td>\n",
       "      <td>44.49</td>\n",
       "      <td>113.67</td>\n",
       "      <td>120.67</td>\n",
       "      <td>168.00</td>\n",
       "      <td>180.63</td>\n",
       "      <td>197.64</td>\n",
       "      <td>248.85</td>\n",
       "      <td>256.94</td>\n",
       "      <td>328.03</td>\n",
       "      <td>...</td>\n",
       "      <td>1146.94</td>\n",
       "      <td>1169.09</td>\n",
       "      <td>1177.08</td>\n",
       "      <td>1196.02</td>\n",
       "      <td>1262.99</td>\n",
       "      <td>1314.92</td>\n",
       "      <td>1331.44</td>\n",
       "      <td>1388.57</td>\n",
       "      <td>1448.54</td>\n",
       "      <td>1475.12</td>\n",
       "    </tr>\n",
       "  </tbody>\n",
       "</table>\n",
       "<p>1 rows × 40 columns</p>\n",
       "</div>"
      ]
     },
     "metadata": {},
     "execution_count": 14
    }
   ],
   "metadata": {}
  },
  {
   "cell_type": "code",
   "execution_count": 15,
   "source": [
    "mode1 = resultados[nElements]['V'][:,0].reshape((nNodesY, nNodesX))\r\n",
    "\r\n",
    "x = np.linspace(0, L, nNodesX)\r\n",
    "y = np.linspace(0, H, nNodesY)\r\n",
    "\r\n",
    "X, Y = np.meshgrid(x, y)\r\n",
    "Z = mode1\r\n",
    "\r\n",
    "fig, ax = plt.subplots(subplot_kw={\"projection\": \"3d\"})\r\n",
    "surf = ax.plot_surface(X, Y, Z, cmap=cm.coolwarm, linewidth=0, antialiased=False)\r\n",
    "plt.show()"
   ],
   "outputs": [
    {
     "output_type": "display_data",
     "data": {
      "text/plain": [
       "<Figure size 432x288 with 1 Axes>"
      ],
      "image/png": "[encoded data removed]"
     },
     "metadata": {
      "needs_background": "light"
     }
    }
   ],
   "metadata": {}
  },
  {
   "cell_type": "code",
   "execution_count": 16,
   "source": [
    "z_data = pd.DataFrame(mode1)\r\n",
    "\r\n",
    "fig = go.Figure(data=[go.Surface(z=z_data.values)])\r\n",
    "\r\n",
    "fig.update_layout(title='First mode shape', autosize=False,\r\n",
    "                  width=1000, height=1000,\r\n",
    "                  margin=dict(l=65, r=50, b=65, t=90))\r\n",
    "\r\n",
    "fig.show()"
   ],
   "outputs": [
    {
     "output_type": "display_data",
     "data": {
      "application/vnd.plotly.v1+json": {
       "config": {
        "plotlyServerURL": "https://plot.ly"
       },
       "data": [
        {
         "type": "surface",
         "z": [
          [
           0.6546125179790505,
           0.8011078183527529,
           0.9499264151892874,
           1.102718446021215,
           1.260457876599091,
           1.4235513815755454,
           1.591903817387374,
           1.7650067555467404,
           1.9420437710129603,
           2.1219975463080094,
           2.3037477172078638,
           2.4861542772813827,
           2.6681260654525536,
           2.8486765517757866,
           3.0269701968358427,
           3.202362801896461,
           3.3744391250546792,
           3.543051192088114,
           3.7083621500994557,
           3.8709088111087557,
           4.031749720753581
          ],
          [
           0.5456098827351475,
           0.6904185181487715,
           0.8367320909217745,
           0.986358511485779,
           1.1404633681812169,
           1.299584754259556,
           1.4637082654022027,
           1.632376626496773,
           1.8048145833777383,
           1.9800492793569386,
           2.157014373138648,
           2.3346344406603365,
           2.5118915070965118,
           2.687877808860372,
           2.8618392524339766,
           3.0332136295812657,
           3.2016672070256265,
           3.3671333950059763,
           3.5298585812724887,
           3.6904650620684705,
           3.8500335837555175
          ],
          [
           0.4390197402715294,
           0.5809242371772891,
           0.723810372445583,
           0.8696487866998407,
           1.0197623658931225,
           1.1747762100781622,
           1.3347000605637207,
           1.4990702056368452,
           1.6671034728767964,
           1.8378344263382378,
           2.01022472398947,
           2.1832455527615666,
           2.355939115243031,
           2.5274658658637734,
           2.6971431860794226,
           2.864479913773921,
           3.0292101952100943,
           3.1913296627214383,
           3.3511367173450197,
           3.5092786553419932,
           3.6667800917674893
          ],
          [
           0.33705809254299357,
           0.47457626924728186,
           0.6127766801597689,
           0.7539193848245871,
           0.8994807080362418,
           1.0501078355032603,
           1.2057467658514176,
           1.3658452320374186,
           1.529550374131435,
           1.6958640388311836,
           1.8637520652174722,
           2.0322183689243043,
           2.2003563215347066,
           2.367387057480151,
           2.5326911524240545,
           2.6958378094037863,
           2.8566142190302983,
           3.0150566560876855,
           3.1714831125933887,
           3.326522437109337,
           3.4811282558787533
          ],
          [
           0.24203847510510096,
           0.37338914568738124,
           0.5053433391081867,
           0.640645109611973,
           0.7809411959573924,
           0.9268013644515358,
           1.0779778063089667,
           1.2337237335343618,
           1.3930500171392712,
           1.5548909215668092,
           1.7182004811896352,
           1.8820082172754307,
           2.0454543595626684,
           2.207815986653152,
           2.3685299927252363,
           2.527215850638496,
           2.6836995557822982,
           2.8380389261481542,
           2.990548802684723,
           3.141822469892768,
           3.2927454435233843
          ],
          [
           0.15663622779031228,
           0.2795353785667975,
           0.4032937385056692,
           0.5313979653538776,
           0.6656355728778811,
           0.8063066458236824,
           0.952774071601152,
           1.103973632865396,
           1.2587244825960948,
           1.4158758778355014,
           1.5743679894663556,
           1.7332574596678085,
           1.8917315919243718,
           2.0491206915232962,
           2.2049119082691533,
           2.3587655427740204,
           2.510533781707951,
           2.6602811438368232,
           2.8083051757880835,
           2.9551555207551705,
           3.101650525605375
          ],
          [
           0.08405532369794558,
           0.19537782221983344,
           0.3084478146732924,
           0.42783230389851723,
           0.5552489190141582,
           0.6903285860273244,
           0.8317687233095755,
           0.978081259918627,
           1.1278777088696685,
           1.2799348116597073,
           1.4331931259665658,
           1.5867449672672769,
           1.7398270601003993,
           1.8918202541256812,
           2.0422554327947067,
           2.190824296746819,
           2.3373938141963158,
           2.4820231863246995,
           2.624982176235879,
           2.76676994480773,
           2.908134513352569
          ],
          [
           0.028222887169540956,
           0.12339371828082646,
           0.22256337327574818,
           0.3317263043321312,
           0.4517701637774671,
           0.5808869795070453,
           0.7168324748852458,
           0.8576899094449639,
           1.0019167026406488,
           1.148259771040316,
           1.295683079264656,
           1.4433231267176476,
           1.590465656363322,
           1.736536462200477,
           1.8811015082953026,
           2.023873442798565,
           2.1647227105283364,
           2.3036920553381806,
           2.4410135686413925,
           2.5771278949291307,
           2.7127059276291416
          ],
          [
           -0.005974757202364862,
           0.06580483913648942,
           0.14720119879773977,
           0.24525834937543325,
           0.3577272788716469,
           0.4803381377903233,
           0.6099714860494017,
           0.7444638177658005,
           0.8822231758591985,
           1.0220104903340375,
           1.162825363020808,
           1.3038460919312298,
           1.444398804935842,
           1.5839431607339594,
           1.722068269977343,
           1.8584955919653239,
           1.9930870854435008,
           2.125857619704228,
           2.256991050601254,
           2.3868597353508108,
           2.51604774409055
          ],
          [
           -0.013332330003976687,
           0.023535757032142925,
           0.08423209012850118,
           0.17195575321237674,
           0.2763033018654725,
           0.3911169354835834,
           0.513030924943056,
           0.6398482749412626,
           0.7699760397469262,
           0.9021853326003194,
           1.0354927530203901,
           1.1690975839268636,
           1.3023472411264876,
           1.4347185357869836,
           1.5658089860750122,
           1.6953354771184903,
           1.8231389728771124,
           1.9491945721575077,
           2.073626437336452,
           2.196727303774171,
           2.318982562538215
          ],
          [
           0,
           0,
           0.04040059391175057,
           0.11679364545935038,
           0.2103037389161058,
           0.31493211456874776,
           0.4271933674279439,
           0.5447641139060978,
           0.6659615796431052,
           0.7894987735669797,
           0.9143600366547666,
           1.0397306859223077,
           1.1649543358869727,
           1.2895062662307823,
           1.4129775502381319,
           1.535067653096722,
           1.6555845302956178,
           1.7744516737513767,
           1.8917215525965403,
           2.0075948361329243,
           2.1224449026031995
          ],
          [
           0,
           0,
           0.022520518008191413,
           0.08087769735627039,
           0.15983914121362663,
           0.25176243291514555,
           0.3525017320712726,
           0.4593661238350557,
           0.5704431039380746,
           0.6843054574117121,
           0.7998554019565747,
           0.91623307537156,
           1.0327581941955508,
           1.1488908128061943,
           1.2642050529434108,
           1.3783734412687454,
           1.4911610457526348,
           1.6024288824746797,
           1.7121457350327376,
           1.8204071413631253,
           1.9274602482896541
          ],
          [
           0,
           0,
           0.01506178852559982,
           0.0577107140014081,
           0.12135603710899379,
           0.19952952867300633,
           0.2877613511695147,
           0.3830205612961091,
           0.4831610606495084,
           0.5866050899745169,
           0.6921639055940747,
           0.7989270349898805,
           0.9061877876013072,
           1.013389947352162,
           1.1200893241053065,
           1.225928257335718,
           1.3306228401682525,
           1.4339625290990556,
           1.5358208277562388,
           1.636174766027362,
           1.7351306000296516
          ],
          [
           -0.015443243365336427,
           -0.01062422636246734,
           0.004414362586576769,
           0.03785044034765038,
           0.0893333120849043,
           0.1549470106549391,
           0.230986294330747,
           0.3145566840308211,
           0.40348309537638855,
           0.4961351283591359,
           0.5912854145088747,
           0.6880049710207887,
           0.7855832320671873,
           0.8834643926352757,
           0.9811972165033286,
           1.0783990449964505,
           1.174735755376258,
           1.2699181977295033,
           1.3637132769423947,
           1.455965755645839,
           1.5466261495412226
          ],
          [
           -0.04582235172673618,
           -0.03332177137420811,
           -0.014403650069748973,
           0.01588701774485836,
           0.05943421687374673,
           0.11496667259937984,
           0.1801475722764426,
           0.252684016681673,
           0.33065039785963757,
           0.4125229514894103,
           0.49713139573121284,
           0.5835914662889327,
           0.6712348178530513,
           0.7595411425373164,
           0.848077326366764,
           0.9364502171759942,
           1.0242791025828322,
           1.1111904863334288,
           1.1968326585117828,
           1.2809033474339206,
           1.3631823701870434
          ],
          [
           -0.07924665301121506,
           -0.06065440767022587,
           -0.038362190066472235,
           -0.008850105545290256,
           0.029837020560481518,
           0.07776183186934751,
           0.13378856731874478,
           0.19637637693802065,
           0.264023347585677,
           0.3354474050147852,
           0.40963344672610996,
           0.4858166128784017,
           0.5634317993915072,
           0.6420448446442943,
           0.7212794561335988,
           0.8007556321026439,
           0.8800534304211968,
           0.9587085139501849,
           1.0362356865286753,
           1.112168572119006,
           1.1861013058263565
          ],
          [
           -0.11131207624864438,
           -0.0886139508677808,
           -0.06395046811308318,
           -0.034745983600943116,
           0.0006625699153667064,
           0.042794965748027436,
           0.09123876711980701,
           0.14507575519662907,
           0.20324470375023868,
           0.26476356080043173,
           0.3288372167730646,
           0.39488536512182654,
           0.4625117876228009,
           0.531431398761377,
           0.6013769040371186,
           0.6720140199972255,
           0.7428924859049725,
           0.8134460547084836,
           0.8830345796771858,
           0.9510062456395609,
           1.0167550112201422
          ],
          [
           -0.14005846839691255,
           -0.11483936212614694,
           -0.08878189698306033,
           -0.05999449962544214,
           -0.027145965358595134,
           0.010368628680950493,
           0.052487170344167645,
           0.0986981815262082,
           0.14829238351525487,
           0.20056806101984126,
           0.25496648101550484,
           0.3111335364481214,
           0.3689049702722198,
           0.4282198740407978,
           0.4889888364819763,
           0.5509661731657929,
           0.613678532204668,
           0.6764356485097076,
           0.7384085049481863,
           0.7987319535957811,
           0.8565876262590626
          ],
          [
           -0.16446543936000566,
           -0.13790850269298938,
           -0.11126310269908275,
           -0.08314186625937753,
           -0.05251967746191591,
           -0.018853850430237133,
           0.017922539005975097,
           0.05751573173042354,
           0.09944241007998086,
           0.1432074922435771,
           0.18845601733990056,
           0.23506984829741692,
           0.28317334642887126,
           0.33302276208454745,
           0.38480264067104014,
           0.4384144348482157,
           0.4933621476584832,
           0.548787098982253,
           0.6036163634798029,
           0.6567357777602677,
           0.7071098736792221
          ],
          [
           -0.18399572948893203,
           -0.15696702182261546,
           -0.13034765386752334,
           -0.10312633300647758,
           -0.07453922098884712,
           -0.04415960712059171,
           -0.011911051197503967,
           0.02199477241526269,
           0.05717733237258197,
           0.09324329074470909,
           0.12996034610229984,
           0.1674116066330082,
           0.20605283449357537,
           0.2465805818576854,
           0.28960068695464636,
           0.33524941362396965,
           0.3829915999949824,
           0.4317124750209255,
           0.4800074483154034,
           0.5264744470280407,
           0.5698750751094721
          ],
          [
           -0.19841457167689083,
           -0.1715411571892735,
           -0.1453929434274204,
           -0.11923928764128094,
           -0.09252876153124034,
           -0.06495953645852368,
           -0.03650204170803922,
           -0.007369810063088993,
           0.02205980285854648,
           0.05137796330340166,
           0.08034161799634655,
           0.10912584276779894,
           0.13851655873233581,
           0.1698168337994538,
           0.20430452150815218,
           0.2424976441609047,
           0.28376476752759905,
           0.32656113116933305,
           0.36902051331806895,
           0.40943525614891063,
           0.4464188194660406
          ],
          [
           -0.2077073355702511,
           -0.18143990873110402,
           -0.15607435492421737,
           -0.13108617433566178,
           -0.1060878943016215,
           -0.0808868577479565,
           -0.05551396049775204,
           -0.030219655051868192,
           -0.005434460496034861,
           0.01831967433719145,
           0.04061413382744972,
           0.06147903670509359,
           0.08189609785083206,
           0.10395106218841096,
           0.1300701614429772,
           0.16142370600354683,
           0.197131947050144,
           0.23486144719563148,
           0.2721434820458894,
           0.30704117687100424,
           0.33813811497355173
          ],
          [
           -0.21203399693750402,
           -0.18669675470106642,
           -0.1623288285368728,
           -0.1385522400188532,
           -0.115097737203837,
           -0.09185272577775594,
           -0.06889282281090278,
           -0.0464959808157621,
           -0.025139761350056196,
           -0.00547710993955179,
           0.01174902695734519,
           0.02604068842898597,
           0.03811193168744309,
           0.05079860092955061,
           0.06851170286815411,
           0.0937840005741597,
           0.12499184633578106,
           0.1583121428038858,
           0.19076233275459267,
           0.2204550820870607,
           0.24609199272788498
          ],
          [
           -0.21169628307759628,
           -0.187526600458986,
           -0.16430934261408925,
           -0.14176603684942676,
           -0.11970563673971049,
           -0.09806282614113165,
           -0.0769278324974673,
           -0.056568566698724614,
           -0.037449161139719515,
           -0.02025178240230745,
           -0.005913285320544478,
           0.004347388898832209,
           0.009896183019575323,
           0.01377705330572105,
           0.02230605873238067,
           0.04257162017026504,
           0.06985213114579499,
           0.09845626348241872,
           0.12578477521222503,
           0.15026890649737445,
           0.17074410267062023
          ],
          [
           -0.2071073716541563,
           -0.1842864897764351,
           -0.16234002428353236,
           -0.1410541881213646,
           -0.12028528652801927,
           -0.09998816494241855,
           -0.08024035616486042,
           -0.061262770951704335,
           -0.04344095565834961,
           -0.027355079599734402,
           -0.01383248408507142,
           -0.004058484885444466,
           0.01272384393955014,
           0.03348158035880167,
           0.055656361435023574,
           0.07707228343338811,
           0.09617209423484267,
           0.11173423716264973,
           0,
           0,
           0
          ],
          [
           -0.19876085998196946,
           -0.17743596702892567,
           -0.1568683551795448,
           -0.13688599995188183,
           -0.11737310221072111,
           -0.09828969757174545,
           -0.07968930620095925,
           -0.06173491643870009,
           -0.04471667679581168,
           -0.029080003271104854,
           -0.015481112799340774,
           -0.004944648268970943,
           0.002902017329778508,
           0.013642547665737515,
           0.028055267073611122,
           0.04307599631121635,
           0.056802913444842264,
           0.06780440460944029,
           0,
           0,
           0
          ],
          [
           -0.18719953412080054,
           -0.16749762779957897,
           -0.14841621593859752,
           -0.1298126188852635,
           -0.11159044384059645,
           -0.09371304640172137,
           -0.07621723244830665,
           -0.05922782908913564,
           -0.04297833463816086,
           -0.027854475590730392,
           -0.014518172415106924,
           -0.004298964470467368,
           0.0004112421010507677,
           0.004384615092874009,
           0.011941414188456376,
           0.021084904413086997,
           0.029940635739719553,
           0.036959786710889675,
           0,
           0,
           0
          ],
          [
           -0.1729864647197004,
           -0.1550209938116509,
           -0.13753473567343003,
           -0.12040967432922173,
           -0.10356809147489952,
           -0.08698335136124229,
           -0.07069342279752046,
           -0.05481873309971696,
           -0.03959171263318374,
           -0.025418468860571003,
           -0.013022202923513682,
           -0.0037525812613736506,
           -0.0004946526106124668,
           0.00023212957964295652,
           0.0033245816054465484,
           0.008024458315358477,
           0.012988212299466088,
           0.01682353955559992,
           0,
           0,
           0
          ],
          [
           -0.15668151171828618,
           -0.14055354428387717,
           -0.12476857137960362,
           -0.10923275399473989,
           -0.09388944094233477,
           -0.07873022604322688,
           -0.0638107586883358,
           -0.04927306616543782,
           -0.035380579924439264,
           -0.022577638112920604,
           -0.011582234660286414,
           -0.0034829733807952507,
           -0.0007476541879875958,
           -0.0013151746974775218,
           -0.0006089586239306455,
           0.0012554969287872386,
           0.0034941894402956528,
           0.005038579433797834,
           0,
           0,
           0
          ],
          [
           -0.13882576083085552,
           -0.12462186054453166,
           -0.11063357477540517,
           -0.09679165334558772,
           -0.0830618730786767,
           -0.06945812342177055,
           -0.05606083158433911,
           -0.04304106687573241,
           -0.030692539830570433,
           -0.01947265685655834,
           -0.010044189377174849,
           -0.0032825187408014253,
           0.00006242220496834065,
           0.0007781808293576605,
           0.0005765935482991036,
           -0.00015847956322516927,
           -0.0010342266360479691,
           -0.0013913640872200443,
           -0.001088888532231268,
           -0.0005248211585038923,
           -0.0004383015524020376
          ],
          [
           -0.11993524853362066,
           -0.10772409815201274,
           -0.0956088927692137,
           -0.08354406208425887,
           -0.07151574418081368,
           -0.05955783892471992,
           -0.047772245982580466,
           -0.03635095647565217,
           -0.025598151289323655,
           -0.015947070114910776,
           -0.007952060217751812,
           -0.0021892263149847786,
           0.0011026671377685998,
           0.00236457533592936,
           0.0023797097588167133,
           0.001758256295297215,
           0.0009094312216687151,
           0.00020364775410490994,
           -0.00020949204351313047,
           -0.0005219774381871265,
           -0.0012161407371453993
          ],
          [
           -0.10050419488937047,
           -0.09033328331914253,
           -0.08014181941292478,
           -0.06990480966065431,
           -0.059622717148968524,
           -0.04934182852061321,
           -0.03917606164618923,
           -0.029324450412179844,
           -0.020079985116631213,
           -0.01182238277805966,
           -0.004975513324335114,
           0.00010740867117862537,
           0.003326021641557423,
           0.004917085508221913,
           0.0053304621960325125,
           0.005035493696638069,
           0.004411947534195634,
           0.0037348917444579906,
           0.0031243047978995967,
           0.0024849898191850648,
           0.0015100190485127555
          ],
          [
           -0.08101748456347657,
           -0.0729100017637355,
           -0.06466225625254482,
           -0.05626471058989511,
           -0.047722555791299644,
           -0.03908406919776795,
           -0.030465604277771886,
           -0.02206330463082476,
           -0.014148334639577627,
           -0.007042844276378859,
           -0.0010686926818216393,
           0.0035359683990052525,
           0.0067035441778450725,
           0.008566610022500556,
           0.009405060922770192,
           0.009549737974391206,
           0.009301293676476046,
           0.008879957580942404,
           0.008388555328726009,
           0.007783645400653546,
           0.00687424638863362
          ],
          [
           -0.06197292653528785,
           -0.055923361329807846,
           -0.049603786869253125,
           -0.043013541535403294,
           -0.036149271883229125,
           -0.029050791306673953,
           -0.0218331149552508,
           -0.014690009426787911,
           -0.007875004419682906,
           -0.0016676880807017617,
           0.003672938329155888,
           0.007963322454417875,
           0.011140703844086441,
           0.013275965038874092,
           0.014545736976342186,
           0.015178217304149129,
           0.015396566158201007,
           0.015373512380660533,
           0.015199069190269485,
           0.014861730202298985,
           0.014248243255102242
          ],
          [
           -0.04391682804281996,
           -0.039880831446877846,
           -0.03542978835316229,
           -0.03056361643145497,
           -0.025250458431684126,
           -0.01951470990786084,
           -0.01347905687357916,
           -0.007348645739712203,
           -0.0013738937096509265,
           0.004188366432554637,
           0.009112960218014917,
           0.01324163045865069,
           0.016507784212153823,
           0.01894160312228699,
           0.020652542392077304,
           0.02179549366307584,
           0.022531710407942874,
           0.02299377711509408,
           0.02325956197807446,
           0.023337874161028754,
           0.023168291264057814
          ],
          [
           -0.027504562693469233,
           -0.025370858365927833,
           -0.022665086772672313,
           -0.01937200509578792,
           -0.015393154849321668,
           -0.010746871820378708,
           -0.005595747096953644,
           -0.000180973107031891,
           0.0052344441362524455,
           0.01040220331748838,
           0.015115139718717014,
           0.019227710350313443,
           0.022668376090331392,
           0.025440072297019306,
           0.027607531969733024,
           0.029274424226089023,
           0.030556058550047054,
           0.031553557094278026,
           0.03233390527223027,
           0.032918771443405,
           0.03328390090606118
          ],
          [
           -0.013620325450392656,
           -0.013123103377751426,
           -0.011939789382873675,
           -0.009953924671155934,
           -0.006937761228868106,
           -0.0029754275208416494,
           0.001672345550554198,
           0.006709416088081948,
           0.011856834193576124,
           0.016872869401308613,
           0.021564736008642314,
           0.025797216616340605,
           0.029496964122617018,
           0.032650118498681865,
           0.03529230876089921,
           0.037492411638807836,
           0.03933320963525216,
           0.0408926586165286,
           0.04222903338420335,
           0.04337233313040154,
           0.04432333659766514
          ],
          [
           -0.003663976400278027,
           -0.0040946655034495676,
           -0.0040658310441839506,
           -0.0028274267026247085,
           -0.00012991340269043983,
           0.0036996121077943218,
           0.008283875446120897,
           0.013293455059532775,
           0.01845333312502819,
           0.02353989260334162,
           0.028380177193939555,
           0.032852827989177644,
           0.03688793922948811,
           0.040463520545753695,
           0.04359758174744183,
           0.046336403931194994,
           0.04874077720519713,
           0.050872554451080784,
           0.052783802174634756,
           0.05451032949994087,
           0.056070637302100025
          ],
          [
           0.00012798333516688123,
           0.0018648102904451492,
           0.005119908204767688,
           0.009407869443204608,
           0.014345993457126487,
           0.01963821564269274,
           0.025048764710115017,
           0.03038965869095456,
           0.03551631170324322,
           0.04032635015290867,
           0.04475844315704053,
           0.048789202003539034,
           0.05242734982274762,
           0.05570542736134248,
           0.058670125277444446,
           0,
           0,
           0.06137277800630778,
           0.06386159421360721,
           0.06617690854718311,
           0.06835022261733277
          ],
          [
           0.0015052384578709069,
           0.004913905550785043,
           0.00938439440102427,
           0.014537243995305453,
           0.020111430482431705,
           0.025898321027956642,
           0.03172495011379348,
           0.03744926828352347,
           0.042959613678464244,
           0.0481753117411755,
           0.05304663326205919,
           0.05755307574604979,
           0.06169959760672403,
           0.06551106146722965,
           0.06902564855109011,
           0,
           0,
           0.07228830112283212,
           0.07534529712189057,
           0.0782408807334109,
           0.08101651823774865
          ],
          [
           0.002846295783588562,
           0.007839001895301253,
           0.013536681860365201,
           0.01961735808732171,
           0.02590862240832354,
           0.032273878823022926,
           0.03859476203330843,
           0.04476990649815323,
           0.050717088449774045,
           0.056375486944952195,
           0.06170688359245265,
           0.0666952859825096,
           0.07134487539460667,
           0.07567654788434805,
           0.07972362031755117,
           0,
           0,
           0.08352745624805744,
           0.08713379901204538,
           0.09059048240944902,
           0.0939469504489469
          ],
          [
           -0.0005833287674806647,
           0.001926224160551762,
           0.006048588229542192,
           0.011802028612146128,
           0.018301932848482444,
           0.025111445676999165,
           0.032034928277508035,
           0.03895148289104849,
           0.04576749495452339,
           0.05240537086195677,
           0.05880231755605917,
           0.06491157525348676,
           0.0707035924440454,
           0.07616624392854274,
           0.08130386060356878,
           0.08613521436049609,
           0.09069084500802184,
           0.09501025412577668,
           0.09913952216223235,
           0.1031298355080409,
           0.10703725792788188
          ],
          [
           0.000690507845694536,
           0.005403652722748987,
           0.010716536227533378,
           0.01699943151006186,
           0.023967948537962698,
           0.03126633598333146,
           0.03867397073580795,
           0.046056039494753245,
           0.05331932183675838,
           0.06039310056027399,
           0.0672227944713665,
           0.07376854336574815,
           0.08000525981623255,
           0.0859226711154363,
           0.09152480099927973,
           0.09682881485677877,
           0.10186341577268662,
           0.10666711724461334,
           0.11128676407491404,
           0.11577664537514641,
           0.1201984611349309
          ],
          [
           0.003937130681433954,
           0.010011340576223453,
           0.0163033710864994,
           0.023134715144025958,
           0.03046817921970452,
           0.03811062305345237,
           0.04587756936519934,
           0.053632968656938576,
           0.06127901604707352,
           0.06874333526166437,
           0.07597182276973069,
           0.0829256343215196,
           0.08958015158754709,
           0.0959245807432777,
           0.1019615189716237,
           0.10770625860916562,
           0.11318585467447595,
           0.1184381186293312,
           0.12351075738253199,
           0.1284608816167341,
           0.13335508410380317
          ],
          [
           0.00866109457178562,
           0.015609379293025163,
           0.022629310593762865,
           0.029955548575979166,
           0.037625833358203124,
           0.04555066430412136,
           0.05360154866657486,
           0.061660029804092756,
           0.06963031566333486,
           0.07743792367582525,
           0.08502620546917963,
           0.09235396309330178,
           0.09939423711006644,
           0.10613372412294426,
           0.11257238629702385,
           0.11872303425424947,
           0.12461083777599125,
           0.13027281959523304,
           0.13575742902265414,
           0.1411243077177342,
           0.14644438557777215
          ],
          [
           0.01447092854330156,
           0.02200855748316525,
           0.029562935178133378,
           0.037302371351409326,
           0.04528039332113762,
           0.05345954643157918,
           0.06175554752202694,
           0.07007319837862924,
           0.07832479959491936,
           0.08643640179826075,
           0.09434885725188631,
           0.10201744337479861,
           0.10941139345863064,
           0.11651359384407932,
           0.12332039330913444,
           0.1298414514883457,
           0.13609960546832237,
           0.14213076834565544,
           0.1479838656707142,
           0.15372079679984474,
           0.15941646102031384
          ],
          [
           0.021077516662130702,
           0.029024780923844973,
           0.03697436285953999,
           0.04504943160075983,
           0.0533012313649893,
           0.06171614740569536,
           0.07023789619073381,
           0.07879096350128258,
           0.08729726491700705,
           0.09568528836842621,
           0.1038942878026533,
           0.11187600300592303,
           0.11959534822111943,
           0.12703072145409622,
           0.13417418877305726,
           0.14103164972512525,
           0.14762304926932399,
           0.15398267506846838,
           0.16015950364206985,
           0.16621742401300632,
           0.1722351547805705
          ],
          [
           0.02825909794563406,
           0.03649493315312686,
           0.04473878098402036,
           0.05308482091898303,
           0.0615777978343814,
           0.07021380440431657,
           0.07895208007517258,
           0.087730384155167,
           0.09647841427022492,
           0.10512720651442278,
           0.11361487166841712,
           0.12188983283157058,
           0.1299126060334706,
           0.13765680876656924,
           0.14510979802985943,
           0.15227317935830292,
           0.15916335343292864,
           0.1658122218906875,
           0.17226807821186113,
           0.1785963987486475,
           0.18487981110994747
          ],
          [
           0.03583991303365281,
           0.044277152322959056,
           0.05274023256413378,
           0.061306328468925496,
           0.07001358797783237,
           0.07886037130263228,
           0.08781282913383177,
           0.09681577941509346,
           0.1058034378797887,
           0.1147081273853058,
           0.12346650285155128,
           0.13202364783182122,
           0.14033564836537468,
           0.1483711980516195,
           0.1561126545693367,
           0.16355685498781958,
           0.17071593186999554,
           0.17761835065496076,
           0.1843103855478337,
           0.19085805654673946,
           0.19734807262724643
          ],
          [
           0.04367606059013841,
           0.052246900597905446,
           0.060872596002209754,
           0.06962140479608689,
           0.07852446411939025,
           0.08757774517663067,
           0.09674837162946766,
           0.10598310246644202,
           0.11521722451744469,
           0.12438243162050955,
           0.13341301815591636,
           0.14225034769488404,
           0.15084589764265108,
           0.1591632795022617,
           0.16717960880933824,
           0.17488653935777645,
           0.1822912322219254,
           0.18941753254092508,
           0.196307720057409,
           0.20302552659331508,
           0.20966063519806202
          ],
          [
           0.05164009070131547,
           0.06029100232889987,
           0.06904034761408737,
           0.07794917215121996,
           0.08703978960441928,
           0.09630262951814043,
           0.10570181725425733,
           0.11518225822321289,
           0.12467733778313783,
           0.13411611104098642,
           0.14342929088958764,
           0.15255382397304282,
           0.1614361753488472,
           0.17003459865379061,
           0.1783207036481913,
           0.18628061186584727,
           0.19391596122587693,
           0.20124501845127282,
           0.2083042429084581,
           0.21515118274435022,
           0.22187307990229563
          ]
         ]
        }
       ],
       "layout": {
        "autosize": false,
        "height": 1000,
        "margin": {
         "b": 65,
         "l": 65,
         "r": 50,
         "t": 90
        },
        "template": {
         "data": {
          "bar": [
           {
            "error_x": {
             "color": "#2a3f5f"
            },
            "error_y": {
             "color": "#2a3f5f"
            },
            "marker": {
             "line": {
              "color": "#E5ECF6",
              "width": 0.5
             },
             "pattern": {
              "fillmode": "overlay",
              "size": 10,
              "solidity": 0.2
             }
            },
            "type": "bar"
           }
          ],
          "barpolar": [
           {
            "marker": {
             "line": {
              "color": "#E5ECF6",
              "width": 0.5
             },
             "pattern": {
              "fillmode": "overlay",
              "size": 10,
              "solidity": 0.2
             }
            },
            "type": "barpolar"
           }
          ],
          "carpet": [
           {
            "aaxis": {
             "endlinecolor": "#2a3f5f",
             "gridcolor": "white",
             "linecolor": "white",
             "minorgridcolor": "white",
             "startlinecolor": "#2a3f5f"
            },
            "baxis": {
             "endlinecolor": "#2a3f5f",
             "gridcolor": "white",
             "linecolor": "white",
             "minorgridcolor": "white",
             "startlinecolor": "#2a3f5f"
            },
            "type": "carpet"
           }
          ],
          "choropleth": [
           {
            "colorbar": {
             "outlinewidth": 0,
             "ticks": ""
            },
            "type": "choropleth"
           }
          ],
          "contour": [
           {
            "colorbar": {
             "outlinewidth": 0,
             "ticks": ""
            },
            "colorscale": [
             [
              0,
              "#0d0887"
             ],
             [
              0.1111111111111111,
              "#46039f"
             ],
             [
              0.2222222222222222,
              "#7201a8"
             ],
             [
              0.3333333333333333,
              "#9c179e"
             ],
             [
              0.4444444444444444,
              "#bd3786"
             ],
             [
              0.5555555555555556,
              "#d8576b"
             ],
             [
              0.6666666666666666,
              "#ed7953"
             ],
             [
              0.7777777777777778,
              "#fb9f3a"
             ],
             [
              0.8888888888888888,
              "#fdca26"
             ],
             [
              1,
              "#f0f921"
             ]
            ],
            "type": "contour"
           }
          ],
          "contourcarpet": [
           {
            "colorbar": {
             "outlinewidth": 0,
             "ticks": ""
            },
            "type": "contourcarpet"
           }
          ],
          "heatmap": [
           {
            "colorbar": {
             "outlinewidth": 0,
             "ticks": ""
            },
            "colorscale": [
             [
              0,
              "#0d0887"
             ],
             [
              0.1111111111111111,
              "#46039f"
             ],
             [
              0.2222222222222222,
              "#7201a8"
             ],
             [
              0.3333333333333333,
              "#9c179e"
             ],
             [
              0.4444444444444444,
              "#bd3786"
             ],
             [
              0.5555555555555556,
              "#d8576b"
             ],
             [
              0.6666666666666666,
              "#ed7953"
             ],
             [
              0.7777777777777778,
              "#fb9f3a"
             ],
             [
              0.8888888888888888,
              "#fdca26"
             ],
             [
              1,
              "#f0f921"
             ]
            ],
            "type": "heatmap"
           }
          ],
          "heatmapgl": [
           {
            "colorbar": {
             "outlinewidth": 0,
             "ticks": ""
            },
            "colorscale": [
             [
              0,
              "#0d0887"
             ],
             [
              0.1111111111111111,
              "#46039f"
             ],
             [
              0.2222222222222222,
              "#7201a8"
             ],
             [
              0.3333333333333333,
              "#9c179e"
             ],
             [
              0.4444444444444444,
              "#bd3786"
             ],
             [
              0.5555555555555556,
              "#d8576b"
             ],
             [
              0.6666666666666666,
              "#ed7953"
             ],
             [
              0.7777777777777778,
              "#fb9f3a"
             ],
             [
              0.8888888888888888,
              "#fdca26"
             ],
             [
              1,
              "#f0f921"
             ]
            ],
            "type": "heatmapgl"
           }
          ],
          "histogram": [
           {
            "marker": {
             "pattern": {
              "fillmode": "overlay",
              "size": 10,
              "solidity": 0.2
             }
            },
            "type": "histogram"
           }
          ],
          "histogram2d": [
           {
            "colorbar": {
             "outlinewidth": 0,
             "ticks": ""
            },
            "colorscale": [
             [
              0,
              "#0d0887"
             ],
             [
              0.1111111111111111,
              "#46039f"
             ],
             [
              0.2222222222222222,
              "#7201a8"
             ],
             [
              0.3333333333333333,
              "#9c179e"
             ],
             [
              0.4444444444444444,
              "#bd3786"
             ],
             [
              0.5555555555555556,
              "#d8576b"
             ],
             [
              0.6666666666666666,
              "#ed7953"
             ],
             [
              0.7777777777777778,
              "#fb9f3a"
             ],
             [
              0.8888888888888888,
              "#fdca26"
             ],
             [
              1,
              "#f0f921"
             ]
            ],
            "type": "histogram2d"
           }
          ],
          "histogram2dcontour": [
           {
            "colorbar": {
             "outlinewidth": 0,
             "ticks": ""
            },
            "colorscale": [
             [
              0,
              "#0d0887"
             ],
             [
              0.1111111111111111,
              "#46039f"
             ],
             [
              0.2222222222222222,
              "#7201a8"
             ],
             [
              0.3333333333333333,
              "#9c179e"
             ],
             [
              0.4444444444444444,
              "#bd3786"
             ],
             [
              0.5555555555555556,
              "#d8576b"
             ],
             [
              0.6666666666666666,
              "#ed7953"
             ],
             [
              0.7777777777777778,
              "#fb9f3a"
             ],
             [
              0.8888888888888888,
              "#fdca26"
             ],
             [
              1,
              "#f0f921"
             ]
            ],
            "type": "histogram2dcontour"
           }
          ],
          "mesh3d": [
           {
            "colorbar": {
             "outlinewidth": 0,
             "ticks": ""
            },
            "type": "mesh3d"
           }
          ],
          "parcoords": [
           {
            "line": {
             "colorbar": {
              "outlinewidth": 0,
              "ticks": ""
             }
            },
            "type": "parcoords"
           }
          ],
          "pie": [
           {
            "automargin": true,
            "type": "pie"
           }
          ],
          "scatter": [
           {
            "marker": {
             "colorbar": {
              "outlinewidth": 0,
              "ticks": ""
             }
            },
            "type": "scatter"
           }
          ],
          "scatter3d": [
           {
            "line": {
             "colorbar": {
              "outlinewidth": 0,
              "ticks": ""
             }
            },
            "marker": {
             "colorbar": {
              "outlinewidth": 0,
              "ticks": ""
             }
            },
            "type": "scatter3d"
           }
          ],
          "scattercarpet": [
           {
            "marker": {
             "colorbar": {
              "outlinewidth": 0,
              "ticks": ""
             }
            },
            "type": "scattercarpet"
           }
          ],
          "scattergeo": [
           {
            "marker": {
             "colorbar": {
              "outlinewidth": 0,
              "ticks": ""
             }
            },
            "type": "scattergeo"
           }
          ],
          "scattergl": [
           {
            "marker": {
             "colorbar": {
              "outlinewidth": 0,
              "ticks": ""
             }
            },
            "type": "scattergl"
           }
          ],
          "scattermapbox": [
           {
            "marker": {
             "colorbar": {
              "outlinewidth": 0,
              "ticks": ""
             }
            },
            "type": "scattermapbox"
           }
          ],
          "scatterpolar": [
           {
            "marker": {
             "colorbar": {
              "outlinewidth": 0,
              "ticks": ""
             }
            },
            "type": "scatterpolar"
           }
          ],
          "scatterpolargl": [
           {
            "marker": {
             "colorbar": {
              "outlinewidth": 0,
              "ticks": ""
             }
            },
            "type": "scatterpolargl"
           }
          ],
          "scatterternary": [
           {
            "marker": {
             "colorbar": {
              "outlinewidth": 0,
              "ticks": ""
             }
            },
            "type": "scatterternary"
           }
          ],
          "surface": [
           {
            "colorbar": {
             "outlinewidth": 0,
             "ticks": ""
            },
            "colorscale": [
             [
              0,
              "#0d0887"
             ],
             [
              0.1111111111111111,
              "#46039f"
             ],
             [
              0.2222222222222222,
              "#7201a8"
             ],
             [
              0.3333333333333333,
              "#9c179e"
             ],
             [
              0.4444444444444444,
              "#bd3786"
             ],
             [
              0.5555555555555556,
              "#d8576b"
             ],
             [
              0.6666666666666666,
              "#ed7953"
             ],
             [
              0.7777777777777778,
              "#fb9f3a"
             ],
             [
              0.8888888888888888,
              "#fdca26"
             ],
             [
              1,
              "#f0f921"
             ]
            ],
            "type": "surface"
           }
          ],
          "table": [
           {
            "cells": {
             "fill": {
              "color": "#EBF0F8"
             },
             "line": {
              "color": "white"
             }
            },
            "header": {
             "fill": {
              "color": "#C8D4E3"
             },
             "line": {
              "color": "white"
             }
            },
            "type": "table"
           }
          ]
         },
         "layout": {
          "annotationdefaults": {
           "arrowcolor": "#2a3f5f",
           "arrowhead": 0,
           "arrowwidth": 1
          },
          "autotypenumbers": "strict",
          "coloraxis": {
           "colorbar": {
            "outlinewidth": 0,
            "ticks": ""
           }
          },
          "colorscale": {
           "diverging": [
            [
             0,
             "#8e0152"
            ],
            [
             0.1,
             "#c51b7d"
            ],
            [
             0.2,
             "#de77ae"
            ],
            [
             0.3,
             "#f1b6da"
            ],
            [
             0.4,
             "#fde0ef"
            ],
            [
             0.5,
             "#f7f7f7"
            ],
            [
             0.6,
             "#e6f5d0"
            ],
            [
             0.7,
             "#b8e186"
            ],
            [
             0.8,
             "#7fbc41"
            ],
            [
             0.9,
             "#4d9221"
            ],
            [
             1,
             "#276419"
            ]
           ],
           "sequential": [
            [
             0,
             "#0d0887"
            ],
            [
             0.1111111111111111,
             "#46039f"
            ],
            [
             0.2222222222222222,
             "#7201a8"
            ],
            [
             0.3333333333333333,
             "#9c179e"
            ],
            [
             0.4444444444444444,
             "#bd3786"
            ],
            [
             0.5555555555555556,
             "#d8576b"
            ],
            [
             0.6666666666666666,
             "#ed7953"
            ],
            [
             0.7777777777777778,
             "#fb9f3a"
            ],
            [
             0.8888888888888888,
             "#fdca26"
            ],
            [
             1,
             "#f0f921"
            ]
           ],
           "sequentialminus": [
            [
             0,
             "#0d0887"
            ],
            [
             0.1111111111111111,
             "#46039f"
            ],
            [
             0.2222222222222222,
             "#7201a8"
            ],
            [
             0.3333333333333333,
             "#9c179e"
            ],
            [
             0.4444444444444444,
             "#bd3786"
            ],
            [
             0.5555555555555556,
             "#d8576b"
            ],
            [
             0.6666666666666666,
             "#ed7953"
            ],
            [
             0.7777777777777778,
             "#fb9f3a"
            ],
            [
             0.8888888888888888,
             "#fdca26"
            ],
            [
             1,
             "#f0f921"
            ]
           ]
          },
          "colorway": [
           "#636efa",
           "#EF553B",
           "#00cc96",
           "#ab63fa",
           "#FFA15A",
           "#19d3f3",
           "#FF6692",
           "#B6E880",
           "#FF97FF",
           "#FECB52"
          ],
          "font": {
           "color": "#2a3f5f"
          },
          "geo": {
           "bgcolor": "white",
           "lakecolor": "white",
           "landcolor": "#E5ECF6",
           "showlakes": true,
           "showland": true,
           "subunitcolor": "white"
          },
          "hoverlabel": {
           "align": "left"
          },
          "hovermode": "closest",
          "mapbox": {
           "style": "light"
          },
          "paper_bgcolor": "white",
          "plot_bgcolor": "#E5ECF6",
          "polar": {
           "angularaxis": {
            "gridcolor": "white",
            "linecolor": "white",
            "ticks": ""
           },
           "bgcolor": "#E5ECF6",
           "radialaxis": {
            "gridcolor": "white",
            "linecolor": "white",
            "ticks": ""
           }
          },
          "scene": {
           "xaxis": {
            "backgroundcolor": "#E5ECF6",
            "gridcolor": "white",
            "gridwidth": 2,
            "linecolor": "white",
            "showbackground": true,
            "ticks": "",
            "zerolinecolor": "white"
           },
           "yaxis": {
            "backgroundcolor": "#E5ECF6",
            "gridcolor": "white",
            "gridwidth": 2,
            "linecolor": "white",
            "showbackground": true,
            "ticks": "",
            "zerolinecolor": "white"
           },
           "zaxis": {
            "backgroundcolor": "#E5ECF6",
            "gridcolor": "white",
            "gridwidth": 2,
            "linecolor": "white",
            "showbackground": true,
            "ticks": "",
            "zerolinecolor": "white"
           }
          },
          "shapedefaults": {
           "line": {
            "color": "#2a3f5f"
           }
          },
          "ternary": {
           "aaxis": {
            "gridcolor": "white",
            "linecolor": "white",
            "ticks": ""
           },
           "baxis": {
            "gridcolor": "white",
            "linecolor": "white",
            "ticks": ""
           },
           "bgcolor": "#E5ECF6",
           "caxis": {
            "gridcolor": "white",
            "linecolor": "white",
            "ticks": ""
           }
          },
          "title": {
           "x": 0.05
          },
          "xaxis": {
           "automargin": true,
           "gridcolor": "white",
           "linecolor": "white",
           "ticks": "",
           "title": {
            "standoff": 15
           },
           "zerolinecolor": "white",
           "zerolinewidth": 2
          },
          "yaxis": {
           "automargin": true,
           "gridcolor": "white",
           "linecolor": "white",
           "ticks": "",
           "title": {
            "standoff": 15
           },
           "zerolinecolor": "white",
           "zerolinewidth": 2
          }
         }
        },
        "title": {
         "text": "First mode shape"
        },
        "width": 1000
       }
      }
     },
     "metadata": {}
    }
   ],
   "metadata": {}
  },
  {
   "cell_type": "code",
   "execution_count": null,
   "source": [],
   "outputs": [],
   "metadata": {}
  }
 ],
 "metadata": {
  "orig_nbformat": 4,
  "language_info": {
   "name": "python",
   "version": "3.9.4",
   "mimetype": "text/x-python",
   "codemirror_mode": {
    "name": "ipython",
    "version": 3
   },
   "pygments_lexer": "ipython3",
   "nbconvert_exporter": "python",
   "file_extension": ".py"
  },
  "kernelspec": {
   "name": "python3",
   "display_name": "Python 3.9.4 64-bit ('venv': venv)"
  },
  "interpreter": {
   "hash": "02527d8ca5c65af2ede56b2d82ee91e660e182a92b14a4e2ad38e2cd32139a84"
  }
 },
 "nbformat": 4,
 "nbformat_minor": 2
}